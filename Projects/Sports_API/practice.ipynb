{
 "cells": [
  {
   "cell_type": "code",
   "execution_count": 2,
   "metadata": {},
   "outputs": [
    {
     "name": "stdout",
     "output_type": "stream",
     "text": [
      "{\"api\":{\"results\":20,\"topscorers\":[{\"player_id\":18788,\"player_name\":\"J. Vardy\",\"firstname\":\"Jamie Richard\",\"lastname\":\"Vardy\",\"position\":\"Attacker\",\"nationality\":\"England\",\"team_id\":46,\"team_name\":\"Leicester\",\"games\":{\"appearences\":35,\"minutes_played\":3034},\"goals\":{\"total\":23,\"assists\":5,\"conceded\":null,\"saves\":null},\"shots\":{\"total\":89,\"on\":43},\"penalty\":{\"won\":1,\"commited\":null,\"success\":4,\"missed\":1,\"saved\":null},\"cards\":{\"yellow\":2,\"second_yellow\":0,\"red\":0}},{\"player_id\":18955,\"player_name\":\"D. Ings\",\"firstname\":\"Daniel William John\",\"lastname\":\"Ings\",\"position\":\"Attacker\",\"nationality\":\"England\",\"team_id\":41,\"team_name\":\"Southampton\",\"games\":{\"appearences\":38,\"minutes_played\":2815},\"goals\":{\"total\":22,\"assists\":2,\"conceded\":null,\"saves\":null},\"shots\":{\"total\":93,\"on\":38},\"penalty\":{\"won\":2,\"commited\":null,\"success\":1,\"missed\":1,\"saved\":null},\"cards\":{\"yellow\":3,\"second_yellow\":0,\"red\":0}},{\"player_id\":1465,\"player_name\":\"P. Aubameyang\",\"firstname\":\"Pierre-Emerick Emiliano Fran\\u00e7o\",\"lastname\":\"Aubameyang\",\"position\":\"Attacker\",\"nationality\":\"Gabon\",\"team_id\":42,\"team_name\":\"Arsenal\",\"games\":{\"appearences\":36,\"minutes_played\":3139},\"goals\":{\"total\":22,\"assists\":3,\"conceded\":null,\"saves\":null},\"shots\":{\"total\":93,\"on\":42},\"penalty\":{\"won\":null,\"commited\":null,\"success\":2,\"missed\":0,\"saved\":null},\"cards\":{\"yellow\":3,\"second_yellow\":0,\"red\":1}},{\"player_id\":645,\"player_name\":\"R. Sterling\",\"firstname\":\"Raheem Shaquille\",\"lastname\":\"Sterling\",\"position\":\"Attacker\",\"nationality\":\"England\",\"team_id\":50,\"team_name\":\"Manchester City\",\"games\":{\"appearences\":33,\"minutes_played\":2659},\"goals\":{\"total\":20,\"assists\":1,\"conceded\":null,\"saves\":null},\"shots\":{\"total\":99,\"on\":38},\"penalty\":{\"won\":3,\"commited\":null,\"success\":0,\"missed\":2,\"saved\":null},\"cards\":{\"yellow\":5,\"second_yellow\":0,\"red\":0}},{\"player_id\":306,\"player_name\":\"Mohamed Salah\",\"firstname\":\"Mohamed\",\"lastname\":\"Salah Hamed Mahrous Ghaly\",\"position\":\"Attacker\",\"nationality\":\"Egypt\",\"team_id\":40,\"team_name\":\"Liverpool\",\"games\":{\"appearences\":34,\"minutes_played\":2888},\"goals\":{\"total\":19,\"assists\":10,\"conceded\":null,\"saves\":null},\"shots\":{\"total\":132,\"on\":59},\"penalty\":{\"won\":1,\"commited\":null,\"success\":3,\"missed\":0,\"saved\":null},\"cards\":{\"yellow\":1,\"second_yellow\":0,\"red\":0}},{\"player_id\":304,\"player_name\":\"S. Man\\u00e9\",\"firstname\":\"Sadio\",\"lastname\":\"Man\\u00e9\",\"position\":\"Attacker\",\"nationality\":\"Senegal\",\"team_id\":40,\"team_name\":\"Liverpool\",\"games\":{\"appearences\":35,\"minutes_played\":2755},\"goals\":{\"total\":18,\"assists\":7,\"conceded\":null,\"saves\":null},\"shots\":{\"total\":77,\"on\":36},\"penalty\":{\"won\":2,\"commited\":null,\"success\":0,\"missed\":0,\"saved\":null},\"cards\":{\"yellow\":3,\"second_yellow\":0,\"red\":0}},{\"player_id\":184,\"player_name\":\"H. Kane\",\"firstname\":\"Harry Edward\",\"lastname\":\"Kane\",\"position\":\"Attacker\",\"nationality\":\"England\",\"team_id\":47,\"team_name\":\"Tottenham\",\"games\":{\"appearences\":29,\"minutes_played\":2590},\"goals\":{\"total\":18,\"assists\":2,\"conceded\":null,\"saves\":null},\"shots\":{\"total\":81,\"on\":37},\"penalty\":{\"won\":1,\"commited\":null,\"success\":2,\"missed\":0,\"saved\":null},\"cards\":{\"yellow\":4,\"second_yellow\":0,\"red\":0}},{\"player_id\":908,\"player_name\":\"A. Martial\",\"firstname\":\"Anthony Jordan\",\"lastname\":\"Martial\",\"position\":\"Attacker\",\"nationality\":\"France\",\"team_id\":33,\"team_name\":\"Manchester United\",\"games\":{\"appearences\":32,\"minutes_played\":2640},\"goals\":{\"total\":17,\"assists\":6,\"conceded\":null,\"saves\":null},\"shots\":{\"total\":80,\"on\":40},\"penalty\":{\"won\":1,\"commited\":null,\"success\":0,\"missed\":1,\"saved\":null},\"cards\":{\"yellow\":1,\"second_yellow\":0,\"red\":0}},{\"player_id\":2887,\"player_name\":\"R. Jim\\u00e9nez\",\"firstname\":\"Ra\\u00fal Alonso\",\"lastname\":\"Jim\\u00e9nez Rodr\\u00edguez\",\"position\":\"Attacker\",\"nationality\":\"Mexico\",\"team_id\":39,\"team_name\":\"Wolves\",\"games\":{\"appearences\":38,\"minutes_played\":3252},\"goals\":{\"total\":17,\"assists\":6,\"conceded\":null,\"saves\":null},\"shots\":{\"total\":118,\"on\":44},\"penalty\":{\"won\":1,\"commited\":null,\"success\":4,\"missed\":0,\"saved\":null},\"cards\":{\"yellow\":3,\"second_yellow\":0,\"red\":0}},{\"player_id\":909,\"player_name\":\"M. Rashford\",\"firstname\":\"Marcus\",\"lastname\":\"Rashford\",\"position\":\"Attacker\",\"nationality\":\"England\",\"team_id\":33,\"team_name\":\"Manchester United\",\"games\":{\"appearences\":31,\"minutes_played\":2655},\"goals\":{\"total\":17,\"assists\":7,\"conceded\":null,\"saves\":null},\"shots\":{\"total\":95,\"on\":44},\"penalty\":{\"won\":4,\"commited\":null,\"success\":6,\"missed\":2,\"saved\":null},\"cards\":{\"yellow\":3,\"second_yellow\":0,\"red\":0}},{\"player_id\":642,\"player_name\":\"S. Ag\\u00fcero\",\"firstname\":\"Sergio Leonel\",\"lastname\":\"Ag\\u00fcero del Castillo\",\"position\":\"Attacker\",\"nationality\":\"Argentina\",\"team_id\":50,\"team_name\":\"Manchester City\",\"games\":{\"appearences\":24,\"minutes_played\":1456},\"goals\":{\"total\":16,\"assists\":3,\"conceded\":null,\"saves\":null},\"shots\":{\"total\":76,\"on\":28},\"penalty\":{\"won\":2,\"commited\":null,\"success\":2,\"missed\":1,\"saved\":null},\"cards\":{\"yellow\":1,\"second_yellow\":0,\"red\":0}},{\"player_id\":19194,\"player_name\":\"T. Abraham\",\"firstname\":\"Tammy\",\"lastname\":\"Bakumo-Abraham\",\"position\":\"Attacker\",\"nationality\":\"England\",\"team_id\":49,\"team_name\":\"Chelsea\",\"games\":{\"appearences\":34,\"minutes_played\":2221},\"goals\":{\"total\":15,\"assists\":3,\"conceded\":null,\"saves\":null},\"shots\":{\"total\":88,\"on\":40},\"penalty\":{\"won\":1,\"commited\":null,\"success\":0,\"missed\":0,\"saved\":null},\"cards\":{\"yellow\":2,\"second_yellow\":0,\"red\":0}},{\"player_id\":643,\"player_name\":\"Gabriel Jesus\",\"firstname\":\"Gabriel Fernando\",\"lastname\":\"de Jesus\",\"position\":\"Attacker\",\"nationality\":\"Brazil\",\"team_id\":50,\"team_name\":\"Manchester City\",\"games\":{\"appearences\":34,\"minutes_played\":2026},\"goals\":{\"total\":14,\"assists\":7,\"conceded\":null,\"saves\":null},\"shots\":{\"total\":101,\"on\":48},\"penalty\":{\"won\":null,\"commited\":null,\"success\":0,\"missed\":1,\"saved\":null},\"cards\":{\"yellow\":3,\"second_yellow\":0,\"red\":0}},{\"player_id\":18931,\"player_name\":\"C. Wood\",\"firstname\":\"Christopher Grant\",\"lastname\":\"Wood\",\"position\":\"Attacker\",\"nationality\":\"New Zealand\",\"team_id\":44,\"team_name\":\"Burnley\",\"games\":{\"appearences\":32,\"minutes_played\":2446},\"goals\":{\"total\":14,\"assists\":1,\"conceded\":null,\"saves\":null},\"shots\":{\"total\":65,\"on\":31},\"penalty\":{\"won\":null,\"commited\":null,\"success\":1,\"missed\":0,\"saved\":null},\"cards\":{\"yellow\":1,\"second_yellow\":0,\"red\":0}},{\"player_id\":2413,\"player_name\":\"Richarlison\",\"firstname\":\"Richarlison\",\"lastname\":\"de Andrade\",\"position\":\"Attacker\",\"nationality\":\"Brazil\",\"team_id\":45,\"team_name\":\"Everton\",\"games\":{\"appearences\":36,\"minutes_played\":3081},\"goals\":{\"total\":13,\"assists\":3,\"conceded\":null,\"saves\":null},\"shots\":{\"total\":90,\"on\":32},\"penalty\":{\"won\":null,\"commited\":1,\"success\":0,\"missed\":0,\"saved\":null},\"cards\":{\"yellow\":8,\"second_yellow\":0,\"red\":0}},{\"player_id\":18766,\"player_name\":\"D. Calvert-Lewin\",\"firstname\":\"Dominic Nathaniel\",\"lastname\":\"Calvert-Lewin\",\"position\":\"Attacker\",\"nationality\":\"England\",\"team_id\":45,\"team_name\":\"Everton\",\"games\":{\"appearences\":36,\"minutes_played\":2630},\"goals\":{\"total\":13,\"assists\":1,\"conceded\":null,\"saves\":null},\"shots\":{\"total\":85,\"on\":38},\"penalty\":{\"won\":null,\"commited\":null,\"success\":0,\"missed\":0,\"saved\":null},\"cards\":{\"yellow\":9,\"second_yellow\":0,\"red\":0}},{\"player_id\":629,\"player_name\":\"K. De Bruyne\",\"firstname\":\"Kevin\",\"lastname\":\"De Bruyne\",\"position\":\"Midfielder\",\"nationality\":\"Belgium\",\"team_id\":50,\"team_name\":\"Manchester City\",\"games\":{\"appearences\":35,\"minutes_played\":2800},\"goals\":{\"total\":13,\"assists\":20,\"conceded\":null,\"saves\":null},\"shots\":{\"total\":99,\"on\":31},\"penalty\":{\"won\":null,\"commited\":null,\"success\":2,\"missed\":0,\"saved\":null},\"cards\":{\"yellow\":3,\"second_yellow\":0,\"red\":0}},{\"player_id\":186,\"player_name\":\"Son Heung-Min\",\"firstname\":\"Heung-Min\",\"lastname\":\"Son\",\"position\":\"Attacker\",\"nationality\":\"Korea Republic\",\"team_id\":47,\"team_name\":\"Tottenham\",\"games\":{\"appearences\":30,\"minutes_played\":2485},\"goals\":{\"total\":11,\"assists\":10,\"conceded\":null,\"saves\":null},\"shots\":{\"total\":81,\"on\":38},\"penalty\":{\"won\":1,\"commited\":null,\"success\":0,\"missed\":1,\"saved\":null},\"cards\":{\"yellow\":0,\"second_yellow\":0,\"red\":2}},{\"player_id\":635,\"player_name\":\"R. Mahrez\",\"firstname\":\"Riyad Karim\",\"lastname\":\"Mahrez\",\"position\":\"Attacker\",\"nationality\":\"Algeria\",\"team_id\":50,\"team_name\":\"Manchester City\",\"games\":{\"appearences\":33,\"minutes_played\":1941},\"goals\":{\"total\":11,\"assists\":9,\"conceded\":null,\"saves\":null},\"shots\":{\"total\":74,\"on\":32},\"penalty\":{\"won\":5,\"commited\":null,\"success\":1,\"missed\":0,\"saved\":null},\"cards\":{\"yellow\":0,\"second_yellow\":0,\"red\":0}},{\"player_id\":19085,\"player_name\":\"T. Pukki\",\"firstname\":\"Teemu Eino Antero\",\"lastname\":\"Pukki\",\"position\":\"Attacker\",\"nationality\":\"Finland\",\"team_id\":71,\"team_name\":\"Norwich\",\"games\":{\"appearences\":36,\"minutes_played\":2894},\"goals\":{\"total\":11,\"assists\":3,\"conceded\":null,\"saves\":null},\"shots\":{\"total\":80,\"on\":35},\"penalty\":{\"won\":null,\"commited\":null,\"success\":2,\"missed\":0,\"saved\":null},\"cards\":{\"yellow\":3,\"second_yellow\":0,\"red\":0}}]}}\n"
     ]
    }
   ],
   "source": [
    "'''\n",
    "Data Extraction of top data scorers from Premier league 2019/2020\n",
    "'''\n",
    "import os\n",
    "from dotenv import load_dotenv\n",
    "import http.client\n",
    "\n",
    "# Load the environment variables\n",
    "load_dotenv()\n",
    "MY_ENV_VAR = os.getenv('API_KEY')\n",
    "\n",
    "conn = http.client.HTTPSConnection(\"api-football-v1.p.rapidapi.com\")\n",
    "\n",
    "headers = {\n",
    "    'x-rapidapi-key': MY_ENV_VAR,\n",
    "    'x-rapidapi-host': \"api-football-v1.p.rapidapi.com\"\n",
    "}\n",
    "\n",
    "conn.request(\"GET\", \"/v2/topscorers/524\", headers=headers)\n",
    "\n",
    "res = conn.getresponse()\n",
    "data = res.read()\n",
    "\n",
    "print(data.decode(\"utf-8\"))"
   ]
  },
  {
   "cell_type": "code",
   "execution_count": 4,
   "metadata": {},
   "outputs": [
    {
     "data": {
      "text/plain": [
       "str"
      ]
     },
     "execution_count": 4,
     "metadata": {},
     "output_type": "execute_result"
    }
   ],
   "source": [
    "type(data.decode(\"utf-8\"))"
   ]
  },
  {
   "cell_type": "code",
   "execution_count": null,
   "metadata": {},
   "outputs": [],
   "source": []
  }
 ],
 "metadata": {
  "kernelspec": {
   "display_name": "Python 3",
   "language": "python",
   "name": "python3"
  },
  "language_info": {
   "codemirror_mode": {
    "name": "ipython",
    "version": 3
   },
   "file_extension": ".py",
   "mimetype": "text/x-python",
   "name": "python",
   "nbconvert_exporter": "python",
   "pygments_lexer": "ipython3",
   "version": "3.8.10"
  }
 },
 "nbformat": 4,
 "nbformat_minor": 2
}
