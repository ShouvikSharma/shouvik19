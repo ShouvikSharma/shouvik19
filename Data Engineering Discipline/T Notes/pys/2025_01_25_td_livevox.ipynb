{
 "cells": [
  {
   "cell_type": "code",
   "execution_count": 1,
   "metadata": {},
   "outputs": [
    {
     "name": "stdout",
     "output_type": "stream",
     "text": [
      "Starting Spark application\n"
     ]
    },
    {
     "data": {
      "text/html": [
       "<table>\n",
       "<tr><th>ID</th><th>YARN Application ID</th><th>Kind</th><th>State</th><th>Spark UI</th><th>Driver log</th><th>Current session?</th></tr><tr><td>1</td><td>application_1738618499136_0003</td><td>pyspark</td><td>idle</td><td><a target=\"_blank\" href=\"http://ip-10-240-119-196.us-east-2.compute.internal:20888/proxy/application_1738618499136_0003/\">Link</a></td><td><a target=\"_blank\" href=\"http://ip-10-240-119-138.us-east-2.compute.internal:8042/node/containerlogs/container_1738618499136_0003_01_000001/livy\">Link</a></td><td>✔</td></tr></table>"
      ],
      "text/plain": [
       "<IPython.core.display.HTML object>"
      ]
     },
     "metadata": {},
     "output_type": "display_data"
    },
    {
     "data": {
      "application/vnd.jupyter.widget-view+json": {
       "model_id": "",
       "version_major": 2,
       "version_minor": 0
      },
      "text/plain": [
       "FloatProgress(value=0.0, bar_style='info', description='Progress:', layout=Layout(height='25px', width='50%'),…"
      ]
     },
     "metadata": {},
     "output_type": "display_data"
    },
    {
     "name": "stdout",
     "output_type": "stream",
     "text": [
      "SparkSession available as 'spark'.\n"
     ]
    },
    {
     "data": {
      "application/vnd.jupyter.widget-view+json": {
       "model_id": "",
       "version_major": 2,
       "version_minor": 0
      },
      "text/plain": [
       "FloatProgress(value=0.0, bar_style='info', description='Progress:', layout=Layout(height='25px', width='50%'),…"
      ]
     },
     "metadata": {},
     "output_type": "display_data"
    },
    {
     "name": "stdout",
     "output_type": "stream",
     "text": [
      "1"
     ]
    }
   ],
   "source": [
    "1"
   ]
  },
  {
   "cell_type": "code",
   "execution_count": 2,
   "metadata": {},
   "outputs": [
    {
     "data": {
      "application/vnd.jupyter.widget-view+json": {
       "model_id": "",
       "version_major": 2,
       "version_minor": 0
      },
      "text/plain": [
       "FloatProgress(value=0.0, bar_style='info', description='Progress:', layout=Layout(height='25px', width='50%'),…"
      ]
     },
     "metadata": {},
     "output_type": "display_data"
    }
   ],
   "source": [
    "a = {'campaign_config': {'campaign_driver_id': 3827, 'campaign_type_config_id': 36, 'module_config_type_id': 36, 'module_config_type': 'campaign_type_config', 'stage_id': 1, 'sequence_number': 1, 'created_by': 'avantadmin', 'created_date': '2023-05-23', 'is_active_flag': True, 'config': {'campaign_type_config_id': 36, 'name': 'LiveVox TD Collection', 'description': ' LiveVox TD Collection Batch Transformation', 'created_by': 'avantadmin', 'created_date': '2023-05-23', 'is_active_flag': True}, 'campaign_config_jsonb': {'1': {'campaign_type_config': {'campaign_driver_id': 3827, 'campaign_type_config_id': 36, 'module_config_type_id': 36, 'module_config_type': 'campaign_type_config', 'stage_id': 1, 'sequence_number': 1, 'created_by': 'avantadmin', 'created_date': '2023-05-23', 'is_active_flag': True, 'config': {'campaign_type_config_id': 36, 'name': 'LiveVox TD Collection', 'description': ' LiveVox TD Collection Batch Transformation', 'created_by': 'avantadmin', 'created_date': '2023-05-23', 'is_active_flag': True}}, 'approval_config': [{'campaign_driver_id': 3828, 'module_config_type_id': 69, 'module_config_type': 'approval_config', 'stage_id': 1, 'sequence_number': 1, 'created_by': 'avantadmin', 'created_date': '2023-03-15', 'is_active_flag': True, 'config': {'approval_config_id': 69, 'email_address': 'data-ops-pod@avant.com', 'role': 'pipeline_alert', 'alert_type': 'notification', 'created_by': 'avantadmin', 'created_date': '2023-03-15', 'is_active_flag': True, 'description': 'OPS Email List'}}, {'campaign_driver_id': 3829, 'module_config_type_id': 70, 'module_config_type': 'approval_config', 'stage_id': 1, 'sequence_number': 1, 'created_by': 'avantadmin', 'created_date': '2023-03-15', 'is_active_flag': True, 'config': {'approval_config_id': 70, 'email_address': 'data-ops-pod@avant.com', 'role': 'pipeline_alert', 'alert_type': 'error_alert', 'created_by': 'avantadmin', 'created_date': '2023-03-15', 'is_active_flag': True, 'description': 'OPS Email List'}}], 'selection_group_config': [{'campaign_driver_id': 3830, 'module_config_type_id': 1193, 'module_config_type': 'selection_group_config', 'stage_id': 1, 'sequence_number': 1, 'created_by': 'avantadmin', 'created_date': '2023-05-23', 'is_active_flag': True, 'description': 'Livevox TD batch-loan_customer_application', 'credit_policy': '', 'product_cd': '', 'inquiry_code': '', 'selection_group_type': 'suppression', 'parent_selection_group_config_id': None, 'config': [{'selection_group_rule_config_id': 3016, 'selection_group_config_id': 1193, 'sequence_number': 1, 'selection_criteria_type': 'suppression', 'rule_type': 'custom', 'rule_condition': 'custom', 'description': 'Livevox TD Batch loan customer application', 'rule_value_type': 'custom', 'attribute_name': 'custom', 'attribute_id': '', 'sql_query': 'select customer_id,loan_id,customer_uuid,loan_uuid,product_type,loan_status,created_time from td.prod.dw.dw_orig.loan_customer_application where loan_id is not null', 'rule_value': 'select customer_id,loan_id,customer_uuid,loan_uuid,product_type,loan_status,created_time from td.prod.dw.dw_orig.loan_customer_application where loan_id is not null', 'created_by': 'avantadmin', 'created_date': '2023-05-23', 'is_active_flag': True, 'config': 'select customer_id,loan_id,customer_uuid,loan_uuid,product_type,loan_status,created_time from td.prod.dw.dw_orig.loan_customer_application where loan_id is not null'}]}, {'campaign_driver_id': 3831, 'module_config_type_id': 1194, 'module_config_type': 'selection_group_config', 'stage_id': 1, 'sequence_number': 2, 'created_by': 'avantadmin', 'created_date': '2023-05-23', 'is_active_flag': True, 'description': 'Livevox TD batch-loan-by-day', 'credit_policy': '', 'product_cd': '', 'inquiry_code': '', 'selection_group_type': 'suppression', 'parent_selection_group_config_id': None, 'config': [{'selection_group_rule_config_id': 3017, 'selection_group_config_id': 1194, 'sequence_number': 1, 'selection_criteria_type': 'suppression', 'rule_type': 'custom', 'rule_condition': 'custom', 'description': 'Livevox TD Batch loan by day', 'rule_value_type': 'custom', 'attribute_name': 'custom', 'attribute_id': '', 'sql_query': \"select customer_application_id,loan_id,loan_uuid,product_type,status,measurement_date,next_payment_due_date,days_late,operations_charge_off_reason,principal_balance,late_fees_balance,nsf_fees_balance,origination_date,paid_off_date,treasury_charge_off_date,unearned_cash_balance,settlement_status,interest_balance from td.prod.dl.amount.loan_by_day.loan_by_day where status in ('late', 'current','applied','approved','authorized') and loan_id is not null and measurement_date = date_diff(current_date(), 1)\", 'rule_value': \"select customer_application_id,loan_id,loan_uuid,product_type,status,measurement_date,next_payment_due_date,days_late,operations_charge_off_reason,principal_balance,late_fees_balance,nsf_fees_balance,origination_date,paid_off_date,treasury_charge_off_date,unearned_cash_balance,settlement_status,interest_balance from td.prod.dl.amount.loan_by_day.loan_by_day where status in ('late', 'current','applied','approved','authorized') and loan_id is not null and measurement_date = date_diff(current_date(), 1)\", 'created_by': 'avantadmin', 'created_date': '2023-05-23', 'is_active_flag': True, 'config': \"select customer_application_id,loan_id,loan_uuid,product_type,status,measurement_date,next_payment_due_date,days_late,operations_charge_off_reason,principal_balance,late_fees_balance,nsf_fees_balance,origination_date,paid_off_date,treasury_charge_off_date,unearned_cash_balance,settlement_status,interest_balance from td.prod.dl.amount.loan_by_day.loan_by_day where status in ('late', 'current','applied','approved','authorized') and loan_id is not null and measurement_date = date_diff(current_date(), 1)\"}]}, {'campaign_driver_id': 3832, 'module_config_type_id': 1195, 'module_config_type': 'selection_group_config', 'stage_id': 1, 'sequence_number': 3, 'created_by': 'avantadmin', 'created_date': '2023-05-23', 'is_active_flag': True, 'description': 'LiveVox-TD-batch-customer', 'credit_policy': '', 'product_cd': '', 'inquiry_code': '', 'selection_group_type': 'suppression', 'parent_selection_group_config_id': None, 'config': [{'selection_group_rule_config_id': 3018, 'selection_group_config_id': 1195, 'sequence_number': 1, 'selection_criteria_type': 'suppression', 'rule_type': 'custom', 'rule_condition': 'custom', 'description': 'Livevox TD Batch customer', 'rule_value_type': 'custom', 'attribute_name': 'custom', 'attribute_id': '', 'sql_query': 'select id,email,bad_email from td.prod.dl.amount.customer.customer', 'rule_value': 'select id,email,bad_email from td.prod.dl.amount.customer.customer', 'created_by': 'avantadmin', 'created_date': '2023-05-23', 'is_active_flag': True, 'config': 'select id,email,bad_email from td.prod.dl.amount.customer.customer'}]}, {'campaign_driver_id': 3833, 'module_config_type_id': 1196, 'module_config_type': 'selection_group_config', 'stage_id': 1, 'sequence_number': 4, 'created_by': 'avantadmin', 'created_date': '2023-05-23', 'is_active_flag': True, 'description': 'LiveVox-TD-batch-complaint', 'credit_policy': '', 'product_cd': '', 'inquiry_code': '', 'selection_group_type': 'suppression', 'parent_selection_group_config_id': None, 'config': [{'selection_group_rule_config_id': 3019, 'selection_group_config_id': 1196, 'sequence_number': 1, 'selection_criteria_type': 'suppression', 'rule_type': 'custom', 'rule_condition': 'custom', 'description': 'Livevox TD Batch complaint', 'rule_value_type': 'custom', 'attribute_name': 'custom', 'attribute_id': '', 'sql_query': 'select * from td.prod.dw.dw_ops.complaint', 'rule_value': 'select * from td.prod.dw.dw_ops.complaint', 'created_by': 'avantadmin', 'created_date': '2023-05-23', 'is_active_flag': True, 'config': 'select * from td.prod.dw.dw_ops.complaint'}]}, {'campaign_driver_id': 3834, 'module_config_type_id': 1197, 'module_config_type': 'selection_group_config', 'stage_id': 1, 'sequence_number': 5, 'created_by': 'avantadmin', 'created_date': '2023-05-23', 'is_active_flag': True, 'description': 'LiveVox-TD-batch-complaint_resolution', 'credit_policy': '', 'product_cd': '', 'inquiry_code': '', 'selection_group_type': 'suppression', 'parent_selection_group_config_id': None, 'config': [{'selection_group_rule_config_id': 3020, 'selection_group_config_id': 1197, 'sequence_number': 1, 'selection_criteria_type': 'suppression', 'rule_type': 'custom', 'rule_condition': 'custom', 'description': 'Livevox TD Batch complaint resolution', 'rule_value_type': 'custom', 'attribute_name': 'custom', 'attribute_id': '', 'sql_query': 'select * from td.prod.dw.dw_ops.complaint_resolution', 'rule_value': 'select * from td.prod.dw.dw_ops.complaint_resolution', 'created_by': 'avantadmin', 'created_date': '2023-05-23', 'is_active_flag': True, 'config': 'select * from td.prod.dw.dw_ops.complaint_resolution'}]}, {'campaign_driver_id': 3835, 'module_config_type_id': 1198, 'module_config_type': 'selection_group_config', 'stage_id': 1, 'sequence_number': 6, 'created_by': 'avantadmin', 'created_date': '2023-05-23', 'is_active_flag': True, 'description': 'LiveVox-TD-batch-workflow_session_type', 'credit_policy': '', 'product_cd': '', 'inquiry_code': '', 'selection_group_type': 'suppression', 'parent_selection_group_config_id': None, 'config': [{'selection_group_rule_config_id': 3021, 'selection_group_config_id': 1198, 'sequence_number': 1, 'selection_criteria_type': 'suppression', 'rule_type': 'custom', 'rule_condition': 'custom', 'description': 'Livevox TD Batch workflow session type', 'rule_value_type': 'custom', 'attribute_name': 'custom', 'attribute_id': '', 'sql_query': 'select customer_id,product_id,created_time,last_step_exit,type,product_type from td.prod.dw.dw_ops.workflow_session_type', 'rule_value': 'select customer_id,product_id,created_time,last_step_exit,type,product_type from td.prod.dw.dw_ops.workflow_session_type', 'created_by': 'avantadmin', 'created_date': '2023-05-23', 'is_active_flag': True, 'config': 'select customer_id,product_id,created_time,last_step_exit,type,product_type from td.prod.dw.dw_ops.workflow_session_type'}]}, {'campaign_driver_id': 3836, 'module_config_type_id': 1199, 'module_config_type': 'selection_group_config', 'stage_id': 1, 'sequence_number': 7, 'created_by': 'avantadmin', 'created_date': '2023-05-23', 'is_active_flag': True, 'description': 'LiveVox-TD-batch-collection_log', 'credit_policy': '', 'product_cd': '', 'inquiry_code': '', 'selection_group_type': 'suppression', 'parent_selection_group_config_id': None, 'config': [{'selection_group_rule_config_id': 3022, 'selection_group_config_id': 1199, 'sequence_number': 1, 'selection_criteria_type': 'suppression', 'rule_type': 'custom', 'rule_condition': 'custom', 'description': 'Livevox TD collection log', 'rule_value_type': 'custom', 'attribute_name': 'custom', 'attribute_id': '', 'sql_query': 'select * from td.prod.dw.dw_serv.collection_log', 'rule_value': 'select * from td.prod.dw.dw_serv.collection_log', 'created_by': 'avantadmin', 'created_date': '2023-05-23', 'is_active_flag': True, 'config': 'select * from td.prod.dw.dw_serv.collection_log'}]}, {'campaign_driver_id': 3837, 'module_config_type_id': 1200, 'module_config_type': 'selection_group_config', 'stage_id': 1, 'sequence_number': 8, 'created_by': 'avantadmin', 'created_date': '2023-05-23', 'is_active_flag': True, 'description': 'LiveVox-TD-batch-loan_payments', 'credit_policy': '', 'product_cd': '', 'inquiry_code': '', 'selection_group_type': 'suppression', 'parent_selection_group_config_id': None, 'config': [{'selection_group_rule_config_id': 3023, 'selection_group_config_id': 1200, 'sequence_number': 1, 'selection_criteria_type': 'suppression', 'rule_type': 'custom', 'rule_condition': 'custom', 'description': 'Livevox TD Batch loan payments', 'rule_value_type': 'custom', 'attribute_name': 'custom', 'attribute_id': '', 'sql_query': 'select * from td.prod.dw.dw_serv.loan_payment', 'rule_value': 'select * from td.prod.dw.dw_serv.loan_payment', 'created_by': 'avantadmin', 'created_date': '2023-05-23', 'is_active_flag': True, 'config': 'select * from td.prod.dw.dw_serv.loan_payment'}]}]}}, 'campaign_name': 'livevox_td_collection_january_2025', 'campaign_config_s3_path': 'None', 'campaign_deployment_log_id': 2318, 'name': 'LiveVox TD Collection', 'table_name': 'campaign_config.campaign_driver_config', 'campaign_driver_config_id': 40827}, 'audit_args': {'ENV': 'prod', 'REGION': 'us-east-2', 'account_id': '235352882622', 'PARTNER_NAME': 'td', 'emr_details': {}, 'AIRFLOW_PATH': '/usr/local/airflow', 'SQL_BASE_PATH': '/usr/local/airflow/test', 'DREMIO_ENV': 'prod', 'PARTNER_ID': 'partner01', 'measurement_date': '2025-01-25', 'YEAR': '2025', 'MONTH': '01', 'DATE': '25', 'YYYY': '2025', 'MM': '01', 'DD': '25', 'date': '20250125', 'date_time': '2025-01-25 14:00:25', 'smtp_details': {'EMAIL_FROM': 'campaign-airflow-prod@partner01.data.avant.com'}, 'vault_details': {'vault_url': 'https://vault.shared.partner01.data.avant.com', 'meta_model': 'app/campaign/meta_model/prod', 'ec2_metadata_url': 'http://169.254.169.254', 'group_role': 'airflow-role', 'ec2_role': 'avant-campaign-dev-ecs-task-role', 'emr_role': 'campaign_emr_instance_role', 'vault_meta_base_url': '{base}/latest/meta-data/iam/security-credentials/{role}', 'encryption_details': 'app/landing_zone_encryption/acxiom/2024', 'dremio_jdbc_user': 'app/dremio/jdbc_prod_sa', 'dremio_jdbc_url': 'jdbc:dremio:direct=dremio-int-prod.services.global.avant.com:31010', 'dremio_url': 'https://dremio-prod.services.global.avant.com', 'dremio_vault_path': 'user/devops/dremio/sa_prod_user', 'garden_vault_path': 'user/devops/garden/campaign_garden_scoring', 'smtp_vault_path': 'user/devops/smtp', 'neustar_vault_path': 'app/neustar', 'approval_vault_path': 'app/campaign/approval/prod'}, 'sqs_details': {'encrypt_decrypt_sqs_details': {'sqs_name': '{}_{}_{}_encrypt_decrypt_queue', 'sqs_url': 'https://sqs.us-east-2.amazonaws.com/235352882622/{}.fifo'}, 'selection_eligibility_sqs_details': {'sqs_name': '{}_{}_{}_selection_eligibility_queue', 'sqs_url': 'https://sqs.us-east-2.amazonaws.com/235352882622/{}.fifo'}, 'selection_desirability_sqs_details': {'sqs_name': '{}_{}_{}_selection_desirability_queue', 'sqs_url': 'https://sqs.us-east-2.amazonaws.com/235352882622/{}.fifo'}}, 's3_details': {'config_file_bucket': 'avantcamp-partner01-prod-common-bucket', 'config_file_names': {'parameter_data': 'common/parameters.cfg', 'feed_schema_tracker': 'common/feed_schema.cfg'}, 'campaign_input_file_prefix_history': 'campaign-user-input-files_history', 'campaign_input_file_prefix': 'campaign-user-input-files', 'campaign_input_file_name': 'campaign - User Input - Template.xlsx', 'campaign_dynamic_dag_file_prefix': 'campaign-system-input-files', 'campaign_dynamic_dag_file_name': 'campaign_dynamic_dag_config.json'}, 'schema_name': 'campaign_config', 'campaign_driver_table_name': 'campaign_driver', 'selection_group_tname': 'selection_group_rule_config', 'uow_dependency_table_name': 'uow_dependency', 'parent_config_id': '1', 'campaign_driver_config_table_name': 'campaign_driver_config', 'common_config_table_name': 'common_system_config', 'airflow_path': '/usr/local/airflow', 'state_dict': {'state_id': {1: 'started', 2: 'inprogress', 3: 'completed', 4: 'failed'}, 'message': {1: 'submitted PySpark job to EMR', 2: 'PySpark job running in EMR', 3: 'Completed PySpark job successfully'}}, 'dremio_table_details': [{'table_name': 'table_name_1', 'table_path': 'path1'}, {'table_name': 'table_name_2', 'table_path': 'path2'}], 'executor_instances': '4', 'sql_base_path': '/usr/local/airflow/sql/{}/{}/{}.sql', 'dremio_security_table_name': 'avant.prod.campaign_abc.campaign_config.campaign_dremio_masking_table', 'local_path': '/usr/local/airflow', 'campaign_type_config_id': '34', 'dag_name': 'LiveVox_TD_Collection_36_BatchTransformation', 'campaign_name': 'LiveVox TD Collection', 'stage_id': '1', 'common_service_name': 'LiveVox_TD_Collection_36_BatchTransformation', 'add_audit_columns': True, 'feed_metadata_object': 'common/feed_metadata.cfg', 'uow_dependency_object': 'common/uow_dependency.cfg', 'uow_error_object': 'common/uow_error.cfg', 'config_file_bucket': 'avantcamp-prod-common-bucket', 'config_file_name': 'common/feed_metadata.cfg', 'parameter_config_file': 'common/parameters.cfg', 'acxiom_bucket': 'avant-partner01-landing', 'avant_acxiom_bucket': 'avant-acxiom', 'data_lake_bucket': 'avant-data-lake-ingest', 'publish_bucket': 'avantcamp-partner01-prod-publish-bucket', 'common_bucket': 'avantcamp-partner01-prod-common-bucket', 'exception_bucket': 'avantcamp-partner01-prod-exception-bucket', 'log_bucket': 'avantcamp-partner01-prod-log-bucket', 'selection_bucket': 'avantcamp-partner01-prod-selection-bucket', 'approval_bucket': 'avantcamp-partner01-prod-approval-bucket', 'transient_bucket': 'avantcamp-partner01-prod-transient-bucket', 'ingestion_bucket': 'avantcamp-partner01-prod-ingestion-bucket', 'transform_bucket': 'avantcamp-partner01-prod-transform-bucket', 'scoring_bucket': 'avantcamp-partner01-prod-score-bucket', 'call_logs_amount_publish_path': 'landing/bpo/{ENV}/call_logs', 'bpo_amount_publish_bucket': 'amount-{PARTNER_NAME}-prd-data-lake-ingest', 'call_interval_amount_publish_path': 'landing/bpo/{ENV}/call_interval', 'emails_amount_publish_path': 'landing/bpo/{ENV}/emails', 'qa_amount_publish_path': 'landing/bpo/{ENV}/qa', 'agent_interval_amount_publish_path': 'landing/bpo/{ENV}/agent_interval', 'dremio_ingestion_file_path': '{source_file_type}/{YYYY}/{MM}/{DD}', 'dremio_ingestion_file_name': 'bpo_{source_file_type}_10941_{campaign_run_id}_{date}.{file_format}', 'emails_rename_full_source_path': 'emails/{YYYY}/{MM}/{DD}/bpo_emails_10941_{campaign_run_id}_{date}.{file_format}', 'ivr_call_logs_rename_full_source_path': 'ivr_call_logs/{YYYY}/{MM}/{DD}/bpo_ivr_call_logs_10941_{campaign_run_id}_{date}.{file_format}', 'qa_rename_full_source_path': 'qa/{YYYY}/{MM}/{DD}/bpo_qa_10941_{campaign_run_id}_{date}.{file_format}', 'call_logs_rename_full_source_path': 'call_logs/{YYYY}/{MM}/{DD}/bpo_call_logs_10941_{campaign_run_id}_{date}.{file_format}', 'agent_interval_rename_full_source_path': 'agent_interval/{YYYY}/{MM}/{DD}/bpo_agent_interval_10941_{campaign_run_id}_{date}.{file_format}', 'call_interval_rename_full_source_path': 'call_interval/{YYYY}/{MM}/{DD}/bpo_call_interval_10941_{campaign_run_id}_{date}.{file_format}', 'emails_rename_file_name': 'bpo_emails_10941_{campaign_run_id}_{date}.{file_format}', 'ivr_call_logs_rename_file_name': 'bpo_ivr_call_logs_10941_{campaign_run_id}_{date}.{file_format}', 'qa_rename_file_name': 'bpo_qa_10941_{campaign_run_id}_{date}.{file_format}', 'call_logs_rename_file_name': 'bpo_call_logs_10941_{campaign_run_id}_{date}.{file_format}', 'agent_interval_rename_file_name': 'bpo_agent_interval_10941_{campaign_run_id}_{date}.{file_format}', 'call_interval_rename_file_name': 'bpo_call_interval_10941_{campaign_run_id}_{date}.{file_format}', 'file_id': 'livevox_td_001', 'args_dremio_jdbc_user_prod': 'app/dremio/jdbc_prod_sa', 'args_dremio_url_prod': 'https://dremio-prod.services.global.avant.com', 'publish_eloan_bucket': 'avantcamp-partner02-prod-publish-bucket', 'transform_eloan_bucket': 'avantcamp-partner02-prod-transform-bucket', 'ingestion_eloan_bucket': 'avantcamp-partner02-prod-ingestion-bucket', 'args_dremio_vault_path_prod': 'user/devops/dremio/sa_prod_user', 'args_dremio_jdbc_url_prod': 'jdbc:dremio:direct=dremio-int-prod.services.global.avant.com:31010', 'workflow_session_type_data_path': 'livevox_collections/td_livevox_batch_wst/{YYYY}/{MM}/{DD}/10941', 'loan_by_day_data_path': 'livevox_collections/td_livevox_batch_lbd/{YYYY}/{MM}/{DD}/10941', 'complaint_resolution_data_path': 'livevox_collections/td_livevox_batch_cr/{YYYY}/{MM}/{DD}/10941', 'livevox_td_collection_batch_target_file_name': 'livevox_td_collection_batch_10941_{campaign_run_id}_{date}.parquet', 'td_livevox_batch_lca_ingest_from_dremio_file_name': 'td_livevox_batch_lca_10941_{campaign_run_id}_{date}.parquet', 'td_livevox_batch_customer_ingest_from_dremio_file_name': 'td_livevox_batch_customer_10941_{campaign_run_id}_{date}.parquet', 'td_livevox_batch_wst_ingest_from_dremio_file_name': 'td_livevox_batch_wst_10941_{campaign_run_id}_{date}.parquet', 'td_livevox_batch_complaint_ingest_from_dremio_file_name': 'td_livevox_batch_complaint_10941_{campaign_run_id}_{date}.parquet', 'td_livevox_batch_cr_ingest_from_dremio_file_name': 'td_livevox_batch_cr_10941_{campaign_run_id}_{date}.parquet', 'td_livevox_batch_lp_ingest_from_dremio_file_name': 'td_livevox_batch_lp_10941_{campaign_run_id}_{date}.parquet', 'td_livevox_batch_cl_ingest_from_dremio_file_name': 'td_livevox_batch_cl_10941_{campaign_run_id}_{date}.parquet', 'td_livevox_batch_lca_ingest_from_dremio_path': 'livevox_collections/td_livevox_batch_lca/{YYYY}/{MM}/{DD}/10941/{campaign_run_id}', 'td_livevox_batch_customer_ingest_from_dremio_path': 'livevox_collections/td_livevox_batch_customer/{YYYY}/{MM}/{DD}/10941/{campaign_run_id}', 'td_livevox_batch_wst_ingest_from_dremio_path': 'livevox_collections/td_livevox_batch_wst/{YYYY}/{MM}/{DD}/10941/{campaign_run_id}', 'td_livevox_batch_complaint_ingest_from_dremio_path': 'livevox_collections/td_livevox_batch_complaint/{YYYY}/{MM}/{DD}/10941/{campaign_run_id}', 'td_livevox_batch_cr_ingest_from_dremio_path': 'livevox_collections/td_livevox_batch_cr/{YYYY}/{MM}/{DD}/10941/{campaign_run_id}', 'td_livevox_batch_lp_ingest_from_dremio_path': 'livevox_collections/td_livevox_batch_lp/{YYYY}/{MM}/{DD}/10941/{campaign_run_id}', 'td_livevox_batch_cl_ingest_from_dremio_path': 'livevox_collections/td_livevox_batch_cl/{YYYY}/{MM}/{DD}/10941/{campaign_run_id}', 'td_livevox_batch_lbd_ingest_from_dremio_file_name': 'td_livevox_batch_lbd_10941_{campaign_run_id}_{date}.parquet', 'loan_customer_application_data_path': 'livevox_collections/td_livevox_batch_lca/{YYYY}/{MM}/{DD}/10941', 'collection_log_data_path': 'livevox_collections/td_livevox_batch_cl/{YYYY}/{MM}/{DD}/10941', 'customer_application_data_path': 'livevox_collections/td_livevox_batch_customer/{YYYY}/{MM}/{DD}/10941', 'complaint_data_path': 'livevox_collections/td_livevox_batch_complaint/{YYYY}/{MM}/{DD}/10941', 'loan_payments_data_path': 'livevox_collections/td_livevox_batch_lp/{YYYY}/{MM}/{DD}/10941', 'td_livevox_batch_lbd_ingest_from_dremio_path': 'livevox_collections/td_livevox_batch_lbd/{YYYY}/{MM}/{DD}/10941/{campaign_run_id}', 'livevox_td_collection_batch_final_target_data_path': 'livevox_td_collection/batch_final_transformation', 'livevox_td_collection_batch_final_target_file_name': 'livevox_td_collection_batch.parquet', 'livevox_td_collection_batch_target_data_path': 'livevox_td_collection/batch_transformation/{YYYY}/{MM}/{DD}/10941/{campaign_run_id}', 'td_dlds_raw_bucket': 'avantdlds-partner03-prod-raw-bucket', 'ingestion_td_bucket': 'avantcamp-partner03-prod-ingestion-bucket', 'td_dlds_transform_bucket': 'avantdlds-partner03-prod-transform-bucket', 'transform_td_bucket': 'avantcamp-partner03-prod-transform-bucket', 'campaign_batch_id': '10941', 'campaign_run_id': '149', 'dremio_data': {}, 'from_date': '2025-01-24', 'to_date': '2025-01-25', 'current_date': '2025-01-25', 'common': {'args_dremio_vault_path_prod': 'user/devops/dremio/sa_prod_user', 'args_dremio_jdbc_url_prod': 'jdbc:dremio:direct=dremio-int-prod.services.global.avant.com:31010', 'args_dremio_jdbc_user_prod': 'app/dremio/jdbc_prod_sa', 'args_dremio_url_prod': 'https://dremio-prod.services.global.avant.com'}, '1': {'suppression': [{'target_path': 's3://avantcamp-partner03-prod-ingestion-bucket/td/livevox_collections/td_livevox_batch_lca/{YYYY}/{MM}/{DD}/10941/{campaign_run_id}/td_livevox_batch_lca_10941_{campaign_run_id}_{date}.parquet'}, {'target_path': 's3://avantcamp-partner03-prod-ingestion-bucket/td/livevox_collections/td_livevox_batch_lbd/{YYYY}/{MM}/{DD}/10941/{campaign_run_id}/td_livevox_batch_lbd_10941_{campaign_run_id}_{date}.parquet'}, {'target_path': 's3://avantcamp-partner03-prod-ingestion-bucket/td/livevox_collections/td_livevox_batch_customer/{YYYY}/{MM}/{DD}/10941/{campaign_run_id}/td_livevox_batch_customer_10941_{campaign_run_id}_{date}.parquet'}, {'target_path': 's3://avantcamp-partner03-prod-ingestion-bucket/td/livevox_collections/td_livevox_batch_complaint/{YYYY}/{MM}/{DD}/10941/{campaign_run_id}/td_livevox_batch_complaint_10941_{campaign_run_id}_{date}.parquet'}, {'target_path': 's3://avantcamp-partner03-prod-ingestion-bucket/td/livevox_collections/td_livevox_batch_cr/{YYYY}/{MM}/{DD}/10941/{campaign_run_id}/td_livevox_batch_cr_10941_{campaign_run_id}_{date}.parquet'}, {'target_path': 's3://avantcamp-partner03-prod-ingestion-bucket/td/livevox_collections/td_livevox_batch_wst/{YYYY}/{MM}/{DD}/10941/{campaign_run_id}/td_livevox_batch_wst_10941_{campaign_run_id}_{date}.parquet'}, {'target_path': 's3://avantcamp-partner03-prod-ingestion-bucket/td/livevox_collections/td_livevox_batch_cl/{YYYY}/{MM}/{DD}/10941/{campaign_run_id}/td_livevox_batch_cl_10941_{campaign_run_id}_{date}.parquet'}, {'target_path': 's3://avantcamp-partner03-prod-ingestion-bucket/td/livevox_collections/td_livevox_batch_lp/{YYYY}/{MM}/{DD}/10941/{campaign_run_id}/td_livevox_batch_lp_10941_{campaign_run_id}_{date}.parquet'}], 'transformation': {'livevox_td_batch_transformation': {'customer_path': 's3://avantcamp-partner03-prod-ingestion-bucket/td/livevox_collections/td_livevox_batch_customer/{YYYY}/{MM}/{DD}/10941/{campaign_run_id}/td_livevox_batch_customer_10941_{campaign_run_id}_{date}.parquet', 'complaint_path': 's3://avantcamp-partner03-prod-ingestion-bucket/td/livevox_collections/td_livevox_batch_complaint/{YYYY}/{MM}/{DD}/10941/{campaign_run_id}/td_livevox_batch_complaint_10941_{campaign_run_id}_{date}.parquet', 'complaint_resolution_path': 's3://avantcamp-partner03-prod-ingestion-bucket/td/livevox_collections/td_livevox_batch_cr/{YYYY}/{MM}/{DD}/10941/{campaign_run_id}/td_livevox_batch_cr_10941_{campaign_run_id}_{date}.parquet', 'workflow_session_type_path': 's3://avantcamp-partner03-prod-ingestion-bucket/td/livevox_collections/td_livevox_batch_wst/{YYYY}/{MM}/{DD}/10941/{campaign_run_id}/td_livevox_batch_wst_10941_{campaign_run_id}_{date}.parquet', 'loan_by_day_path': 's3://avantcamp-partner03-prod-ingestion-bucket/td/livevox_collections/td_livevox_batch_lbd/{YYYY}/{MM}/{DD}/10941/{campaign_run_id}/td_livevox_batch_lbd_10941_{campaign_run_id}_{date}.parquet', 'loan_payments_path': 's3://avantcamp-partner03-prod-ingestion-bucket/td/livevox_collections/td_livevox_batch_lp/{YYYY}/{MM}/{DD}/10941/{campaign_run_id}/td_livevox_batch_lp_10941_{campaign_run_id}_{date}.parquet', 'loan_cust_apps_data_path': 's3://avantcamp-partner03-prod-ingestion-bucket/td/livevox_collections/td_livevox_batch_lca/{YYYY}/{MM}/{DD}/10941/{campaign_run_id}/td_livevox_batch_lca_10941_{campaign_run_id}_{date}.parquet', 'collection_log_data_path': 's3://avantcamp-partner03-prod-ingestion-bucket/td/livevox_collections/td_livevox_batch_cl/{YYYY}/{MM}/{DD}/10941/{campaign_run_id}/td_livevox_batch_cl_10941_{campaign_run_id}_{date}.parquet', 'final_batch_target_path': 's3://avantcamp-partner03-prod-transform-bucket/td/livevox_td_collection/batch_transformation/{YYYY}/{MM}/{DD}/10941/{campaign_run_id}/livevox_td_collection_batch_10941_{campaign_run_id}_{date}.parquet', 'final_batch_target_path1': 's3://avantcamp-partner03-prod-transform-bucket/td/livevox_td_collection/batch_final_transformation/livevox_td_collection_batch.parquet'}}}, 'campaign_config': {'campaign_driver_id': 3827, 'campaign_type_config_id': 36, 'module_config_type_id': 36, 'module_config_type': 'campaign_type_config', 'stage_id': 1, 'sequence_number': 1, 'created_by': 'avantadmin', 'created_date': '2023-05-23', 'is_active_flag': True, 'config': {'campaign_type_config_id': 36, 'name': 'LiveVox TD Collection', 'description': ' LiveVox TD Collection Batch Transformation', 'created_by': 'avantadmin', 'created_date': '2023-05-23', 'is_active_flag': True}, 'campaign_config_jsonb': {'1': {'campaign_type_config': {'campaign_driver_id': 3827, 'campaign_type_config_id': 36, 'module_config_type_id': 36, 'module_config_type': 'campaign_type_config', 'stage_id': 1, 'sequence_number': 1, 'created_by': 'avantadmin', 'created_date': '2023-05-23', 'is_active_flag': True, 'config': {'campaign_type_config_id': 36, 'name': 'LiveVox TD Collection', 'description': ' LiveVox TD Collection Batch Transformation', 'created_by': 'avantadmin', 'created_date': '2023-05-23', 'is_active_flag': True}}, 'approval_config': [{'campaign_driver_id': 3828, 'module_config_type_id': 69, 'module_config_type': 'approval_config', 'stage_id': 1, 'sequence_number': 1, 'created_by': 'avantadmin', 'created_date': '2023-03-15', 'is_active_flag': True, 'config': {'approval_config_id': 69, 'email_address': 'data-ops-pod@avant.com', 'role': 'pipeline_alert', 'alert_type': 'notification', 'created_by': 'avantadmin', 'created_date': '2023-03-15', 'is_active_flag': True, 'description': 'OPS Email List'}}, {'campaign_driver_id': 3829, 'module_config_type_id': 70, 'module_config_type': 'approval_config', 'stage_id': 1, 'sequence_number': 1, 'created_by': 'avantadmin', 'created_date': '2023-03-15', 'is_active_flag': True, 'config': {'approval_config_id': 70, 'email_address': 'data-ops-pod@avant.com', 'role': 'pipeline_alert', 'alert_type': 'error_alert', 'created_by': 'avantadmin', 'created_date': '2023-03-15', 'is_active_flag': True, 'description': 'OPS Email List'}}], 'selection_group_config': [{'campaign_driver_id': 3830, 'module_config_type_id': 1193, 'module_config_type': 'selection_group_config', 'stage_id': 1, 'sequence_number': 1, 'created_by': 'avantadmin', 'created_date': '2023-05-23', 'is_active_flag': True, 'description': 'Livevox TD batch-loan_customer_application', 'credit_policy': '', 'product_cd': '', 'inquiry_code': '', 'selection_group_type': 'suppression', 'parent_selection_group_config_id': None, 'config': [{'selection_group_rule_config_id': 3016, 'selection_group_config_id': 1193, 'sequence_number': 1, 'selection_criteria_type': 'suppression', 'rule_type': 'custom', 'rule_condition': 'custom', 'description': 'Livevox TD Batch loan customer application', 'rule_value_type': 'custom', 'attribute_name': 'custom', 'attribute_id': '', 'sql_query': 'select customer_id,loan_id,customer_uuid,loan_uuid,product_type,loan_status,created_time from td.prod.dw.dw_orig.loan_customer_application where loan_id is not null', 'rule_value': 'select customer_id,loan_id,customer_uuid,loan_uuid,product_type,loan_status,created_time from td.prod.dw.dw_orig.loan_customer_application where loan_id is not null', 'created_by': 'avantadmin', 'created_date': '2023-05-23', 'is_active_flag': True, 'config': 'select customer_id,loan_id,customer_uuid,loan_uuid,product_type,loan_status,created_time from td.prod.dw.dw_orig.loan_customer_application where loan_id is not null'}]}, {'campaign_driver_id': 3831, 'module_config_type_id': 1194, 'module_config_type': 'selection_group_config', 'stage_id': 1, 'sequence_number': 2, 'created_by': 'avantadmin', 'created_date': '2023-05-23', 'is_active_flag': True, 'description': 'Livevox TD batch-loan-by-day', 'credit_policy': '', 'product_cd': '', 'inquiry_code': '', 'selection_group_type': 'suppression', 'parent_selection_group_config_id': None, 'config': [{'selection_group_rule_config_id': 3017, 'selection_group_config_id': 1194, 'sequence_number': 1, 'selection_criteria_type': 'suppression', 'rule_type': 'custom', 'rule_condition': 'custom', 'description': 'Livevox TD Batch loan by day', 'rule_value_type': 'custom', 'attribute_name': 'custom', 'attribute_id': '', 'sql_query': \"select customer_application_id,loan_id,loan_uuid,product_type,status,measurement_date,next_payment_due_date,days_late,operations_charge_off_reason,principal_balance,late_fees_balance,nsf_fees_balance,origination_date,paid_off_date,treasury_charge_off_date,unearned_cash_balance,settlement_status,interest_balance from td.prod.dl.amount.loan_by_day.loan_by_day where status in ('late', 'current','applied','approved','authorized') and loan_id is not null and measurement_date = date_diff(current_date(), 1)\", 'rule_value': \"select customer_application_id,loan_id,loan_uuid,product_type,status,measurement_date,next_payment_due_date,days_late,operations_charge_off_reason,principal_balance,late_fees_balance,nsf_fees_balance,origination_date,paid_off_date,treasury_charge_off_date,unearned_cash_balance,settlement_status,interest_balance from td.prod.dl.amount.loan_by_day.loan_by_day where status in ('late', 'current','applied','approved','authorized') and loan_id is not null and measurement_date = date_diff(current_date(), 1)\", 'created_by': 'avantadmin', 'created_date': '2023-05-23', 'is_active_flag': True, 'config': \"select customer_application_id,loan_id,loan_uuid,product_type,status,measurement_date,next_payment_due_date,days_late,operations_charge_off_reason,principal_balance,late_fees_balance,nsf_fees_balance,origination_date,paid_off_date,treasury_charge_off_date,unearned_cash_balance,settlement_status,interest_balance from td.prod.dl.amount.loan_by_day.loan_by_day where status in ('late', 'current','applied','approved','authorized') and loan_id is not null and measurement_date = date_diff(current_date(), 1)\"}]}, {'campaign_driver_id': 3832, 'module_config_type_id': 1195, 'module_config_type': 'selection_group_config', 'stage_id': 1, 'sequence_number': 3, 'created_by': 'avantadmin', 'created_date': '2023-05-23', 'is_active_flag': True, 'description': 'LiveVox-TD-batch-customer', 'credit_policy': '', 'product_cd': '', 'inquiry_code': '', 'selection_group_type': 'suppression', 'parent_selection_group_config_id': None, 'config': [{'selection_group_rule_config_id': 3018, 'selection_group_config_id': 1195, 'sequence_number': 1, 'selection_criteria_type': 'suppression', 'rule_type': 'custom', 'rule_condition': 'custom', 'description': 'Livevox TD Batch customer', 'rule_value_type': 'custom', 'attribute_name': 'custom', 'attribute_id': '', 'sql_query': 'select id,email,bad_email from td.prod.dl.amount.customer.customer', 'rule_value': 'select id,email,bad_email from td.prod.dl.amount.customer.customer', 'created_by': 'avantadmin', 'created_date': '2023-05-23', 'is_active_flag': True, 'config': 'select id,email,bad_email from td.prod.dl.amount.customer.customer'}]}, {'campaign_driver_id': 3833, 'module_config_type_id': 1196, 'module_config_type': 'selection_group_config', 'stage_id': 1, 'sequence_number': 4, 'created_by': 'avantadmin', 'created_date': '2023-05-23', 'is_active_flag': True, 'description': 'LiveVox-TD-batch-complaint', 'credit_policy': '', 'product_cd': '', 'inquiry_code': '', 'selection_group_type': 'suppression', 'parent_selection_group_config_id': None, 'config': [{'selection_group_rule_config_id': 3019, 'selection_group_config_id': 1196, 'sequence_number': 1, 'selection_criteria_type': 'suppression', 'rule_type': 'custom', 'rule_condition': 'custom', 'description': 'Livevox TD Batch complaint', 'rule_value_type': 'custom', 'attribute_name': 'custom', 'attribute_id': '', 'sql_query': 'select * from td.prod.dw.dw_ops.complaint', 'rule_value': 'select * from td.prod.dw.dw_ops.complaint', 'created_by': 'avantadmin', 'created_date': '2023-05-23', 'is_active_flag': True, 'config': 'select * from td.prod.dw.dw_ops.complaint'}]}, {'campaign_driver_id': 3834, 'module_config_type_id': 1197, 'module_config_type': 'selection_group_config', 'stage_id': 1, 'sequence_number': 5, 'created_by': 'avantadmin', 'created_date': '2023-05-23', 'is_active_flag': True, 'description': 'LiveVox-TD-batch-complaint_resolution', 'credit_policy': '', 'product_cd': '', 'inquiry_code': '', 'selection_group_type': 'suppression', 'parent_selection_group_config_id': None, 'config': [{'selection_group_rule_config_id': 3020, 'selection_group_config_id': 1197, 'sequence_number': 1, 'selection_criteria_type': 'suppression', 'rule_type': 'custom', 'rule_condition': 'custom', 'description': 'Livevox TD Batch complaint resolution', 'rule_value_type': 'custom', 'attribute_name': 'custom', 'attribute_id': '', 'sql_query': 'select * from td.prod.dw.dw_ops.complaint_resolution', 'rule_value': 'select * from td.prod.dw.dw_ops.complaint_resolution', 'created_by': 'avantadmin', 'created_date': '2023-05-23', 'is_active_flag': True, 'config': 'select * from td.prod.dw.dw_ops.complaint_resolution'}]}, {'campaign_driver_id': 3835, 'module_config_type_id': 1198, 'module_config_type': 'selection_group_config', 'stage_id': 1, 'sequence_number': 6, 'created_by': 'avantadmin', 'created_date': '2023-05-23', 'is_active_flag': True, 'description': 'LiveVox-TD-batch-workflow_session_type', 'credit_policy': '', 'product_cd': '', 'inquiry_code': '', 'selection_group_type': 'suppression', 'parent_selection_group_config_id': None, 'config': [{'selection_group_rule_config_id': 3021, 'selection_group_config_id': 1198, 'sequence_number': 1, 'selection_criteria_type': 'suppression', 'rule_type': 'custom', 'rule_condition': 'custom', 'description': 'Livevox TD Batch workflow session type', 'rule_value_type': 'custom', 'attribute_name': 'custom', 'attribute_id': '', 'sql_query': 'select customer_id,product_id,created_time,last_step_exit,type,product_type from td.prod.dw.dw_ops.workflow_session_type', 'rule_value': 'select customer_id,product_id,created_time,last_step_exit,type,product_type from td.prod.dw.dw_ops.workflow_session_type', 'created_by': 'avantadmin', 'created_date': '2023-05-23', 'is_active_flag': True, 'config': 'select customer_id,product_id,created_time,last_step_exit,type,product_type from td.prod.dw.dw_ops.workflow_session_type'}]}, {'campaign_driver_id': 3836, 'module_config_type_id': 1199, 'module_config_type': 'selection_group_config', 'stage_id': 1, 'sequence_number': 7, 'created_by': 'avantadmin', 'created_date': '2023-05-23', 'is_active_flag': True, 'description': 'LiveVox-TD-batch-collection_log', 'credit_policy': '', 'product_cd': '', 'inquiry_code': '', 'selection_group_type': 'suppression', 'parent_selection_group_config_id': None, 'config': [{'selection_group_rule_config_id': 3022, 'selection_group_config_id': 1199, 'sequence_number': 1, 'selection_criteria_type': 'suppression', 'rule_type': 'custom', 'rule_condition': 'custom', 'description': 'Livevox TD collection log', 'rule_value_type': 'custom', 'attribute_name': 'custom', 'attribute_id': '', 'sql_query': 'select * from td.prod.dw.dw_serv.collection_log', 'rule_value': 'select * from td.prod.dw.dw_serv.collection_log', 'created_by': 'avantadmin', 'created_date': '2023-05-23', 'is_active_flag': True, 'config': 'select * from td.prod.dw.dw_serv.collection_log'}]}, {'campaign_driver_id': 3837, 'module_config_type_id': 1200, 'module_config_type': 'selection_group_config', 'stage_id': 1, 'sequence_number': 8, 'created_by': 'avantadmin', 'created_date': '2023-05-23', 'is_active_flag': True, 'description': 'LiveVox-TD-batch-loan_payments', 'credit_policy': '', 'product_cd': '', 'inquiry_code': '', 'selection_group_type': 'suppression', 'parent_selection_group_config_id': None, 'config': [{'selection_group_rule_config_id': 3023, 'selection_group_config_id': 1200, 'sequence_number': 1, 'selection_criteria_type': 'suppression', 'rule_type': 'custom', 'rule_condition': 'custom', 'description': 'Livevox TD Batch loan payments', 'rule_value_type': 'custom', 'attribute_name': 'custom', 'attribute_id': '', 'sql_query': 'select * from td.prod.dw.dw_serv.loan_payment', 'rule_value': 'select * from td.prod.dw.dw_serv.loan_payment', 'created_by': 'avantadmin', 'created_date': '2023-05-23', 'is_active_flag': True, 'config': 'select * from td.prod.dw.dw_serv.loan_payment'}]}]}}, 'campaign_name': 'livevox_td_collection_january_2025', 'campaign_config_s3_path': 'None', 'campaign_deployment_log_id': 2318, 'name': 'LiveVox TD Collection', 'table_name': 'campaign_config.campaign_driver_config', 'campaign_driver_config_id': 40827}}}\n"
   ]
  },
  {
   "cell_type": "code",
   "execution_count": 3,
   "metadata": {},
   "outputs": [
    {
     "data": {
      "application/vnd.jupyter.widget-view+json": {
       "model_id": "",
       "version_major": 2,
       "version_minor": 0
      },
      "text/plain": [
       "FloatProgress(value=0.0, bar_style='info', description='Progress:', layout=Layout(height='25px', width='50%'),…"
      ]
     },
     "metadata": {},
     "output_type": "display_data"
    }
   ],
   "source": [
    "args = a['audit_args']\n",
    "# campaign_config = a['campaign_config']['campaign_config_jsonb']"
   ]
  },
  {
   "cell_type": "code",
   "execution_count": 9,
   "metadata": {},
   "outputs": [
    {
     "data": {
      "application/vnd.jupyter.widget-view+json": {
       "model_id": "",
       "version_major": 2,
       "version_minor": 0
      },
      "text/plain": [
       "FloatProgress(value=0.0, bar_style='info', description='Progress:', layout=Layout(height='25px', width='50%'),…"
      ]
     },
     "metadata": {},
     "output_type": "display_data"
    },
    {
     "name": "stdout",
     "output_type": "stream",
     "text": [
      "'s3://avantcamp-partner03-prod-ingestion-bucket/td/livevox_collections/td_livevox_live_cpf/2025/01/25/12121/149/td_livevox_batch_cpf_12121_149_20250125.parquet'"
     ]
    }
   ],
   "source": [
    "customer_product_flags_data_path"
   ]
  },
  {
   "cell_type": "code",
   "execution_count": 11,
   "metadata": {},
   "outputs": [
    {
     "data": {
      "application/vnd.jupyter.widget-view+json": {
       "model_id": "",
       "version_major": 2,
       "version_minor": 0
      },
      "text/plain": [
       "FloatProgress(value=0.0, bar_style='info', description='Progress:', layout=Layout(height='25px', width='50%'),…"
      ]
     },
     "metadata": {},
     "output_type": "display_data"
    }
   ],
   "source": [
    "todays_args = {'ENV': 'prod', 'REGION': 'us-east-2', 'account_id': '235352882622', 'PARTNER_NAME': 'td', 'emr_details': {}, 'AIRFLOW_PATH': '/usr/local/airflow', 'SQL_BASE_PATH': '/usr/local/airflow/test', 'DREMIO_ENV': 'prod', 'PARTNER_ID': 'partner01', 'measurement_date': '2025-02-03', 'YEAR': '2025', 'MONTH': '02', 'DATE': '03', 'YYYY': '2025', 'MM': '02', 'DD': '03', 'date': '20250203', 'date_time': '2025-02-03 22:00:17', 'smtp_details': {'EMAIL_FROM': 'campaign-airflow-prod@partner01.data.avant.com'}, 'vault_details': {'vault_url': 'https://vault.shared.partner01.data.avant.com', 'meta_model': 'app/campaign/meta_model/prod', 'ec2_metadata_url': 'http://169.254.169.254', 'group_role': 'airflow-role', 'ec2_role': 'avant-campaign-dev-ecs-task-role', 'emr_role': 'campaign_emr_instance_role', 'vault_meta_base_url': '{base}/latest/meta-data/iam/security-credentials/{role}', 'encryption_details': 'app/landing_zone_encryption/acxiom/2024', 'dremio_jdbc_user': 'app/dremio/jdbc_prod_sa', 'dremio_jdbc_url': 'jdbc:dremio:direct=dremio-int-prod.services.global.avant.com:31010', 'dremio_url': 'https://dremio-prod.services.global.avant.com', 'dremio_vault_path': 'user/devops/dremio/sa_prod_user', 'garden_vault_path': 'user/devops/garden/campaign_garden_scoring', 'smtp_vault_path': 'user/devops/smtp', 'neustar_vault_path': 'app/neustar', 'approval_vault_path': 'app/campaign/approval/prod'}, 'sqs_details': {'encrypt_decrypt_sqs_details': {'sqs_name': '{}_{}_{}_encrypt_decrypt_queue', 'sqs_url': 'https://sqs.us-east-2.amazonaws.com/235352882622/{}.fifo'}, 'selection_eligibility_sqs_details': {'sqs_name': '{}_{}_{}_selection_eligibility_queue', 'sqs_url': 'https://sqs.us-east-2.amazonaws.com/235352882622/{}.fifo'}, 'selection_desirability_sqs_details': {'sqs_name': '{}_{}_{}_selection_desirability_queue', 'sqs_url': 'https://sqs.us-east-2.amazonaws.com/235352882622/{}.fifo'}}, 's3_details': {'config_file_bucket': 'avantcamp-partner01-prod-common-bucket', 'config_file_names': {'parameter_data': 'common/parameters.cfg', 'feed_schema_tracker': 'common/feed_schema.cfg'}, 'campaign_input_file_prefix_history': 'campaign-user-input-files_history', 'campaign_input_file_prefix': 'campaign-user-input-files', 'campaign_input_file_name': 'campaign - User Input - Template.xlsx', 'campaign_dynamic_dag_file_prefix': 'campaign-system-input-files', 'campaign_dynamic_dag_file_name': 'campaign_dynamic_dag_config.json'}, 'schema_name': 'campaign_config', 'campaign_driver_table_name': 'campaign_driver', 'selection_group_tname': 'selection_group_rule_config', 'uow_dependency_table_name': 'uow_dependency', 'parent_config_id': '1', 'campaign_driver_config_table_name': 'campaign_driver_config', 'common_config_table_name': 'common_system_config', 'airflow_path': '/usr/local/airflow', 'state_dict': {'state_id': {1: 'started', 2: 'inprogress', 3: 'completed', 4: 'failed'}, 'message': {1: 'submitted PySpark job to EMR', 2: 'PySpark job running in EMR', 3: 'Completed PySpark job successfully'}}, 'dremio_table_details': [{'table_name': 'table_name_1', 'table_path': 'path1'}, {'table_name': 'table_name_2', 'table_path': 'path2'}], 'executor_instances': '4', 'sql_base_path': '/usr/local/airflow/sql/{}/{}/{}.sql', 'dremio_security_table_name': 'avant.prod.campaign_abc.campaign_config.campaign_dremio_masking_table', 'local_path': '/usr/local/airflow', 'dremio_vault_path': 'user/devops/dremio/campaign/eloan', 'campaign_type_config_id': '37', 'dag_name': 'LiveVox_TD_Collection_Live_37_Publish', 'campaign_name': 'LiveVox TD Collection Live', 'stage_id': '1', 'success_on_zero_records_flag': True, 'common_service_name': 'LiveVox_TD_Collection_Live_37_Publish', 'add_audit_columns': True, 'feed_metadata_object': 'common/feed_metadata.cfg', 'uow_dependency_object': 'common/uow_dependency.cfg', 'uow_error_object': 'common/uow_error.cfg', 'config_file_bucket': 'avantcamp-prod-common-bucket', 'config_file_name': 'common/feed_metadata.cfg', 'parameter_config_file': 'common/parameters.cfg', 'acxiom_bucket': 'avant-partner01-landing', 'avant_acxiom_bucket': 'avant-acxiom', 'data_lake_bucket': 'avant-data-lake-ingest', 'publish_bucket': 'avantcamp-partner01-prod-publish-bucket', 'common_bucket': 'avantcamp-partner01-prod-common-bucket', 'exception_bucket': 'avantcamp-partner01-prod-exception-bucket', 'log_bucket': 'avantcamp-partner01-prod-log-bucket', 'selection_bucket': 'avantcamp-partner01-prod-selection-bucket', 'approval_bucket': 'avantcamp-partner01-prod-approval-bucket', 'transient_bucket': 'avantcamp-partner01-prod-transient-bucket', 'ingestion_bucket': 'avantcamp-partner01-prod-ingestion-bucket', 'transform_bucket': 'avantcamp-partner01-prod-transform-bucket', 'scoring_bucket': 'avantcamp-partner01-prod-score-bucket', 'call_logs_amount_publish_path': 'landing/bpo/{ENV}/call_logs', 'bpo_amount_publish_bucket': 'amount-{PARTNER_NAME}-prd-data-lake-ingest', 'call_interval_amount_publish_path': 'landing/bpo/{ENV}/call_interval', 'emails_amount_publish_path': 'landing/bpo/{ENV}/emails', 'qa_amount_publish_path': 'landing/bpo/{ENV}/qa', 'agent_interval_amount_publish_path': 'landing/bpo/{ENV}/agent_interval', 'dremio_ingestion_file_path': '{source_file_type}/{YYYY}/{MM}/{DD}', 'dremio_ingestion_file_name': 'bpo_{source_file_type}_12121_{campaign_run_id}_{date}.{file_format}', 'emails_rename_full_source_path': 'emails/{YYYY}/{MM}/{DD}/bpo_emails_12121_{campaign_run_id}_{date}.{file_format}', 'ivr_call_logs_rename_full_source_path': 'ivr_call_logs/{YYYY}/{MM}/{DD}/bpo_ivr_call_logs_12121_{campaign_run_id}_{date}.{file_format}', 'qa_rename_full_source_path': 'qa/{YYYY}/{MM}/{DD}/bpo_qa_12121_{campaign_run_id}_{date}.{file_format}', 'call_logs_rename_full_source_path': 'call_logs/{YYYY}/{MM}/{DD}/bpo_call_logs_12121_{campaign_run_id}_{date}.{file_format}', 'agent_interval_rename_full_source_path': 'agent_interval/{YYYY}/{MM}/{DD}/bpo_agent_interval_12121_{campaign_run_id}_{date}.{file_format}', 'call_interval_rename_full_source_path': 'call_interval/{YYYY}/{MM}/{DD}/bpo_call_interval_12121_{campaign_run_id}_{date}.{file_format}', 'emails_rename_file_name': 'bpo_emails_12121_{campaign_run_id}_{date}.{file_format}', 'ivr_call_logs_rename_file_name': 'bpo_ivr_call_logs_12121_{campaign_run_id}_{date}.{file_format}', 'qa_rename_file_name': 'bpo_qa_12121_{campaign_run_id}_{date}.{file_format}', 'call_logs_rename_file_name': 'bpo_call_logs_12121_{campaign_run_id}_{date}.{file_format}', 'agent_interval_rename_file_name': 'bpo_agent_interval_12121_{campaign_run_id}_{date}.{file_format}', 'call_interval_rename_file_name': 'bpo_call_interval_12121_{campaign_run_id}_{date}.{file_format}', 'args_dremio_jdbc_user_prod': 'app/dremio/jdbc_prod_sa', 'args_dremio_url_prod': 'https://dremio-prod.services.global.avant.com', 'publish_eloan_bucket': 'avantcamp-partner02-prod-publish-bucket', 'transform_eloan_bucket': 'avantcamp-partner02-prod-transform-bucket', 'ingestion_eloan_bucket': 'avantcamp-partner02-prod-ingestion-bucket', 'args_dremio_vault_path_prod': 'user/devops/dremio/sa_prod_user', 'args_dremio_jdbc_url_prod': 'jdbc:dremio:direct=dremio-int-prod.services.global.avant.com:31010', 'livevox_td_collection_pre_final_target_data_path': 'livevox_td_collection/pre_final_target/{YYYY}/{MM}/{DD}/12121/{campaign_run_id}', 'livevox_td_collection_pre_final_target_file_name': 'livevox_td_collection_pre_final_target_12121_{campaign_run_id}_{date}.parquet', 'livevox_td_collection_live_final_target_data_path': 'livevox_td_collection/live_final_target/{YYYY}/{MM}/{DD}/12121/{campaign_run_id}', 'livevox_td_collection_live_final_target_file_name': 'livevox_td_collection_live_final_target_12121_{campaign_run_id}_{date}.parquet', 'livevox_td_collection_phone_number_target_data_path': 'livevox_td_collection/phone_number/{YYYY}/{MM}/{DD}/12121/{campaign_run_id}', 'livevox_td_collection_product_type_target_data_path': 'livevox_td_collection/product_type/{YYYY}/{MM}/{DD}/12121/{campaign_run_id}', 'final_transformed_data_to_livevox_first_run_file_name': 'final_transformed_data_to_livevox_first_run_12121_{campaign_run_id}_{date}.parquet', 'final_transformed_data_to_livevox_history_file_name': 'final_transformed_data_to_livevox_history_12121_{campaign_run_id}_{date}.parquet', 'final_transformed_data_to_livevox_sftp_loan_publish_file_name': 'td_loan.csv', 'final_transformed_data_to_livevox_sftp_pos_publish_file_name': 'td_pos.csv', 'final_transformed_data_to_livevox_sftp_publish_file_name': 'final_transformed_data_livevox_td_collection_live_12121_{campaign_run_id}_{date}.parquet', 'final_transformed_data_to_livevox_first_run_path': 'livevox_td_collection/final_transformed_data_to_livevox_first_run/{YYYY}/{MM}/{DD}/12121/{campaign_run_id}', 'sftp_control_file_publish_file_name': 'td_loan.csv.ctl', 'phone_number_data_path': 'livevox_collections/td_livevox_live_pn/{YYYY}/{MM}/{DD}/12121', 'customer_product_flags_data_path': 'livevox_collections/td_livevox_live_cpf/{YYYY}/{MM}/{DD}/12121', 'workflow_log_data_path': 'livevox_collections/td_livevox_live_wfl/{YYYY}/{MM}/{DD}/12121', 'send_control_file_flag': 'false', 'livevox_td_collection_batch_target_file_name': 'livevox_td_collection_batch_12121_{campaign_run_id}_{date}.parquet', 'td_livevox_live_cpf_ingest_from_dremio_file_name': 'td_livevox_batch_cpf_12121_{campaign_run_id}_{date}.parquet', 'td_livevox_live_cpf_ingest_from_dremio_path': 'livevox_collections/td_livevox_live_cpf/{YYYY}/{MM}/{DD}/12121/{campaign_run_id}', 'td_livevox_live_pn_ingest_from_dremio_file_name': 'td_livevox_live_pn_12121_{campaign_run_id}_{date}.parquet', 'td_livevox_live_pn_ingest_from_dremio_path': 'livevox_collections/td_livevox_live_pn/{YYYY}/{MM}/{DD}/12121/{campaign_run_id}', 'td_livevox_live_wfl_ingest_from_dremio_file_name': 'td_livevox_live_wfl_12121_{campaign_run_id}_{date}.parquet', 'td_livevox_live_wfl_ingest_from_dremio_path': 'livevox_collections/td_livevox_live_wfl/{YYYY}/{MM}/{DD}/12121/{campaign_run_id}', 'livevox_td_collection_product_type_target_file_name': 'livevox_td_collection_product_type_12121_{campaign_run_id}_{date}.parquet', 'livevox_td_collection_phone_number_target_file_name': 'livevox_td_collection_phone_number_12121_{campaign_run_id}_{date}.parquet', 'final_transformed_data_to_livevox_history_path': 'livevox_td_collection/final_transformed_data_to_livevox_history/{YYYY}/{MM}/{DD}/12121/{campaign_run_id}', 'livevox_td_first_run_prefix': 'td/livevox_td_collection/final_transformed_data_to_livevox_history/', 'final_transformed_data_to_livevox_sftp_loan_publish_path': 'livevox_td_collection/final_transformed_data_to_livevox_sftp_loan_publish/{YYYY}/{MM}/{DD}/12121/{campaign_run_id}', 'livevox_td_collection_batch_target_data_path': 'livevox_td_collection/batch_final_transformation/*', 'sftp_control_file_publish_pos_file_name': 'td_pos.csv.ctl', 'final_transformed_data_to_livevox_sftp_pos_publish_path': 'livevox_td_collection/final_transformed_data_to_livevox_sftp_pos_publish/{YYYY}/{MM}/{DD}/12121/{campaign_run_id}', 'td_dlds_raw_bucket': 'avantdlds-partner03-prod-raw-bucket', 'ingestion_td_bucket': 'avantcamp-partner03-prod-ingestion-bucket', 'td_dlds_transform_bucket': 'avantdlds-partner03-prod-transform-bucket', 'transform_td_bucket': 'avantcamp-partner03-prod-transform-bucket', 'sftp_publish_prefix': '/contactImport', 'dag_end_time': '17:00', 'campaign_batch_id': '12121', 'campaign_run_id': '9', 'dremio_data': {1: {'publish': [{'dremio_config_id': 167, 'campaign_type_config_id': 37, 'stage_id': 1, 'sequence': 2, 'module_config_type': 'publish', 're_create': '0.0', 'sql_type': 'custom', 'pds': 'avantcamp-partner03-{DREMIO_ENV}.avantcamp-partner03-{ENV}-transform-bucket.td.livevox_td_collection.final_transformed_data_to_livevox_history', 'intermediate_vds': 'td.{ENV}.intermediate.dw.dw_ops_live.td_livevox_collection_population', 'intermediate_vds_sql': 'select collection_population_uuid,published_account_id,published_address_1,published_address_2,published_city,published_first_name,published_last_name,published_customer_zipcode,published_customer_state,published_phone_1_number,published_phone_1_do_not_contact_flag,published_phone_1_sms_flag,published_phone_1_auto_dial_flag,published_phone_1_type,published_phone_2_number,published_phone_2_do_not_contact_flag,published_phone_2_sms_flag,published_phone_2_auto_dial_flag,published_phone_2_type,published_phone_3_number,published_phone_3_do_not_contact_flag,published_phone_3_sms_flag,published_phone_3_auto_dial_flag,published_phone_3_type,published_phone_4_number,published_phone_4_do_not_contact_flag,published_phone_4_sms_flag,published_phone_4_auto_dial_flag,published_phone_4_type,published_phone_5_number,published_phone_5_do_not_contact_flag,published_phone_5_sms_flag,published_phone_5_auto_dial_flag,published_phone_5_type,published_customer_email,published_email_consent_flag,published_partner,published_prd1_id,published_prd2_id,published_customer_id,published_prd1_days_late,published_prd2_days_late,published_do_not_contact_flag,published_do_not_contact_today_flag,published_prd2_charge_off_reason,published_prd1_charge_off_reason,published_audience_id,published_prd1_outstanding_balance,published_prd2_outstanding_balance,published_sms_consent_flag,published_prd2_status,published_prd1_status,published_prd1_financial_situation_review_eligible,published_prd2_financial_situation_review_eligible,published_prd1_payment_plan_structure,published_prd1_payment_plan_status,published_prd2_payment_plan_structure,published_prd2_payment_plan_status,published_do_not_contact_reasons,published_prd2_past_due_amount,published_prd1_past_due_amount,published_prd1_next_due_date,published_prd2_next_due_date,published_prd1_next_due_amount,published_prd2_next_due_amount,published_prd1_type,published_prd2_type,published_prd1_days_until_late_fee_due,published_prd2_days_until_late_fee_due,published_rpc_past_7_days_flag,publish_date,bad_email_flag,spanish_speaker_flag,days_into_disaster,disaster_zone_flag,collections_model_score,rpc_today_flag,escalate_to_legal_flag,escalate_to_compliance_flag,can_robocall_flag,do_not_email_flag,do_not_call_flag,do_not_sms_flag,bankruptcy_flag,fraud_confirmed_flag,person_deceased_flag,outstanding_fsr_flag,claimed_fraud_flag,on_soft_pause_flag,prd1_state,prd1_days_since_payment_returned,prd1_months_on_book,prd1_lateness_charge_off_flag,prd1_dmc_flag,prd1_on_active_payment_plan_flag,prd1_scra_flag,prd1_in_flight_payment_flag,prd1_in_flight_blind_flag,prd1_placed_with_agency_flag,prd1_measurement_date,prd2_state,prd2_days_since_payment_returned,prd2_months_on_book,prd2_lateness_charge_off_flag,prd2_dmc_flag,prd2_on_active_payment_plan_flag,prd2_scra_flag,prd2_in_flight_payment_flag,prd2_in_flight_blind_flag,prd2_placed_with_agency_flag,prd2_measurement_date,phone_1_primary_flag,phone_1_auto_dial_flag,phone_1_active_flag,phone_1_do_not_call_flag,phone_1_confirmed_mobile_flag,phone_1_neustar_score,phone_1_sms_consent_flag,phone_2_primary_flag,phone_2_auto_dial_flag,phone_2_active_flag,phone_2_do_not_call_flag,phone_2_confirmed_mobile_flag,phone_2_neustar_score,phone_2_sms_consent_flag,phone_3_primary_flag,phone_3_auto_dial_flag,phone_3_active_flag,phone_3_do_not_call_flag,phone_3_confirmed_mobile_flag,phone_3_neustar_score,phone_3_sms_consent_flag,phone_4_primary_flag,phone_4_auto_dial_flag,phone_4_active_flag,phone_4_do_not_call_flag,phone_4_confirmed_mobile_flag,phone_4_neustar_score,phone_4_sms_consent_flag,phone_5_primary_flag,phone_5_auto_dial_flag,phone_5_active_flag,phone_5_do_not_call_flag,phone_5_confirmed_mobile_flag,phone_5_neustar_score,phone_5_sms_consent_flag,do_not_call_zipcode_flag,prd1_is_payment_protection_applied_flag,prd2_is_payment_protection_applied_flag,tier_1_complaint_flag,campaign_batch_id,campaign_run_id,etl_ingestion_time,dir0,dir1,dir2,dir3,dir4,dir5 from \"avantcamp-partner03-prod\".\"avantcamp-partner03-{ENV}-transform-bucket\".td.livevox_td_collection.final_transformed_data_to_livevox_history where campaign_run_id = {campaign_run_id} and campaign_batch_id = {campaign_batch_id}', 'final_vds': 'td.{ENV}.dw.dw_ops_live.collection_population', 'final_vds_sql': '', 'created_by': 'avantadmin', 'created_date': '2023-05-23', 'is_active_flag': True}, {'dremio_config_id': 166, 'campaign_type_config_id': 37, 'stage_id': 1, 'sequence': 1, 'module_config_type': 'publish', 're_create': '0.0', 'sql_type': 'custom', 'pds': 'avantcamp-partner03-{DREMIO_ENV}.avantcamp-partner03-{ENV}-transform-bucket.td.livevox_td_collection.final_transformed_data_to_livevox_first_run', 'intermediate_vds': 'td.{ENV}.intermediate.dw.dw_ops.td_livevox_collection_population_by_day', 'intermediate_vds_sql': 'select collection_population_by_day_uuid,published_account_id,published_address_1,published_address_2,published_city,published_first_name,published_last_name,published_customer_zipcode,published_customer_state,published_phone_1_number,published_phone_1_do_not_contact_flag,published_phone_1_sms_flag,published_phone_1_auto_dial_flag,published_phone_1_type,published_phone_2_number,published_phone_2_do_not_contact_flag,published_phone_2_sms_flag,published_phone_2_auto_dial_flag,published_phone_2_type,published_phone_3_number,published_phone_3_do_not_contact_flag,published_phone_3_sms_flag,published_phone_3_auto_dial_flag,published_phone_3_type,published_phone_4_number,published_phone_4_do_not_contact_flag,published_phone_4_sms_flag,published_phone_4_auto_dial_flag,published_phone_4_type,published_phone_5_number,published_phone_5_do_not_contact_flag,published_phone_5_sms_flag,published_phone_5_auto_dial_flag,published_phone_5_type,published_customer_email,published_email_consent_flag,published_partner,published_prd1_id,published_prd2_id,published_customer_id,published_prd1_days_late,published_prd2_days_late,published_do_not_contact_flag,published_do_not_contact_today_flag,published_prd2_charge_off_reason,published_prd1_charge_off_reason,published_audience_id,published_prd1_outstanding_balance,published_prd2_outstanding_balance,published_sms_consent_flag,published_prd2_status,published_prd1_status,published_prd1_financial_situation_review_eligible,published_prd2_financial_situation_review_eligible,published_prd1_payment_plan_structure,published_prd1_payment_plan_status,published_prd2_payment_plan_structure,published_prd2_payment_plan_status,published_do_not_contact_reasons,published_prd2_past_due_amount,published_prd1_past_due_amount,published_prd1_next_due_date,published_prd2_next_due_date,published_prd1_next_due_amount,published_prd2_next_due_amount,published_prd1_type,published_prd2_type,published_prd1_days_until_late_fee_due,published_prd2_days_until_late_fee_due,published_rpc_past_7_days_flag,publish_date,bad_email_flag,spanish_speaker_flag,days_into_disaster,disaster_zone_flag,collections_model_score,rpc_today_flag,escalate_to_legal_flag,escalate_to_compliance_flag,can_robocall_flag,do_not_email_flag,do_not_call_flag,do_not_sms_flag,bankruptcy_flag,fraud_confirmed_flag,person_deceased_flag,outstanding_fsr_flag,claimed_fraud_flag,on_soft_pause_flag,prd1_state,prd1_days_since_payment_returned,prd1_months_on_book,prd1_lateness_charge_off_flag,prd1_dmc_flag,prd1_on_active_payment_plan_flag,prd1_scra_flag,prd1_in_flight_payment_flag,prd1_in_flight_blind_flag,prd1_placed_with_agency_flag,prd1_measurement_date,prd2_state,prd2_days_since_payment_returned,prd2_months_on_book,prd2_lateness_charge_off_flag,prd2_dmc_flag,prd2_on_active_payment_plan_flag,prd2_scra_flag,prd2_in_flight_payment_flag,prd2_in_flight_blind_flag,prd2_placed_with_agency_flag,prd2_measurement_date,phone_1_primary_flag,phone_1_auto_dial_flag,phone_1_active_flag,phone_1_do_not_call_flag,phone_1_confirmed_mobile_flag,phone_1_neustar_score,phone_1_sms_consent_flag,phone_2_primary_flag,phone_2_auto_dial_flag,phone_2_active_flag,phone_2_do_not_call_flag,phone_2_confirmed_mobile_flag,phone_2_neustar_score,phone_2_sms_consent_flag,phone_3_primary_flag,phone_3_auto_dial_flag,phone_3_active_flag,phone_3_do_not_call_flag,phone_3_confirmed_mobile_flag,phone_3_neustar_score,phone_3_sms_consent_flag,phone_4_primary_flag,phone_4_auto_dial_flag,phone_4_active_flag,phone_4_do_not_call_flag,phone_4_confirmed_mobile_flag,phone_4_neustar_score,phone_4_sms_consent_flag,phone_5_primary_flag,phone_5_auto_dial_flag,phone_5_active_flag,phone_5_do_not_call_flag,phone_5_confirmed_mobile_flag,phone_5_neustar_score,phone_5_sms_consent_flag,do_not_call_zipcode_flag,prd1_is_payment_protection_applied_flag,prd2_is_payment_protection_applied_flag,tier_1_complaint_flag,campaign_batch_id,campaign_run_id,etl_ingestion_time,dir0,dir1,dir2,dir3,dir4,dir5,cast(dir0 as int) as \"YEAR\", cast(dir1 as int) as \"MONTH\", cast(dir2 as int) as \"DAY\" from (select *, row_number() over (partition by collection_population_by_day_uuid order by campaign_batch_id desc, campaign_run_id desc) as row_count from \"avantcamp-partner03-{DREMIO_ENV}\".\"avantcamp-partner03-{ENV}-transform-bucket\".td.livevox_td_collection.final_transformed_data_to_livevox_first_run) where row_count = 1 order by dir1,dir2', 'final_vds': 'td.{ENV}.dw.dw_ops.collection_population_by_day', 'final_vds_sql': '', 'created_by': 'avantadmin', 'created_date': '2023-05-23', 'is_active_flag': True}]}}, 'from_date': '2025-02-02', 'to_date': '2025-02-03', 'current_date': '2025-02-03', 'common': {'args_dremio_vault_path_prod': 'user/devops/dremio/sa_prod_user', 'args_dremio_jdbc_url_prod': 'jdbc:dremio:direct=dremio-int-prod.services.global.avant.com:31010', 'args_dremio_jdbc_user_prod': 'app/dremio/jdbc_prod_sa', 'args_dremio_url_prod': 'https://dremio-prod.services.global.avant.com'}, '1': {'suppression': [{'target_path': 's3://avantcamp-partner03-prod-ingestion-bucket/td/livevox_collections/td_livevox_live_pn/{YYYY}/{MM}/{DD}/12121/{campaign_run_id}/td_livevox_live_pn_12121_{campaign_run_id}_{date}.parquet'}, {'target_path': 's3://avantcamp-partner03-prod-ingestion-bucket/td/livevox_collections/td_livevox_live_cpf/{YYYY}/{MM}/{DD}/12121/{campaign_run_id}/td_livevox_batch_cpf_12121_{campaign_run_id}_{date}.parquet'}, {'target_path': 's3://avantcamp-partner03-prod-ingestion-bucket/td/livevox_collections/td_livevox_live_wfl/{YYYY}/{MM}/{DD}/12121/{campaign_run_id}/td_livevox_live_wfl_12121_{campaign_run_id}_{date}.parquet'}], 'transformation': {'livevox_td_live_pre_transformation': {'phone_number_data_path': 's3://avantcamp-partner03-prod-ingestion-bucket/td/livevox_collections/td_livevox_live_pn/{YYYY}/{MM}/{DD}/12121/{campaign_run_id}/td_livevox_live_pn_12121_{campaign_run_id}_{date}.parquet', 'customer_product_flags_data_path': 's3://avantcamp-partner03-prod-ingestion-bucket/td/livevox_collections/td_livevox_live_cpf/{YYYY}/{MM}/{DD}/12121/{campaign_run_id}/td_livevox_batch_cpf_12121_{campaign_run_id}_{date}.parquet', 'workflow_log_data_path': 's3://avantcamp-partner03-prod-ingestion-bucket/td/livevox_collections/td_livevox_live_wfl/{YYYY}/{MM}/{DD}/12121/{campaign_run_id}/td_livevox_live_wfl_12121_{campaign_run_id}_{date}.parquet', 'live_product_type_data_path': 's3://avantcamp-partner03-prod-transform-bucket/td/livevox_td_collection/product_type/{YYYY}/{MM}/{DD}/12121/{campaign_run_id}/livevox_td_collection_product_type_12121_{campaign_run_id}_{date}.parquet', 'live_phone_number_data_path': 's3://avantcamp-partner03-prod-transform-bucket/td/livevox_td_collection/phone_number/{YYYY}/{MM}/{DD}/12121/{campaign_run_id}/livevox_td_collection_phone_number_12121_{campaign_run_id}_{date}.parquet', 'batch_final_data_path': 's3://avantcamp-partner03-prod-transform-bucket/td/livevox_td_collection/batch_final_transformation/*', 'final_join_pd_and_ph_data_path': 's3://avantcamp-partner03-prod-transform-bucket/td/livevox_td_collection/pre_final_target/{YYYY}/{MM}/{DD}/12121/{campaign_run_id}/livevox_td_collection_pre_final_target_12121_{campaign_run_id}_{date}.parquet'}, 'livevox_td_live_final_transformation': {'final_join_pd_and_ph_data_path': 's3://avantcamp-partner03-prod-transform-bucket/td/livevox_td_collection/pre_final_target/{YYYY}/{MM}/{DD}/12121/{campaign_run_id}/livevox_td_collection_pre_final_target_12121_{campaign_run_id}_{date}.parquet', 'final_target_path': 's3://avantcamp-partner03-prod-transform-bucket/td/livevox_td_collection/live_final_target/{YYYY}/{MM}/{DD}/12121/{campaign_run_id}/livevox_td_collection_live_final_target_12121_{campaign_run_id}_{date}.parquet', 'sftp_loan_target_path': 's3://avantcamp-partner03-prod-transform-bucket/td/livevox_td_collection/final_transformed_data_to_livevox_sftp_loan_publish/{YYYY}/{MM}/{DD}/12121/{campaign_run_id}/td_loan.csv', 'sftp_pos_target_path': 's3://avantcamp-partner03-prod-transform-bucket/td/livevox_td_collection/final_transformed_data_to_livevox_sftp_pos_publish/{YYYY}/{MM}/{DD}/12121/{campaign_run_id}/td_pos.csv', 'target_path_1': 's3://avantcamp-partner03-prod-transform-bucket/td/livevox_td_collection/final_transformed_data_to_livevox_history/{YYYY}/{MM}/{DD}/12121/{campaign_run_id}/final_transformed_data_to_livevox_history_12121_{campaign_run_id}_{date}.parquet', 'target_path_2': 's3://avantcamp-partner03-prod-transform-bucket/td/livevox_td_collection/final_transformed_data_to_livevox_first_run/{YYYY}/{MM}/{DD}/12121/{campaign_run_id}/final_transformed_data_to_livevox_first_run_12121_{campaign_run_id}_{date}.parquet'}}, 'publish': {'sftp_publish_loan': [{'source_prefix': 'td/livevox_td_collection/final_transformed_data_to_livevox_sftp_loan_publish/{YYYY}/{MM}/{DD}/12121/{campaign_run_id}', 'source_bucket': 'avantcamp-partner03-prod-transform-bucket', 'data_file_name': 'td_loan.csv', 'control_file_name': 'td_loan.csv.ctl', 'send_control_file_flag': 'false'}], 'sftp_publish_pos': [{'source_prefix': 'td/livevox_td_collection/final_transformed_data_to_livevox_sftp_pos_publish/{YYYY}/{MM}/{DD}/12121/{campaign_run_id}', 'source_bucket': 'avantcamp-partner03-prod-transform-bucket', 'data_file_name': 'td_pos.csv', 'control_file_name': 'td_pos.csv.ctl', 'send_control_file_flag': 'false'}]}}, 'campaign_config': {'campaign_driver_id': 3840, 'campaign_type_config_id': 37, 'module_config_type_id': 37, 'module_config_type': 'campaign_type_config', 'stage_id': 1, 'sequence_number': 1, 'created_by': 'avantadmin', 'created_date': '2023-05-23', 'is_active_flag': True, 'config': {'campaign_type_config_id': 37, 'name': 'LiveVox TD Collection Live', 'description': 'LiveVox TD Collection Live Transformation', 'created_by': 'avantadmin', 'created_date': '2023-05-23', 'is_active_flag': True}, 'campaign_config_jsonb': {'1': {'approval_config': [{'campaign_driver_id': 3838, 'module_config_type_id': 69, 'module_config_type': 'approval_config', 'stage_id': 1, 'sequence_number': 1, 'created_by': 'avantadmin', 'created_date': '2023-03-15', 'is_active_flag': True, 'config': {'approval_config_id': 69, 'email_address': 'data-ops-pod@avant.com', 'role': 'pipeline_alert', 'alert_type': 'notification', 'created_by': 'avantadmin', 'created_date': '2023-03-15', 'is_active_flag': True, 'description': 'OPS Email List'}}, {'campaign_driver_id': 3839, 'module_config_type_id': 70, 'module_config_type': 'approval_config', 'stage_id': 1, 'sequence_number': 1, 'created_by': 'avantadmin', 'created_date': '2023-03-15', 'is_active_flag': True, 'config': {'approval_config_id': 70, 'email_address': 'data-ops-pod@avant.com', 'role': 'pipeline_alert', 'alert_type': 'error_alert', 'created_by': 'avantadmin', 'created_date': '2023-03-15', 'is_active_flag': True, 'description': 'OPS Email List'}}], 'campaign_type_config': {'campaign_driver_id': 3840, 'campaign_type_config_id': 37, 'module_config_type_id': 37, 'module_config_type': 'campaign_type_config', 'stage_id': 1, 'sequence_number': 1, 'created_by': 'avantadmin', 'created_date': '2023-05-23', 'is_active_flag': True, 'config': {'campaign_type_config_id': 37, 'name': 'LiveVox TD Collection Live', 'description': 'LiveVox TD Collection Live Transformation', 'created_by': 'avantadmin', 'created_date': '2023-05-23', 'is_active_flag': True}}, 'publish_config': [{'campaign_driver_id': 3841, 'module_config_type_id': 101, 'module_config_type': 'publish_config', 'stage_id': 1, 'sequence_number': 1, 'created_by': 'avantadmin', 'created_date': '2023-09-29', 'is_active_flag': True, 'config': {'publish_config_id': 101, 'publish_type': 'sftp', 'publish_path': '/ftpIn', 'secret_path': 'app/livevox/prod,app/landing_zone_encryption/livevox_publish', 'file_format_type': 'csv', 'encrypt': '1', 'created_by': 'avantadmin', 'created_date': '2023-09-29', 'is_active_flag': True, 'description': 'LivevoxTDCollectionPopulation'}}], 'selection_group_config': [{'campaign_driver_id': 3842, 'module_config_type_id': 1201, 'module_config_type': 'selection_group_config', 'stage_id': 1, 'sequence_number': 2, 'created_by': 'avantadmin', 'created_date': '2023-05-23', 'is_active_flag': True, 'description': 'LiveVox TD Live Phone Number', 'credit_policy': '', 'product_cd': '', 'inquiry_code': '', 'selection_group_type': 'suppression', 'parent_selection_group_config_id': None, 'config': [{'selection_group_rule_config_id': 3024, 'selection_group_config_id': 1201, 'sequence_number': 1, 'selection_criteria_type': 'suppression', 'rule_type': 'custom', 'rule_condition': 'custom', 'description': 'LiveVox TD Live Phone Number', 'rule_value_type': 'custom', 'attribute_name': 'custom', 'attribute_id': '', 'sql_query': 'select * from td.prod.dw.dw_ops_live.phone_number', 'rule_value': 'select * from td.prod.dw.dw_ops_live.phone_number', 'created_by': 'avantadmin', 'created_date': '2023-05-23', 'is_active_flag': True, 'config': 'select * from td.prod.dw.dw_ops_live.phone_number'}]}, {'campaign_driver_id': 3843, 'module_config_type_id': 1202, 'module_config_type': 'selection_group_config', 'stage_id': 1, 'sequence_number': 3, 'created_by': 'avantadmin', 'created_date': '2023-05-23', 'is_active_flag': True, 'description': 'LiveVox TD Live Customer Product Flags', 'credit_policy': '', 'product_cd': '', 'inquiry_code': '', 'selection_group_type': 'suppression', 'parent_selection_group_config_id': None, 'config': [{'selection_group_rule_config_id': 3025, 'selection_group_config_id': 1202, 'sequence_number': 1, 'selection_criteria_type': 'suppression', 'rule_type': 'custom', 'rule_condition': 'custom', 'description': 'LiveVox TD Live Customer Product Flags', 'rule_value_type': 'custom', 'attribute_name': 'custom', 'attribute_id': '', 'sql_query': 'select * from td.prod.dw.dw_ops_live.customer_product_flags', 'rule_value': 'select * from td.prod.dw.dw_ops_live.customer_product_flags', 'created_by': 'avantadmin', 'created_date': '2023-05-23', 'is_active_flag': True, 'config': 'select * from td.prod.dw.dw_ops_live.customer_product_flags'}]}, {'campaign_driver_id': 3844, 'module_config_type_id': 1203, 'module_config_type': 'selection_group_config', 'stage_id': 1, 'sequence_number': 4, 'created_by': 'avantadmin', 'created_date': '2023-05-23', 'is_active_flag': True, 'description': 'LiveVox TD Live Workflow Log', 'credit_policy': '', 'product_cd': '', 'inquiry_code': '', 'selection_group_type': 'suppression', 'parent_selection_group_config_id': None, 'config': [{'selection_group_rule_config_id': 3026, 'selection_group_config_id': 1203, 'sequence_number': 1, 'selection_criteria_type': 'suppression', 'rule_type': 'custom', 'rule_condition': 'custom', 'description': 'LiveVox TD Live Workflow Log', 'rule_value_type': 'custom', 'attribute_name': 'custom', 'attribute_id': '', 'sql_query': 'select * from td.prod.dw.dw_ops_live.workflow_log', 'rule_value': 'select * from td.prod.dw.dw_ops_live.workflow_log', 'created_by': 'avantadmin', 'created_date': '2023-05-23', 'is_active_flag': True, 'config': 'select * from td.prod.dw.dw_ops_live.workflow_log'}]}, {'campaign_driver_id': 3845, 'module_config_type_id': 1204, 'module_config_type': 'selection_group_config', 'stage_id': 1, 'sequence_number': 5, 'created_by': 'avantadmin', 'created_date': '2023-05-23', 'is_active_flag': True, 'description': 'LiveVox TD Live Final Transfomations', 'credit_policy': '', 'product_cd': '', 'inquiry_code': '', 'selection_group_type': 'eligibility', 'parent_selection_group_config_id': None, 'eligibility_config': [{'selection_group_rule_config_id': 3035, 'selection_group_config_id': 1204, 'sequence_number': 1, 'selection_criteria_type': 'eligibility', 'rule_type': 'custom', 'rule_condition': 'custom', 'description': 'published_phone_5_do_not_contact_flag', 'rule_value_type': 'custom', 'attribute_name': 'published_phone_5_do_not_contact_flag', 'attribute_id': '', 'sql_query': 'NOT phone_5_active_flag \\nOR phone_5_do_not_call_flag \\nOR NOT (phone_5_auto_dial_flag AND can_robocall_flag)', 'rule_value': 'NOT phone_5_active_flag \\nOR phone_5_do_not_call_flag \\nOR NOT (phone_5_auto_dial_flag AND can_robocall_flag)', 'created_by': 'avantadmin', 'created_date': '2023-05-23', 'is_active_flag': True, 'config': 'select * from {0} where NOT phone_5_active_flag \\nOR phone_5_do_not_call_flag \\nOR NOT (phone_5_auto_dial_flag AND can_robocall_flag)'}, {'selection_group_rule_config_id': 3036, 'selection_group_config_id': 1204, 'sequence_number': 1, 'selection_criteria_type': 'eligibility', 'rule_type': 'custom', 'rule_condition': 'custom', 'description': 'published_phone_4_auto_dial_flag', 'rule_value_type': 'custom', 'attribute_name': 'published_phone_4_auto_dial_flag', 'attribute_id': '', 'sql_query': 'phone_4_auto_dial_flag \\nAND (phone_4_neustar_score >= 7)\\nAND can_robocall_flag', 'rule_value': 'phone_4_auto_dial_flag \\nAND (phone_4_neustar_score >= 7)\\nAND can_robocall_flag', 'created_by': 'avantadmin', 'created_date': '2023-05-23', 'is_active_flag': True, 'config': 'select * from {0} where phone_4_auto_dial_flag \\nAND (phone_4_neustar_score >= 7)\\nAND can_robocall_flag'}, {'selection_group_rule_config_id': 3037, 'selection_group_config_id': 1204, 'sequence_number': 1, 'selection_criteria_type': 'eligibility', 'rule_type': 'custom', 'rule_condition': 'custom', 'description': 'published_phone_4_sms_flag', 'rule_value_type': 'custom', 'attribute_name': 'published_phone_4_sms_flag', 'attribute_id': '', 'sql_query': 'phone_4_active_flag \\nAND phone_4_confirmed_mobile_flag\\nAND phone_4_sms_consent_flag\\nAND (phone_4_neustar_score >= 70)\\nAND NOT phone_4_do_not_call_flag', 'rule_value': 'phone_4_active_flag \\nAND phone_4_confirmed_mobile_flag\\nAND phone_4_sms_consent_flag\\nAND (phone_4_neustar_score >= 70)\\nAND NOT phone_4_do_not_call_flag', 'created_by': 'avantadmin', 'created_date': '2023-05-23', 'is_active_flag': True, 'config': 'select * from {0} where phone_4_active_flag \\nAND phone_4_confirmed_mobile_flag\\nAND phone_4_sms_consent_flag\\nAND (phone_4_neustar_score >= 70)\\nAND NOT phone_4_do_not_call_flag'}, {'selection_group_rule_config_id': 3038, 'selection_group_config_id': 1204, 'sequence_number': 1, 'selection_criteria_type': 'eligibility', 'rule_type': 'custom', 'rule_condition': 'custom', 'description': 'published_phone_4_do_not_contact_flag', 'rule_value_type': 'custom', 'attribute_name': 'published_phone_4_do_not_contact_flag', 'attribute_id': '', 'sql_query': 'NOT phone_4_active_flag \\nOR phone_4_do_not_call_flag \\nOR NOT (phone_4_auto_dial_flag AND can_robocall_flag)', 'rule_value': 'NOT phone_4_active_flag \\nOR phone_4_do_not_call_flag \\nOR NOT (phone_4_auto_dial_flag AND can_robocall_flag)', 'created_by': 'avantadmin', 'created_date': '2023-05-23', 'is_active_flag': True, 'config': 'select * from {0} where NOT phone_4_active_flag \\nOR phone_4_do_not_call_flag \\nOR NOT (phone_4_auto_dial_flag AND can_robocall_flag)'}, {'selection_group_rule_config_id': 3039, 'selection_group_config_id': 1204, 'sequence_number': 1, 'selection_criteria_type': 'eligibility', 'rule_type': 'custom', 'rule_condition': 'custom', 'description': 'published_phone_3_auto_dial_flag', 'rule_value_type': 'custom', 'attribute_name': 'published_phone_3_auto_dial_flag', 'attribute_id': '', 'sql_query': 'phone_3_auto_dial_flag \\nAND (phone_3_neustar_score >= 7)\\nAND can_robocall_flag', 'rule_value': 'phone_3_auto_dial_flag \\nAND (phone_3_neustar_score >= 7)\\nAND can_robocall_flag', 'created_by': 'avantadmin', 'created_date': '2023-05-23', 'is_active_flag': True, 'config': 'select * from {0} where phone_3_auto_dial_flag \\nAND (phone_3_neustar_score >= 7)\\nAND can_robocall_flag'}, {'selection_group_rule_config_id': 3040, 'selection_group_config_id': 1204, 'sequence_number': 1, 'selection_criteria_type': 'eligibility', 'rule_type': 'custom', 'rule_condition': 'custom', 'description': 'published_phone_3_sms_flag', 'rule_value_type': 'custom', 'attribute_name': 'published_phone_3_sms_flag', 'attribute_id': '', 'sql_query': 'phone_3_active_flag \\nAND phone_3_confirmed_mobile_flag\\nAND phone_3_sms_consent_flag\\nAND (phone_3_neustar_score >= 70)\\nAND NOT phone_3_do_not_call_flag', 'rule_value': 'phone_3_active_flag \\nAND phone_3_confirmed_mobile_flag\\nAND phone_3_sms_consent_flag\\nAND (phone_3_neustar_score >= 70)\\nAND NOT phone_3_do_not_call_flag', 'created_by': 'avantadmin', 'created_date': '2023-05-23', 'is_active_flag': True, 'config': 'select * from {0} where phone_3_active_flag \\nAND phone_3_confirmed_mobile_flag\\nAND phone_3_sms_consent_flag\\nAND (phone_3_neustar_score >= 70)\\nAND NOT phone_3_do_not_call_flag'}, {'selection_group_rule_config_id': 3041, 'selection_group_config_id': 1204, 'sequence_number': 1, 'selection_criteria_type': 'eligibility', 'rule_type': 'custom', 'rule_condition': 'custom', 'description': 'published_phone_3_do_not_contact_flag', 'rule_value_type': 'custom', 'attribute_name': 'published_phone_3_do_not_contact_flag', 'attribute_id': '', 'sql_query': 'NOT phone_3_active_flag \\nOR phone_3_do_not_call_flag \\nOR NOT (phone_3_auto_dial_flag AND can_robocall_flag)', 'rule_value': 'NOT phone_3_active_flag \\nOR phone_3_do_not_call_flag \\nOR NOT (phone_3_auto_dial_flag AND can_robocall_flag)', 'created_by': 'avantadmin', 'created_date': '2023-05-23', 'is_active_flag': True, 'config': 'select * from {0} where NOT phone_3_active_flag \\nOR phone_3_do_not_call_flag \\nOR NOT (phone_3_auto_dial_flag AND can_robocall_flag)'}, {'selection_group_rule_config_id': 3043, 'selection_group_config_id': 1204, 'sequence_number': 1, 'selection_criteria_type': 'eligibility', 'rule_type': 'custom', 'rule_condition': 'custom', 'description': 'published_phone_2_sms_flag', 'rule_value_type': 'custom', 'attribute_name': 'published_phone_2_sms_flag', 'attribute_id': '', 'sql_query': 'phone_2_active_flag \\nAND phone_2_confirmed_mobile_flag\\nAND phone_2_sms_consent_flag\\nAND (phone_2_neustar_score >= 70)\\nAND NOT phone_2_do_not_call_flag', 'rule_value': 'phone_2_active_flag \\nAND phone_2_confirmed_mobile_flag\\nAND phone_2_sms_consent_flag\\nAND (phone_2_neustar_score >= 70)\\nAND NOT phone_2_do_not_call_flag', 'created_by': 'avantadmin', 'created_date': '2023-05-23', 'is_active_flag': True, 'config': 'select * from {0} where phone_2_active_flag \\nAND phone_2_confirmed_mobile_flag\\nAND phone_2_sms_consent_flag\\nAND (phone_2_neustar_score >= 70)\\nAND NOT phone_2_do_not_call_flag'}, {'selection_group_rule_config_id': 3044, 'selection_group_config_id': 1204, 'sequence_number': 1, 'selection_criteria_type': 'eligibility', 'rule_type': 'custom', 'rule_condition': 'custom', 'description': 'published_phone_2_do_not_contact_flag', 'rule_value_type': 'custom', 'attribute_name': 'published_phone_2_do_not_contact_flag', 'attribute_id': '', 'sql_query': 'NOT phone_2_active_flag \\nOR phone_2_do_not_call_flag \\nOR NOT (phone_2_auto_dial_flag AND can_robocall_flag)', 'rule_value': 'NOT phone_2_active_flag \\nOR phone_2_do_not_call_flag \\nOR NOT (phone_2_auto_dial_flag AND can_robocall_flag)', 'created_by': 'avantadmin', 'created_date': '2023-05-23', 'is_active_flag': True, 'config': 'select * from {0} where NOT phone_2_active_flag \\nOR phone_2_do_not_call_flag \\nOR NOT (phone_2_auto_dial_flag AND can_robocall_flag)'}, {'selection_group_rule_config_id': 3045, 'selection_group_config_id': 1204, 'sequence_number': 1, 'selection_criteria_type': 'eligibility', 'rule_type': 'custom', 'rule_condition': 'custom', 'description': 'published_phone_1_auto_dial_flag', 'rule_value_type': 'custom', 'attribute_name': 'published_phone_1_auto_dial_flag', 'attribute_id': '', 'sql_query': 'phone_1_auto_dial_flag \\nAND (phone_1_neustar_score >= 7)\\nAND can_robocall_flag', 'rule_value': 'phone_1_auto_dial_flag \\nAND (phone_1_neustar_score >= 7)\\nAND can_robocall_flag', 'created_by': 'avantadmin', 'created_date': '2023-05-23', 'is_active_flag': True, 'config': 'select * from {0} where phone_1_auto_dial_flag \\nAND (phone_1_neustar_score >= 7)\\nAND can_robocall_flag'}, {'selection_group_rule_config_id': 3046, 'selection_group_config_id': 1204, 'sequence_number': 1, 'selection_criteria_type': 'eligibility', 'rule_type': 'custom', 'rule_condition': 'custom', 'description': 'published_phone_1_sms_flag', 'rule_value_type': 'custom', 'attribute_name': 'published_phone_1_sms_flag', 'attribute_id': '', 'sql_query': 'phone_1_active_flag \\nAND phone_1_confirmed_mobile_flag\\nAND phone_1_sms_consent_flag\\nAND (phone_1_neustar_score >= 70)\\nAND NOT phone_1_do_not_call_flag', 'rule_value': 'phone_1_active_flag \\nAND phone_1_confirmed_mobile_flag\\nAND phone_1_sms_consent_flag\\nAND (phone_1_neustar_score >= 70)\\nAND NOT phone_1_do_not_call_flag', 'created_by': 'avantadmin', 'created_date': '2023-05-23', 'is_active_flag': True, 'config': 'select * from {0} where phone_1_active_flag \\nAND phone_1_confirmed_mobile_flag\\nAND phone_1_sms_consent_flag\\nAND (phone_1_neustar_score >= 70)\\nAND NOT phone_1_do_not_call_flag'}, {'selection_group_rule_config_id': 3047, 'selection_group_config_id': 1204, 'sequence_number': 1, 'selection_criteria_type': 'eligibility', 'rule_type': 'custom', 'rule_condition': 'custom', 'description': 'published_phone_1_do_not_contact_flag', 'rule_value_type': 'custom', 'attribute_name': 'published_phone_1_do_not_contact_flag', 'attribute_id': '', 'sql_query': '(NOT phone_1_active_flag \\nOR phone_1_do_not_call_flag \\nOR NOT (phone_1_auto_dial_flag AND can_robocall_flag))', 'rule_value': '(NOT phone_1_active_flag \\nOR phone_1_do_not_call_flag \\nOR NOT (phone_1_auto_dial_flag AND can_robocall_flag))', 'created_by': 'avantadmin', 'created_date': '2023-05-23', 'is_active_flag': True, 'config': 'select * from {0} where (NOT phone_1_active_flag \\nOR phone_1_do_not_call_flag \\nOR NOT (phone_1_auto_dial_flag AND can_robocall_flag))'}, {'selection_group_rule_config_id': 3029, 'selection_group_config_id': 1204, 'sequence_number': 1, 'selection_criteria_type': 'eligibility', 'rule_type': 'custom', 'rule_condition': 'custom', 'description': 'published_sms_consent_flag', 'rule_value_type': 'custom', 'attribute_name': 'published_sms_consent_flag', 'attribute_id': '', 'sql_query': \"NOT do_not_sms_flag\\nand NOT do_not_call_flag\\nand NOT bankruptcy_flag\\nand NOT customer_state == 'DC'\\nand NOT claimed_fraud_flag\\nand NOT person_deceased_flag\\nand NOT (disaster_zone_flag AND days_into_disaster <= 14)\\nand NOT dmc_flag\\nand NOT escalate_to_compliance_flag\\nand NOT escalate_to_legal_flag\\nand NOT tier_1_complaint_flag\", 'rule_value': \"NOT do_not_sms_flag\\nand NOT do_not_call_flag\\nand NOT bankruptcy_flag\\nand NOT customer_state == 'DC'\\nand NOT claimed_fraud_flag\\nand NOT person_deceased_flag\\nand NOT (disaster_zone_flag AND days_into_disaster <= 14)\\nand NOT dmc_flag\\nand NOT escalate_to_compliance_flag\\nand NOT escalate_to_legal_flag\\nand NOT tier_1_complaint_flag\", 'created_by': 'avantadmin', 'created_date': '2023-05-23', 'is_active_flag': True, 'config': \"select * from {0} where NOT do_not_sms_flag\\nand NOT do_not_call_flag\\nand NOT bankruptcy_flag\\nand NOT customer_state == 'DC'\\nand NOT claimed_fraud_flag\\nand NOT person_deceased_flag\\nand NOT (disaster_zone_flag AND days_into_disaster <= 14)\\nand NOT dmc_flag\\nand NOT escalate_to_compliance_flag\\nand NOT escalate_to_legal_flag\\nand NOT tier_1_complaint_flag\"}, {'selection_group_rule_config_id': 3031, 'selection_group_config_id': 1204, 'sequence_number': 1, 'selection_criteria_type': 'eligibility', 'rule_type': 'custom', 'rule_condition': 'custom', 'description': 'published_do_not_contact_flag', 'rule_value_type': 'custom', 'attribute_name': 'published_do_not_contact_flag', 'attribute_id': '', 'sql_query': \"bankruptcy_flag\\nOR customer_state == 'DC'\\nOR claimed_fraud_flag\\nOR fraud_confirmed_flag\\nOR person_deceased_flag\\nOR (disaster_zone_flag AND days_into_disaster <= 14)\\nOR dmc_flag\\nOR do_not_call_flag\\nOR escalate_to_compliance_flag\\nOR escalate_to_legal_flag\\nOR tier_1_complaint_flag\\nOR spanish_speaker_flag\\nOR do_not_call_zipcode_flag\", 'rule_value': \"bankruptcy_flag\\nOR customer_state == 'DC'\\nOR claimed_fraud_flag\\nOR fraud_confirmed_flag\\nOR person_deceased_flag\\nOR (disaster_zone_flag AND days_into_disaster <= 14)\\nOR dmc_flag\\nOR do_not_call_flag\\nOR escalate_to_compliance_flag\\nOR escalate_to_legal_flag\\nOR tier_1_complaint_flag\\nOR spanish_speaker_flag\\nOR do_not_call_zipcode_flag\", 'created_by': 'avantadmin', 'created_date': '2023-05-23', 'is_active_flag': True, 'config': \"select * from {0} where bankruptcy_flag\\nOR customer_state == 'DC'\\nOR claimed_fraud_flag\\nOR fraud_confirmed_flag\\nOR person_deceased_flag\\nOR (disaster_zone_flag AND days_into_disaster <= 14)\\nOR dmc_flag\\nOR do_not_call_flag\\nOR escalate_to_compliance_flag\\nOR escalate_to_legal_flag\\nOR tier_1_complaint_flag\\nOR spanish_speaker_flag\\nOR do_not_call_zipcode_flag\"}, {'selection_group_rule_config_id': 3042, 'selection_group_config_id': 1204, 'sequence_number': 1, 'selection_criteria_type': 'eligibility', 'rule_type': 'custom', 'rule_condition': 'custom', 'description': 'published_phone_2_auto_dial_flag', 'rule_value_type': 'custom', 'attribute_name': 'published_phone_2_auto_dial_flag', 'attribute_id': '', 'sql_query': 'phone_2_auto_dial_flag \\nAND (phone_2_neustar_score >= 7)\\nAND can_robocall_flag', 'rule_value': 'phone_2_auto_dial_flag \\nAND (phone_2_neustar_score >= 7)\\nAND can_robocall_flag', 'created_by': 'avantadmin', 'created_date': '2023-05-23', 'is_active_flag': True, 'config': 'select * from {0} where phone_2_auto_dial_flag \\nAND (phone_2_neustar_score >= 7)\\nAND can_robocall_flag'}, {'selection_group_rule_config_id': 3027, 'selection_group_config_id': 1204, 'sequence_number': 1, 'selection_criteria_type': 'eligibility', 'rule_type': 'custom', 'rule_condition': 'custom', 'description': 'published_prd2_financial_situation_review_eligible', 'rule_value_type': 'custom', 'attribute_name': 'published_prd2_financial_situation_review_eligible', 'attribute_id': '', 'sql_query': 'NOT outstanding_fsr_flag\\nand prd2_months_on_book > 6', 'rule_value': 'NOT outstanding_fsr_flag\\nand prd2_months_on_book > 6', 'created_by': 'avantadmin', 'created_date': '2023-05-23', 'is_active_flag': True, 'config': 'select * from {0} where NOT outstanding_fsr_flag\\nand prd2_months_on_book > 6'}, {'selection_group_rule_config_id': 3028, 'selection_group_config_id': 1204, 'sequence_number': 1, 'selection_criteria_type': 'eligibility', 'rule_type': 'custom', 'rule_condition': 'custom', 'description': 'published_prd1_financial_situation_review_eligible', 'rule_value_type': 'custom', 'attribute_name': 'published_prd1_financial_situation_review_eligible', 'attribute_id': '', 'sql_query': 'NOT outstanding_fsr_flag\\nand prd1_months_on_book > 6', 'rule_value': 'NOT outstanding_fsr_flag\\nand prd1_months_on_book > 6', 'created_by': 'avantadmin', 'created_date': '2023-05-23', 'is_active_flag': True, 'config': 'select * from {0} where NOT outstanding_fsr_flag\\nand prd1_months_on_book > 6'}, {'selection_group_rule_config_id': 3030, 'selection_group_config_id': 1204, 'sequence_number': 1, 'selection_criteria_type': 'eligibility', 'rule_type': 'custom', 'rule_condition': 'custom', 'description': 'published_do_not_contact_today_flag', 'rule_value_type': 'custom', 'attribute_name': 'published_do_not_contact_today_flag', 'attribute_id': '', 'sql_query': 'in_flight_payment_flag\\nOR is_payment_protection_applied_flag\\nOR in_flight_blind_flag\\nOR on_active_payment_plan_flag\\nOR placed_with_agency_flag\\nOR scra_flag\\nOR on_soft_pause_flag\\nOR disaster_zone_flag\\nOR rpc_today_flag', 'rule_value': 'in_flight_payment_flag\\nOR is_payment_protection_applied_flag\\nOR in_flight_blind_flag\\nOR on_active_payment_plan_flag\\nOR placed_with_agency_flag\\nOR scra_flag\\nOR on_soft_pause_flag\\nOR disaster_zone_flag\\nOR rpc_today_flag', 'created_by': 'avantadmin', 'created_date': '2023-05-23', 'is_active_flag': True, 'config': 'select * from {0} where in_flight_payment_flag\\nOR is_payment_protection_applied_flag\\nOR in_flight_blind_flag\\nOR on_active_payment_plan_flag\\nOR placed_with_agency_flag\\nOR scra_flag\\nOR on_soft_pause_flag\\nOR disaster_zone_flag\\nOR rpc_today_flag'}, {'selection_group_rule_config_id': 3032, 'selection_group_config_id': 1204, 'sequence_number': 1, 'selection_criteria_type': 'eligibility', 'rule_type': 'custom', 'rule_condition': 'custom', 'description': 'published_email_consent_flag', 'rule_value_type': 'custom', 'attribute_name': 'published_email_consent_flag', 'attribute_id': '', 'sql_query': \"NOT bad_email_flag\\nand NOT bankruptcy_flag\\nand NOT customer_state == 'DC'\\nand NOT claimed_fraud_flag\\nand NOT fraud_confirmed_flag\\nand NOT person_deceased_flag\\nand NOT disaster_zone_flag\\nand NOT dmc_flag\\nand NOT do_not_call_flag\\nand NOT escalate_to_compliance_flag\\nand NOT escalate_to_legal_flag\\nand NOT tier_1_complaint_flag\\nand NOT do_not_call_zipcode_flag\", 'rule_value': \"NOT bad_email_flag\\nand NOT bankruptcy_flag\\nand NOT customer_state == 'DC'\\nand NOT claimed_fraud_flag\\nand NOT fraud_confirmed_flag\\nand NOT person_deceased_flag\\nand NOT disaster_zone_flag\\nand NOT dmc_flag\\nand NOT do_not_call_flag\\nand NOT escalate_to_compliance_flag\\nand NOT escalate_to_legal_flag\\nand NOT tier_1_complaint_flag\\nand NOT do_not_call_zipcode_flag\", 'created_by': 'avantadmin', 'created_date': '2023-05-23', 'is_active_flag': True, 'config': \"select * from {0} where NOT bad_email_flag\\nand NOT bankruptcy_flag\\nand NOT customer_state == 'DC'\\nand NOT claimed_fraud_flag\\nand NOT fraud_confirmed_flag\\nand NOT person_deceased_flag\\nand NOT disaster_zone_flag\\nand NOT dmc_flag\\nand NOT do_not_call_flag\\nand NOT escalate_to_compliance_flag\\nand NOT escalate_to_legal_flag\\nand NOT tier_1_complaint_flag\\nand NOT do_not_call_zipcode_flag\"}, {'selection_group_rule_config_id': 3033, 'selection_group_config_id': 1204, 'sequence_number': 1, 'selection_criteria_type': 'eligibility', 'rule_type': 'custom', 'rule_condition': 'custom', 'description': 'published_phone_5_auto_dial_flag', 'rule_value_type': 'custom', 'attribute_name': 'published_phone_5_auto_dial_flag', 'attribute_id': '', 'sql_query': 'phone_5_auto_dial_flag \\nAND (phone_5_neustar_score >= 7)\\nAND can_robocall_flag', 'rule_value': 'phone_5_auto_dial_flag \\nAND (phone_5_neustar_score >= 7)\\nAND can_robocall_flag', 'created_by': 'avantadmin', 'created_date': '2023-05-23', 'is_active_flag': True, 'config': 'select * from {0} where phone_5_auto_dial_flag \\nAND (phone_5_neustar_score >= 7)\\nAND can_robocall_flag'}, {'selection_group_rule_config_id': 3034, 'selection_group_config_id': 1204, 'sequence_number': 1, 'selection_criteria_type': 'eligibility', 'rule_type': 'custom', 'rule_condition': 'custom', 'description': 'published_phone_5_sms_flag', 'rule_value_type': 'custom', 'attribute_name': 'published_phone_5_sms_flag', 'attribute_id': '', 'sql_query': 'phone_5_active_flag \\nAND phone_5_confirmed_mobile_flag\\nAND phone_5_sms_consent_flag\\nAND (phone_5_neustar_score >= 70)\\nAND NOT phone_5_do_not_call_flag', 'rule_value': 'phone_5_active_flag \\nAND phone_5_confirmed_mobile_flag\\nAND phone_5_sms_consent_flag\\nAND (phone_5_neustar_score >= 70)\\nAND NOT phone_5_do_not_call_flag', 'created_by': 'avantadmin', 'created_date': '2023-05-23', 'is_active_flag': True, 'config': 'select * from {0} where phone_5_active_flag \\nAND phone_5_confirmed_mobile_flag\\nAND phone_5_sms_consent_flag\\nAND (phone_5_neustar_score >= 70)\\nAND NOT phone_5_do_not_call_flag'}], 'eligibility_config_id': [1204]}]}}, 'campaign_name': 'livevox_td_collection_live_february_2025', 'campaign_config_s3_path': 'None', 'campaign_deployment_log_id': 2318, 'name': 'LiveVox TD Collection Live', 'table_name': 'campaign_config.campaign_driver_config', 'campaign_driver_config_id': 40975}, 'campaign_driver_config_id': 40975, 'module_config_type': 'livevox_td_collection_live_product_transformation', 'transformation_type': None, 'campaign_component_run_id': 320491}\n"
   ]
  },
  {
   "cell_type": "code",
   "execution_count": 12,
   "metadata": {},
   "outputs": [
    {
     "data": {
      "application/vnd.jupyter.widget-view+json": {
       "model_id": "",
       "version_major": 2,
       "version_minor": 0
      },
      "text/plain": [
       "FloatProgress(value=0.0, bar_style='info', description='Progress:', layout=Layout(height='25px', width='50%'),…"
      ]
     },
     "metadata": {},
     "output_type": "display_data"
    }
   ],
   "source": [
    "from pyspark.sql.types import LongType\n",
    "import pyspark.sql.functions as f\n",
    "\n",
    "module_type = 'livevox_td_live_pre_transformation'\n",
    "\n",
    "audit_args = args  # noqa: F821\n",
    "stage_id = audit_args['stage_id']\n",
    "campaign_config = a['campaign_config']['campaign_config_jsonb']  # noqa: F821\n",
    "s3_details = audit_args[stage_id]\n",
    "batch_id = audit_args['campaign_batch_id']\n",
    "run_id = audit_args['campaign_run_id']\n",
    "\n",
    "customer_product_flags_data_path = 's3://avantcamp-partner03-prod-ingestion-bucket/td/livevox_collections/td_livevox_live_cpf/{YYYY}/{MM}/{DD}/12121/{campaign_run_id}/td_livevox_batch_cpf_12121_{campaign_run_id}_{date}.parquet'.format(**todays_args)\n",
    "\n",
    "workflow_log_data_path =  's3://avantcamp-partner03-prod-ingestion-bucket/td/livevox_collections/td_livevox_live_wfl/{YYYY}/{MM}/{DD}/12121/{campaign_run_id}/td_livevox_live_wfl_12121_{campaign_run_id}_{date}.parquet'.format(**todays_args)\n",
    "\n",
    "batch_final_data_path = 's3://avantcamp-partner03-prod-transform-bucket/td/livevox_td_collection/batch_final_transformation/*'.format(**audit_args)\n",
    "\n",
    "final_product_type_target_path =  's3://avantcamp-partner03-prod-transform-bucket/td/livevox_td_collection/product_type/{YYYY}/{MM}/{DD}/12121/{campaign_run_id}/livevox_td_collection_product_type_12121_{campaign_run_id}_{date}.parquet'.format(**audit_args)\n",
    "\n",
    "batch_df = spark.read.option(\"header\", True).parquet(batch_final_data_path)  # noqa: F821\n",
    "\n",
    "customer_product_logs_df = spark.read.option(\"header\", True).parquet(customer_product_flags_data_path)  # noqa: F821\n",
    "\n",
    "workflow_log_temp_df = spark.read.option(\"header\", True).parquet(workflow_log_data_path)  # noqa: F821\n",
    "\n",
    "workflow_log_temp_df = workflow_log_temp_df.withColumn('rpc_today_flag', f.when((f.col('step_exit') == 'end_success') & (f.col('type') == 'customer.secure_call') & (f.col('product_type') == 'Loan'), f.lit(True)).otherwise(f.lit(False))).drop('campaign_batch_id','campaign_run_id','etl_ingestion_time')\n",
    "\n",
    "workflow_log_df = workflow_log_temp_df.select(f.col('id'),f.col('rpc_today_flag'),f.col('customer_id').cast(LongType())).distinct()\n",
    "\n",
    "# adding campagin batch id and run id to batch_df\n",
    "batch_df = batch_df.withColumn('campaign_batch_id',f.lit(batch_id))\\\n",
    "                    .withColumn('campaign_run_id',f.lit(run_id))\n",
    "\n",
    "# customer_product_flags join with batch_df on customer_id\n",
    "\n",
    "batch_customer_product_combined_df = batch_df.join(customer_product_logs_df, ['customer_id'], how = 'left').drop(customer_product_logs_df.campaign_batch_id).drop(customer_product_logs_df.campaign_run_id).drop(customer_product_logs_df.etl_ingestion_time)\n",
    "\n",
    "df_temp = batch_customer_product_combined_df.groupBy(\"customer_id\").pivot(\"product_type\", [\"installment\",\"point_of_sale\"]).\\\n",
    "agg(f.first(\"product_id\"), f.first(\"product_status\"),f.first(\"loan_id\"),f.first(\"as_of_date\"),f.first(\"product_state\"),\\\n",
    "   f.first(\"outstanding_balance\"),f.first(\"next_payment_due_amount\"),f.first(\"next_payment_due_date\"),f.first(\"past_due_amount\"),\\\n",
    "   f.first(\"age_of_book\"),f.first(\"days_late\"),f.first(\"operations_charge_off_reason\"),f.first(\"lateness_charge_off_flag\"),\\\n",
    "   f.first(\"dmc_flag\"),f.first(\"in_flight_payment_flag\"),f.first(\"in_flight_blind_flag\"),\\\n",
    "   f.first(\"on_active_payment_plan_flag\"),f.first(\"placed_with_agency_flag\"),f.first(\"scra_flag\"),f.first(\"days_since_payment_returned\"),\\\n",
    "   f.first(\"days_until_late_fee_due\"), f.first(\"product_type\"))\n",
    "df_cols = df_temp.columns[1:]\n",
    "for each_col in df_cols:\n",
    "    colName=each_col.split(\"(\")[1].split(\",\")[0]\n",
    "    if each_col.startswith(\"installment_first\"):\n",
    "        df_temp = df_temp.withColumnRenamed(each_col,f\"prd1_{colName}\")\n",
    "    else:\n",
    "        df_temp = df_temp.withColumnRenamed(each_col,f\"prd2_{colName}\")\n",
    "\n",
    "new_df1_join = df_temp.join(batch_customer_product_combined_df, ['customer_id'], how = 'left')\n",
    "\n",
    "final_product_df = new_df1_join.join(workflow_log_df, ['customer_id'], how = 'left')\n",
    "\n",
    "#final_product_df = final_product_temp_df.dropDuplicates()\n",
    "\n",
    "final_product_df.write.mode('overwrite').parquet(final_product_type_target_path)"
   ]
  },
  {
   "cell_type": "code",
   "execution_count": 39,
   "metadata": {},
   "outputs": [
    {
     "data": {
      "application/vnd.jupyter.widget-view+json": {
       "model_id": "",
       "version_major": 2,
       "version_minor": 0
      },
      "text/plain": [
       "FloatProgress(value=0.0, bar_style='info', description='Progress:', layout=Layout(height='25px', width='50%'),…"
      ]
     },
     "metadata": {},
     "output_type": "display_data"
    },
    {
     "name": "stdout",
     "output_type": "stream",
     "text": [
      "+----------+\n",
      "|as_of_date|\n",
      "+----------+\n",
      "|2025-02-02|\n",
      "|2025-02-02|\n",
      "|2025-02-02|\n",
      "|2025-02-02|\n",
      "|2025-02-02|\n",
      "+----------+\n",
      "only showing top 5 rows"
     ]
    }
   ],
   "source": [
    "batch_customer_product_combined_df.select('as_of_date').show(5)"
   ]
  },
  {
   "cell_type": "code",
   "execution_count": 63,
   "metadata": {},
   "outputs": [
    {
     "data": {
      "application/vnd.jupyter.widget-view+json": {
       "model_id": "",
       "version_major": 2,
       "version_minor": 0
      },
      "text/plain": [
       "FloatProgress(value=0.0, bar_style='info', description='Progress:', layout=Layout(height='25px', width='50%'),…"
      ]
     },
     "metadata": {},
     "output_type": "display_data"
    },
    {
     "name": "stdout",
     "output_type": "stream",
     "text": [
      "{'campaign_driver_id': 3827, 'campaign_type_config_id': 36, 'module_config_type_id': 36, 'module_config_type': 'campaign_type_config', 'stage_id': 1, 'sequence_number': 1, 'created_by': 'avantadmin', 'created_date': '2023-05-23', 'is_active_flag': True, 'config': {'campaign_type_config_id': 36, 'name': 'LiveVox TD Collection', 'description': ' LiveVox TD Collection Batch Transformation', 'created_by': 'avantadmin', 'created_date': '2023-05-23', 'is_active_flag': True}, 'campaign_config_jsonb': {'1': {'campaign_type_config': {'campaign_driver_id': 3827, 'campaign_type_config_id': 36, 'module_config_type_id': 36, 'module_config_type': 'campaign_type_config', 'stage_id': 1, 'sequence_number': 1, 'created_by': 'avantadmin', 'created_date': '2023-05-23', 'is_active_flag': True, 'config': {'campaign_type_config_id': 36, 'name': 'LiveVox TD Collection', 'description': ' LiveVox TD Collection Batch Transformation', 'created_by': 'avantadmin', 'created_date': '2023-05-23', 'is_active_flag': True}}, 'approval_config': [{'campaign_driver_id': 3828, 'module_config_type_id': 69, 'module_config_type': 'approval_config', 'stage_id': 1, 'sequence_number': 1, 'created_by': 'avantadmin', 'created_date': '2023-03-15', 'is_active_flag': True, 'config': {'approval_config_id': 69, 'email_address': 'data-ops-pod@avant.com', 'role': 'pipeline_alert', 'alert_type': 'notification', 'created_by': 'avantadmin', 'created_date': '2023-03-15', 'is_active_flag': True, 'description': 'OPS Email List'}}, {'campaign_driver_id': 3829, 'module_config_type_id': 70, 'module_config_type': 'approval_config', 'stage_id': 1, 'sequence_number': 1, 'created_by': 'avantadmin', 'created_date': '2023-03-15', 'is_active_flag': True, 'config': {'approval_config_id': 70, 'email_address': 'data-ops-pod@avant.com', 'role': 'pipeline_alert', 'alert_type': 'error_alert', 'created_by': 'avantadmin', 'created_date': '2023-03-15', 'is_active_flag': True, 'description': 'OPS Email List'}}], 'selection_group_config': [{'campaign_driver_id': 3830, 'module_config_type_id': 1193, 'module_config_type': 'selection_group_config', 'stage_id': 1, 'sequence_number': 1, 'created_by': 'avantadmin', 'created_date': '2023-05-23', 'is_active_flag': True, 'description': 'Livevox TD batch-loan_customer_application', 'credit_policy': '', 'product_cd': '', 'inquiry_code': '', 'selection_group_type': 'suppression', 'parent_selection_group_config_id': None, 'config': [{'selection_group_rule_config_id': 3016, 'selection_group_config_id': 1193, 'sequence_number': 1, 'selection_criteria_type': 'suppression', 'rule_type': 'custom', 'rule_condition': 'custom', 'description': 'Livevox TD Batch loan customer application', 'rule_value_type': 'custom', 'attribute_name': 'custom', 'attribute_id': '', 'sql_query': 'select customer_id,loan_id,customer_uuid,loan_uuid,product_type,loan_status,created_time from td.prod.dw.dw_orig.loan_customer_application where loan_id is not null', 'rule_value': 'select customer_id,loan_id,customer_uuid,loan_uuid,product_type,loan_status,created_time from td.prod.dw.dw_orig.loan_customer_application where loan_id is not null', 'created_by': 'avantadmin', 'created_date': '2023-05-23', 'is_active_flag': True, 'config': 'select customer_id,loan_id,customer_uuid,loan_uuid,product_type,loan_status,created_time from td.prod.dw.dw_orig.loan_customer_application where loan_id is not null'}]}, {'campaign_driver_id': 3831, 'module_config_type_id': 1194, 'module_config_type': 'selection_group_config', 'stage_id': 1, 'sequence_number': 2, 'created_by': 'avantadmin', 'created_date': '2023-05-23', 'is_active_flag': True, 'description': 'Livevox TD batch-loan-by-day', 'credit_policy': '', 'product_cd': '', 'inquiry_code': '', 'selection_group_type': 'suppression', 'parent_selection_group_config_id': None, 'config': [{'selection_group_rule_config_id': 3017, 'selection_group_config_id': 1194, 'sequence_number': 1, 'selection_criteria_type': 'suppression', 'rule_type': 'custom', 'rule_condition': 'custom', 'description': 'Livevox TD Batch loan by day', 'rule_value_type': 'custom', 'attribute_name': 'custom', 'attribute_id': '', 'sql_query': \"select customer_application_id,loan_id,loan_uuid,product_type,status,measurement_date,next_payment_due_date,days_late,operations_charge_off_reason,principal_balance,late_fees_balance,nsf_fees_balance,origination_date,paid_off_date,treasury_charge_off_date,unearned_cash_balance,settlement_status,interest_balance from td.prod.dl.amount.loan_by_day.loan_by_day where status in ('late', 'current','applied','approved','authorized') and loan_id is not null and measurement_date = date_diff(current_date(), 1)\", 'rule_value': \"select customer_application_id,loan_id,loan_uuid,product_type,status,measurement_date,next_payment_due_date,days_late,operations_charge_off_reason,principal_balance,late_fees_balance,nsf_fees_balance,origination_date,paid_off_date,treasury_charge_off_date,unearned_cash_balance,settlement_status,interest_balance from td.prod.dl.amount.loan_by_day.loan_by_day where status in ('late', 'current','applied','approved','authorized') and loan_id is not null and measurement_date = date_diff(current_date(), 1)\", 'created_by': 'avantadmin', 'created_date': '2023-05-23', 'is_active_flag': True, 'config': \"select customer_application_id,loan_id,loan_uuid,product_type,status,measurement_date,next_payment_due_date,days_late,operations_charge_off_reason,principal_balance,late_fees_balance,nsf_fees_balance,origination_date,paid_off_date,treasury_charge_off_date,unearned_cash_balance,settlement_status,interest_balance from td.prod.dl.amount.loan_by_day.loan_by_day where status in ('late', 'current','applied','approved','authorized') and loan_id is not null and measurement_date = date_diff(current_date(), 1)\"}]}, {'campaign_driver_id': 3832, 'module_config_type_id': 1195, 'module_config_type': 'selection_group_config', 'stage_id': 1, 'sequence_number': 3, 'created_by': 'avantadmin', 'created_date': '2023-05-23', 'is_active_flag': True, 'description': 'LiveVox-TD-batch-customer', 'credit_policy': '', 'product_cd': '', 'inquiry_code': '', 'selection_group_type': 'suppression', 'parent_selection_group_config_id': None, 'config': [{'selection_group_rule_config_id': 3018, 'selection_group_config_id': 1195, 'sequence_number': 1, 'selection_criteria_type': 'suppression', 'rule_type': 'custom', 'rule_condition': 'custom', 'description': 'Livevox TD Batch customer', 'rule_value_type': 'custom', 'attribute_name': 'custom', 'attribute_id': '', 'sql_query': 'select id,email,bad_email from td.prod.dl.amount.customer.customer', 'rule_value': 'select id,email,bad_email from td.prod.dl.amount.customer.customer', 'created_by': 'avantadmin', 'created_date': '2023-05-23', 'is_active_flag': True, 'config': 'select id,email,bad_email from td.prod.dl.amount.customer.customer'}]}, {'campaign_driver_id': 3833, 'module_config_type_id': 1196, 'module_config_type': 'selection_group_config', 'stage_id': 1, 'sequence_number': 4, 'created_by': 'avantadmin', 'created_date': '2023-05-23', 'is_active_flag': True, 'description': 'LiveVox-TD-batch-complaint', 'credit_policy': '', 'product_cd': '', 'inquiry_code': '', 'selection_group_type': 'suppression', 'parent_selection_group_config_id': None, 'config': [{'selection_group_rule_config_id': 3019, 'selection_group_config_id': 1196, 'sequence_number': 1, 'selection_criteria_type': 'suppression', 'rule_type': 'custom', 'rule_condition': 'custom', 'description': 'Livevox TD Batch complaint', 'rule_value_type': 'custom', 'attribute_name': 'custom', 'attribute_id': '', 'sql_query': 'select * from td.prod.dw.dw_ops.complaint', 'rule_value': 'select * from td.prod.dw.dw_ops.complaint', 'created_by': 'avantadmin', 'created_date': '2023-05-23', 'is_active_flag': True, 'config': 'select * from td.prod.dw.dw_ops.complaint'}]}, {'campaign_driver_id': 3834, 'module_config_type_id': 1197, 'module_config_type': 'selection_group_config', 'stage_id': 1, 'sequence_number': 5, 'created_by': 'avantadmin', 'created_date': '2023-05-23', 'is_active_flag': True, 'description': 'LiveVox-TD-batch-complaint_resolution', 'credit_policy': '', 'product_cd': '', 'inquiry_code': '', 'selection_group_type': 'suppression', 'parent_selection_group_config_id': None, 'config': [{'selection_group_rule_config_id': 3020, 'selection_group_config_id': 1197, 'sequence_number': 1, 'selection_criteria_type': 'suppression', 'rule_type': 'custom', 'rule_condition': 'custom', 'description': 'Livevox TD Batch complaint resolution', 'rule_value_type': 'custom', 'attribute_name': 'custom', 'attribute_id': '', 'sql_query': 'select * from td.prod.dw.dw_ops.complaint_resolution', 'rule_value': 'select * from td.prod.dw.dw_ops.complaint_resolution', 'created_by': 'avantadmin', 'created_date': '2023-05-23', 'is_active_flag': True, 'config': 'select * from td.prod.dw.dw_ops.complaint_resolution'}]}, {'campaign_driver_id': 3835, 'module_config_type_id': 1198, 'module_config_type': 'selection_group_config', 'stage_id': 1, 'sequence_number': 6, 'created_by': 'avantadmin', 'created_date': '2023-05-23', 'is_active_flag': True, 'description': 'LiveVox-TD-batch-workflow_session_type', 'credit_policy': '', 'product_cd': '', 'inquiry_code': '', 'selection_group_type': 'suppression', 'parent_selection_group_config_id': None, 'config': [{'selection_group_rule_config_id': 3021, 'selection_group_config_id': 1198, 'sequence_number': 1, 'selection_criteria_type': 'suppression', 'rule_type': 'custom', 'rule_condition': 'custom', 'description': 'Livevox TD Batch workflow session type', 'rule_value_type': 'custom', 'attribute_name': 'custom', 'attribute_id': '', 'sql_query': 'select customer_id,product_id,created_time,last_step_exit,type,product_type from td.prod.dw.dw_ops.workflow_session_type', 'rule_value': 'select customer_id,product_id,created_time,last_step_exit,type,product_type from td.prod.dw.dw_ops.workflow_session_type', 'created_by': 'avantadmin', 'created_date': '2023-05-23', 'is_active_flag': True, 'config': 'select customer_id,product_id,created_time,last_step_exit,type,product_type from td.prod.dw.dw_ops.workflow_session_type'}]}, {'campaign_driver_id': 3836, 'module_config_type_id': 1199, 'module_config_type': 'selection_group_config', 'stage_id': 1, 'sequence_number': 7, 'created_by': 'avantadmin', 'created_date': '2023-05-23', 'is_active_flag': True, 'description': 'LiveVox-TD-batch-collection_log', 'credit_policy': '', 'product_cd': '', 'inquiry_code': '', 'selection_group_type': 'suppression', 'parent_selection_group_config_id': None, 'config': [{'selection_group_rule_config_id': 3022, 'selection_group_config_id': 1199, 'sequence_number': 1, 'selection_criteria_type': 'suppression', 'rule_type': 'custom', 'rule_condition': 'custom', 'description': 'Livevox TD collection log', 'rule_value_type': 'custom', 'attribute_name': 'custom', 'attribute_id': '', 'sql_query': 'select * from td.prod.dw.dw_serv.collection_log', 'rule_value': 'select * from td.prod.dw.dw_serv.collection_log', 'created_by': 'avantadmin', 'created_date': '2023-05-23', 'is_active_flag': True, 'config': 'select * from td.prod.dw.dw_serv.collection_log'}]}, {'campaign_driver_id': 3837, 'module_config_type_id': 1200, 'module_config_type': 'selection_group_config', 'stage_id': 1, 'sequence_number': 8, 'created_by': 'avantadmin', 'created_date': '2023-05-23', 'is_active_flag': True, 'description': 'LiveVox-TD-batch-loan_payments', 'credit_policy': '', 'product_cd': '', 'inquiry_code': '', 'selection_group_type': 'suppression', 'parent_selection_group_config_id': None, 'config': [{'selection_group_rule_config_id': 3023, 'selection_group_config_id': 1200, 'sequence_number': 1, 'selection_criteria_type': 'suppression', 'rule_type': 'custom', 'rule_condition': 'custom', 'description': 'Livevox TD Batch loan payments', 'rule_value_type': 'custom', 'attribute_name': 'custom', 'attribute_id': '', 'sql_query': 'select * from td.prod.dw.dw_serv.loan_payment', 'rule_value': 'select * from td.prod.dw.dw_serv.loan_payment', 'created_by': 'avantadmin', 'created_date': '2023-05-23', 'is_active_flag': True, 'config': 'select * from td.prod.dw.dw_serv.loan_payment'}]}]}}, 'campaign_name': 'livevox_td_collection_january_2025', 'campaign_config_s3_path': 'None', 'campaign_deployment_log_id': 2318, 'name': 'LiveVox TD Collection', 'table_name': 'campaign_config.campaign_driver_config', 'campaign_driver_config_id': 40827}"
     ]
    }
   ],
   "source": [
    "a['campaign_config']"
   ]
  },
  {
   "cell_type": "code",
   "execution_count": 65,
   "metadata": {
    "scrolled": true
   },
   "outputs": [
    {
     "data": {
      "application/vnd.jupyter.widget-view+json": {
       "model_id": "f70891b00135454e892be903b89582e3",
       "version_major": 2,
       "version_minor": 0
      },
      "text/plain": [
       "FloatProgress(value=0.0, bar_style='info', description='Progress:', layout=Layout(height='25px', width='50%'),…"
      ]
     },
     "metadata": {},
     "output_type": "display_data"
    },
    {
     "ename": "KeyboardInterrupt",
     "evalue": "",
     "output_type": "error",
     "traceback": [
      "\u001b[0;31m---------------------------------------------------------------------------\u001b[0m",
      "\u001b[0;31mKeyboardInterrupt\u001b[0m                         Traceback (most recent call last)",
      "\u001b[0;32m<ipython-input-65-38078a5201f4>\u001b[0m in \u001b[0;36m<module>\u001b[0;34m\u001b[0m\n\u001b[0;32m----> 1\u001b[0;31m \u001b[0mget_ipython\u001b[0m\u001b[0;34m(\u001b[0m\u001b[0;34m)\u001b[0m\u001b[0;34m.\u001b[0m\u001b[0mrun_cell_magic\u001b[0m\u001b[0;34m(\u001b[0m\u001b[0;34m'spark'\u001b[0m\u001b[0;34m,\u001b[0m \u001b[0;34m''\u001b[0m\u001b[0;34m,\u001b[0m \u001b[0;34m\"jdbc_obj = SparkModules(args, a['campaign_config'])  # noqa: F821\\njdbc_obj.suppression_list()\\n# LoggingHelper.logging_helper(\\n#     component_type='campaign_component',\\n#     db_func_type='update',\\n#     audit_args=args,  # noqa: F821\\n#     config_args=a['campaign_config'],  # noqa: F821\\n#     code_state=3\\n# )\\n\"\u001b[0m\u001b[0;34m)\u001b[0m\u001b[0;34m\u001b[0m\u001b[0;34m\u001b[0m\u001b[0m\n\u001b[0m",
      "\u001b[0;32m/opt/conda/lib/python3.7/site-packages/IPython/core/interactiveshell.py\u001b[0m in \u001b[0;36mrun_cell_magic\u001b[0;34m(self, magic_name, line, cell)\u001b[0m\n\u001b[1;32m   2360\u001b[0m             \u001b[0;32mwith\u001b[0m \u001b[0mself\u001b[0m\u001b[0;34m.\u001b[0m\u001b[0mbuiltin_trap\u001b[0m\u001b[0;34m:\u001b[0m\u001b[0;34m\u001b[0m\u001b[0;34m\u001b[0m\u001b[0m\n\u001b[1;32m   2361\u001b[0m                 \u001b[0margs\u001b[0m \u001b[0;34m=\u001b[0m \u001b[0;34m(\u001b[0m\u001b[0mmagic_arg_s\u001b[0m\u001b[0;34m,\u001b[0m \u001b[0mcell\u001b[0m\u001b[0;34m)\u001b[0m\u001b[0;34m\u001b[0m\u001b[0;34m\u001b[0m\u001b[0m\n\u001b[0;32m-> 2362\u001b[0;31m                 \u001b[0mresult\u001b[0m \u001b[0;34m=\u001b[0m \u001b[0mfn\u001b[0m\u001b[0;34m(\u001b[0m\u001b[0;34m*\u001b[0m\u001b[0margs\u001b[0m\u001b[0;34m,\u001b[0m \u001b[0;34m**\u001b[0m\u001b[0mkwargs\u001b[0m\u001b[0;34m)\u001b[0m\u001b[0;34m\u001b[0m\u001b[0;34m\u001b[0m\u001b[0m\n\u001b[0m\u001b[1;32m   2363\u001b[0m             \u001b[0;32mreturn\u001b[0m \u001b[0mresult\u001b[0m\u001b[0;34m\u001b[0m\u001b[0;34m\u001b[0m\u001b[0m\n\u001b[1;32m   2364\u001b[0m \u001b[0;34m\u001b[0m\u001b[0m\n",
      "\u001b[0;32m<decorator-gen-125>\u001b[0m in \u001b[0;36mspark\u001b[0;34m(self, *args, **kwargs)\u001b[0m\n",
      "\u001b[0;32m/opt/conda/lib/python3.7/site-packages/IPython/core/magic.py\u001b[0m in \u001b[0;36m<lambda>\u001b[0;34m(f, *a, **k)\u001b[0m\n\u001b[1;32m    185\u001b[0m     \u001b[0;31m# but it's overkill for just that one bit of state.\u001b[0m\u001b[0;34m\u001b[0m\u001b[0;34m\u001b[0m\u001b[0;34m\u001b[0m\u001b[0m\n\u001b[1;32m    186\u001b[0m     \u001b[0;32mdef\u001b[0m \u001b[0mmagic_deco\u001b[0m\u001b[0;34m(\u001b[0m\u001b[0marg\u001b[0m\u001b[0;34m)\u001b[0m\u001b[0;34m:\u001b[0m\u001b[0;34m\u001b[0m\u001b[0;34m\u001b[0m\u001b[0m\n\u001b[0;32m--> 187\u001b[0;31m         \u001b[0mcall\u001b[0m \u001b[0;34m=\u001b[0m \u001b[0;32mlambda\u001b[0m \u001b[0mf\u001b[0m\u001b[0;34m,\u001b[0m \u001b[0;34m*\u001b[0m\u001b[0ma\u001b[0m\u001b[0;34m,\u001b[0m \u001b[0;34m**\u001b[0m\u001b[0mk\u001b[0m\u001b[0;34m:\u001b[0m \u001b[0mf\u001b[0m\u001b[0;34m(\u001b[0m\u001b[0;34m*\u001b[0m\u001b[0ma\u001b[0m\u001b[0;34m,\u001b[0m \u001b[0;34m**\u001b[0m\u001b[0mk\u001b[0m\u001b[0;34m)\u001b[0m\u001b[0;34m\u001b[0m\u001b[0;34m\u001b[0m\u001b[0m\n\u001b[0m\u001b[1;32m    188\u001b[0m \u001b[0;34m\u001b[0m\u001b[0m\n\u001b[1;32m    189\u001b[0m         \u001b[0;32mif\u001b[0m \u001b[0mcallable\u001b[0m\u001b[0;34m(\u001b[0m\u001b[0marg\u001b[0m\u001b[0;34m)\u001b[0m\u001b[0;34m:\u001b[0m\u001b[0;34m\u001b[0m\u001b[0;34m\u001b[0m\u001b[0m\n",
      "\u001b[0;32m/opt/conda/lib/python3.7/site-packages/sparkmagic/livyclientlib/exceptions.py\u001b[0m in \u001b[0;36mwrapped\u001b[0;34m(self, *args, **kwargs)\u001b[0m\n\u001b[1;32m    105\u001b[0m     \u001b[0;32mdef\u001b[0m \u001b[0mwrapped\u001b[0m\u001b[0;34m(\u001b[0m\u001b[0mself\u001b[0m\u001b[0;34m,\u001b[0m \u001b[0;34m*\u001b[0m\u001b[0margs\u001b[0m\u001b[0;34m,\u001b[0m \u001b[0;34m**\u001b[0m\u001b[0mkwargs\u001b[0m\u001b[0;34m)\u001b[0m\u001b[0;34m:\u001b[0m\u001b[0;34m\u001b[0m\u001b[0;34m\u001b[0m\u001b[0m\n\u001b[1;32m    106\u001b[0m         \u001b[0;32mtry\u001b[0m\u001b[0;34m:\u001b[0m\u001b[0;34m\u001b[0m\u001b[0;34m\u001b[0m\u001b[0m\n\u001b[0;32m--> 107\u001b[0;31m             \u001b[0mout\u001b[0m \u001b[0;34m=\u001b[0m \u001b[0mf\u001b[0m\u001b[0;34m(\u001b[0m\u001b[0mself\u001b[0m\u001b[0;34m,\u001b[0m \u001b[0;34m*\u001b[0m\u001b[0margs\u001b[0m\u001b[0;34m,\u001b[0m \u001b[0;34m**\u001b[0m\u001b[0mkwargs\u001b[0m\u001b[0;34m)\u001b[0m\u001b[0;34m\u001b[0m\u001b[0;34m\u001b[0m\u001b[0m\n\u001b[0m\u001b[1;32m    108\u001b[0m         \u001b[0;32mexcept\u001b[0m \u001b[0mException\u001b[0m \u001b[0;32mas\u001b[0m \u001b[0merr\u001b[0m\u001b[0;34m:\u001b[0m\u001b[0;34m\u001b[0m\u001b[0;34m\u001b[0m\u001b[0m\n\u001b[1;32m    109\u001b[0m             \u001b[0;32mif\u001b[0m \u001b[0mconf\u001b[0m\u001b[0;34m.\u001b[0m\u001b[0mall_errors_are_fatal\u001b[0m\u001b[0;34m(\u001b[0m\u001b[0;34m)\u001b[0m\u001b[0;34m:\u001b[0m\u001b[0;34m\u001b[0m\u001b[0;34m\u001b[0m\u001b[0m\n",
      "\u001b[0;32m/opt/conda/lib/python3.7/site-packages/sparkmagic/livyclientlib/exceptions.py\u001b[0m in \u001b[0;36mwrapped\u001b[0;34m(self, *args, **kwargs)\u001b[0m\n\u001b[1;32m     72\u001b[0m     \u001b[0;32mdef\u001b[0m \u001b[0mwrapped\u001b[0m\u001b[0;34m(\u001b[0m\u001b[0mself\u001b[0m\u001b[0;34m,\u001b[0m \u001b[0;34m*\u001b[0m\u001b[0margs\u001b[0m\u001b[0;34m,\u001b[0m \u001b[0;34m**\u001b[0m\u001b[0mkwargs\u001b[0m\u001b[0;34m)\u001b[0m\u001b[0;34m:\u001b[0m\u001b[0;34m\u001b[0m\u001b[0;34m\u001b[0m\u001b[0m\n\u001b[1;32m     73\u001b[0m         \u001b[0;32mtry\u001b[0m\u001b[0;34m:\u001b[0m\u001b[0;34m\u001b[0m\u001b[0;34m\u001b[0m\u001b[0m\n\u001b[0;32m---> 74\u001b[0;31m             \u001b[0mout\u001b[0m \u001b[0;34m=\u001b[0m \u001b[0mf\u001b[0m\u001b[0;34m(\u001b[0m\u001b[0mself\u001b[0m\u001b[0;34m,\u001b[0m \u001b[0;34m*\u001b[0m\u001b[0margs\u001b[0m\u001b[0;34m,\u001b[0m \u001b[0;34m**\u001b[0m\u001b[0mkwargs\u001b[0m\u001b[0;34m)\u001b[0m\u001b[0;34m\u001b[0m\u001b[0;34m\u001b[0m\u001b[0m\n\u001b[0m\u001b[1;32m     75\u001b[0m         \u001b[0;32mexcept\u001b[0m \u001b[0mexceptions_to_handle\u001b[0m \u001b[0;32mas\u001b[0m \u001b[0merr\u001b[0m\u001b[0;34m:\u001b[0m\u001b[0;34m\u001b[0m\u001b[0;34m\u001b[0m\u001b[0m\n\u001b[1;32m     76\u001b[0m             \u001b[0;32mif\u001b[0m \u001b[0mconf\u001b[0m\u001b[0;34m.\u001b[0m\u001b[0mall_errors_are_fatal\u001b[0m\u001b[0;34m(\u001b[0m\u001b[0;34m)\u001b[0m\u001b[0;34m:\u001b[0m\u001b[0;34m\u001b[0m\u001b[0;34m\u001b[0m\u001b[0m\n",
      "\u001b[0;32m/opt/conda/lib/python3.7/site-packages/sparkmagic/kernels/kernelmagics.py\u001b[0m in \u001b[0;36mspark\u001b[0;34m(self, line, cell, local_ns)\u001b[0m\n\u001b[1;32m    263\u001b[0m             \u001b[0mcoerce\u001b[0m \u001b[0;34m=\u001b[0m \u001b[0mget_coerce_value\u001b[0m\u001b[0;34m(\u001b[0m\u001b[0margs\u001b[0m\u001b[0;34m.\u001b[0m\u001b[0mcoerce\u001b[0m\u001b[0;34m)\u001b[0m\u001b[0;34m\u001b[0m\u001b[0;34m\u001b[0m\u001b[0m\n\u001b[1;32m    264\u001b[0m \u001b[0;34m\u001b[0m\u001b[0m\n\u001b[0;32m--> 265\u001b[0;31m             \u001b[0mself\u001b[0m\u001b[0;34m.\u001b[0m\u001b[0mexecute_spark\u001b[0m\u001b[0;34m(\u001b[0m\u001b[0mcell\u001b[0m\u001b[0;34m,\u001b[0m \u001b[0margs\u001b[0m\u001b[0;34m.\u001b[0m\u001b[0moutput\u001b[0m\u001b[0;34m,\u001b[0m \u001b[0margs\u001b[0m\u001b[0;34m.\u001b[0m\u001b[0msamplemethod\u001b[0m\u001b[0;34m,\u001b[0m \u001b[0margs\u001b[0m\u001b[0;34m.\u001b[0m\u001b[0mmaxrows\u001b[0m\u001b[0;34m,\u001b[0m \u001b[0margs\u001b[0m\u001b[0;34m.\u001b[0m\u001b[0msamplefraction\u001b[0m\u001b[0;34m,\u001b[0m \u001b[0;32mNone\u001b[0m\u001b[0;34m,\u001b[0m \u001b[0mcoerce\u001b[0m\u001b[0;34m)\u001b[0m\u001b[0;34m\u001b[0m\u001b[0;34m\u001b[0m\u001b[0m\n\u001b[0m\u001b[1;32m    266\u001b[0m         \u001b[0;32melse\u001b[0m\u001b[0;34m:\u001b[0m\u001b[0;34m\u001b[0m\u001b[0;34m\u001b[0m\u001b[0m\n\u001b[1;32m    267\u001b[0m             \u001b[0;32mreturn\u001b[0m\u001b[0;34m\u001b[0m\u001b[0;34m\u001b[0m\u001b[0m\n",
      "\u001b[0;32m/opt/conda/lib/python3.7/site-packages/sparkmagic/magics/sparkmagicsbase.py\u001b[0m in \u001b[0;36mexecute_spark\u001b[0;34m(self, cell, output_var, samplemethod, maxrows, samplefraction, session_name, coerce)\u001b[0m\n\u001b[1;32m     79\u001b[0m \u001b[0;34m\u001b[0m\u001b[0m\n\u001b[1;32m     80\u001b[0m     \u001b[0;32mdef\u001b[0m \u001b[0mexecute_spark\u001b[0m\u001b[0;34m(\u001b[0m\u001b[0mself\u001b[0m\u001b[0;34m,\u001b[0m \u001b[0mcell\u001b[0m\u001b[0;34m,\u001b[0m \u001b[0moutput_var\u001b[0m\u001b[0;34m,\u001b[0m \u001b[0msamplemethod\u001b[0m\u001b[0;34m,\u001b[0m \u001b[0mmaxrows\u001b[0m\u001b[0;34m,\u001b[0m \u001b[0msamplefraction\u001b[0m\u001b[0;34m,\u001b[0m \u001b[0msession_name\u001b[0m\u001b[0;34m,\u001b[0m \u001b[0mcoerce\u001b[0m\u001b[0;34m)\u001b[0m\u001b[0;34m:\u001b[0m\u001b[0;34m\u001b[0m\u001b[0;34m\u001b[0m\u001b[0m\n\u001b[0;32m---> 81\u001b[0;31m         \u001b[0;34m(\u001b[0m\u001b[0msuccess\u001b[0m\u001b[0;34m,\u001b[0m \u001b[0mout\u001b[0m\u001b[0;34m,\u001b[0m \u001b[0mmimetype\u001b[0m\u001b[0;34m)\u001b[0m \u001b[0;34m=\u001b[0m \u001b[0mself\u001b[0m\u001b[0;34m.\u001b[0m\u001b[0mspark_controller\u001b[0m\u001b[0;34m.\u001b[0m\u001b[0mrun_command\u001b[0m\u001b[0;34m(\u001b[0m\u001b[0mCommand\u001b[0m\u001b[0;34m(\u001b[0m\u001b[0mcell\u001b[0m\u001b[0;34m)\u001b[0m\u001b[0;34m,\u001b[0m \u001b[0msession_name\u001b[0m\u001b[0;34m)\u001b[0m\u001b[0;34m\u001b[0m\u001b[0;34m\u001b[0m\u001b[0m\n\u001b[0m\u001b[1;32m     82\u001b[0m         \u001b[0;32mif\u001b[0m \u001b[0;32mnot\u001b[0m \u001b[0msuccess\u001b[0m\u001b[0;34m:\u001b[0m\u001b[0;34m\u001b[0m\u001b[0;34m\u001b[0m\u001b[0m\n\u001b[1;32m     83\u001b[0m             \u001b[0;32mif\u001b[0m \u001b[0mconf\u001b[0m\u001b[0;34m.\u001b[0m\u001b[0mshutdown_session_on_spark_statement_errors\u001b[0m\u001b[0;34m(\u001b[0m\u001b[0;34m)\u001b[0m\u001b[0;34m:\u001b[0m\u001b[0;34m\u001b[0m\u001b[0;34m\u001b[0m\u001b[0m\n",
      "\u001b[0;32m/opt/conda/lib/python3.7/site-packages/sparkmagic/livyclientlib/sparkcontroller.py\u001b[0m in \u001b[0;36mrun_command\u001b[0;34m(self, command, client_name)\u001b[0m\n\u001b[1;32m     38\u001b[0m     \u001b[0;32mdef\u001b[0m \u001b[0mrun_command\u001b[0m\u001b[0;34m(\u001b[0m\u001b[0mself\u001b[0m\u001b[0;34m,\u001b[0m \u001b[0mcommand\u001b[0m\u001b[0;34m,\u001b[0m \u001b[0mclient_name\u001b[0m\u001b[0;34m=\u001b[0m\u001b[0;32mNone\u001b[0m\u001b[0;34m)\u001b[0m\u001b[0;34m:\u001b[0m\u001b[0;34m\u001b[0m\u001b[0;34m\u001b[0m\u001b[0m\n\u001b[1;32m     39\u001b[0m         \u001b[0msession_to_use\u001b[0m \u001b[0;34m=\u001b[0m \u001b[0mself\u001b[0m\u001b[0;34m.\u001b[0m\u001b[0mget_session_by_name_or_default\u001b[0m\u001b[0;34m(\u001b[0m\u001b[0mclient_name\u001b[0m\u001b[0;34m)\u001b[0m\u001b[0;34m\u001b[0m\u001b[0;34m\u001b[0m\u001b[0m\n\u001b[0;32m---> 40\u001b[0;31m         \u001b[0;32mreturn\u001b[0m \u001b[0mcommand\u001b[0m\u001b[0;34m.\u001b[0m\u001b[0mexecute\u001b[0m\u001b[0;34m(\u001b[0m\u001b[0msession_to_use\u001b[0m\u001b[0;34m)\u001b[0m\u001b[0;34m\u001b[0m\u001b[0;34m\u001b[0m\u001b[0m\n\u001b[0m\u001b[1;32m     41\u001b[0m \u001b[0;34m\u001b[0m\u001b[0m\n\u001b[1;32m     42\u001b[0m     \u001b[0;32mdef\u001b[0m \u001b[0mrun_sqlquery\u001b[0m\u001b[0;34m(\u001b[0m\u001b[0mself\u001b[0m\u001b[0;34m,\u001b[0m \u001b[0msqlquery\u001b[0m\u001b[0;34m,\u001b[0m \u001b[0mclient_name\u001b[0m\u001b[0;34m=\u001b[0m\u001b[0;32mNone\u001b[0m\u001b[0;34m)\u001b[0m\u001b[0;34m:\u001b[0m\u001b[0;34m\u001b[0m\u001b[0;34m\u001b[0m\u001b[0m\n",
      "\u001b[0;32m/opt/conda/lib/python3.7/site-packages/sparkmagic/livyclientlib/command.py\u001b[0m in \u001b[0;36mexecute\u001b[0;34m(self, session)\u001b[0m\n\u001b[1;32m     42\u001b[0m             \u001b[0mresponse\u001b[0m \u001b[0;34m=\u001b[0m \u001b[0msession\u001b[0m\u001b[0;34m.\u001b[0m\u001b[0mhttp_client\u001b[0m\u001b[0;34m.\u001b[0m\u001b[0mpost_statement\u001b[0m\u001b[0;34m(\u001b[0m\u001b[0msession\u001b[0m\u001b[0;34m.\u001b[0m\u001b[0mid\u001b[0m\u001b[0;34m,\u001b[0m \u001b[0mdata\u001b[0m\u001b[0;34m)\u001b[0m\u001b[0;34m\u001b[0m\u001b[0;34m\u001b[0m\u001b[0m\n\u001b[1;32m     43\u001b[0m             \u001b[0mstatement_id\u001b[0m \u001b[0;34m=\u001b[0m \u001b[0mresponse\u001b[0m\u001b[0;34m[\u001b[0m\u001b[0;34mu'id'\u001b[0m\u001b[0;34m]\u001b[0m\u001b[0;34m\u001b[0m\u001b[0;34m\u001b[0m\u001b[0m\n\u001b[0;32m---> 44\u001b[0;31m             \u001b[0moutput\u001b[0m \u001b[0;34m=\u001b[0m \u001b[0mself\u001b[0m\u001b[0;34m.\u001b[0m\u001b[0m_get_statement_output\u001b[0m\u001b[0;34m(\u001b[0m\u001b[0msession\u001b[0m\u001b[0;34m,\u001b[0m \u001b[0mstatement_id\u001b[0m\u001b[0;34m)\u001b[0m\u001b[0;34m\u001b[0m\u001b[0;34m\u001b[0m\u001b[0m\n\u001b[0m\u001b[1;32m     45\u001b[0m         \u001b[0;32mexcept\u001b[0m \u001b[0mException\u001b[0m \u001b[0;32mas\u001b[0m \u001b[0me\u001b[0m\u001b[0;34m:\u001b[0m\u001b[0;34m\u001b[0m\u001b[0;34m\u001b[0m\u001b[0m\n\u001b[1;32m     46\u001b[0m             self._spark_events.emit_statement_execution_end_event(session.guid, session.kind, session.id,\n",
      "\u001b[0;32m/opt/conda/lib/python3.7/site-packages/sparkmagic/livyclientlib/command.py\u001b[0m in \u001b[0;36m_get_statement_output\u001b[0;34m(self, session, statement_id)\u001b[0m\n\u001b[1;32m     74\u001b[0m             \u001b[0;32mif\u001b[0m \u001b[0mstatus\u001b[0m \u001b[0;32mnot\u001b[0m \u001b[0;32min\u001b[0m \u001b[0mFINAL_STATEMENT_STATUS\u001b[0m\u001b[0;34m:\u001b[0m\u001b[0;34m\u001b[0m\u001b[0;34m\u001b[0m\u001b[0m\n\u001b[1;32m     75\u001b[0m                 \u001b[0mprogress\u001b[0m\u001b[0;34m.\u001b[0m\u001b[0mvalue\u001b[0m \u001b[0;34m=\u001b[0m \u001b[0mstatement\u001b[0m\u001b[0;34m.\u001b[0m\u001b[0mget\u001b[0m\u001b[0;34m(\u001b[0m\u001b[0;34m'progress'\u001b[0m\u001b[0;34m,\u001b[0m \u001b[0;36m0.0\u001b[0m\u001b[0;34m)\u001b[0m\u001b[0;34m\u001b[0m\u001b[0;34m\u001b[0m\u001b[0m\n\u001b[0;32m---> 76\u001b[0;31m                 \u001b[0msession\u001b[0m\u001b[0;34m.\u001b[0m\u001b[0msleep\u001b[0m\u001b[0;34m(\u001b[0m\u001b[0mretries\u001b[0m\u001b[0;34m)\u001b[0m\u001b[0;34m\u001b[0m\u001b[0;34m\u001b[0m\u001b[0m\n\u001b[0m\u001b[1;32m     77\u001b[0m                 \u001b[0mretries\u001b[0m \u001b[0;34m+=\u001b[0m \u001b[0;36m1\u001b[0m\u001b[0;34m\u001b[0m\u001b[0;34m\u001b[0m\u001b[0m\n\u001b[1;32m     78\u001b[0m             \u001b[0;32melse\u001b[0m\u001b[0;34m:\u001b[0m\u001b[0;34m\u001b[0m\u001b[0;34m\u001b[0m\u001b[0m\n",
      "\u001b[0;32m/opt/conda/lib/python3.7/site-packages/sparkmagic/livyclientlib/livysession.py\u001b[0m in \u001b[0;36msleep\u001b[0;34m(self, retries)\u001b[0m\n\u001b[1;32m    280\u001b[0m \u001b[0;34m\u001b[0m\u001b[0m\n\u001b[1;32m    281\u001b[0m     \u001b[0;32mdef\u001b[0m \u001b[0msleep\u001b[0m\u001b[0;34m(\u001b[0m\u001b[0mself\u001b[0m\u001b[0;34m,\u001b[0m \u001b[0mretries\u001b[0m\u001b[0;34m)\u001b[0m\u001b[0;34m:\u001b[0m\u001b[0;34m\u001b[0m\u001b[0;34m\u001b[0m\u001b[0m\n\u001b[0;32m--> 282\u001b[0;31m         \u001b[0msleep\u001b[0m\u001b[0;34m(\u001b[0m\u001b[0mself\u001b[0m\u001b[0;34m.\u001b[0m\u001b[0m_policy\u001b[0m\u001b[0;34m.\u001b[0m\u001b[0mseconds_to_sleep\u001b[0m\u001b[0;34m(\u001b[0m\u001b[0mretries\u001b[0m\u001b[0;34m)\u001b[0m\u001b[0;34m)\u001b[0m\u001b[0;34m\u001b[0m\u001b[0;34m\u001b[0m\u001b[0m\n\u001b[0m\u001b[1;32m    283\u001b[0m \u001b[0;34m\u001b[0m\u001b[0m\n\u001b[1;32m    284\u001b[0m     \u001b[0;31m# This function will refresh the status and get the logs in a single call.\u001b[0m\u001b[0;34m\u001b[0m\u001b[0;34m\u001b[0m\u001b[0;34m\u001b[0m\u001b[0m\n",
      "\u001b[0;31mKeyboardInterrupt\u001b[0m: "
     ]
    }
   ],
   "source": [
    "jdbc_obj = SparkModules(args, a['campaign_config'])  # noqa: F821\n",
    "jdbc_obj.suppression_list()\n",
    "# LoggingHelper.logging_helper(\n",
    "#     component_type='campaign_component',\n",
    "#     db_func_type='update',\n",
    "#     audit_args=args,  # noqa: F821\n",
    "#     config_args=a['campaign_config'],  # noqa: F821\n",
    "#     code_state=3\n",
    "# )"
   ]
  },
  {
   "cell_type": "code",
   "execution_count": null,
   "metadata": {},
   "outputs": [],
   "source": [
    "LoggingHelper.logging_helper(\n",
    "    component_type='campaign_component',\n",
    "    db_func_type='update',\n",
    "    audit_args=args,  # noqa: F821\n",
    "    config_args=a['campaign_config'],  # noqa: F821\n",
    "    code_state=3\n",
    ")"
   ]
  },
  {
   "cell_type": "code",
   "execution_count": 55,
   "metadata": {},
   "outputs": [
    {
     "data": {
      "application/vnd.jupyter.widget-view+json": {
       "model_id": "",
       "version_major": 2,
       "version_minor": 0
      },
      "text/plain": [
       "FloatProgress(value=0.0, bar_style='info', description='Progress:', layout=Layout(height='25px', width='50%'),…"
      ]
     },
     "metadata": {},
     "output_type": "display_data"
    },
    {
     "name": "stderr",
     "output_type": "stream",
     "text": [
      "An error was encountered:\n",
      "'campaign_component_run_id'\n",
      "Traceback (most recent call last):\n",
      "  File \"/usr/local/lib/python3.7/site-packages/campaign_utils/logging_helpers.py\", line 74, in logging_helper\n",
      "    **audit_args, **status_message\n",
      "KeyError: 'campaign_component_run_id'\n",
      "\n"
     ]
    }
   ],
   "source": [
    "import sys\n",
    "import traceback\n",
    "from campaign_utils.logging_helpers import LoggingHelper\n",
    "from campaign_utils.pyspark_common_modules import SparkModules\n",
    "args['vault_details']['dremio_vault_path'] = args[\"common\"]['args_dremio_vault_path_prod']  # noqa: F821\n",
    "args['vault_details']['dremio_jdbc_url'] = args[\"common\"]['args_dremio_jdbc_url_prod']  # noqa: F821\n",
    "args['vault_details'][\"dremio_jdbc_user\"] = args[\"common\"]['args_dremio_jdbc_user_prod']  # noqa: F821\n",
    "args['vault_details'][\"dremio_url\"] = args[\"common\"]['args_dremio_url_prod']  # noqa: F821\n",
    "\n",
    "try:\n",
    "    jdbc_obj = SparkModules(args, campaign_config)  # noqa: F821\n",
    "    jdbc_obj.suppression_list()\n",
    "    LoggingHelper.logging_helper(\n",
    "        component_type='campaign_component',\n",
    "        db_func_type='update',\n",
    "        audit_args=args,  # noqa: F821\n",
    "        config_args=a['campaign_config'],  # noqa: F821\n",
    "        code_state=3\n",
    "    )\n",
    "except Exception:\n",
    "    exc_type, exc_value, exc_traceback = sys.exc_info()\n",
    "    error_message = \" \".join(\n",
    "        traceback.format_exception(\n",
    "            exc_type,\n",
    "            exc_value,\n",
    "            exc_traceback\n",
    "        )\n",
    "    ).strip('\\n')\n",
    "    LoggingHelper.logging_helper(\n",
    "        component_type='campaign_component',\n",
    "        db_func_type='update',\n",
    "        audit_args=args,  # noqa: F821\n",
    "        config_args=a['campaign_config'],  # noqa: F821\n",
    "        code_state='failed',\n",
    "        message=error_message\n",
    "    )\n",
    "    raise"
   ]
  },
  {
   "cell_type": "code",
   "execution_count": 40,
   "metadata": {},
   "outputs": [
    {
     "data": {
      "application/vnd.jupyter.widget-view+json": {
       "model_id": "",
       "version_major": 2,
       "version_minor": 0
      },
      "text/plain": [
       "FloatProgress(value=0.0, bar_style='info', description='Progress:', layout=Layout(height='25px', width='50%'),…"
      ]
     },
     "metadata": {},
     "output_type": "display_data"
    },
    {
     "name": "stderr",
     "output_type": "stream",
     "text": [
      "An error was encountered:\n",
      "Path does not exist: s3://avantcamp-partner03-prod-ingestion-bucket/td/livevox_collections/td_livevox_live_wfl/2025/01/25/12121/149/td_livevox_live_wfl_12121_149_20250125.parquet;\n",
      "Traceback (most recent call last):\n",
      "  File \"/usr/lib/spark/python/lib/pyspark.zip/pyspark/sql/readwriter.py\", line 353, in parquet\n",
      "    return self._df(self._jreader.parquet(_to_seq(self._spark._sc, paths)))\n",
      "  File \"/usr/lib/spark/python/lib/py4j-0.10.9-src.zip/py4j/java_gateway.py\", line 1305, in __call__\n",
      "    answer, self.gateway_client, self.target_id, self.name)\n",
      "  File \"/usr/lib/spark/python/lib/pyspark.zip/pyspark/sql/utils.py\", line 137, in deco\n",
      "    raise_from(converted)\n",
      "  File \"<string>\", line 3, in raise_from\n",
      "pyspark.sql.utils.AnalysisException: Path does not exist: s3://avantcamp-partner03-prod-ingestion-bucket/td/livevox_collections/td_livevox_live_wfl/2025/01/25/12121/149/td_livevox_live_wfl_12121_149_20250125.parquet;\n",
      "\n"
     ]
    }
   ],
   "source": [
    "# customer_product_logs_df = spark.read.option(\"header\", True).parquet(customer_product_flags_data_path)  # noqa: F821\n",
    "\n",
    "workflow_log_temp_df = spark.read.option(\"header\", True).parquet(workflow_log_data_path)  # noqa: F821\n",
    "\n",
    "workflow_log_temp_df = workflow_log_temp_df.withColumn('rpc_today_flag', f.when((f.col('step_exit') == 'end_success') & (f.col('type') == 'customer.secure_call') & (f.col('product_type') == 'Loan'), f.lit(True)).otherwise(f.lit(False))).drop('campaign_batch_id','campaign_run_id','etl_ingestion_time')\n",
    "\n",
    "workflow_log_df = workflow_log_temp_df.select(f.col('id'),f.col('rpc_today_flag'),f.col('customer_id').cast(LongType())).distinct()\n"
   ]
  },
  {
   "cell_type": "code",
   "execution_count": 64,
   "metadata": {},
   "outputs": [
    {
     "data": {
      "application/vnd.jupyter.widget-view+json": {
       "model_id": "",
       "version_major": 2,
       "version_minor": 0
      },
      "text/plain": [
       "FloatProgress(value=0.0, bar_style='info', description='Progress:', layout=Layout(height='25px', width='50%'),…"
      ]
     },
     "metadata": {},
     "output_type": "display_data"
    },
    {
     "name": "stdout",
     "output_type": "stream",
     "text": [
      "'s3://avantcamp-partner03-prod-ingestion-bucket/td/livevox_collections/td_livevox_live_wfl/2025/01/25/12121/149/td_livevox_live_wfl_12121_149_20250125.parquet'"
     ]
    }
   ],
   "source": [
    "workflow_log_data_path"
   ]
  },
  {
   "cell_type": "code",
   "execution_count": 66,
   "metadata": {},
   "outputs": [
    {
     "ename": "KeyboardInterrupt",
     "evalue": "",
     "output_type": "error",
     "traceback": [
      "\u001b[0;31m---------------------------------------------------------------------------\u001b[0m",
      "\u001b[0;31mKeyboardInterrupt\u001b[0m                         Traceback (most recent call last)",
      "\u001b[0;32m<ipython-input-66-2510383c768d>\u001b[0m in \u001b[0;36m<module>\u001b[0;34m\u001b[0m\n\u001b[0;32m----> 1\u001b[0;31m \u001b[0mget_ipython\u001b[0m\u001b[0;34m(\u001b[0m\u001b[0;34m)\u001b[0m\u001b[0;34m.\u001b[0m\u001b[0mrun_cell_magic\u001b[0m\u001b[0;34m(\u001b[0m\u001b[0;34m'spark'\u001b[0m\u001b[0;34m,\u001b[0m \u001b[0;34m''\u001b[0m\u001b[0;34m,\u001b[0m \u001b[0;34m\"batch_final_data_path = 's3://avantcamp-partner03-prod-transform-bucket/td/livevox_td_collection/batch_final_transformation/*'.format(**audit_args)\\nbatch_final_data_path\\n\"\u001b[0m\u001b[0;34m)\u001b[0m\u001b[0;34m\u001b[0m\u001b[0;34m\u001b[0m\u001b[0m\n\u001b[0m",
      "\u001b[0;32m/opt/conda/lib/python3.7/site-packages/IPython/core/interactiveshell.py\u001b[0m in \u001b[0;36mrun_cell_magic\u001b[0;34m(self, magic_name, line, cell)\u001b[0m\n\u001b[1;32m   2360\u001b[0m             \u001b[0;32mwith\u001b[0m \u001b[0mself\u001b[0m\u001b[0;34m.\u001b[0m\u001b[0mbuiltin_trap\u001b[0m\u001b[0;34m:\u001b[0m\u001b[0;34m\u001b[0m\u001b[0;34m\u001b[0m\u001b[0m\n\u001b[1;32m   2361\u001b[0m                 \u001b[0margs\u001b[0m \u001b[0;34m=\u001b[0m \u001b[0;34m(\u001b[0m\u001b[0mmagic_arg_s\u001b[0m\u001b[0;34m,\u001b[0m \u001b[0mcell\u001b[0m\u001b[0;34m)\u001b[0m\u001b[0;34m\u001b[0m\u001b[0;34m\u001b[0m\u001b[0m\n\u001b[0;32m-> 2362\u001b[0;31m                 \u001b[0mresult\u001b[0m \u001b[0;34m=\u001b[0m \u001b[0mfn\u001b[0m\u001b[0;34m(\u001b[0m\u001b[0;34m*\u001b[0m\u001b[0margs\u001b[0m\u001b[0;34m,\u001b[0m \u001b[0;34m**\u001b[0m\u001b[0mkwargs\u001b[0m\u001b[0;34m)\u001b[0m\u001b[0;34m\u001b[0m\u001b[0;34m\u001b[0m\u001b[0m\n\u001b[0m\u001b[1;32m   2363\u001b[0m             \u001b[0;32mreturn\u001b[0m \u001b[0mresult\u001b[0m\u001b[0;34m\u001b[0m\u001b[0;34m\u001b[0m\u001b[0m\n\u001b[1;32m   2364\u001b[0m \u001b[0;34m\u001b[0m\u001b[0m\n",
      "\u001b[0;32m<decorator-gen-125>\u001b[0m in \u001b[0;36mspark\u001b[0;34m(self, *args, **kwargs)\u001b[0m\n",
      "\u001b[0;32m/opt/conda/lib/python3.7/site-packages/IPython/core/magic.py\u001b[0m in \u001b[0;36m<lambda>\u001b[0;34m(f, *a, **k)\u001b[0m\n\u001b[1;32m    185\u001b[0m     \u001b[0;31m# but it's overkill for just that one bit of state.\u001b[0m\u001b[0;34m\u001b[0m\u001b[0;34m\u001b[0m\u001b[0;34m\u001b[0m\u001b[0m\n\u001b[1;32m    186\u001b[0m     \u001b[0;32mdef\u001b[0m \u001b[0mmagic_deco\u001b[0m\u001b[0;34m(\u001b[0m\u001b[0marg\u001b[0m\u001b[0;34m)\u001b[0m\u001b[0;34m:\u001b[0m\u001b[0;34m\u001b[0m\u001b[0;34m\u001b[0m\u001b[0m\n\u001b[0;32m--> 187\u001b[0;31m         \u001b[0mcall\u001b[0m \u001b[0;34m=\u001b[0m \u001b[0;32mlambda\u001b[0m \u001b[0mf\u001b[0m\u001b[0;34m,\u001b[0m \u001b[0;34m*\u001b[0m\u001b[0ma\u001b[0m\u001b[0;34m,\u001b[0m \u001b[0;34m**\u001b[0m\u001b[0mk\u001b[0m\u001b[0;34m:\u001b[0m \u001b[0mf\u001b[0m\u001b[0;34m(\u001b[0m\u001b[0;34m*\u001b[0m\u001b[0ma\u001b[0m\u001b[0;34m,\u001b[0m \u001b[0;34m**\u001b[0m\u001b[0mk\u001b[0m\u001b[0;34m)\u001b[0m\u001b[0;34m\u001b[0m\u001b[0;34m\u001b[0m\u001b[0m\n\u001b[0m\u001b[1;32m    188\u001b[0m \u001b[0;34m\u001b[0m\u001b[0m\n\u001b[1;32m    189\u001b[0m         \u001b[0;32mif\u001b[0m \u001b[0mcallable\u001b[0m\u001b[0;34m(\u001b[0m\u001b[0marg\u001b[0m\u001b[0;34m)\u001b[0m\u001b[0;34m:\u001b[0m\u001b[0;34m\u001b[0m\u001b[0;34m\u001b[0m\u001b[0m\n",
      "\u001b[0;32m/opt/conda/lib/python3.7/site-packages/sparkmagic/livyclientlib/exceptions.py\u001b[0m in \u001b[0;36mwrapped\u001b[0;34m(self, *args, **kwargs)\u001b[0m\n\u001b[1;32m    105\u001b[0m     \u001b[0;32mdef\u001b[0m \u001b[0mwrapped\u001b[0m\u001b[0;34m(\u001b[0m\u001b[0mself\u001b[0m\u001b[0;34m,\u001b[0m \u001b[0;34m*\u001b[0m\u001b[0margs\u001b[0m\u001b[0;34m,\u001b[0m \u001b[0;34m**\u001b[0m\u001b[0mkwargs\u001b[0m\u001b[0;34m)\u001b[0m\u001b[0;34m:\u001b[0m\u001b[0;34m\u001b[0m\u001b[0;34m\u001b[0m\u001b[0m\n\u001b[1;32m    106\u001b[0m         \u001b[0;32mtry\u001b[0m\u001b[0;34m:\u001b[0m\u001b[0;34m\u001b[0m\u001b[0;34m\u001b[0m\u001b[0m\n\u001b[0;32m--> 107\u001b[0;31m             \u001b[0mout\u001b[0m \u001b[0;34m=\u001b[0m \u001b[0mf\u001b[0m\u001b[0;34m(\u001b[0m\u001b[0mself\u001b[0m\u001b[0;34m,\u001b[0m \u001b[0;34m*\u001b[0m\u001b[0margs\u001b[0m\u001b[0;34m,\u001b[0m \u001b[0;34m**\u001b[0m\u001b[0mkwargs\u001b[0m\u001b[0;34m)\u001b[0m\u001b[0;34m\u001b[0m\u001b[0;34m\u001b[0m\u001b[0m\n\u001b[0m\u001b[1;32m    108\u001b[0m         \u001b[0;32mexcept\u001b[0m \u001b[0mException\u001b[0m \u001b[0;32mas\u001b[0m \u001b[0merr\u001b[0m\u001b[0;34m:\u001b[0m\u001b[0;34m\u001b[0m\u001b[0;34m\u001b[0m\u001b[0m\n\u001b[1;32m    109\u001b[0m             \u001b[0;32mif\u001b[0m \u001b[0mconf\u001b[0m\u001b[0;34m.\u001b[0m\u001b[0mall_errors_are_fatal\u001b[0m\u001b[0;34m(\u001b[0m\u001b[0;34m)\u001b[0m\u001b[0;34m:\u001b[0m\u001b[0;34m\u001b[0m\u001b[0;34m\u001b[0m\u001b[0m\n",
      "\u001b[0;32m/opt/conda/lib/python3.7/site-packages/sparkmagic/livyclientlib/exceptions.py\u001b[0m in \u001b[0;36mwrapped\u001b[0;34m(self, *args, **kwargs)\u001b[0m\n\u001b[1;32m     72\u001b[0m     \u001b[0;32mdef\u001b[0m \u001b[0mwrapped\u001b[0m\u001b[0;34m(\u001b[0m\u001b[0mself\u001b[0m\u001b[0;34m,\u001b[0m \u001b[0;34m*\u001b[0m\u001b[0margs\u001b[0m\u001b[0;34m,\u001b[0m \u001b[0;34m**\u001b[0m\u001b[0mkwargs\u001b[0m\u001b[0;34m)\u001b[0m\u001b[0;34m:\u001b[0m\u001b[0;34m\u001b[0m\u001b[0;34m\u001b[0m\u001b[0m\n\u001b[1;32m     73\u001b[0m         \u001b[0;32mtry\u001b[0m\u001b[0;34m:\u001b[0m\u001b[0;34m\u001b[0m\u001b[0;34m\u001b[0m\u001b[0m\n\u001b[0;32m---> 74\u001b[0;31m             \u001b[0mout\u001b[0m \u001b[0;34m=\u001b[0m \u001b[0mf\u001b[0m\u001b[0;34m(\u001b[0m\u001b[0mself\u001b[0m\u001b[0;34m,\u001b[0m \u001b[0;34m*\u001b[0m\u001b[0margs\u001b[0m\u001b[0;34m,\u001b[0m \u001b[0;34m**\u001b[0m\u001b[0mkwargs\u001b[0m\u001b[0;34m)\u001b[0m\u001b[0;34m\u001b[0m\u001b[0;34m\u001b[0m\u001b[0m\n\u001b[0m\u001b[1;32m     75\u001b[0m         \u001b[0;32mexcept\u001b[0m \u001b[0mexceptions_to_handle\u001b[0m \u001b[0;32mas\u001b[0m \u001b[0merr\u001b[0m\u001b[0;34m:\u001b[0m\u001b[0;34m\u001b[0m\u001b[0;34m\u001b[0m\u001b[0m\n\u001b[1;32m     76\u001b[0m             \u001b[0;32mif\u001b[0m \u001b[0mconf\u001b[0m\u001b[0;34m.\u001b[0m\u001b[0mall_errors_are_fatal\u001b[0m\u001b[0;34m(\u001b[0m\u001b[0;34m)\u001b[0m\u001b[0;34m:\u001b[0m\u001b[0;34m\u001b[0m\u001b[0;34m\u001b[0m\u001b[0m\n",
      "\u001b[0;32m/opt/conda/lib/python3.7/site-packages/sparkmagic/kernels/kernelmagics.py\u001b[0m in \u001b[0;36mspark\u001b[0;34m(self, line, cell, local_ns)\u001b[0m\n\u001b[1;32m    263\u001b[0m             \u001b[0mcoerce\u001b[0m \u001b[0;34m=\u001b[0m \u001b[0mget_coerce_value\u001b[0m\u001b[0;34m(\u001b[0m\u001b[0margs\u001b[0m\u001b[0;34m.\u001b[0m\u001b[0mcoerce\u001b[0m\u001b[0;34m)\u001b[0m\u001b[0;34m\u001b[0m\u001b[0;34m\u001b[0m\u001b[0m\n\u001b[1;32m    264\u001b[0m \u001b[0;34m\u001b[0m\u001b[0m\n\u001b[0;32m--> 265\u001b[0;31m             \u001b[0mself\u001b[0m\u001b[0;34m.\u001b[0m\u001b[0mexecute_spark\u001b[0m\u001b[0;34m(\u001b[0m\u001b[0mcell\u001b[0m\u001b[0;34m,\u001b[0m \u001b[0margs\u001b[0m\u001b[0;34m.\u001b[0m\u001b[0moutput\u001b[0m\u001b[0;34m,\u001b[0m \u001b[0margs\u001b[0m\u001b[0;34m.\u001b[0m\u001b[0msamplemethod\u001b[0m\u001b[0;34m,\u001b[0m \u001b[0margs\u001b[0m\u001b[0;34m.\u001b[0m\u001b[0mmaxrows\u001b[0m\u001b[0;34m,\u001b[0m \u001b[0margs\u001b[0m\u001b[0;34m.\u001b[0m\u001b[0msamplefraction\u001b[0m\u001b[0;34m,\u001b[0m \u001b[0;32mNone\u001b[0m\u001b[0;34m,\u001b[0m \u001b[0mcoerce\u001b[0m\u001b[0;34m)\u001b[0m\u001b[0;34m\u001b[0m\u001b[0;34m\u001b[0m\u001b[0m\n\u001b[0m\u001b[1;32m    266\u001b[0m         \u001b[0;32melse\u001b[0m\u001b[0;34m:\u001b[0m\u001b[0;34m\u001b[0m\u001b[0;34m\u001b[0m\u001b[0m\n\u001b[1;32m    267\u001b[0m             \u001b[0;32mreturn\u001b[0m\u001b[0;34m\u001b[0m\u001b[0;34m\u001b[0m\u001b[0m\n",
      "\u001b[0;32m/opt/conda/lib/python3.7/site-packages/sparkmagic/magics/sparkmagicsbase.py\u001b[0m in \u001b[0;36mexecute_spark\u001b[0;34m(self, cell, output_var, samplemethod, maxrows, samplefraction, session_name, coerce)\u001b[0m\n\u001b[1;32m     79\u001b[0m \u001b[0;34m\u001b[0m\u001b[0m\n\u001b[1;32m     80\u001b[0m     \u001b[0;32mdef\u001b[0m \u001b[0mexecute_spark\u001b[0m\u001b[0;34m(\u001b[0m\u001b[0mself\u001b[0m\u001b[0;34m,\u001b[0m \u001b[0mcell\u001b[0m\u001b[0;34m,\u001b[0m \u001b[0moutput_var\u001b[0m\u001b[0;34m,\u001b[0m \u001b[0msamplemethod\u001b[0m\u001b[0;34m,\u001b[0m \u001b[0mmaxrows\u001b[0m\u001b[0;34m,\u001b[0m \u001b[0msamplefraction\u001b[0m\u001b[0;34m,\u001b[0m \u001b[0msession_name\u001b[0m\u001b[0;34m,\u001b[0m \u001b[0mcoerce\u001b[0m\u001b[0;34m)\u001b[0m\u001b[0;34m:\u001b[0m\u001b[0;34m\u001b[0m\u001b[0;34m\u001b[0m\u001b[0m\n\u001b[0;32m---> 81\u001b[0;31m         \u001b[0;34m(\u001b[0m\u001b[0msuccess\u001b[0m\u001b[0;34m,\u001b[0m \u001b[0mout\u001b[0m\u001b[0;34m,\u001b[0m \u001b[0mmimetype\u001b[0m\u001b[0;34m)\u001b[0m \u001b[0;34m=\u001b[0m \u001b[0mself\u001b[0m\u001b[0;34m.\u001b[0m\u001b[0mspark_controller\u001b[0m\u001b[0;34m.\u001b[0m\u001b[0mrun_command\u001b[0m\u001b[0;34m(\u001b[0m\u001b[0mCommand\u001b[0m\u001b[0;34m(\u001b[0m\u001b[0mcell\u001b[0m\u001b[0;34m)\u001b[0m\u001b[0;34m,\u001b[0m \u001b[0msession_name\u001b[0m\u001b[0;34m)\u001b[0m\u001b[0;34m\u001b[0m\u001b[0;34m\u001b[0m\u001b[0m\n\u001b[0m\u001b[1;32m     82\u001b[0m         \u001b[0;32mif\u001b[0m \u001b[0;32mnot\u001b[0m \u001b[0msuccess\u001b[0m\u001b[0;34m:\u001b[0m\u001b[0;34m\u001b[0m\u001b[0;34m\u001b[0m\u001b[0m\n\u001b[1;32m     83\u001b[0m             \u001b[0;32mif\u001b[0m \u001b[0mconf\u001b[0m\u001b[0;34m.\u001b[0m\u001b[0mshutdown_session_on_spark_statement_errors\u001b[0m\u001b[0;34m(\u001b[0m\u001b[0;34m)\u001b[0m\u001b[0;34m:\u001b[0m\u001b[0;34m\u001b[0m\u001b[0;34m\u001b[0m\u001b[0m\n",
      "\u001b[0;32m/opt/conda/lib/python3.7/site-packages/sparkmagic/livyclientlib/sparkcontroller.py\u001b[0m in \u001b[0;36mrun_command\u001b[0;34m(self, command, client_name)\u001b[0m\n\u001b[1;32m     38\u001b[0m     \u001b[0;32mdef\u001b[0m \u001b[0mrun_command\u001b[0m\u001b[0;34m(\u001b[0m\u001b[0mself\u001b[0m\u001b[0;34m,\u001b[0m \u001b[0mcommand\u001b[0m\u001b[0;34m,\u001b[0m \u001b[0mclient_name\u001b[0m\u001b[0;34m=\u001b[0m\u001b[0;32mNone\u001b[0m\u001b[0;34m)\u001b[0m\u001b[0;34m:\u001b[0m\u001b[0;34m\u001b[0m\u001b[0;34m\u001b[0m\u001b[0m\n\u001b[1;32m     39\u001b[0m         \u001b[0msession_to_use\u001b[0m \u001b[0;34m=\u001b[0m \u001b[0mself\u001b[0m\u001b[0;34m.\u001b[0m\u001b[0mget_session_by_name_or_default\u001b[0m\u001b[0;34m(\u001b[0m\u001b[0mclient_name\u001b[0m\u001b[0;34m)\u001b[0m\u001b[0;34m\u001b[0m\u001b[0;34m\u001b[0m\u001b[0m\n\u001b[0;32m---> 40\u001b[0;31m         \u001b[0;32mreturn\u001b[0m \u001b[0mcommand\u001b[0m\u001b[0;34m.\u001b[0m\u001b[0mexecute\u001b[0m\u001b[0;34m(\u001b[0m\u001b[0msession_to_use\u001b[0m\u001b[0;34m)\u001b[0m\u001b[0;34m\u001b[0m\u001b[0;34m\u001b[0m\u001b[0m\n\u001b[0m\u001b[1;32m     41\u001b[0m \u001b[0;34m\u001b[0m\u001b[0m\n\u001b[1;32m     42\u001b[0m     \u001b[0;32mdef\u001b[0m \u001b[0mrun_sqlquery\u001b[0m\u001b[0;34m(\u001b[0m\u001b[0mself\u001b[0m\u001b[0;34m,\u001b[0m \u001b[0msqlquery\u001b[0m\u001b[0;34m,\u001b[0m \u001b[0mclient_name\u001b[0m\u001b[0;34m=\u001b[0m\u001b[0;32mNone\u001b[0m\u001b[0;34m)\u001b[0m\u001b[0;34m:\u001b[0m\u001b[0;34m\u001b[0m\u001b[0;34m\u001b[0m\u001b[0m\n",
      "\u001b[0;32m/opt/conda/lib/python3.7/site-packages/sparkmagic/livyclientlib/command.py\u001b[0m in \u001b[0;36mexecute\u001b[0;34m(self, session)\u001b[0m\n\u001b[1;32m     38\u001b[0m         \u001b[0mstatement_id\u001b[0m \u001b[0;34m=\u001b[0m \u001b[0;34m-\u001b[0m\u001b[0;36m1\u001b[0m\u001b[0;34m\u001b[0m\u001b[0;34m\u001b[0m\u001b[0m\n\u001b[1;32m     39\u001b[0m         \u001b[0;32mtry\u001b[0m\u001b[0;34m:\u001b[0m\u001b[0;34m\u001b[0m\u001b[0;34m\u001b[0m\u001b[0m\n\u001b[0;32m---> 40\u001b[0;31m             \u001b[0msession\u001b[0m\u001b[0;34m.\u001b[0m\u001b[0mwait_for_idle\u001b[0m\u001b[0;34m(\u001b[0m\u001b[0;34m)\u001b[0m\u001b[0;34m\u001b[0m\u001b[0;34m\u001b[0m\u001b[0m\n\u001b[0m\u001b[1;32m     41\u001b[0m             \u001b[0mdata\u001b[0m \u001b[0;34m=\u001b[0m \u001b[0;34m{\u001b[0m\u001b[0;34mu\"code\"\u001b[0m\u001b[0;34m:\u001b[0m \u001b[0mself\u001b[0m\u001b[0;34m.\u001b[0m\u001b[0mcode\u001b[0m\u001b[0;34m}\u001b[0m\u001b[0;34m\u001b[0m\u001b[0;34m\u001b[0m\u001b[0m\n\u001b[1;32m     42\u001b[0m             \u001b[0mresponse\u001b[0m \u001b[0;34m=\u001b[0m \u001b[0msession\u001b[0m\u001b[0;34m.\u001b[0m\u001b[0mhttp_client\u001b[0m\u001b[0;34m.\u001b[0m\u001b[0mpost_statement\u001b[0m\u001b[0;34m(\u001b[0m\u001b[0msession\u001b[0m\u001b[0;34m.\u001b[0m\u001b[0mid\u001b[0m\u001b[0;34m,\u001b[0m \u001b[0mdata\u001b[0m\u001b[0;34m)\u001b[0m\u001b[0;34m\u001b[0m\u001b[0;34m\u001b[0m\u001b[0m\n",
      "\u001b[0;32m/opt/conda/lib/python3.7/site-packages/sparkmagic/livyclientlib/livysession.py\u001b[0m in \u001b[0;36mwait_for_idle\u001b[0;34m(self, seconds_to_wait)\u001b[0m\n\u001b[1;32m    276\u001b[0m             self.logger.debug(u\"Session {} in state {}. Sleeping {} seconds.\"\n\u001b[1;32m    277\u001b[0m                               .format(self.id, self.status, sleep_time))\n\u001b[0;32m--> 278\u001b[0;31m             \u001b[0msleep\u001b[0m\u001b[0;34m(\u001b[0m\u001b[0msleep_time\u001b[0m\u001b[0;34m)\u001b[0m\u001b[0;34m\u001b[0m\u001b[0;34m\u001b[0m\u001b[0m\n\u001b[0m\u001b[1;32m    279\u001b[0m             \u001b[0mseconds_to_wait\u001b[0m \u001b[0;34m-=\u001b[0m \u001b[0mtime\u001b[0m\u001b[0;34m(\u001b[0m\u001b[0;34m)\u001b[0m \u001b[0;34m-\u001b[0m \u001b[0mstart_time\u001b[0m\u001b[0;34m\u001b[0m\u001b[0;34m\u001b[0m\u001b[0m\n\u001b[1;32m    280\u001b[0m \u001b[0;34m\u001b[0m\u001b[0m\n",
      "\u001b[0;31mKeyboardInterrupt\u001b[0m: "
     ]
    }
   ],
   "source": [
    "batch_final_data_path = 's3://avantcamp-partner03-prod-transform-bucket/td/livevox_td_collection/batch_final_transformation/*'.format(**audit_args)\n",
    "batch_final_data_path"
   ]
  },
  {
   "cell_type": "code",
   "execution_count": null,
   "metadata": {},
   "outputs": [],
   "source": [
    "batch_final_data_path"
   ]
  },
  {
   "cell_type": "code",
   "execution_count": null,
   "metadata": {},
   "outputs": [],
   "source": []
  },
  {
   "cell_type": "code",
   "execution_count": null,
   "metadata": {},
   "outputs": [],
   "source": []
  },
  {
   "cell_type": "code",
   "execution_count": null,
   "metadata": {},
   "outputs": [],
   "source": []
  },
  {
   "cell_type": "code",
   "execution_count": 26,
   "metadata": {},
   "outputs": [
    {
     "data": {
      "application/vnd.jupyter.widget-view+json": {
       "model_id": "",
       "version_major": 2,
       "version_minor": 0
      },
      "text/plain": [
       "FloatProgress(value=0.0, bar_style='info', description='Progress:', layout=Layout(height='25px', width='50%'),…"
      ]
     },
     "metadata": {},
     "output_type": "display_data"
    }
   ],
   "source": [
    "from pyspark.sql import Window\n",
    "from pyspark.sql.types import BooleanType,IntegerType\n",
    "import pyspark.sql.functions as f\n",
    "\n",
    "module_type = 'livevox_td_live_pre_transformation'\n",
    "\n",
    "\n",
    "phone_number_data_path = 's3://avantcamp-partner03-prod-ingestion-bucket/td/livevox_collections/td_livevox_live_pn/2025/02/03/12121/9/td_livevox_live_pn_12121_9_20250203.parquet'.format(**todays_args)\n",
    "\n",
    "final_phone_number_target_path = 's3://avantcamp-partner03-prod-transform-bucket/td/livevox_td_collection/phone_number/{YYYY}/{MM}/{DD}/12121/{campaign_run_id}/livevox_td_collection_phone_number_12121_{campaign_run_id}_{date}.parquet'.format(**todays_args)\n"
   ]
  },
  {
   "cell_type": "code",
   "execution_count": 27,
   "metadata": {},
   "outputs": [
    {
     "data": {
      "application/vnd.jupyter.widget-view+json": {
       "model_id": "",
       "version_major": 2,
       "version_minor": 0
      },
      "text/plain": [
       "FloatProgress(value=0.0, bar_style='info', description='Progress:', layout=Layout(height='25px', width='50%'),…"
      ]
     },
     "metadata": {},
     "output_type": "display_data"
    },
    {
     "name": "stdout",
     "output_type": "stream",
     "text": [
      "new_df is None!\n",
      "new_df is not boolean!>"
     ]
    }
   ],
   "source": [
    "\n",
    "live_phone_number_temp_df = spark.read.parquet(phone_number_data_path)  # noqa: F821\n",
    "\n",
    "window_group_final = Window.partitionBy(\"customer_id\").orderBy(f.col(\"active_flag\").desc(),f.col(\"primary_phone_flag\").desc(),f.col(\"neustar_score\").desc())\n",
    "live_phone_temp_df = live_phone_number_temp_df.withColumn(\"row\", f.row_number().over(window_group_final)).drop(\"row\")\n",
    "\n",
    "live_phone_temp_df_drop_cols = [\"auto_dial_flag_actual\", \"do_not_call_flag_actual\",\n",
    "                                     \"active_flag_actual\", \"sms_consented_flag_actual\"]\n",
    "\n",
    "live_phone_temp_df = live_phone_temp_df.withColumnRenamed(\n",
    "    \"auto_dial_flag\",\n",
    "    \"auto_dial_flag_actual\"\n",
    ")\n",
    "\n",
    "live_phone_temp_df = live_phone_temp_df.withColumnRenamed(\n",
    "    \"do_not_call_flag\",\n",
    "    \"do_not_call_flag_actual\"\n",
    ")\n",
    "\n",
    "live_phone_temp_df = live_phone_temp_df.withColumnRenamed(\n",
    "    \"active_flag\",\n",
    "    \"active_flag_actual\"\n",
    ")\n",
    "\n",
    "live_phone_temp_df = live_phone_temp_df.withColumnRenamed(\n",
    "    \"sms_consented_flag\",\n",
    "    \"sms_consented_flag_actual\"\n",
    ")\n",
    "\n",
    "live_phone_temp_deduped_df = live_phone_temp_df.dropDuplicates(\n",
    "    [\"customer_id\", \"phone_number\"]\n",
    ")\n",
    "\n",
    "live_phone_temp_auto_dial_flag_df = live_phone_temp_df.select(\n",
    "    \"customer_id\",\n",
    "    \"phone_number\",\n",
    "    \"auto_dial_flag_actual\",\n",
    "    \"active_flag_actual\",\n",
    "    \"sms_consented_flag_actual\"\n",
    ")\n",
    "\n",
    "live_phone_temp_do_not_call_df = live_phone_temp_df.select(\n",
    "    \"customer_id\",\n",
    "    \"phone_number\",\n",
    "    \"do_not_call_flag_actual\"\n",
    ")\n",
    "\n",
    "live_phone_temp_auto_dial_flag_df = live_phone_temp_auto_dial_flag_df.groupBy(\n",
    "    'customer_id', 'phone_number'\n",
    ").agg(\n",
    "    f.min('auto_dial_flag_actual').alias('auto_dial_flag'),\n",
    "    f.min('active_flag_actual').alias('active_flag'),\n",
    "    f.min('sms_consented_flag_actual').alias('sms_consented_flag'))\n",
    "\n",
    "live_phone_temp_do_not_call_df = live_phone_temp_do_not_call_df.groupBy(\n",
    "    'customer_id', 'phone_number'\n",
    ").agg(f.max('do_not_call_flag_actual').alias('do_not_call_flag'))\n",
    "\n",
    "live_phone_temp_deduped_df = live_phone_temp_deduped_df.join(\n",
    "    live_phone_temp_auto_dial_flag_df,\n",
    "    [\"customer_id\", \"phone_number\"],\n",
    "    'inner'\n",
    ")\n",
    "\n",
    "live_phone_temp_deduped_df = live_phone_temp_deduped_df.join(\n",
    "    live_phone_temp_do_not_call_df,\n",
    "    [\"customer_id\", \"phone_number\"],\n",
    "    'inner'\n",
    ")\n",
    "\n",
    "live_phone_temp_deduped_df = live_phone_temp_deduped_df.drop(\n",
    "    *live_phone_temp_df_drop_cols)\n",
    "\n",
    "live_phone_temp_df_slots = live_phone_temp_deduped_df.withColumn('slots', f.lit(\n",
    "    None).cast(IntegerType()))\\\n",
    "    .withColumn('number',f.col('phone_number')).drop(f.col('phone_number'))\n",
    "\n",
    "live_phone_temp_df_slots = live_phone_temp_df_slots.withColumn(\n",
    "    'slots',\n",
    "    f.when(\n",
    "        (f.col('row_num') == 1), 1\n",
    "    ).when(\n",
    "        (f.col('row_num') == 2), 2\n",
    "    ).when(\n",
    "        (f.col('row_num') == 3), 3\n",
    "    ).when(\n",
    "        (f.col('row_num') == 4), 4\n",
    "    ).otherwise(5)\n",
    ")\n",
    "\n",
    "datframe_track_list = []\n",
    "counter = 0\n",
    "\n",
    "# 1 # phone_number\n",
    "live_phone_number_df_slots_final = live_phone_temp_df_slots.withColumn(\n",
    "    'custom_phone_number_type',\n",
    "    f.when(\n",
    "        (f.col('slots') == 1), 'phone_1_number'\n",
    "    ).when(\n",
    "        (f.col('slots') == 2), 'phone_2_number'\n",
    "    ).when(\n",
    "        (f.col('slots') == 3), 'phone_3_number'\n",
    "    ).when(\n",
    "        (f.col('slots') == 4), 'phone_4_number'\n",
    "    ).when(\n",
    "        (f.col('slots') == 5), 'phone_5_number'\n",
    "    )\n",
    ")\n",
    "datframe_track_list.append(\n",
    "    {\n",
    "        'counter': counter + 1,\n",
    "        'column_name': 'custom_phone_number_type',\n",
    "        'pivot_col_name': 'phone_{}_number',\n",
    "        'dataframe': live_phone_number_df_slots_final,\n",
    "        'actual_column_name': 'number',\n",
    "        '_type': 'number'\n",
    "    }\n",
    ")\n",
    "\n",
    "# 2 # phone_number_primary\n",
    "live_phone_number_df_slots_final = live_phone_temp_df_slots.withColumn(\n",
    "    'custom_phone_number_primary_type',\n",
    "    f.when(\n",
    "        (f.col('slots') == 1) & (f.col('primary_phone_flag') == True), 'phone_1_primary_flag'  # noqa: E712\n",
    "    ).when(\n",
    "        (f.col('slots') == 2) & (f.col('primary_phone_flag') == True), 'phone_2_primary_flag'  # noqa: E712\n",
    "    ).when(\n",
    "        (f.col('slots') == 3) & (f.col('primary_phone_flag') == True), 'phone_3_primary_flag'  # noqa: E712\n",
    "    ).when(\n",
    "        (f.col('slots') == 4) & (f.col('primary_phone_flag') == True), 'phone_4_primary_flag'  # noqa: E712\n",
    "    ).when(\n",
    "        (f.col('slots') == 5) & (f.col('primary_phone_flag') == True), 'phone_5_primary_flag'  # noqa: E712\n",
    "    )\n",
    ")\n",
    "\n",
    "datframe_track_list.append(\n",
    "    {\n",
    "        'counter': counter + 1,\n",
    "        'column_name': 'custom_phone_number_primary_type',\n",
    "        'pivot_col_name': 'phone_{}_primary_flag',\n",
    "        'dataframe': live_phone_number_df_slots_final,\n",
    "        'actual_column_name': 'primary_phone_flag',\n",
    "        '_type': 'boolean'\n",
    "    }\n",
    ")\n",
    "\n",
    "# 3 # auto_dial_flag\n",
    "live_auto_dial_flag_df_slots_final = live_phone_temp_df_slots.withColumn(\n",
    "    'custom_auto_dial_flag',\n",
    "    f.when(\n",
    "        (f.col('slots') == 1) & (f.col('auto_dial_flag') == True),  # noqa: E712\n",
    "        'phone_1_auto_dial_flag'\n",
    "    ).when(\n",
    "        (f.col('slots') == 2) & (f.col('auto_dial_flag') == True),  # noqa: E712\n",
    "        'phone_2_auto_dial_flag'\n",
    "    ).when(\n",
    "        (f.col('slots') == 3) & (f.col('auto_dial_flag') == True),  # noqa: E712\n",
    "        'phone_3_auto_dial_flag'\n",
    "    ).when(\n",
    "        (f.col('slots') == 4) & (f.col('auto_dial_flag') == True),  # noqa: E712\n",
    "        'phone_4_auto_dial_flag'\n",
    "    ).when(\n",
    "        (f.col('slots') == 5) & (f.col('auto_dial_flag') == True),  # noqa: E712\n",
    "        'phone_5_auto_dial_flag'\n",
    "    )\n",
    ")\n",
    "\n",
    "datframe_track_list.append(\n",
    "    {\n",
    "        'counter': counter + 1,\n",
    "        'column_name': 'custom_auto_dial_flag',\n",
    "        'pivot_col_name': 'phone_{}_auto_dial_flag',\n",
    "        'dataframe': live_auto_dial_flag_df_slots_final,\n",
    "        'actual_column_name': 'auto_dial_flag',\n",
    "        '_type': 'boolean'\n",
    "    }\n",
    ")\n",
    "\n",
    "# 4 # active_flag\n",
    "live_active_flag_df_slots_final = live_phone_temp_df_slots.withColumn(\n",
    "    'custom_active_flag',\n",
    "    f.when(\n",
    "        (f.col('slots') == 1) & (f.col('active_flag') == True), 'phone_1_active_flag'  # noqa: E712\n",
    "    ).when(\n",
    "        (f.col('slots') == 2) & (f.col('active_flag') == True), 'phone_2_active_flag'  # noqa: E712\n",
    "    ).when(\n",
    "        (f.col('slots') == 3) & (f.col('active_flag') == True), 'phone_3_active_flag'  # noqa: E712\n",
    "    ).when(\n",
    "        (f.col('slots') == 4) & (f.col('active_flag') == True), 'phone_4_active_flag'  # noqa: E712\n",
    "    ).when(\n",
    "        (f.col('slots') == 5) & (f.col('active_flag') == True), 'phone_5_active_flag'  # noqa: E712\n",
    "    )\n",
    ")\n",
    "\n",
    "datframe_track_list.append(\n",
    "    {\n",
    "        'counter': counter + 1,\n",
    "        'column_name': 'custom_active_flag',\n",
    "        'pivot_col_name': 'phone_{}_active_flag',\n",
    "        'dataframe': live_active_flag_df_slots_final,\n",
    "        'actual_column_name': 'active_flag',\n",
    "        '_type': 'boolean'\n",
    "    }\n",
    ")\n",
    "\n",
    "# 5 # do_not_call_flag\n",
    "live_do_not_call_flag_df_slots_final = live_phone_temp_df_slots.withColumn(\n",
    "    'custom_do_not_call_flag',\n",
    "    f.when(\n",
    "        (f.col('slots') == 1) & (f.col('do_not_call_flag') == True),  # noqa: E712\n",
    "        'phone_1_do_not_call_flag'\n",
    "    ).when(\n",
    "        (f.col('slots') == 2) & (f.col('do_not_call_flag') == True),  # noqa: E712\n",
    "        'phone_2_do_not_call_flag'\n",
    "    ).when(\n",
    "        (f.col('slots') == 3) & (f.col('do_not_call_flag') == True),  # noqa: E712\n",
    "        'phone_3_do_not_call_flag'\n",
    "    ).when(\n",
    "        (f.col('slots') == 4) & (f.col('do_not_call_flag') == True),  # noqa: E712\n",
    "        'phone_4_do_not_call_flag'\n",
    "    ).when(\n",
    "        (f.col('slots') == 5) & (f.col('do_not_call_flag') == True),  # noqa: E712\n",
    "        'phone_5_do_not_call_flag'\n",
    "    )\n",
    ")\n",
    "\n",
    "datframe_track_list.append(\n",
    "    {\n",
    "        'counter': counter + 1,\n",
    "        'column_name': 'custom_do_not_call_flag',\n",
    "        'pivot_col_name': 'phone_{}_do_not_call_flag',\n",
    "        'dataframe': live_do_not_call_flag_df_slots_final,\n",
    "        'actual_column_name': 'do_not_call_flag',\n",
    "        '_type': 'boolean'\n",
    "    }\n",
    ")\n",
    "\n",
    "# 6 # sms_consented_flag\n",
    "live_sms_consented_flag_df_slots_final = live_phone_temp_df_slots.withColumn(\n",
    "    'custom_sms_consent_flag',\n",
    "    f.when(\n",
    "        (f.col('slots') == 1) & (f.col('sms_consented_flag') == True),  # noqa: E712\n",
    "        'phone_1_sms_consent_flag'\n",
    "    ).when(\n",
    "        (f.col('slots') == 2) & (f.col('sms_consented_flag') == True),  # noqa: E712\n",
    "        'phone_2_sms_consent_flag'\n",
    "    ).when(\n",
    "        (f.col('slots') == 3) & (f.col('sms_consented_flag') == True),  # noqa: E712\n",
    "        'phone_3_sms_consent_flag'\n",
    "    ).when(\n",
    "        (f.col('slots') == 4) & (f.col('sms_consented_flag') == True),  # noqa: E712\n",
    "        'phone_4_sms_consent_flag'\n",
    "    ).when(\n",
    "        (f.col('slots') == 5) & (f.col('sms_consented_flag') == True),  # noqa: E712\n",
    "        'phone_5_sms_consent_flag'\n",
    "    )\n",
    ")\n",
    "\n",
    "datframe_track_list.append(\n",
    "    {\n",
    "        'counter': counter + 1,\n",
    "        'column_name': 'custom_sms_consent_flag',\n",
    "        'pivot_col_name': 'phone_{}_sms_consent_flag',\n",
    "        'dataframe': live_sms_consented_flag_df_slots_final,\n",
    "        'actual_column_name': 'sms_consent_flag',\n",
    "        '_type': 'boolean'\n",
    "    }\n",
    ")\n",
    "\n",
    "# 7 # mobile_flag\n",
    "live_mobile_flag_df_slots_final = live_phone_temp_df_slots.withColumn(\n",
    "    'custom_mobile_flag',\n",
    "    f.when(\n",
    "        (f.col('slots') == 1) & (f.col('mobile_flag') == True),  # noqa: E712\n",
    "        'phone_1_confirmed_mobile_flag'\n",
    "    ).when(\n",
    "        (f.col('slots') == 2) & (f.col('mobile_flag') == True),  # noqa: E712\n",
    "        'phone_2_confirmed_mobile_flag'\n",
    "    ).when(\n",
    "        (f.col('slots') == 3) & (f.col('mobile_flag') == True),  # noqa: E712\n",
    "        'phone_3_confirmed_mobile_flag'\n",
    "    ).when(\n",
    "        (f.col('slots') == 4) & (f.col('mobile_flag') == True),  # noqa: E712\n",
    "        'phone_4_confirmed_mobile_flag'\n",
    "    ).when(\n",
    "        (f.col('slots') == 5) & (f.col('mobile_flag') == True),  # noqa: E712\n",
    "        'phone_5_confirmed_mobile_flag'\n",
    "    )\n",
    ")\n",
    "\n",
    "datframe_track_list.append(\n",
    "    {\n",
    "        'counter': counter + 1,\n",
    "        'column_name': 'custom_mobile_flag',\n",
    "        'pivot_col_name': 'phone_{}_confirmed_mobile_flag',\n",
    "        'dataframe': live_mobile_flag_df_slots_final,\n",
    "        'actual_column_name': 'mobile_flag',\n",
    "        '_type': 'boolean'\n",
    "    }\n",
    ")\n",
    "\n",
    "# 8 # phone_type\n",
    "live_phone_type_df_slots_final = live_phone_temp_df_slots.withColumn(\n",
    "    'custom_phone_type',\n",
    "    f.when(\n",
    "        (f.col('slots') == 1), 'phone_1_phone_type'\n",
    "    ).when(\n",
    "        (f.col('slots') == 2), 'phone_2_phone_type'\n",
    "    ).when(\n",
    "        (f.col('slots') == 3), 'phone_3_phone_type'\n",
    "    ).when(\n",
    "        (f.col('slots') == 4), 'phone_4_phone_type'\n",
    "    ).when(\n",
    "        (f.col('slots') == 5), 'phone_5_phone_type'\n",
    "    )\n",
    ")\n",
    "\n",
    "datframe_track_list.append(\n",
    "    {\n",
    "        'counter': counter + 1,\n",
    "        'column_name': 'custom_phone_type',\n",
    "        'pivot_col_name': 'phone_{}_phone_type',\n",
    "        'dataframe': live_phone_type_df_slots_final,\n",
    "        'actual_column_name': 'phone_type',\n",
    "        '_type': 'string'\n",
    "    }\n",
    ")\n",
    "\n",
    "# 9 # score\n",
    "live_score_df_slots_final = live_phone_temp_df_slots.withColumn(\n",
    "    'custom_score',\n",
    "    f.when(\n",
    "        (f.col('slots') == 1), 'phone_1_neustar_score'\n",
    "    ).when(\n",
    "        (f.col('slots') == 2), 'phone_2_neustar_score'\n",
    "    ).when(\n",
    "        (f.col('slots') == 3), 'phone_3_neustar_score'\n",
    "    ).when(\n",
    "        (f.col('slots') == 4), 'phone_4_neustar_score'\n",
    "    ).when(\n",
    "        (f.col('slots') == 5), 'phone_5_neustar_score'\n",
    "    )\n",
    ")\n",
    "\n",
    "datframe_track_list.append(\n",
    "    {\n",
    "        'counter': counter + 1,\n",
    "        'column_name': 'custom_score',\n",
    "        'pivot_col_name': 'phone_{}_neustar_score',\n",
    "        'dataframe': live_score_df_slots_final,\n",
    "        'actual_column_name': 'neustar_score',\n",
    "        '_type': 'int'\n",
    "    }\n",
    ")\n",
    "\n",
    "new_df = None\n",
    "pivoted_datframe_track_list = []\n",
    "for df_details in datframe_track_list:\n",
    "    actual_col_name = df_details['actual_column_name']\n",
    "\n",
    "    df_details['pivoted_dataframe'] = df_details['dataframe'].groupBy(\n",
    "        \"customer_id\").pivot(\n",
    "        df_details['column_name']\n",
    "    ).count().drop(\"null\").na.fill(0)\n",
    "\n",
    "    for i in range(1, 6):\n",
    "        if df_details['pivot_col_name'].format(i) not in df_details['pivoted_dataframe'].columns:\n",
    "            df_details['pivoted_dataframe'] = df_details['pivoted_dataframe'].withColumn(\n",
    "                df_details['pivot_col_name'].format(i),\n",
    "                f.lit(0)\n",
    "            )\n",
    "\n",
    "    for col in df_details['pivoted_dataframe'].columns:\n",
    "        if col != 'customer_id':\n",
    "            df_details['pivoted_dataframe'] = df_details['pivoted_dataframe'].withColumn(\n",
    "                col, df_details['pivoted_dataframe'][col].cast(BooleanType())\n",
    "            )\n",
    "# print(col)\n",
    "\n",
    "    if new_df is None:\n",
    "        print(\"new_df is None!\")\n",
    "        if df_details['_type'] == 'boolean':\n",
    "            print(\"new_df is boolean!\")\n",
    "            new_df = copy.deepcopy(df_details['pivoted_dataframe'])  # noqa: F821\n",
    "        else:\n",
    "            print(\"new_df is not boolean!>\")\n",
    "            mid_df = df_details['pivoted_dataframe'].select('customer_id')\n",
    "            live_phone_temp_df_slots_base = live_phone_temp_df_slots.select(\n",
    "                'customer_id', actual_col_name, 'slots')\n",
    "            for i in range(1, 6):\n",
    "                mid_df_1 = df_details['pivoted_dataframe'].join(\n",
    "                    live_phone_temp_df_slots_base.where(\n",
    "                        \"slots = {}\".format(i)),\n",
    "                    ['customer_id'],\n",
    "                    'left'\n",
    "                ).withColumn(\n",
    "                    'phone_{}_{}'.format(i, actual_col_name),\n",
    "                    f.when(\n",
    "                        (df_details['pivoted_dataframe'][\n",
    "                             'phone_{}_{}'.format(i, actual_col_name)] == True) &  # noqa: E712\n",
    "                        (live_phone_temp_df_slots_base['slots'] == i),\n",
    "                        live_phone_temp_df_slots_base[actual_col_name]\n",
    "                    ).otherwise(f.lit(None))\n",
    "                )\n",
    "                if i == 1:\n",
    "                    new_df = mid_df.join(\n",
    "                        mid_df_1.select('customer_id',\n",
    "                                        'phone_{}_{}'.format(i, actual_col_name)),\n",
    "                        ['customer_id'],\n",
    "                        'inner'\n",
    "                    ).drop(*[actual_col_name, 'slots'])\n",
    "                else:\n",
    "                    new_df = new_df.join(\n",
    "                        mid_df_1.select('customer_id',\n",
    "                                        'phone_{}_{}'.format(i, actual_col_name)),\n",
    "                        ['customer_id'],\n",
    "                        'inner'\n",
    "                    ).drop(*[actual_col_name, 'slots'])\n",
    "    else:\n",
    "        if df_details['_type'] == 'boolean':\n",
    "            new_df = new_df.join(\n",
    "                df_details['pivoted_dataframe'],\n",
    "                ['customer_id'],\n",
    "                'inner'\n",
    "            )\n",
    "        else:\n",
    "            mid_final_df = None\n",
    "            mid_df = df_details['pivoted_dataframe'].select('customer_id')\n",
    "            live_phone_temp_df_slots_base = live_phone_temp_df_slots.select(\n",
    "                'customer_id', actual_col_name, 'slots')\n",
    "            for i in range(1, 6):\n",
    "                mid_df_1 = df_details['pivoted_dataframe'].join(\n",
    "                    live_phone_temp_df_slots_base.where(\n",
    "                        \"slots = {}\".format(i)\n",
    "                    ),\n",
    "                    ['customer_id'],\n",
    "                    'left'\n",
    "                ).withColumn(\n",
    "                    'phone_{}_{}'.format(i, actual_col_name),\n",
    "                    f.when(\n",
    "                        (df_details['pivoted_dataframe'][\n",
    "                             'phone_{}_{}'.format(i, actual_col_name)] == True) &  # noqa: E712\n",
    "                        (live_phone_temp_df_slots_base['slots'] == i),\n",
    "                        live_phone_temp_df_slots_base[actual_col_name]\n",
    "                    ).otherwise(f.lit(None))\n",
    "                )\n",
    "                if i == 1:\n",
    "                    mid_final_df = mid_df.join(\n",
    "                        mid_df_1.select('customer_id',\n",
    "                                        'phone_{}_{}'.format(i, actual_col_name)),\n",
    "                        ['customer_id'],\n",
    "                        'inner'\n",
    "                    )\n",
    "                else:\n",
    "                    mid_final_df = mid_final_df.join(\n",
    "                        mid_df_1.select('customer_id',\n",
    "                                        'phone_{}_{}'.format(i, actual_col_name)),\n",
    "                        ['customer_id'],\n",
    "                        'inner'\n",
    "                    )\n",
    "            new_df = mid_final_df.join(\n",
    "                new_df,\n",
    "                ['customer_id'],\n",
    "                'inner'\n",
    "            ).drop(*[actual_col_name, 'slots'])\n",
    "\n",
    "    pivoted_datframe_track_list.append(new_df)\n",
    "    \n",
    "new_df.write.mode('overwrite').parquet(final_phone_number_target_path)"
   ]
  },
  {
   "cell_type": "code",
   "execution_count": 28,
   "metadata": {},
   "outputs": [
    {
     "data": {
      "application/vnd.jupyter.widget-view+json": {
       "model_id": "",
       "version_major": 2,
       "version_minor": 0
      },
      "text/plain": [
       "FloatProgress(value=0.0, bar_style='info', description='Progress:', layout=Layout(height='25px', width='50%'),…"
      ]
     },
     "metadata": {},
     "output_type": "display_data"
    },
    {
     "name": "stdout",
     "output_type": "stream",
     "text": [
      "'s3://avantcamp-partner03-prod-transform-bucket/td/livevox_td_collection/phone_number/2025/02/03/12121/9/livevox_td_collection_phone_number_12121_9_20250203.parquet'"
     ]
    }
   ],
   "source": [
    "final_phone_number_target_path"
   ]
  },
  {
   "cell_type": "code",
   "execution_count": 30,
   "metadata": {},
   "outputs": [
    {
     "data": {
      "application/vnd.jupyter.widget-view+json": {
       "model_id": "",
       "version_major": 2,
       "version_minor": 0
      },
      "text/plain": [
       "FloatProgress(value=0.0, bar_style='info', description='Progress:', layout=Layout(height='25px', width='50%'),…"
      ]
     },
     "metadata": {},
     "output_type": "display_data"
    },
    {
     "name": "stdout",
     "output_type": "stream",
     "text": [
      "82911"
     ]
    }
   ],
   "source": [
    "new_df.count()"
   ]
  },
  {
   "cell_type": "code",
   "execution_count": 31,
   "metadata": {},
   "outputs": [
    {
     "data": {
      "application/vnd.jupyter.widget-view+json": {
       "model_id": "",
       "version_major": 2,
       "version_minor": 0
      },
      "text/plain": [
       "FloatProgress(value=0.0, bar_style='info', description='Progress:', layout=Layout(height='25px', width='50%'),…"
      ]
     },
     "metadata": {},
     "output_type": "display_data"
    },
    {
     "name": "stdout",
     "output_type": "stream",
     "text": [
      "'s3://avantcamp-partner03-prod-transform-bucket/td/livevox_td_collection/phone_number/2025/02/03/12121/9/livevox_td_collection_phone_number_12121_9_20250203.parquet'"
     ]
    }
   ],
   "source": [
    "final_phone_number_target_path"
   ]
  },
  {
   "cell_type": "code",
   "execution_count": 32,
   "metadata": {
    "scrolled": true
   },
   "outputs": [
    {
     "data": {
      "application/vnd.jupyter.widget-view+json": {
       "model_id": "",
       "version_major": 2,
       "version_minor": 0
      },
      "text/plain": [
       "FloatProgress(value=0.0, bar_style='info', description='Progress:', layout=Layout(height='25px', width='50%'),…"
      ]
     },
     "metadata": {},
     "output_type": "display_data"
    },
    {
     "name": "stdout",
     "output_type": "stream",
     "text": [
      "'s3://avantcamp-partner03-prod-transform-bucket/td/livevox_td_collection/phone_number/2025/02/03/12121/9/livevox_td_collection_phone_number_12121_9_20250203.parquet'"
     ]
    }
   ],
   "source": [
    "final_phone_number_target_path"
   ]
  },
  {
   "cell_type": "code",
   "execution_count": null,
   "metadata": {},
   "outputs": [],
   "source": []
  },
  {
   "cell_type": "code",
   "execution_count": null,
   "metadata": {},
   "outputs": [],
   "source": []
  },
  {
   "cell_type": "code",
   "execution_count": null,
   "metadata": {},
   "outputs": [],
   "source": []
  },
  {
   "cell_type": "code",
   "execution_count": null,
   "metadata": {},
   "outputs": [],
   "source": []
  },
  {
   "cell_type": "code",
   "execution_count": 33,
   "metadata": {},
   "outputs": [
    {
     "data": {
      "application/vnd.jupyter.widget-view+json": {
       "model_id": "",
       "version_major": 2,
       "version_minor": 0
      },
      "text/plain": [
       "FloatProgress(value=0.0, bar_style='info', description='Progress:', layout=Layout(height='25px', width='50%'),…"
      ]
     },
     "metadata": {},
     "output_type": "display_data"
    }
   ],
   "source": [
    "\n",
    "\n",
    "final_product_type_target_path = 's3://avantcamp-partner03-prod-transform-bucket/td/livevox_td_collection/product_type/{YYYY}/{MM}/{DD}/12121/{campaign_run_id}/livevox_td_collection_product_type_12121_{campaign_run_id}_{date}.parquet'.format(**todays_args)\n",
    "\n",
    "final_phone_number_target_path = 's3://avantcamp-partner03-prod-transform-bucket/td/livevox_td_collection/phone_number/{YYYY}/{MM}/{DD}/12121/{campaign_run_id}/livevox_td_collection_phone_number_12121_{campaign_run_id}_{date}.parquet'.format(**todays_args)\n",
    "\n",
    "final_join_pd_and_ph_data_path = 's3://avantcamp-partner03-prod-transform-bucket/td/livevox_td_collection/pre_final_target/{YYYY}/{MM}/{DD}/12121/{campaign_run_id}/livevox_td_collection_pre_final_target_12121_{campaign_run_id}_{date}.parquet'.format(**todays_args)\n",
    "\n",
    "per_final_product_type_temp_df = spark.read.parquet(final_product_type_target_path)  # noqa: F821\n",
    "\n",
    "pre_final_phone_number_temp_df = spark.read.parquet(final_phone_number_target_path)  # noqa: F821\n",
    "\n",
    "final_pd_and_ph_join_df = per_final_product_type_temp_df.join(pre_final_phone_number_temp_df, ['customer_id'], how = 'left')\n",
    "\n",
    "#final_pd_and_ph_join_df = final_pd_and_ph_join_temp_df.dropDuplicates()\n",
    "\n",
    "# pre_final data\n",
    "\n",
    "final_pd_and_ph_join_df.write.mode('overwrite').parquet(final_join_pd_and_ph_data_path)"
   ]
  },
  {
   "cell_type": "code",
   "execution_count": 38,
   "metadata": {},
   "outputs": [
    {
     "data": {
      "application/vnd.jupyter.widget-view+json": {
       "model_id": "",
       "version_major": 2,
       "version_minor": 0
      },
      "text/plain": [
       "FloatProgress(value=0.0, bar_style='info', description='Progress:', layout=Layout(height='25px', width='50%'),…"
      ]
     },
     "metadata": {},
     "output_type": "display_data"
    },
    {
     "name": "stdout",
     "output_type": "stream",
     "text": [
      "+----------+\n",
      "|as_of_date|\n",
      "+----------+\n",
      "|2025-02-02|\n",
      "|2025-02-02|\n",
      "|2025-02-02|\n",
      "|2025-02-02|\n",
      "|2025-02-02|\n",
      "+----------+\n",
      "only showing top 5 rows"
     ]
    }
   ],
   "source": [
    "final_pd_and_ph_join_df.select('as_of_date').show(5)"
   ]
  },
  {
   "cell_type": "code",
   "execution_count": null,
   "metadata": {},
   "outputs": [],
   "source": []
  },
  {
   "cell_type": "code",
   "execution_count": null,
   "metadata": {},
   "outputs": [],
   "source": []
  },
  {
   "cell_type": "code",
   "execution_count": null,
   "metadata": {},
   "outputs": [],
   "source": []
  },
  {
   "cell_type": "code",
   "execution_count": null,
   "metadata": {},
   "outputs": [],
   "source": []
  },
  {
   "cell_type": "code",
   "execution_count": 60,
   "metadata": {},
   "outputs": [
    {
     "data": {
      "application/vnd.jupyter.widget-view+json": {
       "model_id": "",
       "version_major": 2,
       "version_minor": 0
      },
      "text/plain": [
       "FloatProgress(value=0.0, bar_style='info', description='Progress:', layout=Layout(height='25px', width='50%'),…"
      ]
     },
     "metadata": {},
     "output_type": "display_data"
    }
   ],
   "source": [
    "campaign_config = {'campaign_driver_id': 3840, 'campaign_type_config_id': 37, 'module_config_type_id': 37, 'module_config_type': 'campaign_type_config', 'stage_id': 1, 'sequence_number': 1, 'created_by': 'avantadmin', 'created_date': '2023-05-23', 'is_active_flag': True, 'config': {'campaign_type_config_id': 37, 'name': 'LiveVox TD Collection Live', 'description': 'LiveVox TD Collection Live Transformation', 'created_by': 'avantadmin', 'created_date': '2023-05-23', 'is_active_flag': True}, 'campaign_config_jsonb': {'1': {'approval_config': [{'campaign_driver_id': 3838, 'module_config_type_id': 69, 'module_config_type': 'approval_config', 'stage_id': 1, 'sequence_number': 1, 'created_by': 'avantadmin', 'created_date': '2023-03-15', 'is_active_flag': True, 'config': {'approval_config_id': 69, 'email_address': 'data-ops-pod@avant.com', 'role': 'pipeline_alert', 'alert_type': 'notification', 'created_by': 'avantadmin', 'created_date': '2023-03-15', 'is_active_flag': True, 'description': 'OPS Email List'}}, {'campaign_driver_id': 3839, 'module_config_type_id': 70, 'module_config_type': 'approval_config', 'stage_id': 1, 'sequence_number': 1, 'created_by': 'avantadmin', 'created_date': '2023-03-15', 'is_active_flag': True, 'config': {'approval_config_id': 70, 'email_address': 'data-ops-pod@avant.com', 'role': 'pipeline_alert', 'alert_type': 'error_alert', 'created_by': 'avantadmin', 'created_date': '2023-03-15', 'is_active_flag': True, 'description': 'OPS Email List'}}], 'campaign_type_config': {'campaign_driver_id': 3840, 'campaign_type_config_id': 37, 'module_config_type_id': 37, 'module_config_type': 'campaign_type_config', 'stage_id': 1, 'sequence_number': 1, 'created_by': 'avantadmin', 'created_date': '2023-05-23', 'is_active_flag': True, 'config': {'campaign_type_config_id': 37, 'name': 'LiveVox TD Collection Live', 'description': 'LiveVox TD Collection Live Transformation', 'created_by': 'avantadmin', 'created_date': '2023-05-23', 'is_active_flag': True}}, 'publish_config': [{'campaign_driver_id': 3841, 'module_config_type_id': 101, 'module_config_type': 'publish_config', 'stage_id': 1, 'sequence_number': 1, 'created_by': 'avantadmin', 'created_date': '2023-09-29', 'is_active_flag': True, 'config': {'publish_config_id': 101, 'publish_type': 'sftp', 'publish_path': '/ftpIn', 'secret_path': 'app/livevox/prod,app/landing_zone_encryption/livevox_publish', 'file_format_type': 'csv', 'encrypt': '1', 'created_by': 'avantadmin', 'created_date': '2023-09-29', 'is_active_flag': True, 'description': 'LivevoxTDCollectionPopulation'}}], 'selection_group_config': [{'campaign_driver_id': 3842, 'module_config_type_id': 1201, 'module_config_type': 'selection_group_config', 'stage_id': 1, 'sequence_number': 2, 'created_by': 'avantadmin', 'created_date': '2023-05-23', 'is_active_flag': True, 'description': 'LiveVox TD Live Phone Number', 'credit_policy': '', 'product_cd': '', 'inquiry_code': '', 'selection_group_type': 'suppression', 'parent_selection_group_config_id': None, 'config': [{'selection_group_rule_config_id': 3024, 'selection_group_config_id': 1201, 'sequence_number': 1, 'selection_criteria_type': 'suppression', 'rule_type': 'custom', 'rule_condition': 'custom', 'description': 'LiveVox TD Live Phone Number', 'rule_value_type': 'custom', 'attribute_name': 'custom', 'attribute_id': '', 'sql_query': 'select * from td.prod.dw.dw_ops_live.phone_number', 'rule_value': 'select * from td.prod.dw.dw_ops_live.phone_number', 'created_by': 'avantadmin', 'created_date': '2023-05-23', 'is_active_flag': True, 'config': 'select * from td.prod.dw.dw_ops_live.phone_number'}]}, {'campaign_driver_id': 3843, 'module_config_type_id': 1202, 'module_config_type': 'selection_group_config', 'stage_id': 1, 'sequence_number': 3, 'created_by': 'avantadmin', 'created_date': '2023-05-23', 'is_active_flag': True, 'description': 'LiveVox TD Live Customer Product Flags', 'credit_policy': '', 'product_cd': '', 'inquiry_code': '', 'selection_group_type': 'suppression', 'parent_selection_group_config_id': None, 'config': [{'selection_group_rule_config_id': 3025, 'selection_group_config_id': 1202, 'sequence_number': 1, 'selection_criteria_type': 'suppression', 'rule_type': 'custom', 'rule_condition': 'custom', 'description': 'LiveVox TD Live Customer Product Flags', 'rule_value_type': 'custom', 'attribute_name': 'custom', 'attribute_id': '', 'sql_query': 'select * from td.prod.dw.dw_ops_live.customer_product_flags', 'rule_value': 'select * from td.prod.dw.dw_ops_live.customer_product_flags', 'created_by': 'avantadmin', 'created_date': '2023-05-23', 'is_active_flag': True, 'config': 'select * from td.prod.dw.dw_ops_live.customer_product_flags'}]}, {'campaign_driver_id': 3844, 'module_config_type_id': 1203, 'module_config_type': 'selection_group_config', 'stage_id': 1, 'sequence_number': 4, 'created_by': 'avantadmin', 'created_date': '2023-05-23', 'is_active_flag': True, 'description': 'LiveVox TD Live Workflow Log', 'credit_policy': '', 'product_cd': '', 'inquiry_code': '', 'selection_group_type': 'suppression', 'parent_selection_group_config_id': None, 'config': [{'selection_group_rule_config_id': 3026, 'selection_group_config_id': 1203, 'sequence_number': 1, 'selection_criteria_type': 'suppression', 'rule_type': 'custom', 'rule_condition': 'custom', 'description': 'LiveVox TD Live Workflow Log', 'rule_value_type': 'custom', 'attribute_name': 'custom', 'attribute_id': '', 'sql_query': 'select * from td.prod.dw.dw_ops_live.workflow_log', 'rule_value': 'select * from td.prod.dw.dw_ops_live.workflow_log', 'created_by': 'avantadmin', 'created_date': '2023-05-23', 'is_active_flag': True, 'config': 'select * from td.prod.dw.dw_ops_live.workflow_log'}]}, {'campaign_driver_id': 3845, 'module_config_type_id': 1204, 'module_config_type': 'selection_group_config', 'stage_id': 1, 'sequence_number': 5, 'created_by': 'avantadmin', 'created_date': '2023-05-23', 'is_active_flag': True, 'description': 'LiveVox TD Live Final Transfomations', 'credit_policy': '', 'product_cd': '', 'inquiry_code': '', 'selection_group_type': 'eligibility', 'parent_selection_group_config_id': None, 'eligibility_config': [{'selection_group_rule_config_id': 3035, 'selection_group_config_id': 1204, 'sequence_number': 1, 'selection_criteria_type': 'eligibility', 'rule_type': 'custom', 'rule_condition': 'custom', 'description': 'published_phone_5_do_not_contact_flag', 'rule_value_type': 'custom', 'attribute_name': 'published_phone_5_do_not_contact_flag', 'attribute_id': '', 'sql_query': 'NOT phone_5_active_flag \\nOR phone_5_do_not_call_flag \\nOR NOT (phone_5_auto_dial_flag AND can_robocall_flag)', 'rule_value': 'NOT phone_5_active_flag \\nOR phone_5_do_not_call_flag \\nOR NOT (phone_5_auto_dial_flag AND can_robocall_flag)', 'created_by': 'avantadmin', 'created_date': '2023-05-23', 'is_active_flag': True, 'config': 'select * from {0} where NOT phone_5_active_flag \\nOR phone_5_do_not_call_flag \\nOR NOT (phone_5_auto_dial_flag AND can_robocall_flag)'}, {'selection_group_rule_config_id': 3036, 'selection_group_config_id': 1204, 'sequence_number': 1, 'selection_criteria_type': 'eligibility', 'rule_type': 'custom', 'rule_condition': 'custom', 'description': 'published_phone_4_auto_dial_flag', 'rule_value_type': 'custom', 'attribute_name': 'published_phone_4_auto_dial_flag', 'attribute_id': '', 'sql_query': 'phone_4_auto_dial_flag \\nAND (phone_4_neustar_score >= 7)\\nAND can_robocall_flag', 'rule_value': 'phone_4_auto_dial_flag \\nAND (phone_4_neustar_score >= 7)\\nAND can_robocall_flag', 'created_by': 'avantadmin', 'created_date': '2023-05-23', 'is_active_flag': True, 'config': 'select * from {0} where phone_4_auto_dial_flag \\nAND (phone_4_neustar_score >= 7)\\nAND can_robocall_flag'}, {'selection_group_rule_config_id': 3037, 'selection_group_config_id': 1204, 'sequence_number': 1, 'selection_criteria_type': 'eligibility', 'rule_type': 'custom', 'rule_condition': 'custom', 'description': 'published_phone_4_sms_flag', 'rule_value_type': 'custom', 'attribute_name': 'published_phone_4_sms_flag', 'attribute_id': '', 'sql_query': 'phone_4_active_flag \\nAND phone_4_confirmed_mobile_flag\\nAND phone_4_sms_consent_flag\\nAND (phone_4_neustar_score >= 70)\\nAND NOT phone_4_do_not_call_flag', 'rule_value': 'phone_4_active_flag \\nAND phone_4_confirmed_mobile_flag\\nAND phone_4_sms_consent_flag\\nAND (phone_4_neustar_score >= 70)\\nAND NOT phone_4_do_not_call_flag', 'created_by': 'avantadmin', 'created_date': '2023-05-23', 'is_active_flag': True, 'config': 'select * from {0} where phone_4_active_flag \\nAND phone_4_confirmed_mobile_flag\\nAND phone_4_sms_consent_flag\\nAND (phone_4_neustar_score >= 70)\\nAND NOT phone_4_do_not_call_flag'}, {'selection_group_rule_config_id': 3038, 'selection_group_config_id': 1204, 'sequence_number': 1, 'selection_criteria_type': 'eligibility', 'rule_type': 'custom', 'rule_condition': 'custom', 'description': 'published_phone_4_do_not_contact_flag', 'rule_value_type': 'custom', 'attribute_name': 'published_phone_4_do_not_contact_flag', 'attribute_id': '', 'sql_query': 'NOT phone_4_active_flag \\nOR phone_4_do_not_call_flag \\nOR NOT (phone_4_auto_dial_flag AND can_robocall_flag)', 'rule_value': 'NOT phone_4_active_flag \\nOR phone_4_do_not_call_flag \\nOR NOT (phone_4_auto_dial_flag AND can_robocall_flag)', 'created_by': 'avantadmin', 'created_date': '2023-05-23', 'is_active_flag': True, 'config': 'select * from {0} where NOT phone_4_active_flag \\nOR phone_4_do_not_call_flag \\nOR NOT (phone_4_auto_dial_flag AND can_robocall_flag)'}, {'selection_group_rule_config_id': 3039, 'selection_group_config_id': 1204, 'sequence_number': 1, 'selection_criteria_type': 'eligibility', 'rule_type': 'custom', 'rule_condition': 'custom', 'description': 'published_phone_3_auto_dial_flag', 'rule_value_type': 'custom', 'attribute_name': 'published_phone_3_auto_dial_flag', 'attribute_id': '', 'sql_query': 'phone_3_auto_dial_flag \\nAND (phone_3_neustar_score >= 7)\\nAND can_robocall_flag', 'rule_value': 'phone_3_auto_dial_flag \\nAND (phone_3_neustar_score >= 7)\\nAND can_robocall_flag', 'created_by': 'avantadmin', 'created_date': '2023-05-23', 'is_active_flag': True, 'config': 'select * from {0} where phone_3_auto_dial_flag \\nAND (phone_3_neustar_score >= 7)\\nAND can_robocall_flag'}, {'selection_group_rule_config_id': 3040, 'selection_group_config_id': 1204, 'sequence_number': 1, 'selection_criteria_type': 'eligibility', 'rule_type': 'custom', 'rule_condition': 'custom', 'description': 'published_phone_3_sms_flag', 'rule_value_type': 'custom', 'attribute_name': 'published_phone_3_sms_flag', 'attribute_id': '', 'sql_query': 'phone_3_active_flag \\nAND phone_3_confirmed_mobile_flag\\nAND phone_3_sms_consent_flag\\nAND (phone_3_neustar_score >= 70)\\nAND NOT phone_3_do_not_call_flag', 'rule_value': 'phone_3_active_flag \\nAND phone_3_confirmed_mobile_flag\\nAND phone_3_sms_consent_flag\\nAND (phone_3_neustar_score >= 70)\\nAND NOT phone_3_do_not_call_flag', 'created_by': 'avantadmin', 'created_date': '2023-05-23', 'is_active_flag': True, 'config': 'select * from {0} where phone_3_active_flag \\nAND phone_3_confirmed_mobile_flag\\nAND phone_3_sms_consent_flag\\nAND (phone_3_neustar_score >= 70)\\nAND NOT phone_3_do_not_call_flag'}, {'selection_group_rule_config_id': 3041, 'selection_group_config_id': 1204, 'sequence_number': 1, 'selection_criteria_type': 'eligibility', 'rule_type': 'custom', 'rule_condition': 'custom', 'description': 'published_phone_3_do_not_contact_flag', 'rule_value_type': 'custom', 'attribute_name': 'published_phone_3_do_not_contact_flag', 'attribute_id': '', 'sql_query': 'NOT phone_3_active_flag \\nOR phone_3_do_not_call_flag \\nOR NOT (phone_3_auto_dial_flag AND can_robocall_flag)', 'rule_value': 'NOT phone_3_active_flag \\nOR phone_3_do_not_call_flag \\nOR NOT (phone_3_auto_dial_flag AND can_robocall_flag)', 'created_by': 'avantadmin', 'created_date': '2023-05-23', 'is_active_flag': True, 'config': 'select * from {0} where NOT phone_3_active_flag \\nOR phone_3_do_not_call_flag \\nOR NOT (phone_3_auto_dial_flag AND can_robocall_flag)'}, {'selection_group_rule_config_id': 3043, 'selection_group_config_id': 1204, 'sequence_number': 1, 'selection_criteria_type': 'eligibility', 'rule_type': 'custom', 'rule_condition': 'custom', 'description': 'published_phone_2_sms_flag', 'rule_value_type': 'custom', 'attribute_name': 'published_phone_2_sms_flag', 'attribute_id': '', 'sql_query': 'phone_2_active_flag \\nAND phone_2_confirmed_mobile_flag\\nAND phone_2_sms_consent_flag\\nAND (phone_2_neustar_score >= 70)\\nAND NOT phone_2_do_not_call_flag', 'rule_value': 'phone_2_active_flag \\nAND phone_2_confirmed_mobile_flag\\nAND phone_2_sms_consent_flag\\nAND (phone_2_neustar_score >= 70)\\nAND NOT phone_2_do_not_call_flag', 'created_by': 'avantadmin', 'created_date': '2023-05-23', 'is_active_flag': True, 'config': 'select * from {0} where phone_2_active_flag \\nAND phone_2_confirmed_mobile_flag\\nAND phone_2_sms_consent_flag\\nAND (phone_2_neustar_score >= 70)\\nAND NOT phone_2_do_not_call_flag'}, {'selection_group_rule_config_id': 3044, 'selection_group_config_id': 1204, 'sequence_number': 1, 'selection_criteria_type': 'eligibility', 'rule_type': 'custom', 'rule_condition': 'custom', 'description': 'published_phone_2_do_not_contact_flag', 'rule_value_type': 'custom', 'attribute_name': 'published_phone_2_do_not_contact_flag', 'attribute_id': '', 'sql_query': 'NOT phone_2_active_flag \\nOR phone_2_do_not_call_flag \\nOR NOT (phone_2_auto_dial_flag AND can_robocall_flag)', 'rule_value': 'NOT phone_2_active_flag \\nOR phone_2_do_not_call_flag \\nOR NOT (phone_2_auto_dial_flag AND can_robocall_flag)', 'created_by': 'avantadmin', 'created_date': '2023-05-23', 'is_active_flag': True, 'config': 'select * from {0} where NOT phone_2_active_flag \\nOR phone_2_do_not_call_flag \\nOR NOT (phone_2_auto_dial_flag AND can_robocall_flag)'}, {'selection_group_rule_config_id': 3045, 'selection_group_config_id': 1204, 'sequence_number': 1, 'selection_criteria_type': 'eligibility', 'rule_type': 'custom', 'rule_condition': 'custom', 'description': 'published_phone_1_auto_dial_flag', 'rule_value_type': 'custom', 'attribute_name': 'published_phone_1_auto_dial_flag', 'attribute_id': '', 'sql_query': 'phone_1_auto_dial_flag \\nAND (phone_1_neustar_score >= 7)\\nAND can_robocall_flag', 'rule_value': 'phone_1_auto_dial_flag \\nAND (phone_1_neustar_score >= 7)\\nAND can_robocall_flag', 'created_by': 'avantadmin', 'created_date': '2023-05-23', 'is_active_flag': True, 'config': 'select * from {0} where phone_1_auto_dial_flag \\nAND (phone_1_neustar_score >= 7)\\nAND can_robocall_flag'}, {'selection_group_rule_config_id': 3046, 'selection_group_config_id': 1204, 'sequence_number': 1, 'selection_criteria_type': 'eligibility', 'rule_type': 'custom', 'rule_condition': 'custom', 'description': 'published_phone_1_sms_flag', 'rule_value_type': 'custom', 'attribute_name': 'published_phone_1_sms_flag', 'attribute_id': '', 'sql_query': 'phone_1_active_flag \\nAND phone_1_confirmed_mobile_flag\\nAND phone_1_sms_consent_flag\\nAND (phone_1_neustar_score >= 70)\\nAND NOT phone_1_do_not_call_flag', 'rule_value': 'phone_1_active_flag \\nAND phone_1_confirmed_mobile_flag\\nAND phone_1_sms_consent_flag\\nAND (phone_1_neustar_score >= 70)\\nAND NOT phone_1_do_not_call_flag', 'created_by': 'avantadmin', 'created_date': '2023-05-23', 'is_active_flag': True, 'config': 'select * from {0} where phone_1_active_flag \\nAND phone_1_confirmed_mobile_flag\\nAND phone_1_sms_consent_flag\\nAND (phone_1_neustar_score >= 70)\\nAND NOT phone_1_do_not_call_flag'}, {'selection_group_rule_config_id': 3047, 'selection_group_config_id': 1204, 'sequence_number': 1, 'selection_criteria_type': 'eligibility', 'rule_type': 'custom', 'rule_condition': 'custom', 'description': 'published_phone_1_do_not_contact_flag', 'rule_value_type': 'custom', 'attribute_name': 'published_phone_1_do_not_contact_flag', 'attribute_id': '', 'sql_query': '(NOT phone_1_active_flag \\nOR phone_1_do_not_call_flag \\nOR NOT (phone_1_auto_dial_flag AND can_robocall_flag))', 'rule_value': '(NOT phone_1_active_flag \\nOR phone_1_do_not_call_flag \\nOR NOT (phone_1_auto_dial_flag AND can_robocall_flag))', 'created_by': 'avantadmin', 'created_date': '2023-05-23', 'is_active_flag': True, 'config': 'select * from {0} where (NOT phone_1_active_flag \\nOR phone_1_do_not_call_flag \\nOR NOT (phone_1_auto_dial_flag AND can_robocall_flag))'}, {'selection_group_rule_config_id': 3029, 'selection_group_config_id': 1204, 'sequence_number': 1, 'selection_criteria_type': 'eligibility', 'rule_type': 'custom', 'rule_condition': 'custom', 'description': 'published_sms_consent_flag', 'rule_value_type': 'custom', 'attribute_name': 'published_sms_consent_flag', 'attribute_id': '', 'sql_query': \"NOT do_not_sms_flag\\nand NOT do_not_call_flag\\nand NOT bankruptcy_flag\\nand NOT customer_state == 'DC'\\nand NOT claimed_fraud_flag\\nand NOT person_deceased_flag\\nand NOT (disaster_zone_flag AND days_into_disaster <= 14)\\nand NOT dmc_flag\\nand NOT escalate_to_compliance_flag\\nand NOT escalate_to_legal_flag\\nand NOT tier_1_complaint_flag\", 'rule_value': \"NOT do_not_sms_flag\\nand NOT do_not_call_flag\\nand NOT bankruptcy_flag\\nand NOT customer_state == 'DC'\\nand NOT claimed_fraud_flag\\nand NOT person_deceased_flag\\nand NOT (disaster_zone_flag AND days_into_disaster <= 14)\\nand NOT dmc_flag\\nand NOT escalate_to_compliance_flag\\nand NOT escalate_to_legal_flag\\nand NOT tier_1_complaint_flag\", 'created_by': 'avantadmin', 'created_date': '2023-05-23', 'is_active_flag': True, 'config': \"select * from {0} where NOT do_not_sms_flag\\nand NOT do_not_call_flag\\nand NOT bankruptcy_flag\\nand NOT customer_state == 'DC'\\nand NOT claimed_fraud_flag\\nand NOT person_deceased_flag\\nand NOT (disaster_zone_flag AND days_into_disaster <= 14)\\nand NOT dmc_flag\\nand NOT escalate_to_compliance_flag\\nand NOT escalate_to_legal_flag\\nand NOT tier_1_complaint_flag\"}, {'selection_group_rule_config_id': 3031, 'selection_group_config_id': 1204, 'sequence_number': 1, 'selection_criteria_type': 'eligibility', 'rule_type': 'custom', 'rule_condition': 'custom', 'description': 'published_do_not_contact_flag', 'rule_value_type': 'custom', 'attribute_name': 'published_do_not_contact_flag', 'attribute_id': '', 'sql_query': \"bankruptcy_flag\\nOR customer_state == 'DC'\\nOR claimed_fraud_flag\\nOR fraud_confirmed_flag\\nOR person_deceased_flag\\nOR (disaster_zone_flag AND days_into_disaster <= 14)\\nOR dmc_flag\\nOR do_not_call_flag\\nOR escalate_to_compliance_flag\\nOR escalate_to_legal_flag\\nOR tier_1_complaint_flag\\nOR spanish_speaker_flag\\nOR do_not_call_zipcode_flag\", 'rule_value': \"bankruptcy_flag\\nOR customer_state == 'DC'\\nOR claimed_fraud_flag\\nOR fraud_confirmed_flag\\nOR person_deceased_flag\\nOR (disaster_zone_flag AND days_into_disaster <= 14)\\nOR dmc_flag\\nOR do_not_call_flag\\nOR escalate_to_compliance_flag\\nOR escalate_to_legal_flag\\nOR tier_1_complaint_flag\\nOR spanish_speaker_flag\\nOR do_not_call_zipcode_flag\", 'created_by': 'avantadmin', 'created_date': '2023-05-23', 'is_active_flag': True, 'config': \"select * from {0} where bankruptcy_flag\\nOR customer_state == 'DC'\\nOR claimed_fraud_flag\\nOR fraud_confirmed_flag\\nOR person_deceased_flag\\nOR (disaster_zone_flag AND days_into_disaster <= 14)\\nOR dmc_flag\\nOR do_not_call_flag\\nOR escalate_to_compliance_flag\\nOR escalate_to_legal_flag\\nOR tier_1_complaint_flag\\nOR spanish_speaker_flag\\nOR do_not_call_zipcode_flag\"}, {'selection_group_rule_config_id': 3042, 'selection_group_config_id': 1204, 'sequence_number': 1, 'selection_criteria_type': 'eligibility', 'rule_type': 'custom', 'rule_condition': 'custom', 'description': 'published_phone_2_auto_dial_flag', 'rule_value_type': 'custom', 'attribute_name': 'published_phone_2_auto_dial_flag', 'attribute_id': '', 'sql_query': 'phone_2_auto_dial_flag \\nAND (phone_2_neustar_score >= 7)\\nAND can_robocall_flag', 'rule_value': 'phone_2_auto_dial_flag \\nAND (phone_2_neustar_score >= 7)\\nAND can_robocall_flag', 'created_by': 'avantadmin', 'created_date': '2023-05-23', 'is_active_flag': True, 'config': 'select * from {0} where phone_2_auto_dial_flag \\nAND (phone_2_neustar_score >= 7)\\nAND can_robocall_flag'}, {'selection_group_rule_config_id': 3027, 'selection_group_config_id': 1204, 'sequence_number': 1, 'selection_criteria_type': 'eligibility', 'rule_type': 'custom', 'rule_condition': 'custom', 'description': 'published_prd2_financial_situation_review_eligible', 'rule_value_type': 'custom', 'attribute_name': 'published_prd2_financial_situation_review_eligible', 'attribute_id': '', 'sql_query': 'NOT outstanding_fsr_flag\\nand prd2_months_on_book > 6', 'rule_value': 'NOT outstanding_fsr_flag\\nand prd2_months_on_book > 6', 'created_by': 'avantadmin', 'created_date': '2023-05-23', 'is_active_flag': True, 'config': 'select * from {0} where NOT outstanding_fsr_flag\\nand prd2_months_on_book > 6'}, {'selection_group_rule_config_id': 3028, 'selection_group_config_id': 1204, 'sequence_number': 1, 'selection_criteria_type': 'eligibility', 'rule_type': 'custom', 'rule_condition': 'custom', 'description': 'published_prd1_financial_situation_review_eligible', 'rule_value_type': 'custom', 'attribute_name': 'published_prd1_financial_situation_review_eligible', 'attribute_id': '', 'sql_query': 'NOT outstanding_fsr_flag\\nand prd1_months_on_book > 6', 'rule_value': 'NOT outstanding_fsr_flag\\nand prd1_months_on_book > 6', 'created_by': 'avantadmin', 'created_date': '2023-05-23', 'is_active_flag': True, 'config': 'select * from {0} where NOT outstanding_fsr_flag\\nand prd1_months_on_book > 6'}, {'selection_group_rule_config_id': 3030, 'selection_group_config_id': 1204, 'sequence_number': 1, 'selection_criteria_type': 'eligibility', 'rule_type': 'custom', 'rule_condition': 'custom', 'description': 'published_do_not_contact_today_flag', 'rule_value_type': 'custom', 'attribute_name': 'published_do_not_contact_today_flag', 'attribute_id': '', 'sql_query': 'in_flight_payment_flag\\nOR is_payment_protection_applied_flag\\nOR in_flight_blind_flag\\nOR on_active_payment_plan_flag\\nOR placed_with_agency_flag\\nOR scra_flag\\nOR on_soft_pause_flag\\nOR disaster_zone_flag\\nOR rpc_today_flag', 'rule_value': 'in_flight_payment_flag\\nOR is_payment_protection_applied_flag\\nOR in_flight_blind_flag\\nOR on_active_payment_plan_flag\\nOR placed_with_agency_flag\\nOR scra_flag\\nOR on_soft_pause_flag\\nOR disaster_zone_flag\\nOR rpc_today_flag', 'created_by': 'avantadmin', 'created_date': '2023-05-23', 'is_active_flag': True, 'config': 'select * from {0} where in_flight_payment_flag\\nOR is_payment_protection_applied_flag\\nOR in_flight_blind_flag\\nOR on_active_payment_plan_flag\\nOR placed_with_agency_flag\\nOR scra_flag\\nOR on_soft_pause_flag\\nOR disaster_zone_flag\\nOR rpc_today_flag'}, {'selection_group_rule_config_id': 3032, 'selection_group_config_id': 1204, 'sequence_number': 1, 'selection_criteria_type': 'eligibility', 'rule_type': 'custom', 'rule_condition': 'custom', 'description': 'published_email_consent_flag', 'rule_value_type': 'custom', 'attribute_name': 'published_email_consent_flag', 'attribute_id': '', 'sql_query': \"NOT bad_email_flag\\nand NOT bankruptcy_flag\\nand NOT customer_state == 'DC'\\nand NOT claimed_fraud_flag\\nand NOT fraud_confirmed_flag\\nand NOT person_deceased_flag\\nand NOT disaster_zone_flag\\nand NOT dmc_flag\\nand NOT do_not_call_flag\\nand NOT escalate_to_compliance_flag\\nand NOT escalate_to_legal_flag\\nand NOT tier_1_complaint_flag\\nand NOT do_not_call_zipcode_flag\", 'rule_value': \"NOT bad_email_flag\\nand NOT bankruptcy_flag\\nand NOT customer_state == 'DC'\\nand NOT claimed_fraud_flag\\nand NOT fraud_confirmed_flag\\nand NOT person_deceased_flag\\nand NOT disaster_zone_flag\\nand NOT dmc_flag\\nand NOT do_not_call_flag\\nand NOT escalate_to_compliance_flag\\nand NOT escalate_to_legal_flag\\nand NOT tier_1_complaint_flag\\nand NOT do_not_call_zipcode_flag\", 'created_by': 'avantadmin', 'created_date': '2023-05-23', 'is_active_flag': True, 'config': \"select * from {0} where NOT bad_email_flag\\nand NOT bankruptcy_flag\\nand NOT customer_state == 'DC'\\nand NOT claimed_fraud_flag\\nand NOT fraud_confirmed_flag\\nand NOT person_deceased_flag\\nand NOT disaster_zone_flag\\nand NOT dmc_flag\\nand NOT do_not_call_flag\\nand NOT escalate_to_compliance_flag\\nand NOT escalate_to_legal_flag\\nand NOT tier_1_complaint_flag\\nand NOT do_not_call_zipcode_flag\"}, {'selection_group_rule_config_id': 3033, 'selection_group_config_id': 1204, 'sequence_number': 1, 'selection_criteria_type': 'eligibility', 'rule_type': 'custom', 'rule_condition': 'custom', 'description': 'published_phone_5_auto_dial_flag', 'rule_value_type': 'custom', 'attribute_name': 'published_phone_5_auto_dial_flag', 'attribute_id': '', 'sql_query': 'phone_5_auto_dial_flag \\nAND (phone_5_neustar_score >= 7)\\nAND can_robocall_flag', 'rule_value': 'phone_5_auto_dial_flag \\nAND (phone_5_neustar_score >= 7)\\nAND can_robocall_flag', 'created_by': 'avantadmin', 'created_date': '2023-05-23', 'is_active_flag': True, 'config': 'select * from {0} where phone_5_auto_dial_flag \\nAND (phone_5_neustar_score >= 7)\\nAND can_robocall_flag'}, {'selection_group_rule_config_id': 3034, 'selection_group_config_id': 1204, 'sequence_number': 1, 'selection_criteria_type': 'eligibility', 'rule_type': 'custom', 'rule_condition': 'custom', 'description': 'published_phone_5_sms_flag', 'rule_value_type': 'custom', 'attribute_name': 'published_phone_5_sms_flag', 'attribute_id': '', 'sql_query': 'phone_5_active_flag \\nAND phone_5_confirmed_mobile_flag\\nAND phone_5_sms_consent_flag\\nAND (phone_5_neustar_score >= 70)\\nAND NOT phone_5_do_not_call_flag', 'rule_value': 'phone_5_active_flag \\nAND phone_5_confirmed_mobile_flag\\nAND phone_5_sms_consent_flag\\nAND (phone_5_neustar_score >= 70)\\nAND NOT phone_5_do_not_call_flag', 'created_by': 'avantadmin', 'created_date': '2023-05-23', 'is_active_flag': True, 'config': 'select * from {0} where phone_5_active_flag \\nAND phone_5_confirmed_mobile_flag\\nAND phone_5_sms_consent_flag\\nAND (phone_5_neustar_score >= 70)\\nAND NOT phone_5_do_not_call_flag'}], 'eligibility_config_id': [1204]}]}}, 'campaign_name': 'livevox_td_collection_live_february_2025', 'campaign_config_s3_path': 'None', 'campaign_deployment_log_id': 2318, 'name': 'LiveVox TD Collection Live', 'table_name': 'campaign_config.campaign_driver_config', 'campaign_driver_config_id': 40975}\n"
   ]
  },
  {
   "cell_type": "code",
   "execution_count": 70,
   "metadata": {},
   "outputs": [
    {
     "data": {
      "application/vnd.jupyter.widget-view+json": {
       "model_id": "",
       "version_major": 2,
       "version_minor": 0
      },
      "text/plain": [
       "FloatProgress(value=0.0, bar_style='info', description='Progress:', layout=Layout(height='25px', width='50%'),…"
      ]
     },
     "metadata": {},
     "output_type": "display_data"
    },
    {
     "name": "stdout",
     "output_type": "stream",
     "text": [
      "[{'campaign_driver_id': 3842, 'module_config_type_id': 1201, 'module_config_type': 'selection_group_config', 'stage_id': 1, 'sequence_number': 2, 'created_by': 'avantadmin', 'created_date': '2023-05-23', 'is_active_flag': True, 'description': 'LiveVox TD Live Phone Number', 'credit_policy': '', 'product_cd': '', 'inquiry_code': '', 'selection_group_type': 'suppression', 'parent_selection_group_config_id': None, 'config': [{'selection_group_rule_config_id': 3024, 'selection_group_config_id': 1201, 'sequence_number': 1, 'selection_criteria_type': 'suppression', 'rule_type': 'custom', 'rule_condition': 'custom', 'description': 'LiveVox TD Live Phone Number', 'rule_value_type': 'custom', 'attribute_name': 'custom', 'attribute_id': '', 'sql_query': 'select * from td.prod.dw.dw_ops_live.phone_number', 'rule_value': 'select * from td.prod.dw.dw_ops_live.phone_number', 'created_by': 'avantadmin', 'created_date': '2023-05-23', 'is_active_flag': True, 'config': 'select * from td.prod.dw.dw_ops_live.phone_number'}]}, {'campaign_driver_id': 3843, 'module_config_type_id': 1202, 'module_config_type': 'selection_group_config', 'stage_id': 1, 'sequence_number': 3, 'created_by': 'avantadmin', 'created_date': '2023-05-23', 'is_active_flag': True, 'description': 'LiveVox TD Live Customer Product Flags', 'credit_policy': '', 'product_cd': '', 'inquiry_code': '', 'selection_group_type': 'suppression', 'parent_selection_group_config_id': None, 'config': [{'selection_group_rule_config_id': 3025, 'selection_group_config_id': 1202, 'sequence_number': 1, 'selection_criteria_type': 'suppression', 'rule_type': 'custom', 'rule_condition': 'custom', 'description': 'LiveVox TD Live Customer Product Flags', 'rule_value_type': 'custom', 'attribute_name': 'custom', 'attribute_id': '', 'sql_query': 'select * from td.prod.dw.dw_ops_live.customer_product_flags', 'rule_value': 'select * from td.prod.dw.dw_ops_live.customer_product_flags', 'created_by': 'avantadmin', 'created_date': '2023-05-23', 'is_active_flag': True, 'config': 'select * from td.prod.dw.dw_ops_live.customer_product_flags'}]}, {'campaign_driver_id': 3844, 'module_config_type_id': 1203, 'module_config_type': 'selection_group_config', 'stage_id': 1, 'sequence_number': 4, 'created_by': 'avantadmin', 'created_date': '2023-05-23', 'is_active_flag': True, 'description': 'LiveVox TD Live Workflow Log', 'credit_policy': '', 'product_cd': '', 'inquiry_code': '', 'selection_group_type': 'suppression', 'parent_selection_group_config_id': None, 'config': [{'selection_group_rule_config_id': 3026, 'selection_group_config_id': 1203, 'sequence_number': 1, 'selection_criteria_type': 'suppression', 'rule_type': 'custom', 'rule_condition': 'custom', 'description': 'LiveVox TD Live Workflow Log', 'rule_value_type': 'custom', 'attribute_name': 'custom', 'attribute_id': '', 'sql_query': 'select * from td.prod.dw.dw_ops_live.workflow_log', 'rule_value': 'select * from td.prod.dw.dw_ops_live.workflow_log', 'created_by': 'avantadmin', 'created_date': '2023-05-23', 'is_active_flag': True, 'config': 'select * from td.prod.dw.dw_ops_live.workflow_log'}]}, {'campaign_driver_id': 3845, 'module_config_type_id': 1204, 'module_config_type': 'selection_group_config', 'stage_id': 1, 'sequence_number': 5, 'created_by': 'avantadmin', 'created_date': '2023-05-23', 'is_active_flag': True, 'description': 'LiveVox TD Live Final Transfomations', 'credit_policy': '', 'product_cd': '', 'inquiry_code': '', 'selection_group_type': 'eligibility', 'parent_selection_group_config_id': None, 'eligibility_config': [{'selection_group_rule_config_id': 3035, 'selection_group_config_id': 1204, 'sequence_number': 1, 'selection_criteria_type': 'eligibility', 'rule_type': 'custom', 'rule_condition': 'custom', 'description': 'published_phone_5_do_not_contact_flag', 'rule_value_type': 'custom', 'attribute_name': 'published_phone_5_do_not_contact_flag', 'attribute_id': '', 'sql_query': 'NOT phone_5_active_flag \\nOR phone_5_do_not_call_flag \\nOR NOT (phone_5_auto_dial_flag AND can_robocall_flag)', 'rule_value': 'NOT phone_5_active_flag \\nOR phone_5_do_not_call_flag \\nOR NOT (phone_5_auto_dial_flag AND can_robocall_flag)', 'created_by': 'avantadmin', 'created_date': '2023-05-23', 'is_active_flag': True, 'config': 'select * from {0} where NOT phone_5_active_flag \\nOR phone_5_do_not_call_flag \\nOR NOT (phone_5_auto_dial_flag AND can_robocall_flag)'}, {'selection_group_rule_config_id': 3036, 'selection_group_config_id': 1204, 'sequence_number': 1, 'selection_criteria_type': 'eligibility', 'rule_type': 'custom', 'rule_condition': 'custom', 'description': 'published_phone_4_auto_dial_flag', 'rule_value_type': 'custom', 'attribute_name': 'published_phone_4_auto_dial_flag', 'attribute_id': '', 'sql_query': 'phone_4_auto_dial_flag \\nAND (phone_4_neustar_score >= 7)\\nAND can_robocall_flag', 'rule_value': 'phone_4_auto_dial_flag \\nAND (phone_4_neustar_score >= 7)\\nAND can_robocall_flag', 'created_by': 'avantadmin', 'created_date': '2023-05-23', 'is_active_flag': True, 'config': 'select * from {0} where phone_4_auto_dial_flag \\nAND (phone_4_neustar_score >= 7)\\nAND can_robocall_flag'}, {'selection_group_rule_config_id': 3037, 'selection_group_config_id': 1204, 'sequence_number': 1, 'selection_criteria_type': 'eligibility', 'rule_type': 'custom', 'rule_condition': 'custom', 'description': 'published_phone_4_sms_flag', 'rule_value_type': 'custom', 'attribute_name': 'published_phone_4_sms_flag', 'attribute_id': '', 'sql_query': 'phone_4_active_flag \\nAND phone_4_confirmed_mobile_flag\\nAND phone_4_sms_consent_flag\\nAND (phone_4_neustar_score >= 70)\\nAND NOT phone_4_do_not_call_flag', 'rule_value': 'phone_4_active_flag \\nAND phone_4_confirmed_mobile_flag\\nAND phone_4_sms_consent_flag\\nAND (phone_4_neustar_score >= 70)\\nAND NOT phone_4_do_not_call_flag', 'created_by': 'avantadmin', 'created_date': '2023-05-23', 'is_active_flag': True, 'config': 'select * from {0} where phone_4_active_flag \\nAND phone_4_confirmed_mobile_flag\\nAND phone_4_sms_consent_flag\\nAND (phone_4_neustar_score >= 70)\\nAND NOT phone_4_do_not_call_flag'}, {'selection_group_rule_config_id': 3038, 'selection_group_config_id': 1204, 'sequence_number': 1, 'selection_criteria_type': 'eligibility', 'rule_type': 'custom', 'rule_condition': 'custom', 'description': 'published_phone_4_do_not_contact_flag', 'rule_value_type': 'custom', 'attribute_name': 'published_phone_4_do_not_contact_flag', 'attribute_id': '', 'sql_query': 'NOT phone_4_active_flag \\nOR phone_4_do_not_call_flag \\nOR NOT (phone_4_auto_dial_flag AND can_robocall_flag)', 'rule_value': 'NOT phone_4_active_flag \\nOR phone_4_do_not_call_flag \\nOR NOT (phone_4_auto_dial_flag AND can_robocall_flag)', 'created_by': 'avantadmin', 'created_date': '2023-05-23', 'is_active_flag': True, 'config': 'select * from {0} where NOT phone_4_active_flag \\nOR phone_4_do_not_call_flag \\nOR NOT (phone_4_auto_dial_flag AND can_robocall_flag)'}, {'selection_group_rule_config_id': 3039, 'selection_group_config_id': 1204, 'sequence_number': 1, 'selection_criteria_type': 'eligibility', 'rule_type': 'custom', 'rule_condition': 'custom', 'description': 'published_phone_3_auto_dial_flag', 'rule_value_type': 'custom', 'attribute_name': 'published_phone_3_auto_dial_flag', 'attribute_id': '', 'sql_query': 'phone_3_auto_dial_flag \\nAND (phone_3_neustar_score >= 7)\\nAND can_robocall_flag', 'rule_value': 'phone_3_auto_dial_flag \\nAND (phone_3_neustar_score >= 7)\\nAND can_robocall_flag', 'created_by': 'avantadmin', 'created_date': '2023-05-23', 'is_active_flag': True, 'config': 'select * from {0} where phone_3_auto_dial_flag \\nAND (phone_3_neustar_score >= 7)\\nAND can_robocall_flag'}, {'selection_group_rule_config_id': 3040, 'selection_group_config_id': 1204, 'sequence_number': 1, 'selection_criteria_type': 'eligibility', 'rule_type': 'custom', 'rule_condition': 'custom', 'description': 'published_phone_3_sms_flag', 'rule_value_type': 'custom', 'attribute_name': 'published_phone_3_sms_flag', 'attribute_id': '', 'sql_query': 'phone_3_active_flag \\nAND phone_3_confirmed_mobile_flag\\nAND phone_3_sms_consent_flag\\nAND (phone_3_neustar_score >= 70)\\nAND NOT phone_3_do_not_call_flag', 'rule_value': 'phone_3_active_flag \\nAND phone_3_confirmed_mobile_flag\\nAND phone_3_sms_consent_flag\\nAND (phone_3_neustar_score >= 70)\\nAND NOT phone_3_do_not_call_flag', 'created_by': 'avantadmin', 'created_date': '2023-05-23', 'is_active_flag': True, 'config': 'select * from {0} where phone_3_active_flag \\nAND phone_3_confirmed_mobile_flag\\nAND phone_3_sms_consent_flag\\nAND (phone_3_neustar_score >= 70)\\nAND NOT phone_3_do_not_call_flag'}, {'selection_group_rule_config_id': 3041, 'selection_group_config_id': 1204, 'sequence_number': 1, 'selection_criteria_type': 'eligibility', 'rule_type': 'custom', 'rule_condition': 'custom', 'description': 'published_phone_3_do_not_contact_flag', 'rule_value_type': 'custom', 'attribute_name': 'published_phone_3_do_not_contact_flag', 'attribute_id': '', 'sql_query': 'NOT phone_3_active_flag \\nOR phone_3_do_not_call_flag \\nOR NOT (phone_3_auto_dial_flag AND can_robocall_flag)', 'rule_value': 'NOT phone_3_active_flag \\nOR phone_3_do_not_call_flag \\nOR NOT (phone_3_auto_dial_flag AND can_robocall_flag)', 'created_by': 'avantadmin', 'created_date': '2023-05-23', 'is_active_flag': True, 'config': 'select * from {0} where NOT phone_3_active_flag \\nOR phone_3_do_not_call_flag \\nOR NOT (phone_3_auto_dial_flag AND can_robocall_flag)'}, {'selection_group_rule_config_id': 3043, 'selection_group_config_id': 1204, 'sequence_number': 1, 'selection_criteria_type': 'eligibility', 'rule_type': 'custom', 'rule_condition': 'custom', 'description': 'published_phone_2_sms_flag', 'rule_value_type': 'custom', 'attribute_name': 'published_phone_2_sms_flag', 'attribute_id': '', 'sql_query': 'phone_2_active_flag \\nAND phone_2_confirmed_mobile_flag\\nAND phone_2_sms_consent_flag\\nAND (phone_2_neustar_score >= 70)\\nAND NOT phone_2_do_not_call_flag', 'rule_value': 'phone_2_active_flag \\nAND phone_2_confirmed_mobile_flag\\nAND phone_2_sms_consent_flag\\nAND (phone_2_neustar_score >= 70)\\nAND NOT phone_2_do_not_call_flag', 'created_by': 'avantadmin', 'created_date': '2023-05-23', 'is_active_flag': True, 'config': 'select * from {0} where phone_2_active_flag \\nAND phone_2_confirmed_mobile_flag\\nAND phone_2_sms_consent_flag\\nAND (phone_2_neustar_score >= 70)\\nAND NOT phone_2_do_not_call_flag'}, {'selection_group_rule_config_id': 3044, 'selection_group_config_id': 1204, 'sequence_number': 1, 'selection_criteria_type': 'eligibility', 'rule_type': 'custom', 'rule_condition': 'custom', 'description': 'published_phone_2_do_not_contact_flag', 'rule_value_type': 'custom', 'attribute_name': 'published_phone_2_do_not_contact_flag', 'attribute_id': '', 'sql_query': 'NOT phone_2_active_flag \\nOR phone_2_do_not_call_flag \\nOR NOT (phone_2_auto_dial_flag AND can_robocall_flag)', 'rule_value': 'NOT phone_2_active_flag \\nOR phone_2_do_not_call_flag \\nOR NOT (phone_2_auto_dial_flag AND can_robocall_flag)', 'created_by': 'avantadmin', 'created_date': '2023-05-23', 'is_active_flag': True, 'config': 'select * from {0} where NOT phone_2_active_flag \\nOR phone_2_do_not_call_flag \\nOR NOT (phone_2_auto_dial_flag AND can_robocall_flag)'}, {'selection_group_rule_config_id': 3045, 'selection_group_config_id': 1204, 'sequence_number': 1, 'selection_criteria_type': 'eligibility', 'rule_type': 'custom', 'rule_condition': 'custom', 'description': 'published_phone_1_auto_dial_flag', 'rule_value_type': 'custom', 'attribute_name': 'published_phone_1_auto_dial_flag', 'attribute_id': '', 'sql_query': 'phone_1_auto_dial_flag \\nAND (phone_1_neustar_score >= 7)\\nAND can_robocall_flag', 'rule_value': 'phone_1_auto_dial_flag \\nAND (phone_1_neustar_score >= 7)\\nAND can_robocall_flag', 'created_by': 'avantadmin', 'created_date': '2023-05-23', 'is_active_flag': True, 'config': 'select * from {0} where phone_1_auto_dial_flag \\nAND (phone_1_neustar_score >= 7)\\nAND can_robocall_flag'}, {'selection_group_rule_config_id': 3046, 'selection_group_config_id': 1204, 'sequence_number': 1, 'selection_criteria_type': 'eligibility', 'rule_type': 'custom', 'rule_condition': 'custom', 'description': 'published_phone_1_sms_flag', 'rule_value_type': 'custom', 'attribute_name': 'published_phone_1_sms_flag', 'attribute_id': '', 'sql_query': 'phone_1_active_flag \\nAND phone_1_confirmed_mobile_flag\\nAND phone_1_sms_consent_flag\\nAND (phone_1_neustar_score >= 70)\\nAND NOT phone_1_do_not_call_flag', 'rule_value': 'phone_1_active_flag \\nAND phone_1_confirmed_mobile_flag\\nAND phone_1_sms_consent_flag\\nAND (phone_1_neustar_score >= 70)\\nAND NOT phone_1_do_not_call_flag', 'created_by': 'avantadmin', 'created_date': '2023-05-23', 'is_active_flag': True, 'config': 'select * from {0} where phone_1_active_flag \\nAND phone_1_confirmed_mobile_flag\\nAND phone_1_sms_consent_flag\\nAND (phone_1_neustar_score >= 70)\\nAND NOT phone_1_do_not_call_flag'}, {'selection_group_rule_config_id': 3047, 'selection_group_config_id': 1204, 'sequence_number': 1, 'selection_criteria_type': 'eligibility', 'rule_type': 'custom', 'rule_condition': 'custom', 'description': 'published_phone_1_do_not_contact_flag', 'rule_value_type': 'custom', 'attribute_name': 'published_phone_1_do_not_contact_flag', 'attribute_id': '', 'sql_query': '(NOT phone_1_active_flag \\nOR phone_1_do_not_call_flag \\nOR NOT (phone_1_auto_dial_flag AND can_robocall_flag))', 'rule_value': '(NOT phone_1_active_flag \\nOR phone_1_do_not_call_flag \\nOR NOT (phone_1_auto_dial_flag AND can_robocall_flag))', 'created_by': 'avantadmin', 'created_date': '2023-05-23', 'is_active_flag': True, 'config': 'select * from {0} where (NOT phone_1_active_flag \\nOR phone_1_do_not_call_flag \\nOR NOT (phone_1_auto_dial_flag AND can_robocall_flag))'}, {'selection_group_rule_config_id': 3029, 'selection_group_config_id': 1204, 'sequence_number': 1, 'selection_criteria_type': 'eligibility', 'rule_type': 'custom', 'rule_condition': 'custom', 'description': 'published_sms_consent_flag', 'rule_value_type': 'custom', 'attribute_name': 'published_sms_consent_flag', 'attribute_id': '', 'sql_query': \"NOT do_not_sms_flag\\nand NOT do_not_call_flag\\nand NOT bankruptcy_flag\\nand NOT customer_state == 'DC'\\nand NOT claimed_fraud_flag\\nand NOT person_deceased_flag\\nand NOT (disaster_zone_flag AND days_into_disaster <= 14)\\nand NOT dmc_flag\\nand NOT escalate_to_compliance_flag\\nand NOT escalate_to_legal_flag\\nand NOT tier_1_complaint_flag\", 'rule_value': \"NOT do_not_sms_flag\\nand NOT do_not_call_flag\\nand NOT bankruptcy_flag\\nand NOT customer_state == 'DC'\\nand NOT claimed_fraud_flag\\nand NOT person_deceased_flag\\nand NOT (disaster_zone_flag AND days_into_disaster <= 14)\\nand NOT dmc_flag\\nand NOT escalate_to_compliance_flag\\nand NOT escalate_to_legal_flag\\nand NOT tier_1_complaint_flag\", 'created_by': 'avantadmin', 'created_date': '2023-05-23', 'is_active_flag': True, 'config': \"select * from {0} where NOT do_not_sms_flag\\nand NOT do_not_call_flag\\nand NOT bankruptcy_flag\\nand NOT customer_state == 'DC'\\nand NOT claimed_fraud_flag\\nand NOT person_deceased_flag\\nand NOT (disaster_zone_flag AND days_into_disaster <= 14)\\nand NOT dmc_flag\\nand NOT escalate_to_compliance_flag\\nand NOT escalate_to_legal_flag\\nand NOT tier_1_complaint_flag\"}, {'selection_group_rule_config_id': 3031, 'selection_group_config_id': 1204, 'sequence_number': 1, 'selection_criteria_type': 'eligibility', 'rule_type': 'custom', 'rule_condition': 'custom', 'description': 'published_do_not_contact_flag', 'rule_value_type': 'custom', 'attribute_name': 'published_do_not_contact_flag', 'attribute_id': '', 'sql_query': \"bankruptcy_flag\\nOR customer_state == 'DC'\\nOR claimed_fraud_flag\\nOR fraud_confirmed_flag\\nOR person_deceased_flag\\nOR (disaster_zone_flag AND days_into_disaster <= 14)\\nOR dmc_flag\\nOR do_not_call_flag\\nOR escalate_to_compliance_flag\\nOR escalate_to_legal_flag\\nOR tier_1_complaint_flag\\nOR spanish_speaker_flag\\nOR do_not_call_zipcode_flag\", 'rule_value': \"bankruptcy_flag\\nOR customer_state == 'DC'\\nOR claimed_fraud_flag\\nOR fraud_confirmed_flag\\nOR person_deceased_flag\\nOR (disaster_zone_flag AND days_into_disaster <= 14)\\nOR dmc_flag\\nOR do_not_call_flag\\nOR escalate_to_compliance_flag\\nOR escalate_to_legal_flag\\nOR tier_1_complaint_flag\\nOR spanish_speaker_flag\\nOR do_not_call_zipcode_flag\", 'created_by': 'avantadmin', 'created_date': '2023-05-23', 'is_active_flag': True, 'config': \"select * from {0} where bankruptcy_flag\\nOR customer_state == 'DC'\\nOR claimed_fraud_flag\\nOR fraud_confirmed_flag\\nOR person_deceased_flag\\nOR (disaster_zone_flag AND days_into_disaster <= 14)\\nOR dmc_flag\\nOR do_not_call_flag\\nOR escalate_to_compliance_flag\\nOR escalate_to_legal_flag\\nOR tier_1_complaint_flag\\nOR spanish_speaker_flag\\nOR do_not_call_zipcode_flag\"}, {'selection_group_rule_config_id': 3042, 'selection_group_config_id': 1204, 'sequence_number': 1, 'selection_criteria_type': 'eligibility', 'rule_type': 'custom', 'rule_condition': 'custom', 'description': 'published_phone_2_auto_dial_flag', 'rule_value_type': 'custom', 'attribute_name': 'published_phone_2_auto_dial_flag', 'attribute_id': '', 'sql_query': 'phone_2_auto_dial_flag \\nAND (phone_2_neustar_score >= 7)\\nAND can_robocall_flag', 'rule_value': 'phone_2_auto_dial_flag \\nAND (phone_2_neustar_score >= 7)\\nAND can_robocall_flag', 'created_by': 'avantadmin', 'created_date': '2023-05-23', 'is_active_flag': True, 'config': 'select * from {0} where phone_2_auto_dial_flag \\nAND (phone_2_neustar_score >= 7)\\nAND can_robocall_flag'}, {'selection_group_rule_config_id': 3027, 'selection_group_config_id': 1204, 'sequence_number': 1, 'selection_criteria_type': 'eligibility', 'rule_type': 'custom', 'rule_condition': 'custom', 'description': 'published_prd2_financial_situation_review_eligible', 'rule_value_type': 'custom', 'attribute_name': 'published_prd2_financial_situation_review_eligible', 'attribute_id': '', 'sql_query': 'NOT outstanding_fsr_flag\\nand prd2_months_on_book > 6', 'rule_value': 'NOT outstanding_fsr_flag\\nand prd2_months_on_book > 6', 'created_by': 'avantadmin', 'created_date': '2023-05-23', 'is_active_flag': True, 'config': 'select * from {0} where NOT outstanding_fsr_flag\\nand prd2_months_on_book > 6'}, {'selection_group_rule_config_id': 3028, 'selection_group_config_id': 1204, 'sequence_number': 1, 'selection_criteria_type': 'eligibility', 'rule_type': 'custom', 'rule_condition': 'custom', 'description': 'published_prd1_financial_situation_review_eligible', 'rule_value_type': 'custom', 'attribute_name': 'published_prd1_financial_situation_review_eligible', 'attribute_id': '', 'sql_query': 'NOT outstanding_fsr_flag\\nand prd1_months_on_book > 6', 'rule_value': 'NOT outstanding_fsr_flag\\nand prd1_months_on_book > 6', 'created_by': 'avantadmin', 'created_date': '2023-05-23', 'is_active_flag': True, 'config': 'select * from {0} where NOT outstanding_fsr_flag\\nand prd1_months_on_book > 6'}, {'selection_group_rule_config_id': 3030, 'selection_group_config_id': 1204, 'sequence_number': 1, 'selection_criteria_type': 'eligibility', 'rule_type': 'custom', 'rule_condition': 'custom', 'description': 'published_do_not_contact_today_flag', 'rule_value_type': 'custom', 'attribute_name': 'published_do_not_contact_today_flag', 'attribute_id': '', 'sql_query': 'in_flight_payment_flag\\nOR is_payment_protection_applied_flag\\nOR in_flight_blind_flag\\nOR on_active_payment_plan_flag\\nOR placed_with_agency_flag\\nOR scra_flag\\nOR on_soft_pause_flag\\nOR disaster_zone_flag\\nOR rpc_today_flag', 'rule_value': 'in_flight_payment_flag\\nOR is_payment_protection_applied_flag\\nOR in_flight_blind_flag\\nOR on_active_payment_plan_flag\\nOR placed_with_agency_flag\\nOR scra_flag\\nOR on_soft_pause_flag\\nOR disaster_zone_flag\\nOR rpc_today_flag', 'created_by': 'avantadmin', 'created_date': '2023-05-23', 'is_active_flag': True, 'config': 'select * from {0} where in_flight_payment_flag\\nOR is_payment_protection_applied_flag\\nOR in_flight_blind_flag\\nOR on_active_payment_plan_flag\\nOR placed_with_agency_flag\\nOR scra_flag\\nOR on_soft_pause_flag\\nOR disaster_zone_flag\\nOR rpc_today_flag'}, {'selection_group_rule_config_id': 3032, 'selection_group_config_id': 1204, 'sequence_number': 1, 'selection_criteria_type': 'eligibility', 'rule_type': 'custom', 'rule_condition': 'custom', 'description': 'published_email_consent_flag', 'rule_value_type': 'custom', 'attribute_name': 'published_email_consent_flag', 'attribute_id': '', 'sql_query': \"NOT bad_email_flag\\nand NOT bankruptcy_flag\\nand NOT customer_state == 'DC'\\nand NOT claimed_fraud_flag\\nand NOT fraud_confirmed_flag\\nand NOT person_deceased_flag\\nand NOT disaster_zone_flag\\nand NOT dmc_flag\\nand NOT do_not_call_flag\\nand NOT escalate_to_compliance_flag\\nand NOT escalate_to_legal_flag\\nand NOT tier_1_complaint_flag\\nand NOT do_not_call_zipcode_flag\", 'rule_value': \"NOT bad_email_flag\\nand NOT bankruptcy_flag\\nand NOT customer_state == 'DC'\\nand NOT claimed_fraud_flag\\nand NOT fraud_confirmed_flag\\nand NOT person_deceased_flag\\nand NOT disaster_zone_flag\\nand NOT dmc_flag\\nand NOT do_not_call_flag\\nand NOT escalate_to_compliance_flag\\nand NOT escalate_to_legal_flag\\nand NOT tier_1_complaint_flag\\nand NOT do_not_call_zipcode_flag\", 'created_by': 'avantadmin', 'created_date': '2023-05-23', 'is_active_flag': True, 'config': \"select * from {0} where NOT bad_email_flag\\nand NOT bankruptcy_flag\\nand NOT customer_state == 'DC'\\nand NOT claimed_fraud_flag\\nand NOT fraud_confirmed_flag\\nand NOT person_deceased_flag\\nand NOT disaster_zone_flag\\nand NOT dmc_flag\\nand NOT do_not_call_flag\\nand NOT escalate_to_compliance_flag\\nand NOT escalate_to_legal_flag\\nand NOT tier_1_complaint_flag\\nand NOT do_not_call_zipcode_flag\"}, {'selection_group_rule_config_id': 3033, 'selection_group_config_id': 1204, 'sequence_number': 1, 'selection_criteria_type': 'eligibility', 'rule_type': 'custom', 'rule_condition': 'custom', 'description': 'published_phone_5_auto_dial_flag', 'rule_value_type': 'custom', 'attribute_name': 'published_phone_5_auto_dial_flag', 'attribute_id': '', 'sql_query': 'phone_5_auto_dial_flag \\nAND (phone_5_neustar_score >= 7)\\nAND can_robocall_flag', 'rule_value': 'phone_5_auto_dial_flag \\nAND (phone_5_neustar_score >= 7)\\nAND can_robocall_flag', 'created_by': 'avantadmin', 'created_date': '2023-05-23', 'is_active_flag': True, 'config': 'select * from {0} where phone_5_auto_dial_flag \\nAND (phone_5_neustar_score >= 7)\\nAND can_robocall_flag'}, {'selection_group_rule_config_id': 3034, 'selection_group_config_id': 1204, 'sequence_number': 1, 'selection_criteria_type': 'eligibility', 'rule_type': 'custom', 'rule_condition': 'custom', 'description': 'published_phone_5_sms_flag', 'rule_value_type': 'custom', 'attribute_name': 'published_phone_5_sms_flag', 'attribute_id': '', 'sql_query': 'phone_5_active_flag \\nAND phone_5_confirmed_mobile_flag\\nAND phone_5_sms_consent_flag\\nAND (phone_5_neustar_score >= 70)\\nAND NOT phone_5_do_not_call_flag', 'rule_value': 'phone_5_active_flag \\nAND phone_5_confirmed_mobile_flag\\nAND phone_5_sms_consent_flag\\nAND (phone_5_neustar_score >= 70)\\nAND NOT phone_5_do_not_call_flag', 'created_by': 'avantadmin', 'created_date': '2023-05-23', 'is_active_flag': True, 'config': 'select * from {0} where phone_5_active_flag \\nAND phone_5_confirmed_mobile_flag\\nAND phone_5_sms_consent_flag\\nAND (phone_5_neustar_score >= 70)\\nAND NOT phone_5_do_not_call_flag'}], 'eligibility_config_id': [1204]}]"
     ]
    }
   ],
   "source": []
  },
  {
   "cell_type": "code",
   "execution_count": 71,
   "metadata": {},
   "outputs": [
    {
     "data": {
      "application/vnd.jupyter.widget-view+json": {
       "model_id": "",
       "version_major": 2,
       "version_minor": 0
      },
      "text/plain": [
       "FloatProgress(value=0.0, bar_style='info', description='Progress:', layout=Layout(height='25px', width='50%'),…"
      ]
     },
     "metadata": {},
     "output_type": "display_data"
    }
   ],
   "source": [
    "\n",
    "\n",
    "selection_config = None\n",
    "for configs in campaign_config['campaign_config_jsonb']['1']['selection_group_config']:\n",
    "    if configs['description'] == 'LiveVox TD Live Final Transfomations':\n",
    "        selection_config = configs\n",
    "        \n",
    "input_data_path = final_join_pd_and_ph_data_path\n"
   ]
  },
  {
   "cell_type": "code",
   "execution_count": 84,
   "metadata": {},
   "outputs": [
    {
     "data": {
      "application/vnd.jupyter.widget-view+json": {
       "model_id": "",
       "version_major": 2,
       "version_minor": 0
      },
      "text/plain": [
       "FloatProgress(value=0.0, bar_style='info', description='Progress:', layout=Layout(height='25px', width='50%'),…"
      ]
     },
     "metadata": {},
     "output_type": "display_data"
    }
   ],
   "source": [
    "    \n",
    "target_path_2 = 's3://avantcamp-partner03-prod-transform-bucket/td/livevox_td_collection/final_transformed_data_to_livevox_first_run/{YYYY}/{MM}/{DD}/12121/{campaign_run_id}/final_transformed_data_to_livevox_first_run_12121_{campaign_run_id}_{date}.parquet'.format(**audit_args)\n",
    "\n",
    "input_df = spark.read.parquet(input_data_path)  # noqa: F821\n",
    "\n",
    "input_df = input_df.withColumn(\"published_audience_id\", f.lit(0))\n",
    "\n"
   ]
  },
  {
   "cell_type": "code",
   "execution_count": 75,
   "metadata": {},
   "outputs": [
    {
     "data": {
      "application/vnd.jupyter.widget-view+json": {
       "model_id": "",
       "version_major": 2,
       "version_minor": 0
      },
      "text/plain": [
       "FloatProgress(value=0.0, bar_style='info', description='Progress:', layout=Layout(height='25px', width='50%'),…"
      ]
     },
     "metadata": {},
     "output_type": "display_data"
    }
   ],
   "source": [
    "\n",
    "input_renamed_df = input_df.withColumnRenamed(\n",
    "    'customer_id', 'published_customer_id').withColumnRenamed(\n",
    "    'last_name', 'published_last_name').withColumnRenamed(\n",
    "    'first_name', 'published_first_name').withColumnRenamed(\n",
    "    'customer_address_1', 'published_address_1').withColumnRenamed(\n",
    "    'customer_address_2', 'published_address_2').withColumnRenamed(\n",
    "    'customer_city', 'published_city').withColumnRenamed(\n",
    "    'customer_email', 'published_customer_email').withColumnRenamed(\n",
    "    'rpc_past_7_days_flag', 'published_rpc_past_7_days_flag').withColumnRenamed(\n",
    "    'prd1_loan_id', 'published_prd1_id').withColumnRenamed(\n",
    "    'prd1_as_of_date', 'prd1_measurement_date').withColumnRenamed(\n",
    "    'prd2_loan_id', 'published_prd2_id').withColumnRenamed(\n",
    "    'prd2_as_of_date', 'prd2_measurement_date').withColumnRenamed(\n",
    "    'prd2_product_status', 'published_prd2_status').withColumnRenamed(\n",
    "    'prd1_product_status', 'published_prd1_status').withColumnRenamed(\n",
    "    'prd2_product_type', 'published_prd2_type').withColumnRenamed(\n",
    "    'prd1_product_type', 'published_prd1_type').withColumnRenamed(\n",
    "    'prd2_product_state', 'prd1_state').withColumnRenamed(\n",
    "    'prd1_product_state', 'prd2_state').withColumnRenamed(\n",
    "    'prd2_outstanding_balance', 'published_prd2_outstanding_balance').withColumnRenamed(\n",
    "    'prd1_outstanding_balance', 'published_prd1_outstanding_balance').withColumnRenamed(\n",
    "    'prd1_next_payment_due_amount', 'published_prd1_next_due_amount').withColumnRenamed(\n",
    "    'prd2_next_payment_due_amount', 'published_prd2_next_due_amount').withColumnRenamed(\n",
    "    'prd1_next_payment_due_date', 'published_prd1_next_due_date').withColumnRenamed(\n",
    "    'prd2_next_payment_due_date', 'published_prd2_next_due_date').withColumnRenamed(\n",
    "    'prd1_past_due_amount', 'published_prd1_past_due_amount').withColumnRenamed(\n",
    "    'prd2_past_due_amount', 'published_prd2_past_due_amount').withColumnRenamed(\n",
    "    'prd1_age_of_book', 'prd1_months_on_book').withColumnRenamed(\n",
    "    'prd2_age_of_book', 'prd2_months_on_book').withColumnRenamed(\n",
    "    'prd1_days_late','published_prd1_days_late').withColumnRenamed(\n",
    "    'prd2_days_late', 'published_prd2_days_late').withColumnRenamed(\n",
    "    'prd1_operations_charge_off_reason', 'published_prd1_charge_off_reason').withColumnRenamed(\n",
    "    'prd2_operations_charge_off_reason', 'published_prd2_charge_off_reason').withColumnRenamed(\n",
    "    'prd1_days_until_late_fee_due', 'published_prd1_days_until_late_fee_due').withColumnRenamed(\n",
    "    'prd2_days_until_late_fee_due', 'published_prd2_days_until_late_fee_due').withColumnRenamed(\n",
    "    'phone_1_number', 'published_phone_1_number').withColumnRenamed(\n",
    "    'phone_2_number', 'published_phone_2_number').withColumnRenamed(\n",
    "    'phone_3_number', 'published_phone_3_number').withColumnRenamed(\n",
    "    'phone_4_number', 'published_phone_4_number').withColumnRenamed(\n",
    "    'phone_5_number', 'published_phone_5_number').withColumnRenamed(\n",
    "    'customer_zipcode', 'published_customer_zipcode').withColumnRenamed(\n",
    "    'phone_1_phone_type', 'published_phone_1_type').withColumnRenamed(\n",
    "    'phone_2_phone_type', 'published_phone_2_type').withColumnRenamed(\n",
    "    'phone_3_phone_type', 'published_phone_3_type').withColumnRenamed(\n",
    "    'phone_4_phone_type', 'published_phone_4_type').withColumnRenamed(\n",
    "    'phone_5_phone_type', 'published_phone_5_type').withColumn('spanish_speaker_flag',f.lit(False).cast('boolean'))\\\n",
    "    .withColumn('do_not_call_zipcode_flag', f.when((f.col('published_customer_zipcode').isin('00000','14201','14202','14203','14204','14205','14206','14207','14208','14209','14210','14211','14212','14213','14214','14215','14216','14217','14218','14219','14220','14221','14222','14223','14224','14225','14226','14227','14228','14231','14233','14240','14241','14260','14261','14263','14264','14265','14267','14269','14270','14272','14273','14276','14280','10583','10701','10703','10704','10705','10707','10708','10710','00000')), f.lit(True)).otherwise(f.lit(False)))\n",
    "    \n",
    "create_columns = \"\"\"\n",
    "SELECT \n",
    "t.*, \n",
    "CASE\n",
    "    WHEN {rule_value} THEN True\n",
    "    ELSE False\n",
    "END AS {attribute_name}\n",
    "FROM \n",
    "temp_table t\n",
    "\"\"\"\n",
    "\n",
    "sorted_selection_config = sorted(selection_config['eligibility_config'],\n",
    "                                 key=lambda k: k['sequence_number'])\n",
    "\n",
    "final_transformed_df = None\n",
    "for confs in sorted_selection_config:\n",
    "    if final_transformed_df is None:\n",
    "        input_renamed_df.createOrReplaceTempView(\"temp_table\")\n",
    "    else:\n",
    "        final_transformed_df.createOrReplaceTempView(\"temp_table\")\n",
    "    final_transformed_df = spark.sql(create_columns.format(**confs))  # noqa: F821\n",
    "\n",
    "from pyspark.sql.functions import lit, to_date\n",
    "\n",
    "final_transformed_temp_df = final_transformed_df.withColumn('published_prd1_payment_plan_structure',\n",
    "                                                       f.lit('x').cast('string'))\\\n",
    "                                .withColumn('published_prd1_payment_plan_status',\n",
    "                                                       f.lit('x').cast('string'))\\\n",
    "                                .withColumn('published_prd2_payment_plan_structure',\n",
    "                                                       f.lit('x').cast('string'))\\\n",
    "                                .withColumn('published_prd2_payment_plan_status',\n",
    "                                                       f.lit('x').cast('string'))\\\n",
    "                                .withColumn('published_do_not_contact_reasons',\n",
    "                                                       f.lit('x').cast('string'))\\\n",
    "                                .withColumn('published_partner',\n",
    "                                                       f.lit('td').cast('string'))\\\n",
    "                                .withColumnRenamed('customer_state','published_customer_state')\\\n",
    "                                .withColumn('prd1_is_payment_protection_applied_flag',f.col('is_payment_protection_applied_flag'))\\\n",
    "                                .withColumn('prd2_is_payment_protection_applied_flag',f.col('prd1_is_payment_protection_applied_flag'))\\\n",
    "                                .withColumn('account_id', f.concat_ws('', 'published_partner', 'published_customer_id'))\\\n",
    "                                .withColumnRenamed('account_id','published_account_id')\\\n",
    "                                .withColumn('publish_date', lit(\"2024-01-25\").cast(\"timestamp\"))\\\n",
    "                                .withColumn('etl_ingestion_time',lit(\"2024-01-25\").cast(\"timestamp\"))\\\n",
    "                                .withColumn('collection_population_uuid',f.sha2(f.concat_ws('', 'published_customer_id','publish_date'), 256))\\\n",
    "                                .withColumn('collection_population_by_day_uuid',f.sha2(f.concat_ws('', 'published_customer_id','publish_date'), 256))\n",
    "\n"
   ]
  },
  {
   "cell_type": "code",
   "execution_count": 80,
   "metadata": {},
   "outputs": [
    {
     "data": {
      "application/vnd.jupyter.widget-view+json": {
       "model_id": "",
       "version_major": 2,
       "version_minor": 0
      },
      "text/plain": [
       "FloatProgress(value=0.0, bar_style='info', description='Progress:', layout=Layout(height='25px', width='50%'),…"
      ]
     },
     "metadata": {},
     "output_type": "display_data"
    },
    {
     "name": "stderr",
     "output_type": "stream",
     "text": [
      "An error was encountered:\n",
      "An error occurred while calling o4756.parquet.\n",
      ": java.io.IOException: com.amazon.ws.emr.hadoop.fs.shaded.com.amazonaws.services.s3.model.AmazonS3Exception: The specified bucket does not exist (Service: Amazon S3; Status Code: 404; Error Code: NoSuchBucket; Request ID: FPAARGQBFV4KPQ68; S3 Extended Request ID: ydkvd8Vu2Pp4po3ZhKErVyKCelk0HWRwslmrELmdkw1ytBqnu2wZyePDC2ysIaqrqHkJXYrULs98p6aVhL5s/w==; Proxy: null), S3 Extended Request ID: ydkvd8Vu2Pp4po3ZhKErVyKCelk0HWRwslmrELmdkw1ytBqnu2wZyePDC2ysIaqrqHkJXYrULs98p6aVhL5s/w==\n",
      "\tat com.amazon.ws.emr.hadoop.fs.s3n.Jets3tNativeFileSystemStore.list(Jets3tNativeFileSystemStore.java:303)\n",
      "\tat com.amazon.ws.emr.hadoop.fs.s3n.S3NativeFileSystem.getFileStatus(S3NativeFileSystem.java:451)\n",
      "\tat org.apache.hadoop.fs.FileSystem.exists(FileSystem.java:1690)\n",
      "\tat com.amazon.ws.emr.hadoop.fs.EmrFileSystem.exists(EmrFileSystem.java:436)\n",
      "\tat org.apache.spark.sql.execution.datasources.InsertIntoHadoopFsRelationCommand.run(InsertIntoHadoopFsRelationCommand.scala:120)\n",
      "\tat org.apache.spark.sql.execution.command.DataWritingCommandExec.sideEffectResult$lzycompute(commands.scala:108)\n",
      "\tat org.apache.spark.sql.execution.command.DataWritingCommandExec.sideEffectResult(commands.scala:106)\n",
      "\tat org.apache.spark.sql.execution.command.DataWritingCommandExec.doExecute(commands.scala:131)\n",
      "\tat org.apache.spark.sql.execution.SparkPlan.$anonfun$execute$1(SparkPlan.scala:180)\n",
      "\tat org.apache.spark.sql.execution.SparkPlan.$anonfun$executeQuery$1(SparkPlan.scala:218)\n",
      "\tat org.apache.spark.rdd.RDDOperationScope$.withScope(RDDOperationScope.scala:151)\n",
      "\tat org.apache.spark.sql.execution.SparkPlan.executeQuery(SparkPlan.scala:215)\n",
      "\tat org.apache.spark.sql.execution.SparkPlan.execute(SparkPlan.scala:176)\n",
      "\tat org.apache.spark.sql.execution.QueryExecution.toRdd$lzycompute(QueryExecution.scala:124)\n",
      "\tat org.apache.spark.sql.execution.QueryExecution.toRdd(QueryExecution.scala:123)\n",
      "\tat org.apache.spark.sql.DataFrameWriter.$anonfun$runCommand$1(DataFrameWriter.scala:944)\n",
      "\tat org.apache.spark.sql.execution.SQLExecution$.$anonfun$withNewExecutionId$5(SQLExecution.scala:106)\n",
      "\tat org.apache.spark.sql.execution.SQLExecution$.withSQLConfPropagated(SQLExecution.scala:207)\n",
      "\tat org.apache.spark.sql.execution.SQLExecution$.$anonfun$withNewExecutionId$1(SQLExecution.scala:88)\n",
      "\tat org.apache.spark.sql.SparkSession.withActive(SparkSession.scala:763)\n",
      "\tat org.apache.spark.sql.execution.SQLExecution$.withNewExecutionId(SQLExecution.scala:65)\n",
      "\tat org.apache.spark.sql.DataFrameWriter.runCommand(DataFrameWriter.scala:944)\n",
      "\tat org.apache.spark.sql.DataFrameWriter.saveToV1Source(DataFrameWriter.scala:396)\n",
      "\tat org.apache.spark.sql.DataFrameWriter.save(DataFrameWriter.scala:380)\n",
      "\tat org.apache.spark.sql.DataFrameWriter.save(DataFrameWriter.scala:269)\n",
      "\tat org.apache.spark.sql.DataFrameWriter.parquet(DataFrameWriter.scala:829)\n",
      "\tat sun.reflect.NativeMethodAccessorImpl.invoke0(Native Method)\n",
      "\tat sun.reflect.NativeMethodAccessorImpl.invoke(NativeMethodAccessorImpl.java:62)\n",
      "\tat sun.reflect.DelegatingMethodAccessorImpl.invoke(DelegatingMethodAccessorImpl.java:43)\n",
      "\tat java.lang.reflect.Method.invoke(Method.java:498)\n",
      "\tat py4j.reflection.MethodInvoker.invoke(MethodInvoker.java:244)\n",
      "\tat py4j.reflection.ReflectionEngine.invoke(ReflectionEngine.java:357)\n",
      "\tat py4j.Gateway.invoke(Gateway.java:282)\n",
      "\tat py4j.commands.AbstractCommand.invokeMethod(AbstractCommand.java:132)\n",
      "\tat py4j.commands.CallCommand.execute(CallCommand.java:79)\n",
      "\tat py4j.GatewayConnection.run(GatewayConnection.java:238)\n",
      "\tat java.lang.Thread.run(Thread.java:750)\n",
      "Caused by: com.amazon.ws.emr.hadoop.fs.shaded.com.amazonaws.services.s3.model.AmazonS3Exception: The specified bucket does not exist (Service: Amazon S3; Status Code: 404; Error Code: NoSuchBucket; Request ID: FPAARGQBFV4KPQ68; S3 Extended Request ID: ydkvd8Vu2Pp4po3ZhKErVyKCelk0HWRwslmrELmdkw1ytBqnu2wZyePDC2ysIaqrqHkJXYrULs98p6aVhL5s/w==; Proxy: null), S3 Extended Request ID: ydkvd8Vu2Pp4po3ZhKErVyKCelk0HWRwslmrELmdkw1ytBqnu2wZyePDC2ysIaqrqHkJXYrULs98p6aVhL5s/w==\n",
      "\tat com.amazon.ws.emr.hadoop.fs.shaded.com.amazonaws.http.AmazonHttpClient$RequestExecutor.handleErrorResponse(AmazonHttpClient.java:1811)\n",
      "\tat com.amazon.ws.emr.hadoop.fs.shaded.com.amazonaws.http.AmazonHttpClient$RequestExecutor.handleServiceErrorResponse(AmazonHttpClient.java:1395)\n",
      "\tat com.amazon.ws.emr.hadoop.fs.shaded.com.amazonaws.http.AmazonHttpClient$RequestExecutor.executeOneRequest(AmazonHttpClient.java:1371)\n",
      "\tat com.amazon.ws.emr.hadoop.fs.shaded.com.amazonaws.http.AmazonHttpClient$RequestExecutor.executeHelper(AmazonHttpClient.java:1145)\n",
      "\tat com.amazon.ws.emr.hadoop.fs.shaded.com.amazonaws.http.AmazonHttpClient$RequestExecutor.doExecute(AmazonHttpClient.java:802)\n",
      "\tat com.amazon.ws.emr.hadoop.fs.shaded.com.amazonaws.http.AmazonHttpClient$RequestExecutor.executeWithTimer(AmazonHttpClient.java:770)\n",
      "\tat com.amazon.ws.emr.hadoop.fs.shaded.com.amazonaws.http.AmazonHttpClient$RequestExecutor.execute(AmazonHttpClient.java:744)\n",
      "\tat com.amazon.ws.emr.hadoop.fs.shaded.com.amazonaws.http.AmazonHttpClient$RequestExecutor.access$500(AmazonHttpClient.java:704)\n",
      "\tat com.amazon.ws.emr.hadoop.fs.shaded.com.amazonaws.http.AmazonHttpClient$RequestExecutionBuilderImpl.execute(AmazonHttpClient.java:686)\n",
      "\tat com.amazon.ws.emr.hadoop.fs.shaded.com.amazonaws.http.AmazonHttpClient.execute(AmazonHttpClient.java:550)\n",
      "\tat com.amazon.ws.emr.hadoop.fs.shaded.com.amazonaws.http.AmazonHttpClient.execute(AmazonHttpClient.java:530)\n",
      "\tat com.amazon.ws.emr.hadoop.fs.shaded.com.amazonaws.services.s3.AmazonS3Client.invoke(AmazonS3Client.java:5062)\n",
      "\tat com.amazon.ws.emr.hadoop.fs.shaded.com.amazonaws.services.s3.AmazonS3Client.invoke(AmazonS3Client.java:5008)\n",
      "\tat com.amazon.ws.emr.hadoop.fs.shaded.com.amazonaws.services.s3.AmazonS3Client.invoke(AmazonS3Client.java:5002)\n",
      "\tat com.amazon.ws.emr.hadoop.fs.shaded.com.amazonaws.services.s3.AmazonS3Client.listObjectsV2(AmazonS3Client.java:941)\n",
      "\tat com.amazon.ws.emr.hadoop.fs.s3.lite.call.ListObjectsV2Call.perform(ListObjectsV2Call.java:22)\n",
      "\tat com.amazon.ws.emr.hadoop.fs.s3.lite.call.ListObjectsV2Call.perform(ListObjectsV2Call.java:8)\n",
      "\tat com.amazon.ws.emr.hadoop.fs.s3.lite.executor.GlobalS3Executor.execute(GlobalS3Executor.java:114)\n",
      "\tat com.amazon.ws.emr.hadoop.fs.s3.lite.AmazonS3LiteClient.invoke(AmazonS3LiteClient.java:191)\n",
      "\tat com.amazon.ws.emr.hadoop.fs.s3.lite.AmazonS3LiteClient.invoke(AmazonS3LiteClient.java:186)\n",
      "\tat com.amazon.ws.emr.hadoop.fs.s3.lite.AmazonS3LiteClient.listObjectsV2(AmazonS3LiteClient.java:75)\n",
      "\tat com.amazon.ws.emr.hadoop.fs.s3n.Jets3tNativeFileSystemStore.list(Jets3tNativeFileSystemStore.java:294)\n",
      "\t... 36 more\n",
      "\n",
      "Traceback (most recent call last):\n",
      "  File \"/usr/lib/spark/python/lib/pyspark.zip/pyspark/sql/readwriter.py\", line 936, in parquet\n",
      "    self._jwrite.parquet(path)\n",
      "  File \"/usr/lib/spark/python/lib/py4j-0.10.9-src.zip/py4j/java_gateway.py\", line 1305, in __call__\n",
      "    answer, self.gateway_client, self.target_id, self.name)\n",
      "  File \"/usr/lib/spark/python/lib/pyspark.zip/pyspark/sql/utils.py\", line 131, in deco\n",
      "    return f(*a, **kw)\n",
      "  File \"/usr/lib/spark/python/lib/py4j-0.10.9-src.zip/py4j/protocol.py\", line 328, in get_return_value\n",
      "    format(target_id, \".\", name), value)\n",
      "py4j.protocol.Py4JJavaError: An error occurred while calling o4756.parquet.\n",
      ": java.io.IOException: com.amazon.ws.emr.hadoop.fs.shaded.com.amazonaws.services.s3.model.AmazonS3Exception: The specified bucket does not exist (Service: Amazon S3; Status Code: 404; Error Code: NoSuchBucket; Request ID: FPAARGQBFV4KPQ68; S3 Extended Request ID: ydkvd8Vu2Pp4po3ZhKErVyKCelk0HWRwslmrELmdkw1ytBqnu2wZyePDC2ysIaqrqHkJXYrULs98p6aVhL5s/w==; Proxy: null), S3 Extended Request ID: ydkvd8Vu2Pp4po3ZhKErVyKCelk0HWRwslmrELmdkw1ytBqnu2wZyePDC2ysIaqrqHkJXYrULs98p6aVhL5s/w==\n",
      "\tat com.amazon.ws.emr.hadoop.fs.s3n.Jets3tNativeFileSystemStore.list(Jets3tNativeFileSystemStore.java:303)\n",
      "\tat com.amazon.ws.emr.hadoop.fs.s3n.S3NativeFileSystem.getFileStatus(S3NativeFileSystem.java:451)\n",
      "\tat org.apache.hadoop.fs.FileSystem.exists(FileSystem.java:1690)\n",
      "\tat com.amazon.ws.emr.hadoop.fs.EmrFileSystem.exists(EmrFileSystem.java:436)\n",
      "\tat org.apache.spark.sql.execution.datasources.InsertIntoHadoopFsRelationCommand.run(InsertIntoHadoopFsRelationCommand.scala:120)\n",
      "\tat org.apache.spark.sql.execution.command.DataWritingCommandExec.sideEffectResult$lzycompute(commands.scala:108)\n",
      "\tat org.apache.spark.sql.execution.command.DataWritingCommandExec.sideEffectResult(commands.scala:106)\n",
      "\tat org.apache.spark.sql.execution.command.DataWritingCommandExec.doExecute(commands.scala:131)\n",
      "\tat org.apache.spark.sql.execution.SparkPlan.$anonfun$execute$1(SparkPlan.scala:180)\n",
      "\tat org.apache.spark.sql.execution.SparkPlan.$anonfun$executeQuery$1(SparkPlan.scala:218)\n",
      "\tat org.apache.spark.rdd.RDDOperationScope$.withScope(RDDOperationScope.scala:151)\n",
      "\tat org.apache.spark.sql.execution.SparkPlan.executeQuery(SparkPlan.scala:215)\n",
      "\tat org.apache.spark.sql.execution.SparkPlan.execute(SparkPlan.scala:176)\n",
      "\tat org.apache.spark.sql.execution.QueryExecution.toRdd$lzycompute(QueryExecution.scala:124)\n",
      "\tat org.apache.spark.sql.execution.QueryExecution.toRdd(QueryExecution.scala:123)\n",
      "\tat org.apache.spark.sql.DataFrameWriter.$anonfun$runCommand$1(DataFrameWriter.scala:944)\n",
      "\tat org.apache.spark.sql.execution.SQLExecution$.$anonfun$withNewExecutionId$5(SQLExecution.scala:106)\n",
      "\tat org.apache.spark.sql.execution.SQLExecution$.withSQLConfPropagated(SQLExecution.scala:207)\n",
      "\tat org.apache.spark.sql.execution.SQLExecution$.$anonfun$withNewExecutionId$1(SQLExecution.scala:88)\n",
      "\tat org.apache.spark.sql.SparkSession.withActive(SparkSession.scala:763)\n",
      "\tat org.apache.spark.sql.execution.SQLExecution$.withNewExecutionId(SQLExecution.scala:65)\n",
      "\tat org.apache.spark.sql.DataFrameWriter.runCommand(DataFrameWriter.scala:944)\n",
      "\tat org.apache.spark.sql.DataFrameWriter.saveToV1Source(DataFrameWriter.scala:396)\n",
      "\tat org.apache.spark.sql.DataFrameWriter.save(DataFrameWriter.scala:380)\n",
      "\tat org.apache.spark.sql.DataFrameWriter.save(DataFrameWriter.scala:269)\n",
      "\tat org.apache.spark.sql.DataFrameWriter.parquet(DataFrameWriter.scala:829)\n",
      "\tat sun.reflect.NativeMethodAccessorImpl.invoke0(Native Method)\n",
      "\tat sun.reflect.NativeMethodAccessorImpl.invoke(NativeMethodAccessorImpl.java:62)\n",
      "\tat sun.reflect.DelegatingMethodAccessorImpl.invoke(DelegatingMethodAccessorImpl.java:43)\n",
      "\tat java.lang.reflect.Method.invoke(Method.java:498)\n",
      "\tat py4j.reflection.MethodInvoker.invoke(MethodInvoker.java:244)\n",
      "\tat py4j.reflection.ReflectionEngine.invoke(ReflectionEngine.java:357)\n",
      "\tat py4j.Gateway.invoke(Gateway.java:282)\n",
      "\tat py4j.commands.AbstractCommand.invokeMethod(AbstractCommand.java:132)\n",
      "\tat py4j.commands.CallCommand.execute(CallCommand.java:79)\n",
      "\tat py4j.GatewayConnection.run(GatewayConnection.java:238)\n",
      "\tat java.lang.Thread.run(Thread.java:750)\n",
      "Caused by: com.amazon.ws.emr.hadoop.fs.shaded.com.amazonaws.services.s3.model.AmazonS3Exception: The specified bucket does not exist (Service: Amazon S3; Status Code: 404; Error Code: NoSuchBucket; Request ID: FPAARGQBFV4KPQ68; S3 Extended Request ID: ydkvd8Vu2Pp4po3ZhKErVyKCelk0HWRwslmrELmdkw1ytBqnu2wZyePDC2ysIaqrqHkJXYrULs98p6aVhL5s/w==; Proxy: null), S3 Extended Request ID: ydkvd8Vu2Pp4po3ZhKErVyKCelk0HWRwslmrELmdkw1ytBqnu2wZyePDC2ysIaqrqHkJXYrULs98p6aVhL5s/w==\n",
      "\tat com.amazon.ws.emr.hadoop.fs.shaded.com.amazonaws.http.AmazonHttpClient$RequestExecutor.handleErrorResponse(AmazonHttpClient.java:1811)\n",
      "\tat com.amazon.ws.emr.hadoop.fs.shaded.com.amazonaws.http.AmazonHttpClient$RequestExecutor.handleServiceErrorResponse(AmazonHttpClient.java:1395)\n",
      "\tat com.amazon.ws.emr.hadoop.fs.shaded.com.amazonaws.http.AmazonHttpClient$RequestExecutor.executeOneRequest(AmazonHttpClient.java:1371)\n",
      "\tat com.amazon.ws.emr.hadoop.fs.shaded.com.amazonaws.http.AmazonHttpClient$RequestExecutor.executeHelper(AmazonHttpClient.java:1145)\n",
      "\tat com.amazon.ws.emr.hadoop.fs.shaded.com.amazonaws.http.AmazonHttpClient$RequestExecutor.doExecute(AmazonHttpClient.java:802)\n",
      "\tat com.amazon.ws.emr.hadoop.fs.shaded.com.amazonaws.http.AmazonHttpClient$RequestExecutor.executeWithTimer(AmazonHttpClient.java:770)\n",
      "\tat com.amazon.ws.emr.hadoop.fs.shaded.com.amazonaws.http.AmazonHttpClient$RequestExecutor.execute(AmazonHttpClient.java:744)\n",
      "\tat com.amazon.ws.emr.hadoop.fs.shaded.com.amazonaws.http.AmazonHttpClient$RequestExecutor.access$500(AmazonHttpClient.java:704)\n",
      "\tat com.amazon.ws.emr.hadoop.fs.shaded.com.amazonaws.http.AmazonHttpClient$RequestExecutionBuilderImpl.execute(AmazonHttpClient.java:686)\n",
      "\tat com.amazon.ws.emr.hadoop.fs.shaded.com.amazonaws.http.AmazonHttpClient.execute(AmazonHttpClient.java:550)\n",
      "\tat com.amazon.ws.emr.hadoop.fs.shaded.com.amazonaws.http.AmazonHttpClient.execute(AmazonHttpClient.java:530)\n",
      "\tat com.amazon.ws.emr.hadoop.fs.shaded.com.amazonaws.services.s3.AmazonS3Client.invoke(AmazonS3Client.java:5062)\n",
      "\tat com.amazon.ws.emr.hadoop.fs.shaded.com.amazonaws.services.s3.AmazonS3Client.invoke(AmazonS3Client.java:5008)\n",
      "\tat com.amazon.ws.emr.hadoop.fs.shaded.com.amazonaws.services.s3.AmazonS3Client.invoke(AmazonS3Client.java:5002)\n",
      "\tat com.amazon.ws.emr.hadoop.fs.shaded.com.amazonaws.services.s3.AmazonS3Client.listObjectsV2(AmazonS3Client.java:941)\n",
      "\tat com.amazon.ws.emr.hadoop.fs.s3.lite.call.ListObjectsV2Call.perform(ListObjectsV2Call.java:22)\n",
      "\tat com.amazon.ws.emr.hadoop.fs.s3.lite.call.ListObjectsV2Call.perform(ListObjectsV2Call.java:8)\n",
      "\tat com.amazon.ws.emr.hadoop.fs.s3.lite.executor.GlobalS3Executor.execute(GlobalS3Executor.java:114)\n",
      "\tat com.amazon.ws.emr.hadoop.fs.s3.lite.AmazonS3LiteClient.invoke(AmazonS3LiteClient.java:191)\n",
      "\tat com.amazon.ws.emr.hadoop.fs.s3.lite.AmazonS3LiteClient.invoke(AmazonS3LiteClient.java:186)\n",
      "\tat com.amazon.ws.emr.hadoop.fs.s3.lite.AmazonS3LiteClient.listObjectsV2(AmazonS3LiteClient.java:75)\n",
      "\tat com.amazon.ws.emr.hadoop.fs.s3n.Jets3tNativeFileSystemStore.list(Jets3tNativeFileSystemStore.java:294)\n",
      "\t... 36 more\n",
      "\n",
      "\n"
     ]
    }
   ],
   "source": [
    "from functools import reduce\n",
    "\n",
    "\n",
    "w = Window.partitionBy(\"collection_population_uuid\",\"collection_population_by_day_uuid\",\"published_customer_id\").orderBy(f.col(\"publish_date\").desc())\n",
    "final_transformed_temp_df = final_transformed_temp_df.withColumn(\"row\", f.row_number().over(w)).filter(f.col(\"row\") == 1).drop(\"row\")\n",
    "\n",
    "## final set of transformed_fields\n",
    "final_transformed_target_df = final_transformed_temp_df.select(['collection_population_uuid','collection_population_by_day_uuid','published_audience_id','publish_date','published_customer_id','published_first_name','published_last_name','published_address_1','published_address_2','published_city','published_customer_state','published_customer_zipcode','do_not_call_zipcode_flag','published_customer_email','bad_email_flag','spanish_speaker_flag','disaster_zone_flag','days_into_disaster','collections_model_score','tier_1_complaint_flag','escalate_to_legal_flag','escalate_to_compliance_flag','can_robocall_flag','do_not_email_flag','do_not_call_flag','do_not_sms_flag','bankruptcy_flag','fraud_confirmed_flag','person_deceased_flag','outstanding_fsr_flag','claimed_fraud_flag','on_soft_pause_flag','rpc_today_flag','published_rpc_past_7_days_flag','published_prd1_id','published_prd2_id','prd1_measurement_date','prd2_measurement_date','published_prd2_status','published_prd1_status','published_prd1_type','published_prd2_type','prd1_state','prd2_state','published_email_consent_flag','published_prd1_outstanding_balance','published_prd2_outstanding_balance','published_prd1_next_due_amount','published_prd2_next_due_amount','published_prd1_next_due_date','published_prd2_next_due_date','published_prd1_past_due_amount','published_prd2_past_due_amount','prd1_months_on_book','prd2_months_on_book','published_prd1_days_late','published_prd2_days_late','published_prd1_charge_off_reason','published_prd2_charge_off_reason','prd1_lateness_charge_off_flag','prd2_lateness_charge_off_flag','prd1_dmc_flag','prd2_dmc_flag','prd1_in_flight_blind_flag','prd2_in_flight_blind_flag','prd1_in_flight_payment_flag','prd2_in_flight_payment_flag','prd1_on_active_payment_plan_flag','prd2_on_active_payment_plan_flag','prd1_placed_with_agency_flag','prd2_placed_with_agency_flag','prd1_scra_flag','prd2_scra_flag','prd1_days_since_payment_returned','prd2_days_since_payment_returned','published_prd1_days_until_late_fee_due','published_prd2_days_until_late_fee_due','prd1_is_payment_protection_applied_flag','prd2_is_payment_protection_applied_flag','published_phone_1_number','published_phone_1_type','phone_1_primary_flag','phone_1_auto_dial_flag','phone_1_active_flag','phone_1_do_not_call_flag','phone_1_confirmed_mobile_flag','phone_1_neustar_score','phone_1_sms_consent_flag','published_phone_2_number','published_phone_2_type','phone_2_primary_flag','phone_2_auto_dial_flag','phone_2_active_flag','phone_2_do_not_call_flag','phone_2_confirmed_mobile_flag','phone_2_neustar_score','phone_2_sms_consent_flag','published_phone_3_number','published_phone_3_type','phone_3_primary_flag','phone_3_auto_dial_flag','phone_3_active_flag','phone_3_do_not_call_flag','phone_3_confirmed_mobile_flag','phone_3_neustar_score','phone_3_sms_consent_flag','published_phone_4_number','published_phone_4_type','phone_4_primary_flag','phone_4_auto_dial_flag','phone_4_active_flag','phone_4_do_not_call_flag','phone_4_confirmed_mobile_flag','phone_4_neustar_score','phone_4_sms_consent_flag','published_phone_5_number','published_phone_5_type','phone_5_primary_flag','phone_5_auto_dial_flag','phone_5_active_flag','phone_5_do_not_call_flag','phone_5_confirmed_mobile_flag','phone_5_neustar_score','phone_5_sms_consent_flag','published_account_id','published_phone_1_do_not_contact_flag','published_phone_1_sms_flag','published_phone_1_auto_dial_flag','published_phone_2_do_not_contact_flag','published_phone_2_sms_flag','published_phone_2_auto_dial_flag','published_phone_3_do_not_contact_flag','published_phone_3_sms_flag','published_phone_3_auto_dial_flag','published_phone_4_do_not_contact_flag','published_phone_4_sms_flag','published_phone_4_auto_dial_flag','published_phone_5_do_not_contact_flag','published_phone_5_sms_flag','published_phone_5_auto_dial_flag','published_prd1_payment_plan_structure','published_prd1_payment_plan_status','published_prd2_payment_plan_structure','published_prd2_payment_plan_status','published_do_not_contact_reasons','published_partner','published_do_not_contact_flag','published_do_not_contact_today_flag','published_sms_consent_flag', 'published_prd2_financial_situation_review_eligible', 'published_prd1_financial_situation_review_eligible','campaign_batch_id','campaign_run_id','etl_ingestion_time'])\n",
    "cols = ['do_not_call_zipcode_flag','bad_email_flag','spanish_speaker_flag','disaster_zone_flag','tier_1_complaint_flag','escalate_to_legal_flag','escalate_to_compliance_flag','can_robocall_flag','do_not_email_flag','do_not_call_flag','do_not_sms_flag','bankruptcy_flag','fraud_confirmed_flag','person_deceased_flag','outstanding_fsr_flag','claimed_fraud_flag','on_soft_pause_flag','rpc_today_flag','published_rpc_past_7_days_flag','prd1_lateness_charge_off_flag','prd2_lateness_charge_off_flag','prd1_dmc_flag','prd2_dmc_flag','prd1_in_flight_blind_flag','prd2_in_flight_blind_flag','prd1_in_flight_payment_flag','prd2_in_flight_payment_flag','prd1_on_active_payment_plan_flag','prd2_on_active_payment_plan_flag','prd1_placed_with_agency_flag','prd2_placed_with_agency_flag','prd1_scra_flag','prd2_scra_flag','prd1_is_payment_protection_applied_flag','prd2_is_payment_protection_applied_flag','phone_1_primary_flag','phone_1_auto_dial_flag','phone_1_active_flag','phone_1_do_not_call_flag','phone_1_confirmed_mobile_flag','phone_1_sms_consent_flag','phone_2_primary_flag','phone_2_auto_dial_flag','phone_2_active_flag','phone_2_do_not_call_flag','phone_2_confirmed_mobile_flag','phone_2_sms_consent_flag','phone_3_primary_flag','phone_3_auto_dial_flag','phone_3_active_flag','phone_3_do_not_call_flag','phone_3_confirmed_mobile_flag','phone_3_sms_consent_flag','phone_4_primary_flag','phone_4_auto_dial_flag','phone_4_active_flag','phone_4_do_not_call_flag','phone_4_confirmed_mobile_flag','phone_4_sms_consent_flag','phone_5_primary_flag','phone_5_auto_dial_flag','phone_5_active_flag','phone_5_do_not_call_flag','phone_5_confirmed_mobile_flag','phone_5_sms_consent_flag','published_phone_1_do_not_contact_flag','published_phone_1_sms_flag','published_phone_1_auto_dial_flag','published_phone_2_do_not_contact_flag','published_phone_2_sms_flag','published_phone_2_auto_dial_flag','published_phone_3_do_not_contact_flag','published_phone_3_sms_flag','published_phone_3_auto_dial_flag','published_phone_4_do_not_contact_flag','published_phone_4_sms_flag','published_phone_4_auto_dial_flag','published_phone_5_do_not_contact_flag','published_phone_5_sms_flag','published_phone_5_auto_dial_flag','published_do_not_contact_flag','published_do_not_contact_today_flag','published_sms_consent_flag','published_prd1_financial_situation_review_eligible','published_prd2_financial_situation_review_eligible','published_email_consent_flag']\n",
    "#final_df = reduce(lambda final_transformed_target_df, c: final_transformed_target_df.withColumn(c, f.when(final_transformed_target_df[c] == 'false', 0).otherwise(1).cast(LongType())),cols , final_transformed_target_df)\n",
    "final_df = reduce(lambda final_transformed_target_df, c: final_transformed_target_df.withColumn(c, f.when(final_transformed_target_df[c] == 'false', 0).when(final_transformed_target_df[c] == 'true', 1).otherwise(0).cast(LongType())),cols , final_transformed_target_df)\n",
    "final_df = final_df.withColumn('published_do_not_contact_flag',f.when(final_df.published_do_not_contact_flag == 0,f.lit(None)).otherwise(final_df.published_do_not_contact_flag))\\\n",
    "                    .withColumn('published_do_not_contact_today_flag',f.when(final_df.published_do_not_contact_today_flag == 0,f.lit(None)).otherwise(final_df.published_do_not_contact_today_flag))\n",
    "## sftp for loan\n",
    "loan_df = final_df.select(['published_account_id','published_address_1','published_address_2','published_city','published_first_name','published_last_name','published_customer_zipcode','published_customer_state','published_phone_1_number','published_phone_1_do_not_contact_flag','published_phone_1_sms_flag','published_phone_1_auto_dial_flag','published_phone_1_type','published_phone_2_number','published_phone_2_do_not_contact_flag','published_phone_2_sms_flag','published_phone_2_auto_dial_flag','published_phone_2_type','published_phone_3_number','published_phone_3_do_not_contact_flag','published_phone_3_sms_flag','published_phone_3_auto_dial_flag','published_phone_3_type','published_phone_4_number','published_phone_4_do_not_contact_flag','published_phone_4_sms_flag','published_phone_4_auto_dial_flag','published_phone_4_type','published_phone_5_number','published_phone_5_do_not_contact_flag','published_phone_5_sms_flag','published_phone_5_auto_dial_flag','published_phone_5_type','published_customer_email','published_email_consent_flag','published_partner','published_prd1_id','published_prd2_id','published_customer_id','published_prd1_days_late','published_prd2_days_late','published_do_not_contact_flag','published_do_not_contact_today_flag','published_prd2_charge_off_reason','published_prd1_charge_off_reason','published_audience_id','published_prd1_outstanding_balance','published_prd2_outstanding_balance','published_sms_consent_flag','published_prd2_status','published_prd1_status','published_prd1_financial_situation_review_eligible','published_prd2_financial_situation_review_eligible','published_prd1_payment_plan_structure','published_prd1_payment_plan_status','published_prd2_payment_plan_structure','published_prd2_payment_plan_status','published_do_not_contact_reasons','published_prd2_past_due_amount','published_prd1_past_due_amount','published_prd1_next_due_date','published_prd2_next_due_date','published_prd1_next_due_amount','published_prd2_next_due_amount','published_prd1_type','published_prd2_type','published_prd1_days_until_late_fee_due','published_prd2_days_until_late_fee_due','published_rpc_past_7_days_flag','publish_date'])\n",
    "\n",
    "sftp_loan_df = loan_df.filter(f.col('published_prd1_type') == 'installment')\n",
    "sftp_loan_df = sftp_loan_df.select('*',f.col('published_prd1_id').isNotNull())\n",
    "# sftp_loan_df.repartition(1).write.mode('overwrite').option(\"header\", \"true\").option(\"delimiter\", \",\").csv(sftp_loan_path)\n",
    "#sftp_loan_df.write.mode('overwrite').option(\"header\", \"true\").csv(sftp_loan_path)\n",
    "\n",
    "\n",
    "## sftp for pos\n",
    "sftp_pos_df = loan_df.filter(f.col('published_prd2_type') == 'point_of_sale')\n",
    "sftp_pos_df = sftp_pos_df.select('*',f.col('published_prd2_id').isNotNull())\n",
    "# sftp_pos_df.repartition(1).write.mode('overwrite').option(\"header\", \"true\").option(\"delimiter\", \",\").csv(sftp_pos_path)\n",
    "#sftp_pos_df.write.mode('overwrite').option(\"header\", \"true\").csv(sftp_pos_path)\n",
    "\n",
    "## final_transformed_data for collection live\n",
    "final_df.write.parquet(target_path_2, mode=\"overwrite\")"
   ]
  },
  {
   "cell_type": "code",
   "execution_count": 82,
   "metadata": {},
   "outputs": [
    {
     "data": {
      "application/vnd.jupyter.widget-view+json": {
       "model_id": "",
       "version_major": 2,
       "version_minor": 0
      },
      "text/plain": [
       "FloatProgress(value=0.0, bar_style='info', description='Progress:', layout=Layout(height='25px', width='50%'),…"
      ]
     },
     "metadata": {},
     "output_type": "display_data"
    },
    {
     "name": "stdout",
     "output_type": "stream",
     "text": [
      "'s3://avantcamp-partner/avantcamp-partner03-prod-transform-bucket/td/livevox_td_collection/final_transformed_data_to_livevox_first_run/2025/01/25/12121/149/final_transformed_data_to_livevox_first_run_12121_149_20250125.parquet'"
     ]
    }
   ],
   "source": [
    "target_path_2"
   ]
  },
  {
   "cell_type": "code",
   "execution_count": 87,
   "metadata": {},
   "outputs": [
    {
     "data": {
      "application/vnd.jupyter.widget-view+json": {
       "model_id": "",
       "version_major": 2,
       "version_minor": 0
      },
      "text/plain": [
       "FloatProgress(value=0.0, bar_style='info', description='Progress:', layout=Layout(height='25px', width='50%'),…"
      ]
     },
     "metadata": {},
     "output_type": "display_data"
    }
   ],
   "source": [
    "final_df.write.parquet(target_path_2,mode=\"overwrite\")"
   ]
  },
  {
   "cell_type": "code",
   "execution_count": null,
   "metadata": {},
   "outputs": [],
   "source": []
  }
 ],
 "metadata": {
  "kernelspec": {
   "display_name": "PySpark",
   "language": "",
   "name": "pysparkkernel"
  },
  "language_info": {
   "codemirror_mode": {
    "name": "python",
    "version": 3
   },
   "mimetype": "text/x-python",
   "name": "pyspark",
   "pygments_lexer": "python3"
  }
 },
 "nbformat": 4,
 "nbformat_minor": 4
}
