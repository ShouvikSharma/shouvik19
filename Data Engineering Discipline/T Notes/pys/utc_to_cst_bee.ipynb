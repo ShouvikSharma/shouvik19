{
 "cells": [
  {
   "cell_type": "code",
   "execution_count": 1,
   "metadata": {},
   "outputs": [],
   "source": [
    "import boto3\n",
    "import datetime\n",
    "from datetime import date, timedelta\n",
    "import boto3\n",
    "import pyarrow.parquet as pq\n",
    "from io import BytesIO\n",
    "import io"
   ]
  },
  {
   "cell_type": "code",
   "execution_count": 2,
   "metadata": {},
   "outputs": [],
   "source": [
    "s3_client_target = boto3.resource('s3')"
   ]
  },
  {
   "cell_type": "code",
   "execution_count": 3,
   "metadata": {},
   "outputs": [],
   "source": [
    "my_bucket = s3_client_target.Bucket('avantcamp-partner01-prod-publish-bucket')\n",
    "s3_bucket_target = 'avantcamp-partner01-prod-publish-bucket'\n"
   ]
  },
  {
   "cell_type": "code",
   "execution_count": 4,
   "metadata": {},
   "outputs": [],
   "source": [
    "s3_directory_target = 'avant/garden/segment-logs/'\n"
   ]
  },
  {
   "cell_type": "code",
   "execution_count": 5,
   "metadata": {},
   "outputs": [],
   "source": [
    "s3_directory_target_1 = 'avant/garden/segment-logs_temp/'\n",
    "s3_client = boto3.client('s3')"
   ]
  },
  {
   "cell_type": "code",
   "execution_count": null,
   "metadata": {
    "scrolled": true
   },
   "outputs": [],
   "source": [
    "for object_summary in my_bucket.objects.filter(Prefix= s3_directory_target):\n",
    "    try:\n",
    "        obj = s3_client.get_object(Bucket= 'avantcamp-partner01-prod-publish-bucket', Key= object_summary.key) \n",
    "        parquet_file = pq.ParquetFile(BytesIO(obj['Body'].read()))\n",
    "        df = parquet_file.read().to_pandas()\n",
    "        df['timestamp_utc'] = df['timestamp']\n",
    "        df['timestamp_cst'] = df['timestamp'].dt.tz_convert('America/Chicago')\n",
    "        df = df.astype('str') \n",
    "\n",
    "        towrite = io.BytesIO()\n",
    "        df.to_parquet(towrite)\n",
    "        towrite.seek(0)\n",
    "\n",
    "        s3_client_target = boto3.client('s3')\n",
    "        s3_filepath = '{}'.format(object_summary.key.replace('segment-logs','segment-logs_temp'))\n",
    "\n",
    "\n",
    "        s3_client_target.upload_fileobj(towrite, s3_bucket_target,s3_filepath,ExtraArgs={\"ACL\": \"bucket-owner-full-control\",\n",
    "                    \"ServerSideEncryption\": \"AES256\"})\n",
    "    except:\n",
    "        obj = s3_client.get_object(Bucket= 'avantcamp-partner01-prod-publish-bucket', Key= object_summary.key) \n",
    "        parquet_file = pq.ParquetFile(BytesIO(obj['Body'].read()))\n",
    "        df = parquet_file.read().to_pandas()\n",
    "\n",
    "        df['timestamp_utc'] = df['timestamp']\n",
    "        df['timestamp_cst'] = df['timestamp'].dt.tz_localize('cet')\n",
    "        df = df.astype('str') \n",
    "        towrite = io.BytesIO()\n",
    "        df.to_parquet(towrite)\n",
    "        towrite.seek(0)\n",
    "\n",
    "        s3_client_target = boto3.client('s3')\n",
    "        s3_filepath = '{}'.format(object_summary.key.replace('segment-logs','segment-logs_temp'))\n",
    "\n",
    "\n",
    "        s3_client_target.upload_fileobj(towrite, s3_bucket_target,s3_filepath,ExtraArgs={\"ACL\": \"bucket-owner-full-control\",\n",
    "                    \"ServerSideEncryption\": \"AES256\"})"
   ]
  },
  {
   "cell_type": "code",
   "execution_count": 20,
   "metadata": {},
   "outputs": [
    {
     "data": {
      "text/plain": [
       "<_io.BytesIO at 0x7f44045c6e08>"
      ]
     },
     "execution_count": 20,
     "metadata": {},
     "output_type": "execute_result"
    }
   ],
   "source": [
    "towrite"
   ]
  },
  {
   "cell_type": "code",
   "execution_count": 43,
   "metadata": {},
   "outputs": [
    {
     "data": {
      "text/plain": [
       "s3.ObjectSummary(bucket_name='avantcamp-partner01-prod-publish-bucket', key='avant/garden/segment-logs/1667865600000.parquet')"
      ]
     },
     "execution_count": 43,
     "metadata": {},
     "output_type": "execute_result"
    }
   ],
   "source": [
    "object_summary"
   ]
  },
  {
   "cell_type": "code",
   "execution_count": 12,
   "metadata": {},
   "outputs": [],
   "source": [
    " "
   ]
  },
  {
   "cell_type": "code",
   "execution_count": 38,
   "metadata": {},
   "outputs": [
    {
     "data": {
      "text/plain": [
       "'avant/garden/segment-logs/'"
      ]
     },
     "execution_count": 38,
     "metadata": {},
     "output_type": "execute_result"
    }
   ],
   "source": [
    "s3_directory_target"
   ]
  },
  {
   "cell_type": "code",
   "execution_count": 10,
   "metadata": {},
   "outputs": [],
   "source": [
    "for object_summary in my_bucket.objects.filter(Prefix= s3_directory_target):\n",
    "    1"
   ]
  },
  {
   "cell_type": "code",
   "execution_count": 39,
   "metadata": {},
   "outputs": [
    {
     "data": {
      "text/plain": [
       "'avant/garden/segment-logs_temp/1650499200000.parquet'"
      ]
     },
     "execution_count": 39,
     "metadata": {},
     "output_type": "execute_result"
    }
   ],
   "source": [
    "object_summary.key.replace('segment-logs','segment-logs_temp')"
   ]
  },
  {
   "cell_type": "code",
   "execution_count": 26,
   "metadata": {},
   "outputs": [
    {
     "data": {
      "text/plain": [
       "s3.ObjectSummary(bucket_name='avantcamp-partner01-prod-publish-bucket', key='avant/garden/segment-logs/1667865600000.parquet')"
      ]
     },
     "execution_count": 26,
     "metadata": {},
     "output_type": "execute_result"
    }
   ],
   "source": [
    "object_summary"
   ]
  },
  {
   "cell_type": "code",
   "execution_count": 9,
   "metadata": {},
   "outputs": [],
   "source": [
    "s3_directory_target = 'avant/garden/segment-logs/1667865600000.parquet'"
   ]
  },
  {
   "cell_type": "code",
   "execution_count": 10,
   "metadata": {},
   "outputs": [],
   "source": [
    "obj = s3_client.get_object(Bucket= 'avantcamp-partner01-prod-publish-bucket', Key= object_summary.key) \n",
    "parquet_file = pq.ParquetFile(BytesIO(obj['Body'].read()))\n",
    "df = parquet_file.read().to_pandas()\n",
    "\n",
    "df['timestamp_utc'] = df['timestamp']\n",
    "df['timestamp_cst'] = df['timestamp'].dt.tz_localize('cet')\n",
    "df = df.astype('str') \n",
    "towrite = io.BytesIO()\n",
    "df.to_parquet(towrite)\n",
    "towrite.seek(0)\n",
    "\n",
    "s3_client_target = boto3.client('s3')\n",
    "s3_filepath = '{}'.format(object_summary.key.replace('segment-logs','segment-logs_temp'))\n",
    "\n",
    "\n",
    "s3_client_target.upload_fileobj(towrite, s3_bucket_target,s3_filepath,ExtraArgs={\"ACL\": \"bucket-owner-full-control\",\n",
    "            \"ServerSideEncryption\": \"AES256\"})"
   ]
  },
  {
   "cell_type": "code",
   "execution_count": 18,
   "metadata": {},
   "outputs": [
    {
     "ename": "AttributeError",
     "evalue": "'DatetimeProperties' object has no attribute 'localize'",
     "output_type": "error",
     "traceback": [
      "\u001b[0;31m---------------------------------------------------------------------------\u001b[0m",
      "\u001b[0;31mAttributeError\u001b[0m                            Traceback (most recent call last)",
      "\u001b[0;32m<ipython-input-18-484c3e0e411c>\u001b[0m in \u001b[0;36m<module>\u001b[0;34m()\u001b[0m\n\u001b[0;32m----> 1\u001b[0;31m \u001b[0mdf\u001b[0m\u001b[0;34m[\u001b[0m\u001b[0;34m'timestamp'\u001b[0m\u001b[0;34m]\u001b[0m\u001b[0;34m.\u001b[0m\u001b[0mdt\u001b[0m\u001b[0;34m.\u001b[0m\u001b[0mlocalize\u001b[0m\u001b[0;34m(\u001b[0m\u001b[0;34m)\u001b[0m\u001b[0;34m\u001b[0m\u001b[0;34m\u001b[0m\u001b[0m\n\u001b[0m",
      "\u001b[0;31mAttributeError\u001b[0m: 'DatetimeProperties' object has no attribute 'localize'"
     ]
    }
   ],
   "source": [
    "df['timestamp'].dt.localize()"
   ]
  },
  {
   "cell_type": "code",
   "execution_count": 65,
   "metadata": {},
   "outputs": [
    {
     "ename": "TypeError",
     "evalue": "index is not a valid DatetimeIndex or PeriodIndex",
     "output_type": "error",
     "traceback": [
      "\u001b[0;31m---------------------------------------------------------------------------\u001b[0m",
      "\u001b[0;31mTypeError\u001b[0m                                 Traceback (most recent call last)",
      "\u001b[0;32m<ipython-input-65-8c56bda06e69>\u001b[0m in \u001b[0;36m<module>\u001b[0;34m()\u001b[0m\n\u001b[0;32m----> 1\u001b[0;31m \u001b[0mdf\u001b[0m\u001b[0;34m[\u001b[0m\u001b[0;34m'timestamp'\u001b[0m\u001b[0;34m]\u001b[0m\u001b[0;34m.\u001b[0m\u001b[0mtz_localize\u001b[0m\u001b[0;34m(\u001b[0m\u001b[0;34m'cst'\u001b[0m\u001b[0;34m)\u001b[0m\u001b[0;34m\u001b[0m\u001b[0;34m\u001b[0m\u001b[0m\n\u001b[0m",
      "\u001b[0;32m/opt/conda/lib/python3.6/site-packages/pandas/core/generic.py\u001b[0m in \u001b[0;36mtz_localize\u001b[0;34m(self, tz, axis, level, copy, ambiguous, nonexistent)\u001b[0m\n\u001b[1;32m   9865\u001b[0m             \u001b[0;32mif\u001b[0m \u001b[0mlevel\u001b[0m \u001b[0;32mnot\u001b[0m \u001b[0;32min\u001b[0m \u001b[0;34m(\u001b[0m\u001b[0;32mNone\u001b[0m\u001b[0;34m,\u001b[0m \u001b[0;36m0\u001b[0m\u001b[0;34m,\u001b[0m \u001b[0max\u001b[0m\u001b[0;34m.\u001b[0m\u001b[0mname\u001b[0m\u001b[0;34m)\u001b[0m\u001b[0;34m:\u001b[0m\u001b[0;34m\u001b[0m\u001b[0;34m\u001b[0m\u001b[0m\n\u001b[1;32m   9866\u001b[0m                 \u001b[0;32mraise\u001b[0m \u001b[0mValueError\u001b[0m\u001b[0;34m(\u001b[0m\u001b[0;34m\"The level {0} is not valid\"\u001b[0m\u001b[0;34m.\u001b[0m\u001b[0mformat\u001b[0m\u001b[0;34m(\u001b[0m\u001b[0mlevel\u001b[0m\u001b[0;34m)\u001b[0m\u001b[0;34m)\u001b[0m\u001b[0;34m\u001b[0m\u001b[0;34m\u001b[0m\u001b[0m\n\u001b[0;32m-> 9867\u001b[0;31m             \u001b[0max\u001b[0m \u001b[0;34m=\u001b[0m \u001b[0m_tz_localize\u001b[0m\u001b[0;34m(\u001b[0m\u001b[0max\u001b[0m\u001b[0;34m,\u001b[0m \u001b[0mtz\u001b[0m\u001b[0;34m,\u001b[0m \u001b[0mambiguous\u001b[0m\u001b[0;34m,\u001b[0m \u001b[0mnonexistent\u001b[0m\u001b[0;34m)\u001b[0m\u001b[0;34m\u001b[0m\u001b[0;34m\u001b[0m\u001b[0m\n\u001b[0m\u001b[1;32m   9868\u001b[0m \u001b[0;34m\u001b[0m\u001b[0m\n\u001b[1;32m   9869\u001b[0m         \u001b[0mresult\u001b[0m \u001b[0;34m=\u001b[0m \u001b[0mself\u001b[0m\u001b[0;34m.\u001b[0m\u001b[0m_constructor\u001b[0m\u001b[0;34m(\u001b[0m\u001b[0mself\u001b[0m\u001b[0;34m.\u001b[0m\u001b[0m_data\u001b[0m\u001b[0;34m,\u001b[0m \u001b[0mcopy\u001b[0m\u001b[0;34m=\u001b[0m\u001b[0mcopy\u001b[0m\u001b[0;34m)\u001b[0m\u001b[0;34m\u001b[0m\u001b[0;34m\u001b[0m\u001b[0m\n",
      "\u001b[0;32m/opt/conda/lib/python3.6/site-packages/pandas/core/generic.py\u001b[0m in \u001b[0;36m_tz_localize\u001b[0;34m(ax, tz, ambiguous, nonexistent)\u001b[0m\n\u001b[1;32m   9848\u001b[0m                     \u001b[0max_name\u001b[0m \u001b[0;34m=\u001b[0m \u001b[0mself\u001b[0m\u001b[0;34m.\u001b[0m\u001b[0m_get_axis_name\u001b[0m\u001b[0;34m(\u001b[0m\u001b[0maxis\u001b[0m\u001b[0;34m)\u001b[0m\u001b[0;34m\u001b[0m\u001b[0;34m\u001b[0m\u001b[0m\n\u001b[1;32m   9849\u001b[0m                     raise TypeError(\n\u001b[0;32m-> 9850\u001b[0;31m                         \u001b[0;34m\"%s is not a valid DatetimeIndex or \"\u001b[0m \u001b[0;34m\"PeriodIndex\"\u001b[0m \u001b[0;34m%\u001b[0m \u001b[0max_name\u001b[0m\u001b[0;34m\u001b[0m\u001b[0;34m\u001b[0m\u001b[0m\n\u001b[0m\u001b[1;32m   9851\u001b[0m                     )\n\u001b[1;32m   9852\u001b[0m                 \u001b[0;32melse\u001b[0m\u001b[0;34m:\u001b[0m\u001b[0;34m\u001b[0m\u001b[0;34m\u001b[0m\u001b[0m\n",
      "\u001b[0;31mTypeError\u001b[0m: index is not a valid DatetimeIndex or PeriodIndex"
     ]
    }
   ],
   "source": [
    "df['timestamp'].tz_localize('cst')"
   ]
  },
  {
   "cell_type": "code",
   "execution_count": 46,
   "metadata": {},
   "outputs": [
    {
     "data": {
      "text/plain": [
       "<botocore.response.StreamingBody at 0x7f79b40b29e8>"
      ]
     },
     "execution_count": 46,
     "metadata": {},
     "output_type": "execute_result"
    }
   ],
   "source": [
    "obj['Body']"
   ]
  },
  {
   "cell_type": "code",
   "execution_count": 13,
   "metadata": {},
   "outputs": [],
   "source": []
  },
  {
   "cell_type": "code",
   "execution_count": 48,
   "metadata": {},
   "outputs": [],
   "source": [
    "\n",
    "\n",
    "obj = s3_client.get_object(Bucket= 'avantcamp-partner01-prod-publish-bucket', Key= object_summary.key) \n",
    "parquet_file = pq.ParquetFile(BytesIO(obj['Body'].read()))\n"
   ]
  },
  {
   "cell_type": "code",
   "execution_count": 49,
   "metadata": {},
   "outputs": [
    {
     "data": {
      "text/plain": [
       "<pyarrow.parquet.ParquetFile at 0x7f79b417ecf8>"
      ]
     },
     "execution_count": 49,
     "metadata": {},
     "output_type": "execute_result"
    }
   ],
   "source": [
    "parquet_file"
   ]
  },
  {
   "cell_type": "code",
   "execution_count": 50,
   "metadata": {},
   "outputs": [
    {
     "name": "stdout",
     "output_type": "stream",
     "text": [
      "Schema: <pyarrow._parquet.ParquetSchema object at 0x7f79c3644208>\n",
      "required group field_id=-1 schema {\n",
      "  optional binary field_id=-1 channel (String);\n",
      "  optional binary field_id=-1 event (String);\n",
      "  optional binary field_id=-1 integrations (String);\n",
      "  optional binary field_id=-1 messageId (String);\n",
      "  optional binary field_id=-1 originalTimestamp (String);\n",
      "  optional binary field_id=-1 projectId (String);\n",
      "  optional binary field_id=-1 receivedAt (String);\n",
      "  optional binary field_id=-1 sentAt (String);\n",
      "  optional int64 field_id=-1 timestamp (Timestamp(isAdjustedToUTC=true, timeUnit=microseconds, is_from_converted_type=false, force_set_converted_type=false));\n",
      "  optional binary field_id=-1 type (String);\n",
      "  optional binary field_id=-1 userId (String);\n",
      "  optional binary field_id=-1 version (String);\n",
      "  optional binary field_id=-1 writeKey (String);\n",
      "  optional binary field_id=-1 context_integrations_Appboy (String);\n",
      "  optional binary field_id=-1 context_integrations_name (String);\n",
      "  optional binary field_id=-1 context_integrations_version (String);\n",
      "  optional binary field_id=-1 context_library_name (String);\n",
      "  optional binary field_id=-1 context_library_version (String);\n",
      "  optional binary field_id=-1 context_protocols_sourceId (String);\n",
      "  optional binary field_id=-1 context_traits_email (String);\n",
      "  optional binary field_id=-1 properties_campaign_id (String);\n",
      "  optional binary field_id=-1 properties_campaign_name (String);\n",
      "  optional binary field_id=-1 properties_dispatch_id (String);\n",
      "  optional binary field_id=-1 properties_ip_pool (String);\n",
      "  optional binary field_id=-1 properties_message_variation_id (String);\n",
      "  optional binary field_id=-1 properties_canvas_id (String);\n",
      "  optional binary field_id=-1 properties_canvas_name (String);\n",
      "  optional binary field_id=-1 properties_canvas_step_id (String);\n",
      "  optional binary field_id=-1 properties_canvas_step_name (String);\n",
      "  optional binary field_id=-1 properties_canvas_variation_id (String);\n",
      "  optional binary field_id=-1 properties_canvas_variation_name (String);\n",
      "  optional binary field_id=-1 properties_app_id (String);\n",
      "  optional binary field_id=-1 properties_platform (String);\n",
      "  optional binary field_id=-1 properties_in_control_group (String);\n",
      "  optional binary field_id=-1 properties_machine_open (String);\n",
      "  optional binary field_id=-1 folder_name (String);\n",
      "  optional binary field_id=-1 properties_link_url (String);\n",
      "  optional binary field_id=-1 properties_bounce_reason (String);\n",
      "  optional binary field_id=-1 context_device_model (String);\n",
      "  optional binary field_id=-1 context_device_type (String);\n",
      "  optional binary field_id=-1 properties_subscription_group_id (String);\n",
      "  optional binary field_id=-1 properties_subscription_status (String);\n",
      "  optional binary field_id=-1 properties_esp (String);\n",
      "  optional binary field_id=-1 properties_from_domain (String);\n",
      "  optional binary field_id=-1 properties_is_drop (String);\n",
      "  optional binary field_id=-1 folder_time_name (String);\n",
      "  optional int64 field_id=-1 __index_level_0__;\n",
      "}\n",
      "\n",
      "Table: pyarrow.Table\n",
      "channel: string\n",
      "event: string\n",
      "integrations: string\n",
      "messageId: string\n",
      "originalTimestamp: string\n",
      "projectId: string\n",
      "receivedAt: string\n",
      "sentAt: string\n",
      "timestamp: timestamp[us, tz=UTC]\n",
      "type: string\n",
      "userId: string\n",
      "version: string\n",
      "writeKey: string\n",
      "context_integrations_Appboy: string\n",
      "context_integrations_name: string\n",
      "context_integrations_version: string\n",
      "context_library_name: string\n",
      "context_library_version: string\n",
      "context_protocols_sourceId: string\n",
      "context_traits_email: string\n",
      "properties_campaign_id: string\n",
      "properties_campaign_name: string\n",
      "properties_dispatch_id: string\n",
      "properties_ip_pool: string\n",
      "properties_message_variation_id: string\n",
      "properties_canvas_id: string\n",
      "properties_canvas_name: string\n",
      "properties_canvas_step_id: string\n",
      "properties_canvas_step_name: string\n",
      "properties_canvas_variation_id: string\n",
      "properties_canvas_variation_name: string\n",
      "properties_app_id: string\n",
      "properties_platform: string\n",
      "properties_in_control_group: string\n",
      "properties_machine_open: string\n",
      "folder_name: string\n",
      "properties_link_url: string\n",
      "properties_bounce_reason: string\n",
      "context_device_model: string\n",
      "context_device_type: string\n",
      "properties_subscription_group_id: string\n",
      "properties_subscription_status: string\n",
      "properties_esp: string\n",
      "properties_from_domain: string\n",
      "properties_is_drop: string\n",
      "folder_time_name: string\n",
      "__index_level_0__: int64\n",
      "----\n",
      "channel: [[\"server\",\"server\",\"server\",\"server\",\"server\",\"server\",\"server\",\"server\",\"server\",\"server\",...,\"server\",\"server\",\"server\",\"server\",\"server\",\"server\",\"server\",\"server\",\"server\",\"server\"]]\n",
      "event: [[\"Email Delivered\",\"Email Sent\",\"Webhook Sent\",\"Webhook Sent\",\"Push Notification Sent\",\"Email Sent\",\"Email Sent\",\"Webhook Sent\",\"Webhook Sent\",\"Email Sent\",...,\"Email Delivered\",\"Email Link Clicked\",\"Canvas Converted\",\"Email Opened\",\"Push Notification Sent\",\"Email Opened\",\"Canvas Entered\",\"Email Opened\",\"Email Delivered\",\"Email Delivered\"]]\n",
      "integrations: [[\"{}\",\"{}\",\"{}\",\"{}\",\"{}\",\"{}\",\"{}\",\"{}\",\"{}\",\"{}\",...,\"{}\",\"{}\",\"{}\",\"{}\",\"{}\",\"{}\",\"{}\",\"{}\",\"{}\",\"{}\"]]\n",
      "messageId: [[\"d1da2a15-e166-49d6-8f66-6cd5717dc279\",\"9f4fae94-8561-4d57-b2dd-78e4bf08ed2d\",\"9ddae797-42d1-4494-8aab-49179e2d2d5c\",\"5dea9920-5a53-4f2e-b70d-d250b8a98f0b\",\"925d48a2-fd95-43f6-bbaf-3d16e359b390\",\"f73d85e1-3913-4118-afe9-66fd208fd420\",\"3fb7e019-ec2d-4f30-9a46-a9be29c24282\",\"9be145f4-19f2-4909-989d-51ebf3168600\",\"81579a5e-4564-4b4f-af90-142bccabfc13\",\"785c2dce-a5aa-42ba-88d5-fc4426ba929e\",...,\"c93efcdd-6f5c-4d63-b4e5-c5797aef4b05\",\"7f19fe28-c844-4824-bfcc-f9672ac1ecf0\",\"f5b6d02c-c4ca-4dc9-a9c7-d951262022d6\",\"5f7cf497-fba9-41f7-9e51-234c6d888c15\",\"72f56045-f89e-42c1-b041-e49e3380d2e2\",\"18cc222f-537c-4f9d-91b7-d6671fee0d07\",\"0b742c83-69b6-4839-9b76-426468bba34d\",\"cdcbbf19-554a-4903-911d-dbb23f1906ef\",\"e3bf040d-ba8d-4caf-8133-b7151a907774\",\"26e23201-0294-4999-bf89-9c6becea4e8a\"]]\n",
      "originalTimestamp: [[\"2022-04-21T22:55:10Z\",\"2022-04-21T22:59:14Z\",\"2022-04-21T22:59:13Z\",\"2022-04-21T22:59:16Z\",\"2022-04-21T22:59:18Z\",\"2022-04-21T22:59:18Z\",\"2022-04-21T22:59:22Z\",\"2022-04-21T22:59:26Z\",\"2022-04-21T22:59:26Z\",\"2022-04-21T22:59:27Z\",...,\"2022-04-21T23:46:54Z\",\"2022-04-21T23:29:55Z\",\"2022-04-21T23:35:12Z\",\"2022-04-21T23:42:11Z\",\"2022-04-21T23:44:29Z\",\"2022-04-21T23:46:17Z\",\"2022-04-21T23:50:31Z\",\"2022-04-21T23:50:55Z\",\"2022-04-21T23:55:23Z\",\"2022-04-21T23:59:32Z\"]]\n",
      "projectId: [[\"gAM2my4ZrptM2qXHJts882\",\"gAM2my4ZrptM2qXHJts882\",\"gAM2my4ZrptM2qXHJts882\",\"gAM2my4ZrptM2qXHJts882\",\"gAM2my4ZrptM2qXHJts882\",\"gAM2my4ZrptM2qXHJts882\",\"gAM2my4ZrptM2qXHJts882\",\"gAM2my4ZrptM2qXHJts882\",\"gAM2my4ZrptM2qXHJts882\",\"gAM2my4ZrptM2qXHJts882\",...,\"gAM2my4ZrptM2qXHJts882\",\"gAM2my4ZrptM2qXHJts882\",\"gAM2my4ZrptM2qXHJts882\",\"gAM2my4ZrptM2qXHJts882\",\"gAM2my4ZrptM2qXHJts882\",\"gAM2my4ZrptM2qXHJts882\",\"gAM2my4ZrptM2qXHJts882\",\"gAM2my4ZrptM2qXHJts882\",\"gAM2my4ZrptM2qXHJts882\",\"gAM2my4ZrptM2qXHJts882\"]]\n",
      "receivedAt: [[\"2022-04-21T22:55:20.794Z\",\"2022-04-21T22:59:15.959Z\",\"2022-04-21T22:59:17.599Z\",\"2022-04-21T22:59:21.399Z\",\"2022-04-21T22:59:22.371Z\",\"2022-04-21T22:59:24.429Z\",\"2022-04-21T22:59:26.058Z\",\"2022-04-21T22:59:28.951Z\",\"2022-04-21T22:59:28.599Z\",\"2022-04-21T22:59:30.526Z\",...,\"2022-04-21T23:47:06.583Z\",\"2022-04-21T23:30:07.416Z\",\"2022-04-21T23:35:14.495Z\",\"2022-04-21T23:42:23.715Z\",\"2022-04-21T23:44:32.473Z\",\"2022-04-21T23:46:34.642Z\",\"2022-04-21T23:50:33.657Z\",\"2022-04-21T23:51:07.790Z\",\"2022-04-21T23:55:31.089Z\",\"2022-04-21T23:59:44.128Z\"]]\n",
      "sentAt: [[\"nan\",\"nan\",\"nan\",\"nan\",\"nan\",\"nan\",\"nan\",\"nan\",\"nan\",\"nan\",...,\"nan\",\"nan\",\"nan\",\"nan\",\"nan\",\"nan\",\"nan\",\"nan\",\"nan\",\"nan\"]]\n",
      "timestamp: [[2022-04-21 22:55:10.000000,2022-04-21 22:59:14.000000,2022-04-21 22:59:13.000000,2022-04-21 22:59:16.000000,2022-04-21 22:59:18.000000,2022-04-21 22:59:18.000000,2022-04-21 22:59:22.000000,2022-04-21 22:59:26.000000,2022-04-21 22:59:26.000000,2022-04-21 22:59:27.000000,...,2022-04-21 23:46:54.000000,2022-04-21 23:29:55.000000,2022-04-21 23:35:12.000000,2022-04-21 23:42:11.000000,2022-04-21 23:44:29.000000,2022-04-21 23:46:17.000000,2022-04-21 23:50:31.000000,2022-04-21 23:50:55.000000,2022-04-21 23:55:23.000000,2022-04-21 23:59:32.000000]]\n",
      "type: [[\"track\",\"track\",\"track\",\"track\",\"track\",\"track\",\"track\",\"track\",\"track\",\"track\",...,\"track\",\"track\",\"track\",\"track\",\"track\",\"track\",\"track\",\"track\",\"track\",\"track\"]]\n",
      "...\n"
     ]
    }
   ],
   "source": [
    "# Now you can work with the parquet_file, for example, getting the schema or reading the data\n",
    "schema = parquet_file.schema\n",
    "table = parquet_file.read_row_group(0)  # Read a specific row group\n",
    "\n",
    "# Do something with the schema and data\n",
    "print(\"Schema:\", schema)\n",
    "print(\"Table:\", table)"
   ]
  },
  {
   "cell_type": "code",
   "execution_count": 53,
   "metadata": {},
   "outputs": [
    {
     "name": "stdout",
     "output_type": "stream",
     "text": [
      "401\n"
     ]
    }
   ],
   "source": [
    "# Convert ParquetFile to Pandas DataFrame\n",
    "df = parquet_file.read().to_pandas()\n",
    "\n",
    "# Now you can work with the Pandas DataFrame\n",
    "print(len(df))"
   ]
  },
  {
   "cell_type": "code",
   "execution_count": 55,
   "metadata": {},
   "outputs": [],
   "source": [
    "\n",
    "\n"
   ]
  },
  {
   "cell_type": "code",
   "execution_count": 24,
   "metadata": {},
   "outputs": [
    {
     "name": "stdout",
     "output_type": "stream",
     "text": [
      "Collecting pyarrow\n",
      "\u001b[?25l  Downloading https://files.pythonhosted.org/packages/b2/ad/7edf21102b6f7f12b9d4608542ebb481fdde17eeef0e2d1832ff4ae71cd2/pyarrow-6.0.1-cp36-cp36m-manylinux_2_12_x86_64.manylinux2010_x86_64.whl (24.4MB)\n",
      "\u001b[K     |████████████████████████████████| 24.4MB 5.0MB/s eta 0:00:01\n",
      "\u001b[?25hRequirement already satisfied: numpy>=1.16.6 in /opt/conda/lib/python3.6/site-packages (from pyarrow) (1.17.2)\n",
      "Installing collected packages: pyarrow\n",
      "Successfully installed pyarrow-6.0.1\n"
     ]
    }
   ],
   "source": [
    "!pip install pyarrow"
   ]
  },
  {
   "cell_type": "code",
   "execution_count": 25,
   "metadata": {},
   "outputs": [],
   "source": [
    "import pyarrow"
   ]
  },
  {
   "cell_type": "code",
   "execution_count": null,
   "metadata": {},
   "outputs": [],
   "source": []
  }
 ],
 "metadata": {
  "kernelspec": {
   "display_name": "Python 3",
   "language": "python",
   "name": "python3"
  }
 },
 "nbformat": 4,
 "nbformat_minor": 2
}
