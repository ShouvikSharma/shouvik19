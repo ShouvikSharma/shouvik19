{
 "cells": [
  {
   "cell_type": "code",
   "execution_count": 1,
   "id": "53c8ed3c",
   "metadata": {},
   "outputs": [
    {
     "name": "stdout",
     "output_type": "stream",
     "text": [
      "Starting Spark application\n"
     ]
    },
    {
     "data": {
      "text/html": [
       "<table>\n",
       "<tr><th>ID</th><th>YARN Application ID</th><th>Kind</th><th>State</th><th>Spark UI</th><th>Driver log</th><th>User</th><th>Current session?</th></tr><tr><td>0</td><td>application_1695658432399_0002</td><td>pyspark</td><td>idle</td><td><a target=\"_blank\" href=\"http://ip-10-240-118-193.us-east-2.compute.internal:20888/proxy/application_1695658432399_0002/\">Link</a></td><td><a target=\"_blank\" href=\"http://ip-10-240-119-35.us-east-2.compute.internal:8042/node/containerlogs/container_1695658432399_0002_01_000001/livy\">Link</a></td><td>None</td><td>✔</td></tr></table>"
      ],
      "text/plain": [
       "<IPython.core.display.HTML object>"
      ]
     },
     "metadata": {},
     "output_type": "display_data"
    },
    {
     "data": {
      "application/vnd.jupyter.widget-view+json": {
       "model_id": "",
       "version_major": 2,
       "version_minor": 0
      },
      "text/plain": [
       "FloatProgress(value=0.0, bar_style='info', description='Progress:', layout=Layout(height='25px', width='50%'),…"
      ]
     },
     "metadata": {},
     "output_type": "display_data"
    },
    {
     "name": "stdout",
     "output_type": "stream",
     "text": [
      "SparkSession available as 'spark'.\n"
     ]
    },
    {
     "data": {
      "application/vnd.jupyter.widget-view+json": {
       "model_id": "",
       "version_major": 2,
       "version_minor": 0
      },
      "text/plain": [
       "FloatProgress(value=0.0, bar_style='info', description='Progress:', layout=Layout(height='25px', width='50%'),…"
      ]
     },
     "metadata": {},
     "output_type": "display_data"
    },
    {
     "name": "stdout",
     "output_type": "stream",
     "text": [
      "1"
     ]
    }
   ],
   "source": [
    "1"
   ]
  },
  {
   "cell_type": "code",
   "execution_count": 2,
   "id": "56277693",
   "metadata": {},
   "outputs": [
    {
     "data": {
      "application/vnd.jupyter.widget-view+json": {
       "model_id": "",
       "version_major": 2,
       "version_minor": 0
      },
      "text/plain": [
       "FloatProgress(value=0.0, bar_style='info', description='Progress:', layout=Layout(height='25px', width='50%'),…"
      ]
     },
     "metadata": {},
     "output_type": "display_data"
    }
   ],
   "source": [
    "\n",
    "import logging\n",
    "import sys\n",
    "import time\n",
    "import traceback\n",
    "import boto3\n",
    "import pandas as pd\n",
    "from common_utils import common_functions as cf\n",
    "from common_utils import exception_helpers as eh\n",
    "import json\n",
    "from common_utils import db_helpers\n",
    "from pyspark.sql import SparkSession\n",
    "from pyspark.sql import functions as F"
   ]
  },
  {
   "cell_type": "code",
   "execution_count": 25,
   "id": "b50772d7",
   "metadata": {},
   "outputs": [
    {
     "data": {
      "application/vnd.jupyter.widget-view+json": {
       "model_id": "",
       "version_major": 2,
       "version_minor": 0
      },
      "text/plain": [
       "FloatProgress(value=0.0, bar_style='info', description='Progress:', layout=Layout(height='25px', width='50%'),…"
      ]
     },
     "metadata": {},
     "output_type": "display_data"
    }
   ],
   "source": [
    "args = {'aws_read_shared_vpc': 'arn:aws:iam::336913029742:role/admin_access_for_{}_from_shared', 'EMAIL_RESPONSE_SLA_PATH': 'common/Email_Response_SLA.csv', 'feed_attribute_object': 'common/feed_attr.cfg', 'feed_metadata_object': 'common/feed_metadata.cfg', 'uow_dependency_object': 'common/uow_dependency.cfg', 'uow_error_object': 'common/uow_error.cfg', 'MasterSecurityGroupName': 'AirflowEMRMasterSG', 'SlaveSecurityGroupName': 'AirflowEMRSlaveSG', 'SubnetKeyName': 'data-partner01-{}-private-app-2a', 'DB_CLUSTER_IDENTIFIER': 'auroraclusteroperational', 'instance_profile_role': 'ec2_run_terraform', 'service_role': 'EC_EMR_DEFAULTBBI', 'auto_scaling_role': 'EC_EMR_DEFAULTBBI', 'EMR_EC_PEM_FILE': 'EC2_BBI_DEV', 'ServiceSecurityGroupName': 'AirflowServiceSecurityGroup', 'avant_source_type': 'Regular', 'avant_reproc_source_type': 'Reproc', 'loaded_by': 'avantadmin', 'config_file_bucket': 'avantdlds-prod-common-bucket', 'config_file_name': 'common/feed_metadata.cfg', 'parameter_config_file': 'common/parameters.cfg', 'region': 'us-east-2', 'feed_attribute_config_file': 'common/feed_attr.cfg', 'mailbox_csv_path': '/common/Mailboxes.csv', 'cluster_id': 'cluster_id', 'spark_application_type': 'pyspark', 'aws_connection_id': 'aws_default', 'OPS_TABLE_S3_BUCKET_TABLE': 'S3_BUCKET_TABLE', 'OPS_TABLE_BATCH_RUN_STATS': 'BATCH_RUN_STATS', 'OPS_TABLE_BATCH_REPORTS': 'BATCH_REPORTS', 'transform_bucket': 'avantdlds-partner01-prod-transform-bucket', 'common_bucket': 'avantdlds-partner01-prod-common-bucket', 'exception_bucket': 'avantdlds-partner01-prod-exception-bucket', 'log_bucket': 'avantdlds-partner01-prod-log-bucket', 'raw_bucket': 'avantdlds-partner01-prod-raw-bucket', 'stage_bucket': 'avantdlds-partner01-prod-stage-bucket', 'transient_bucket': 'avantdlds-partner01-prod-transient-bucket', 'drop_bucket': 'avant-partner01-landing', 'outgoing_bucket': 'avantdlds-partner01-prod-outgoing-bucket', 'dremio_security_table_name': 'dremio_security', 'dedup_loan_by_installment': 'loan_by_installment/loan_by_installment_002/dedup_loan_by_installment/', 'partner01_source': 'avantdlds-partner01-prod', 'ref_data_object': 'common/reference_data.cfg', 'decrypt_script_path': 'dag/parallel_decrypt.py', 'aps_dedup_active_installment': 'account_portfolios_refi/account_portfolios_refi_001/account_portfolios_refi/dedup_active_installment', 'apu_dedup_active_installment': 'account_portfolios_uil/account_portfolios_uil_001/account_portfolios_uil/dedup_active_installment', 'dremio_security_redesign': '\"Security\".dremio_security_redesign', 'aps_dedup_balances': 'account_portfolios_refi/account_portfolios_refi_001/account_portfolios_refi/dedup_balances', 'aps_dedup_interest_rate_schedule': 'account_portfolios_refi/account_portfolios_refi_001/account_portfolios_refi/dedup_interest_rate', 'aps_dedup_loan_debt_sale': 'account_portfolios_refi/account_portfolios_refi_001/account_portfolios_refi/dedup_loan_debt_sale', 'aps_dedup_loan_financial_owner': 'account_portfolios_refi/account_portfolios_refi_001/account_portfolios_refi/dedup_loan_financial_owner', 'aps_dedup_loan_payment_plan': 'account_portfolios_refi/account_portfolios_refi_001/account_portfolios_refi/dedup_loan_payment_plan', 'aps_dedup_loan_servicing_settlement': 'account_portfolios_refi/account_portfolios_refi_001/account_portfolios_refi/dedup_loan_servicing_settlement', 'aps_dedup_treasury_charge_off': 'account_portfolios_refi/account_portfolios_refi_001/account_portfolios_refi/dedup_treasury_charge_off', 'apu_dedup_balances': 'account_portfolios_uil/account_portfolios_uil_001/account_portfolios_uil/dedup_balances', 'apu_dedup_interest_rate_schedule': 'account_portfolios_uil/account_portfolios_uil_001/account_portfolios_uil/dedup_interest_rate', 'apu_dedup_loan_debt_sale': 'account_portfolios_uil/account_portfolios_uil_001/account_portfolios_uil/dedup_loan_debt_sale', 'apu_dedup_loan_financial_owner': 'account_portfolios_uil/account_portfolios_uil_001/account_portfolios_uil/dedup_loan_financial_owner', 'apu_dedup_loan_payment_plan': 'account_portfolios_uil/account_portfolios_uil_001/account_portfolios_uil/dedup_loan_payment_plan', 'apu_dedup_loan_servicing_settlement': 'account_portfolios_uil/account_portfolios_uil_001/account_portfolios_uil/dedup_loan_servicing_settlement', 'apu_dedup_treasury_charge_off': 'account_portfolios_uil/account_portfolios_uil_001/account_portfolios_uil/dedup_treasury_charge_off', 'aps_dedup_operational_charge_off': 'account_portfolios_refi/account_portfolios_refi_001/account_portfolios_refi/dedup_operational_charge_off', 'apu_dedup_operational_charge_off': 'account_portfolios_uil/account_portfolios_uil_001/account_portfolios_uil/dedup_operational_charge_off', 'aps_dedup_original_installment': 'account_portfolios_refi/account_portfolios_refi_001/account_portfolios_refi/dedup_original_installment', 'apu_dedup_original_installment': 'account_portfolios_uil/account_portfolios_uil_001/account_portfolios_uil/dedup_original_installment', 'loan_by_day': 'loan_by_day/loan_by_day_003/dedup_loan_by_day/', 'loan_payment_plan_v3_union': 'account_portfolios_union/account_portfolios_union_001/loan_payment_plan/loan_payment_plan_union', 'dedup_loan_by_day': 'loan_by_day/loan_by_day_003/dedup_loan_by_day', 'loan_financial_owner_v3_union': 'account_portfolios_union/account_portfolios_union_001/loan_financial_owner/loan_financial_owner_union', 'loan_by_day_v3': 'loan_by_day/loan_by_day_003/dedup_loan_by_day/', 'raw_loan_by_day': 'loan_by_day/loan_by_day_003/loan_by_day/*/*/*/*/*/', 'dedup_loan_balance_by_day': 'loan_balance_by_day/loan_balance_by_day_001/loan_balance_by_day/', 'original_installment_union': 'account_portfolios_union/account_portfolios_union_001/original_installment/original_installment_union', 'cancelled_loans_union': 'account_portfolios_union/account_portfolios_union_001/cancelled_loans/cancelled_loans_union', 'dedup_loan_transcation_v3': 'loan_transaction/loan_transaction_003/dedup_loan_transaction/', 'fd_cc_lv_account_data_lake_dedup_file': 'fd_cc_lv/fd_cc_lv_001/dedup_account', 'fd_cc_lv_account_delinquency_data_lake_dedup_file': 'fd_cc_lv/fd_cc_lv_002/dedup_account_delinquency', 'fd_cc_lv_account_delinquency_items_data_lake_dedup_file': 'fd_cc_lv/fd_cc_lv_003/dedup_account_delinquency_items', 'fd_cc_lv_current_monetary_activity_data_lake_dedup_file': 'fd_cc_lv/fd_cc_lv_004/dedup_current_monetary_activity', 'fd_cc_lv_fraud_falcon_data_lake_dedup_file': 'fd_cc_lv/fd_cc_lv_005/dedup_fraud_falcon', 'fd_cc_lv_historical_cardholder_data_data_lake_dedup_file': 'fd_cc_lv/fd_cc_lv_006/dedup_historical_cardholder_data', 'interest_rate_union': 'account_portfolios_union/account_portfolios_union_001/interest_rate/interest_rate_union', 'treasury_charge_off_union': 'account_portfolios_union/account_portfolios_union_001/treasury_charge_off/treasury_charge_off_union', 'loan_financial_owner_union': 'account_portfolios_union/account_portfolios_union_001/loan_financial_owner/loan_financial_owner_union', 'loan_debt_sale_union': 'account_portfolios_union/account_portfolios_union_001/loan_debt_sale/loan_debt_sale_union', 'loan_servicing_settlement_union': 'account_portfolios_union/account_portfolios_union_001/loan_servicing_settlement/loan_servicing_settlement_union', 'dedup_loan_transaction': 'loan_transaction/loan_transaction_003/dedup_loan_transaction', 'fd_cc_lv_monetary_detail_charge_off_data_lake_dedup_file': 'fd_cc_lv/fd_cc_lv_007/dedup_monetary_detail_charge_off', 'fd_cc_lv_monetary_detail_cross_cycle_adjustment_data_lake_dedup_file': 'fd_cc_lv/fd_cc_lv_008/dedup_monetary_detail_cross_cycle_adjustment', 'fd_cc_lv_monetary_detail_current_cycle_adjustment_data_lake_dedup_file': 'fd_cc_lv/fd_cc_lv_009/dedup_monetary_detail_current_cycle_adjustment', 'fd_cc_lv_monetary_detail_transaction_data_lake_dedup_file': 'fd_cc_lv/fd_cc_lv_010/dedup_monetary_detail_transaction', 'tco_reference_file_path': 'tco_reference/tco_ref_update.csv', 'aps_dedup_cancelled_loans': 'account_portfolios_refi/account_portfolios_refi_001/account_portfolios_refi/cancelled_loans/append_cancelled_loans', 'apu_dedup_cancelled_loans': 'account_portfolios_uil/account_portfolios_uil_001/account_portfolios_uil/cancelled_loans/append_cancelled_loans', 'parquet_block_size': '512', 'uil_raw_dedup_path': 'account_portfolios_uil/account_portfolios_uil_001/dedup_account_portfolios_uil/', 'refi_raw_dedup_path': 'account_portfolios_refi/account_portfolios_refi_001/dedup_account_portfolios_refi/', 'balances_union': 'loan_balance_by_day/loan_balance_by_day_001/balances_union/', 'dremio_security_table_path': 'Security.dremio_security_redesign', 'prospect_match_campaign_segments_filename': 'campaign_segments.pq', 'prospect_match_campaign_segments_transient_data_path': 'direct_mail/send_dictonary/campaign_segments', 'prospect_match_source_map_filename': 'prospect_match_source_mapping.pq', 'prospect_match_source_map_transient_data_path': 'source_attribution_v2/source_attribution_001_v2/prospect_match/source_mapping/2023/09/23', 'prospect_match_data_path': 'source_attribution_v2/source_attribution_001_v2/prospect_match', 'prospect_match_raw_data_path': 'source_attribution_v2/source_attribution_001_v2/prospect_match/2023/09/23', 'status_dict': \"{'step_1': 'Landed', 'step_2': 'Ingested', 'step_3': 'Registered', 'step_4': 'Staged', 'step_5': 'Transformed', 'step_6': 'Expired', 'step_7': 'Rejected', 'step_8':'raw_preprocessed'}\", 'prospect_match_campaign_segments_transient_filename': 'campaign_segments_265828_1_20230923.pq', 'prospect_match_source_map_transient_filename': 'source_mapping_265828_1_20230923.pq', 'prospect_match_loan_app_raw_vds_path': 'avant.{}.dl.source_attribution_v2.source_attribution_loan_customer_application', 'prospect_match_loan_app_raw_pds_path': 'avantdlds-partner01-prod.avantdlds-partner01-{}-raw-bucket.{}.source_attribution_v2.source_attribution_001_v2.source_attribution_loan_app', 'prospect_match_cc_app_raw_pds_path': 'avantdlds-partner01-prod.avantdlds-partner01-{}-raw-bucket.{}.source_attribution_v2.source_attribution_001_v2.source_attribution_cc_app', 'prospect_match_cc_app_raw_vds_path': 'avant.{}.dl.source_attribution_v2.source_attribution_cc_customer_application', 'prospect_match_loan_raw_vds_path': 'avant.{}.dl.source_attribution_v2.source_attribution_loan', 'prospect_match_loan_raw_pds_path': 'avantdlds-partner01-prod.avantdlds-partner01-{}-raw-bucket.{}.source_attribution_v2.source_attribution_001_v2.source_attribution_loan', 'prospect_match_cc_raw_pds_path': 'avantdlds-partner01-prod.avantdlds-partner01-{}-raw-bucket.{}.source_attribution_v2.source_attribution_001_v2.source_attribution_cc', 'prospect_match_cc_raw_vds_path': 'avant.{}.dl.source_attribution_v2.source_attribution_cc_account', 'prospect_match_loan_app_path_uil': 'loan_customer_application/loan_customer_application_013/loan_customer_application_ver_join', 'prospect_match_loan_app_path_refi': 'loan_customer_application/loan_customer_application_033/loan_customer_application_ver_join', 'prospect_match_cc_path': 'cc_account/cc_account_001/cc_account', 'prospect_match_loan_path': 'loan/loan_001/loan', 'prospect_match_tealium_path': 'tealium/tealium_001/tealium_event_dedup', 'prospect_match_mailed_selected_path': 'avantcamp-partner01-{}-transform-bucket/avant/direct_mail/first_mail/creative_code_allocated_and_deduped_history/', 'prospect_match_cc_app_path': 'credit_card_customer_application/credit_card_customer_application_004/credit_card_customer_application_final', 'leads_source_path': 'avant/marketing_pre_app/leads_001/dedup_lead/*/*/*/*/*', 'prospect_match_mailed_path': 'avant/direct_mail/mailed_deduped_source_attribution_data/direct_mail_mailed_deduped_history.pq', 'operational_charge_off_v3_union': 'account_portfolios_union/account_portfolios_union_001/operational_charge_off/operational_charge_off_union', 'VAULT_URL': 'https://vault.shared.partner01.data.avant.com', 'vault_encrypt_path': 'app/landing_zone_encryption/amount/prod', 'ABC_VAULT_PATH': 'app/abc/prod', 'secret_path': 'app/abc/prod', 'DREMIO_USERNAME': 'XXXXXXXXXX', 'DREMIO_PASSWORD': 'XXXXXXXXXX', 'file_id': 'source_attribution_001_v2', 's3_bucket_process_start_time': '2023-09-23 21:54:06', 'ec2_role': 'airflow-role', 'role_name': 'avant-dlds-airflow-prod-ecs-task-role', 'emr_role_name': 'ec2_run_terraform', 'metadata_url_base': 'http://169.254.169.254', 'batch_id': '265828', 'run_id': '1', 'abc_attribute_list': [('send_number', '1', 'send_number', 'int'), ('campaign_name', '2', 'campaign_name', 'varchar'), ('coupon_code', '3', 'coupon_code', 'varchar'), ('creative_group_id', '4', 'creative_group_id', 'int'), ('drop_date', '14', 'drop_date', 'date'), ('selection_group_id', '5', 'selection_group_id', 'int'), ('policy_version', '6', 'policy_version', 'varchar'), ('default_model_version', '7', 'default_model_version', 'varchar'), ('default_model_2_version', '8', 'default_model_2_version', 'varchar'), ('bk_model_version', '9', 'bk_model_version', 'varchar'), ('product_type', '10', 'product_type', 'varchar'), ('selection_size', '11', 'selection_size', 'int'), ('mailed_size', '12', 'mailed_size', 'int'), ('est_resp_rate', '13', 'est_resp_rate', 'float'), ('start_date', '15', 'start_date', 'date'), ('end_date', '16', 'end_date', 'date'), ('remail', '17', 'remail', 'boolean'), ('per_unit_cost', '18', 'per_unit_cost', 'float'), ('is_bau_selection', '19', 'is_bau_selection', 'boolean'), ('is_creative_test', '20', 'is_creative_test', 'boolean'), ('credit_line', '21', 'credit_line', 'varchar'), ('id', '1', 'id', 'int'), ('priority', '2', 'priority', 'int'), ('channel', '3', 'channel', 'varchar'), ('name', '4', 'name', 'varchar'), ('key', '14', 'key', 'varchar'), ('value', '5', 'value', 'varchar'), ('special_op', '6', 'special_op', 'varchar'), ('source_window', '7', 'source_window', 'varchar'), ('start_dt', '8', 'start_dt', 'date'), ('end_dt', '9', 'end_dt', 'date')], 'combined_attribute_list': [], 'partner_id': 'partner01', 'env': 'prod', 'sub_partner': 'avant', 'application': 'source_attribution_v2', 'business_date': '20230923'}\n",
    "args['job_id'] = 6291613\n",
    "args['program_name'] = 'campaign_tables_ingest_to_transient.py'\n",
    "\n",
    "\n"
   ]
  },
  {
   "cell_type": "code",
   "execution_count": 4,
   "id": "f786484e",
   "metadata": {},
   "outputs": [
    {
     "data": {
      "application/vnd.jupyter.widget-view+json": {
       "model_id": "",
       "version_major": 2,
       "version_minor": 0
      },
      "text/plain": [
       "FloatProgress(value=0.0, bar_style='info', description='Progress:', layout=Layout(height='25px', width='50%'),…"
      ]
     },
     "metadata": {},
     "output_type": "display_data"
    }
   ],
   "source": [
    "process_start_time = cf.get_cur_time()\n",
    "SPARK = SparkSession.builder.appName(args['file_id']).getOrCreate()\n"
   ]
  },
  {
   "cell_type": "code",
   "execution_count": 5,
   "id": "5ad2199f",
   "metadata": {},
   "outputs": [
    {
     "data": {
      "application/vnd.jupyter.widget-view+json": {
       "model_id": "",
       "version_major": 2,
       "version_minor": 0
      },
      "text/plain": [
       "FloatProgress(value=0.0, bar_style='info', description='Progress:', layout=Layout(height='25px', width='50%'),…"
      ]
     },
     "metadata": {},
     "output_type": "display_data"
    }
   ],
   "source": [
    "\n",
    "campaign_segments_raw_filename = args['prospect_match_campaign_segments_transient_filename']\n",
    "campaign_segments_raw_data_path = args['prospect_match_campaign_segments_transient_data_path']\n",
    "source_map_raw_filename = args['prospect_match_source_map_transient_filename']\n",
    "source_map_raw_data_path = args['prospect_match_source_map_transient_data_path']\n",
    "file_id = args['file_id']\n",
    "sub_partner = args['sub_partner']\n",
    "transient_bucket = args['transient_bucket']\n",
    "transient_target_campaign_segments = 's3://' + transient_bucket + '/' + sub_partner + '/' + campaign_segments_raw_data_path + '/' + campaign_segments_raw_filename\n",
    "transient_target_source_map = 's3://' + transient_bucket + '/' + sub_partner + '/' + source_map_raw_data_path + '/' + source_map_raw_filename\n"
   ]
  },
  {
   "cell_type": "code",
   "execution_count": 8,
   "id": "3007456b",
   "metadata": {},
   "outputs": [
    {
     "data": {
      "application/vnd.jupyter.widget-view+json": {
       "model_id": "",
       "version_major": 2,
       "version_minor": 0
      },
      "text/plain": [
       "FloatProgress(value=0.0, bar_style='info', description='Progress:', layout=Layout(height='25px', width='50%'),…"
      ]
     },
     "metadata": {},
     "output_type": "display_data"
    }
   ],
   "source": [
    "    current_epoch_time = int(time.time())\n",
    "    current_time = cf.get_cur_time()\n",
    "\n",
    "    table_keys = {'campaign_segments': ['send_number', 'campaign_name', 'coupon_code', 'creative_group_id', 'drop_date',\n",
    "                                        'selection_group_id', 'policy_version', 'default_model_version',\n",
    "                                        'default_model_2_version', 'bk_model_version',\n",
    "                                        'product_type', 'selection_size', 'mailed_size', 'est_resp_rate', 'start_date',\n",
    "                                        'end_date', 'remail', 'per_unit_cost',\n",
    "                                        'is_bau_selection', 'is_creative_test', 'credit_line'],\n",
    "                  'source_mapping': ['id', 'priority', 'channel', 'name', 'key', 'value',\n",
    "                                     'special_op', 'source_window', 'start_dt', 'end_dt']}\n",
    "\n"
   ]
  },
  {
   "cell_type": "code",
   "execution_count": 9,
   "id": "1e8bbd5a",
   "metadata": {},
   "outputs": [
    {
     "data": {
      "application/vnd.jupyter.widget-view+json": {
       "model_id": "",
       "version_major": 2,
       "version_minor": 0
      },
      "text/plain": [
       "FloatProgress(value=0.0, bar_style='info', description='Progress:', layout=Layout(height='25px', width='50%'),…"
      ]
     },
     "metadata": {},
     "output_type": "display_data"
    },
    {
     "name": "stdout",
     "output_type": "stream",
     "text": [
      "campaign_segments ['send_number', 'campaign_name', 'coupon_code', 'creative_group_id', 'drop_date', 'selection_group_id', 'policy_version', 'default_model_version', 'default_model_2_version', 'bk_model_version', 'product_type', 'selection_size', 'mailed_size', 'est_resp_rate', 'start_date', 'end_date', 'remail', 'per_unit_cost', 'is_bau_selection', 'is_creative_test', 'credit_line']\n",
      "source_mapping ['id', 'priority', 'channel', 'name', 'key', 'value', 'special_op', 'source_window', 'start_dt', 'end_dt']"
     ]
    }
   ],
   "source": [
    "    for key, value in table_keys.items():\n",
    "        print(key,value)"
   ]
  },
  {
   "cell_type": "code",
   "execution_count": 10,
   "id": "fe5c13ba",
   "metadata": {},
   "outputs": [
    {
     "data": {
      "application/vnd.jupyter.widget-view+json": {
       "model_id": "",
       "version_major": 2,
       "version_minor": 0
      },
      "text/plain": [
       "FloatProgress(value=0.0, bar_style='info', description='Progress:', layout=Layout(height='25px', width='50%'),…"
      ]
     },
     "metadata": {},
     "output_type": "display_data"
    },
    {
     "name": "stdout",
     "output_type": "stream",
     "text": [
      "('campaign_segments', ['send_number', 'campaign_name', 'coupon_code', 'creative_group_id', 'drop_date', 'selection_group_id', 'policy_version', 'default_model_version', 'default_model_2_version', 'bk_model_version', 'product_type', 'selection_size', 'mailed_size', 'est_resp_rate', 'start_date', 'end_date', 'remail', 'per_unit_cost', 'is_bau_selection', 'is_creative_test', 'credit_line'])"
     ]
    }
   ],
   "source": [
    "key = 'campaign_segments'\n",
    "value = ['send_number', 'campaign_name', 'coupon_code', 'creative_group_id', 'drop_date', 'selection_group_id', 'policy_version', 'default_model_version', 'default_model_2_version', 'bk_model_version', 'product_type', 'selection_size', 'mailed_size', 'est_resp_rate', 'start_date', 'end_date', 'remail', 'per_unit_cost', 'is_bau_selection', 'is_creative_test', 'credit_line']\n",
    "key, value"
   ]
  },
  {
   "cell_type": "code",
   "execution_count": 27,
   "id": "6ca96bf0",
   "metadata": {},
   "outputs": [
    {
     "data": {
      "application/vnd.jupyter.widget-view+json": {
       "model_id": "",
       "version_major": 2,
       "version_minor": 0
      },
      "text/plain": [
       "FloatProgress(value=0.0, bar_style='info', description='Progress:', layout=Layout(height='25px', width='50%'),…"
      ]
     },
     "metadata": {},
     "output_type": "display_data"
    },
    {
     "name": "stdout",
     "output_type": "stream",
     "text": [
      "('source_mapping', ['id', 'priority', 'channel', 'name', 'key', 'value', 'special_op', 'source_window', 'start_dt', 'end_dt'])"
     ]
    }
   ],
   "source": [
    "key = 'source_mapping'\n",
    "value = ['id', 'priority', 'channel', 'name', 'key', 'value', 'special_op', 'source_window', 'start_dt', 'end_dt']\n",
    "key, value"
   ]
  },
  {
   "cell_type": "code",
   "execution_count": 28,
   "id": "9f1ffa6d",
   "metadata": {},
   "outputs": [
    {
     "data": {
      "application/vnd.jupyter.widget-view+json": {
       "model_id": "",
       "version_major": 2,
       "version_minor": 0
      },
      "text/plain": [
       "FloatProgress(value=0.0, bar_style='info', description='Progress:', layout=Layout(height='25px', width='50%'),…"
      ]
     },
     "metadata": {},
     "output_type": "display_data"
    },
    {
     "name": "stderr",
     "output_type": "stream",
     "text": [
      "IOPub data rate exceeded.\n",
      "The notebook server will temporarily stop sending output\n",
      "to the client in order to avoid crashing it.\n",
      "To change this limit, set the config variable\n",
      "`--NotebookApp.iopub_data_rate_limit`.\n",
      "\n",
      "Current values:\n",
      "NotebookApp.iopub_data_rate_limit=1000000.0 (bytes/sec)\n",
      "NotebookApp.rate_limit_window=3.0 (secs)\n",
      "\n"
     ]
    }
   ],
   "source": [
    "        # read records from campaign_segments ABC\n",
    "        query = f\"\"\"\n",
    "        select * from public.{key}\n",
    "        \"\"\"\n",
    "        print(query)\n",
    "\n",
    "        records = db_helpers.get_records(args, file_id, query)\n",
    "        col_names = [i[0] for i in args['abc_attribute_list'] if i[0] in value]\n",
    "\n",
    "        # create spark dataframe from pandas\n",
    "        pd_df = pd.DataFrame(records, columns=col_names)\n",
    "        spark_df = SPARK.createDataFrame(pd_df)\n",
    "\n",
    "        type_map = {\n",
    "            'int': 'long',\n",
    "            'varchar': 'string',\n",
    "            'float': 'double',\n",
    "            'date': 'date',\n",
    "            'boolean': 'boolean'\n",
    "        }\n"
   ]
  },
  {
   "cell_type": "code",
   "execution_count": 29,
   "id": "f9173371",
   "metadata": {},
   "outputs": [
    {
     "data": {
      "application/vnd.jupyter.widget-view+json": {
       "model_id": "",
       "version_major": 2,
       "version_minor": 0
      },
      "text/plain": [
       "FloatProgress(value=0.0, bar_style='info', description='Progress:', layout=Layout(height='25px', width='50%'),…"
      ]
     },
     "metadata": {},
     "output_type": "display_data"
    },
    {
     "name": "stdout",
     "output_type": "stream",
     "text": [
      "\n",
      "select * from public.source_mapping"
     ]
    }
   ],
   "source": [
    "        print(query)\n"
   ]
  },
  {
   "cell_type": "code",
   "execution_count": 30,
   "id": "63bd1834",
   "metadata": {},
   "outputs": [
    {
     "data": {
      "application/vnd.jupyter.widget-view+json": {
       "model_id": "",
       "version_major": 2,
       "version_minor": 0
      },
      "text/plain": [
       "FloatProgress(value=0.0, bar_style='info', description='Progress:', layout=Layout(height='25px', width='50%'),…"
      ]
     },
     "metadata": {},
     "output_type": "display_data"
    },
    {
     "name": "stdout",
     "output_type": "stream",
     "text": [
      "[('send_number', '1', 'send_number', 'int'), ('campaign_name', '2', 'campaign_name', 'varchar'), ('coupon_code', '3', 'coupon_code', 'varchar'), ('creative_group_id', '4', 'creative_group_id', 'int'), ('drop_date', '14', 'drop_date', 'date'), ('selection_group_id', '5', 'selection_group_id', 'int'), ('policy_version', '6', 'policy_version', 'varchar'), ('default_model_version', '7', 'default_model_version', 'varchar'), ('default_model_2_version', '8', 'default_model_2_version', 'varchar'), ('bk_model_version', '9', 'bk_model_version', 'varchar'), ('product_type', '10', 'product_type', 'varchar'), ('selection_size', '11', 'selection_size', 'int'), ('mailed_size', '12', 'mailed_size', 'int'), ('est_resp_rate', '13', 'est_resp_rate', 'float'), ('start_date', '15', 'start_date', 'date'), ('end_date', '16', 'end_date', 'date'), ('remail', '17', 'remail', 'boolean'), ('per_unit_cost', '18', 'per_unit_cost', 'float'), ('is_bau_selection', '19', 'is_bau_selection', 'boolean'), ('is_creative_test', '20', 'is_creative_test', 'boolean'), ('credit_line', '21', 'credit_line', 'varchar'), ('id', '1', 'id', 'int'), ('priority', '2', 'priority', 'int'), ('channel', '3', 'channel', 'varchar'), ('name', '4', 'name', 'varchar'), ('key', '14', 'key', 'varchar'), ('value', '5', 'value', 'varchar'), ('special_op', '6', 'special_op', 'varchar'), ('source_window', '7', 'source_window', 'varchar'), ('start_dt', '8', 'start_dt', 'date'), ('end_dt', '9', 'end_dt', 'date')]"
     ]
    }
   ],
   "source": [
    "args['abc_attribute_list']"
   ]
  },
  {
   "cell_type": "code",
   "execution_count": 31,
   "id": "95c47cbd",
   "metadata": {},
   "outputs": [
    {
     "data": {
      "application/vnd.jupyter.widget-view+json": {
       "model_id": "",
       "version_major": 2,
       "version_minor": 0
      },
      "text/plain": [
       "FloatProgress(value=0.0, bar_style='info', description='Progress:', layout=Layout(height='25px', width='50%'),…"
      ]
     },
     "metadata": {},
     "output_type": "display_data"
    }
   ],
   "source": [
    "        # update typing and handle weird cases of nulls, NaNs, 0s\n",
    "        for i in args['abc_attribute_list']:\n",
    "            if i[0] in col_names:\n",
    "                name_in = i[2]\n",
    "                name_out = i[0]\n",
    "                type_out = i[3]\n",
    "                # temp columns with fixed typing\n",
    "                spark_df = spark_df.withColumn(\n",
    "                    name_out + '_temp',\n",
    "                    spark_df[name_in].cast(type_map[type_out])\n",
    "                )\n",
    "                # remove original columns, and rename temps\n",
    "                spark_df = spark_df.drop(name_in).withColumnRenamed(name_out + '_temp', name_out)\n",
    "                # replace NaN with null - not sure why this happens, fixing here\n",
    "                if type_out in ['int', 'float']:\n",
    "                    spark_df = spark_df.withColumn(\n",
    "                        name_out,\n",
    "                        F.when(F.isnan(F.col(name_out)), None).otherwise(F.col(name_out))\n",
    "                    )\n"
   ]
  },
  {
   "cell_type": "code",
   "execution_count": 32,
   "id": "98aa5c2d",
   "metadata": {},
   "outputs": [
    {
     "data": {
      "application/vnd.jupyter.widget-view+json": {
       "model_id": "",
       "version_major": 2,
       "version_minor": 0
      },
      "text/plain": [
       "FloatProgress(value=0.0, bar_style='info', description='Progress:', layout=Layout(height='25px', width='50%'),…"
      ]
     },
     "metadata": {},
     "output_type": "display_data"
    }
   ],
   "source": [
    "        # selection size 0 to null, not sure what makes this happen either\n",
    "        if (key == 'campaign_segments'):\n",
    "            spark_df = spark_df.withColumn(\n",
    "                'selection_size',\n",
    "                F.when(\n",
    "                    F.col('selection_size') == F.lit(0),\n",
    "                    None\n",
    "                ).otherwise(F.col('selection_size'))\n",
    "            )\n"
   ]
  },
  {
   "cell_type": "code",
   "execution_count": 33,
   "id": "2f8d35e5",
   "metadata": {},
   "outputs": [
    {
     "data": {
      "application/vnd.jupyter.widget-view+json": {
       "model_id": "",
       "version_major": 2,
       "version_minor": 0
      },
      "text/plain": [
       "FloatProgress(value=0.0, bar_style='info', description='Progress:', layout=Layout(height='25px', width='50%'),…"
      ]
     },
     "metadata": {},
     "output_type": "display_data"
    },
    {
     "name": "stdout",
     "output_type": "stream",
     "text": [
      "+---+--------+------------+-------------------+------+--------------------+----------+-------------+--------+------+\n",
      "| id|priority|     channel|               name|   key|               value|special_op|source_window|start_dt|end_dt|\n",
      "+---+--------+------------+-------------------+------+--------------------+----------+-------------+--------+------+\n",
      "|  2|       1|Partner-Comp|                ahl|source|                 ahl|      null|         null|    null|  null|\n",
      "|  3|       1|Partner-Comp|           ahl-post|source|            ahl_post|      null|           30|    null|  null|\n",
      "|  4|       1|Partner-Comp|              amone|source|               amone|      null|           30|    null|  null|\n",
      "|  5|       1|Partner-Comp|         amone-post|source|      am_one_prefill|      null|           30|    null|  null|\n",
      "|  6|       1|Partner-Comp|                ams|source|                 ams|      null|            3|    null|  null|\n",
      "|  7|       1|Partner-Comp|      bankrate-post|source|             quizzle|      null|            7|    null|  null|\n",
      "|  7|       1|Partner-Comp|      bankrate-post|source|          mybankrate|      null|            7|    null|  null|\n",
      "|  7|       1|Partner-Comp|      bankrate-post|source|            bankrate|      null|            7|    null|  null|\n",
      "|  7|       1|Partner-Comp|      bankrate-post|source|     mybankrate_post|      null|            7|    null|  null|\n",
      "|  7|       1|Partner-Comp|      bankrate-post|source|  mybankrate_prefill|      null|            7|    null|  null|\n",
      "|  7|       1|Partner-Comp|      bankrate-post|source|    bankrate_prefill|      null|            7|    null|  null|\n",
      "|  7|       1|Partner-Comp|      bankrate-post|source|     quizzle_prefill|      null|            7|    null|  null|\n",
      "|  7|       1|Partner-Comp|      bankrate-post|source|       bankrate_post|      null|            7|    null|  null|\n",
      "|  7|       1|Partner-Comp|      bankrate-post|source|        quizzle_post|      null|            7|    null|  null|\n",
      "|  7|       1|Partner-Comp|      bankrate-post|source|       bankrate_post|      null|            7|    null|  null|\n",
      "|  7|       1|Partner-Comp|      bankrate-post|source| bankrate_avant_post|      null|            7|    null|  null|\n",
      "|  8|       1|Partner-Comp|      consumertrack|source|       consumertrack|      null|            3|    null|  null|\n",
      "|  8|       1|Partner-Comp|      consumertrack|source|consumertrack_pre...|      null|            3|    null|  null|\n",
      "|  9|       1|Partner-Lead|commission_junction|source| commission_junction|      null|            3|    null|  null|\n",
      "| 10|       1|Partner-Comp|          creditcom|source|           creditcom|      null|            3|    null|  null|\n",
      "+---+--------+------------+-------------------+------+--------------------+----------+-------------+--------+------+\n",
      "only showing top 20 rows"
     ]
    }
   ],
   "source": [
    "spark_df.show()"
   ]
  },
  {
   "cell_type": "code",
   "execution_count": 34,
   "id": "8519cd16",
   "metadata": {},
   "outputs": [
    {
     "data": {
      "application/vnd.jupyter.widget-view+json": {
       "model_id": "",
       "version_major": 2,
       "version_minor": 0
      },
      "text/plain": [
       "FloatProgress(value=0.0, bar_style='info', description='Progress:', layout=Layout(height='25px', width='50%'),…"
      ]
     },
     "metadata": {},
     "output_type": "display_data"
    }
   ],
   "source": [
    "        # get the creation time of the file in common bucket\n",
    "        res = boto3.resource('s3')\n",
    "        common_bucket = args['common_bucket']\n",
    "        csv_key = f'source_attribution/{key}.csv'\n",
    "        for i in res.Bucket(common_bucket).objects.filter(Prefix=csv_key):\n",
    "            source_file_time = i.last_modified\n"
   ]
  },
  {
   "cell_type": "code",
   "execution_count": 35,
   "id": "dd9cfb25",
   "metadata": {},
   "outputs": [
    {
     "data": {
      "application/vnd.jupyter.widget-view+json": {
       "model_id": "",
       "version_major": 2,
       "version_minor": 0
      },
      "text/plain": [
       "FloatProgress(value=0.0, bar_style='info', description='Progress:', layout=Layout(height='25px', width='50%'),…"
      ]
     },
     "metadata": {},
     "output_type": "display_data"
    }
   ],
   "source": [
    "        # add auditing columns\n",
    "        spark_df = spark_df.withColumn(\n",
    "            'etl_ingestion_time',\n",
    "            F.lit(cf.get_cur_time()).cast('timestamp')\n",
    "        ).withColumn(\n",
    "            'source_file_creation_time',\n",
    "            F.lit(F.lit(source_file_time)).cast('timestamp')\n",
    "        )\n"
   ]
  },
  {
   "cell_type": "code",
   "execution_count": 36,
   "id": "2d803178",
   "metadata": {},
   "outputs": [
    {
     "data": {
      "application/vnd.jupyter.widget-view+json": {
       "model_id": "",
       "version_major": 2,
       "version_minor": 0
      },
      "text/plain": [
       "FloatProgress(value=0.0, bar_style='info', description='Progress:', layout=Layout(height='25px', width='50%'),…"
      ]
     },
     "metadata": {},
     "output_type": "display_data"
    },
    {
     "name": "stdout",
     "output_type": "stream",
     "text": [
      "225069"
     ]
    }
   ],
   "source": [
    "        record_count = spark_df.count()\n",
    "        record_count\n"
   ]
  },
  {
   "cell_type": "code",
   "execution_count": 37,
   "id": "692e6595",
   "metadata": {},
   "outputs": [
    {
     "data": {
      "application/vnd.jupyter.widget-view+json": {
       "model_id": "",
       "version_major": 2,
       "version_minor": 0
      },
      "text/plain": [
       "FloatProgress(value=0.0, bar_style='info', description='Progress:', layout=Layout(height='25px', width='50%'),…"
      ]
     },
     "metadata": {},
     "output_type": "display_data"
    }
   ],
   "source": [
    "        if key == 'campaign_segments':\n",
    "            transient_target = transient_target_campaign_segments\n",
    "        else:\n",
    "            transient_target = transient_target_source_map\n",
    "        spark_df.write.mode('overwrite').parquet(transient_target)\n"
   ]
  },
  {
   "cell_type": "code",
   "execution_count": 38,
   "id": "e7c29df7",
   "metadata": {},
   "outputs": [
    {
     "data": {
      "application/vnd.jupyter.widget-view+json": {
       "model_id": "",
       "version_major": 2,
       "version_minor": 0
      },
      "text/plain": [
       "FloatProgress(value=0.0, bar_style='info', description='Progress:', layout=Layout(height='25px', width='50%'),…"
      ]
     },
     "metadata": {},
     "output_type": "display_data"
    }
   ],
   "source": [
    "        # Updating ABC database On success\n",
    "        msg = f'Successfully saved data to transient bucket for source_attribution for {key}'\n",
    "        status = 'Success'\n"
   ]
  },
  {
   "cell_type": "code",
   "execution_count": 39,
   "id": "4f6ff62b",
   "metadata": {},
   "outputs": [
    {
     "data": {
      "application/vnd.jupyter.widget-view+json": {
       "model_id": "",
       "version_major": 2,
       "version_minor": 0
      },
      "text/plain": [
       "FloatProgress(value=0.0, bar_style='info', description='Progress:', layout=Layout(height='25px', width='50%'),…"
      ]
     },
     "metadata": {},
     "output_type": "display_data"
    },
    {
     "name": "stdout",
     "output_type": "stream",
     "text": [
      "No active exception to reraise\n",
      "Expected to work only for dev\n",
      "Line to debug starts: http://169.254.169.254/latest/meta-data/iam/security-credentials/ec2_run_terraform\n",
      "===========status code = 200==========\n",
      "Already credentials exists\n",
      "authentication was successful using credentials\n",
      "Vault client authenticated\n",
      "using approach 1\n",
      "No active exception to reraise\n",
      "Expected to work only for dev\n",
      "Line to debug starts: http://169.254.169.254/latest/meta-data/iam/security-credentials/ec2_run_terraform\n",
      "===========status code = 200==========\n",
      "Already credentials exists\n",
      "authentication was successful using credentials\n",
      "Vault client authenticated\n",
      "using approach 1\n",
      "No active exception to reraise\n",
      "Expected to work only for dev\n",
      "Line to debug starts: http://169.254.169.254/latest/meta-data/iam/security-credentials/ec2_run_terraform\n",
      "===========status code = 200==========\n",
      "Already credentials exists\n",
      "authentication was successful using credentials\n",
      "Vault client authenticated\n",
      "using approach 1"
     ]
    }
   ],
   "source": [
    "\n",
    "        db_helpers.update_on_success(\n",
    "            args=args,\n",
    "            process_start_time=process_start_time,\n",
    "            status=status,\n",
    "            source_filename='API',\n",
    "            source_record_count=record_count,\n",
    "            target_filename=transient_target,\n",
    "            target_record_count=record_count,\n",
    "            message=msg\n",
    "        )\n"
   ]
  },
  {
   "cell_type": "code",
   "execution_count": null,
   "id": "1a10576d",
   "metadata": {},
   "outputs": [],
   "source": [
    "    for key, value in table_keys.items():\n",
    "        # read records from campaign_segments ABC\n",
    "        query = f\"\"\"\n",
    "        select * from public.{key}\n",
    "        \"\"\"\n",
    "\n",
    "        records = db_helpers.get_records(args, file_id, query)\n",
    "        col_names = [i[0] for i in args['abc_attribute_list'] if i[0] in value]\n",
    "\n",
    "        # create spark dataframe from pandas\n",
    "        pd_df = pd.DataFrame(records, columns=col_names)\n",
    "        spark_df = SPARK.createDataFrame(pd_df)\n",
    "\n",
    "        type_map = {\n",
    "            'int': 'long',\n",
    "            'varchar': 'string',\n",
    "            'float': 'double',\n",
    "            'date': 'date',\n",
    "            'boolean': 'boolean'\n",
    "        }\n",
    "\n",
    "        # update typing and handle weird cases of nulls, NaNs, 0s\n",
    "        for i in args['abc_attribute_list']:\n",
    "            if i[0] in col_names:\n",
    "                name_in = i[2]\n",
    "                name_out = i[0]\n",
    "                type_out = i[3]\n",
    "                # temp columns with fixed typing\n",
    "                spark_df = spark_df.withColumn(\n",
    "                    name_out + '_temp',\n",
    "                    spark_df[name_in].cast(type_map[type_out])\n",
    "                )\n",
    "                # remove original columns, and rename temps\n",
    "                spark_df = spark_df.drop(name_in).withColumnRenamed(name_out + '_temp', name_out)\n",
    "                # replace NaN with null - not sure why this happens, fixing here\n",
    "                if type_out in ['int', 'float']:\n",
    "                    spark_df = spark_df.withColumn(\n",
    "                        name_out,\n",
    "                        F.when(F.isnan(F.col(name_out)), None).otherwise(F.col(name_out))\n",
    "                    )\n",
    "\n",
    "        # selection size 0 to null, not sure what makes this happen either\n",
    "        if (key == 'campaign_segments'):\n",
    "            spark_df = spark_df.withColumn(\n",
    "                'selection_size',\n",
    "                F.when(\n",
    "                    F.col('selection_size') == F.lit(0),\n",
    "                    None\n",
    "                ).otherwise(F.col('selection_size'))\n",
    "            )\n",
    "\n",
    "        # get the creation time of the file in common bucket\n",
    "        res = boto3.resource('s3')\n",
    "        common_bucket = args['common_bucket']\n",
    "        csv_key = f'source_attribution/{key}.csv'\n",
    "        for i in res.Bucket(common_bucket).objects.filter(Prefix=csv_key):\n",
    "            source_file_time = i.last_modified\n",
    "\n",
    "        # add auditing columns\n",
    "        spark_df = spark_df.withColumn(\n",
    "            'etl_ingestion_time',\n",
    "            F.lit(cf.get_cur_time()).cast('timestamp')\n",
    "        ).withColumn(\n",
    "            'source_file_creation_time',\n",
    "            F.lit(F.lit(source_file_time)).cast('timestamp')\n",
    "        )\n",
    "\n",
    "        record_count = spark_df.count()\n",
    "\n",
    "        if key == 'campaign_segments':\n",
    "            transient_target = transient_target_campaign_segments\n",
    "        else:\n",
    "            transient_target = transient_target_source_map\n",
    "        spark_df.write.mode('overwrite').parquet(transient_target)\n",
    "\n",
    "        # Updating ABC database On success\n",
    "        msg = f'Successfully saved data to transient bucket for source_attribution for {key}'\n",
    "        status = 'Success'\n",
    "\n",
    "        db_helpers.update_on_success(\n",
    "            args=args,\n",
    "            process_start_time=process_start_time,\n",
    "            status=status,\n",
    "            source_filename='API',\n",
    "            source_record_count=record_count,\n",
    "            target_filename=transient_target,\n",
    "            target_record_count=record_count,\n",
    "            message=msg\n",
    "        )\n"
   ]
  },
  {
   "cell_type": "code",
   "execution_count": null,
   "id": "dadd1b60",
   "metadata": {},
   "outputs": [],
   "source": []
  },
  {
   "cell_type": "code",
   "execution_count": null,
   "id": "8f369f2d",
   "metadata": {},
   "outputs": [],
   "source": []
  },
  {
   "cell_type": "code",
   "execution_count": null,
   "id": "c3f9fef9",
   "metadata": {},
   "outputs": [],
   "source": []
  },
  {
   "cell_type": "code",
   "execution_count": null,
   "id": "d70a7cc0",
   "metadata": {},
   "outputs": [],
   "source": []
  },
  {
   "cell_type": "code",
   "execution_count": null,
   "id": "79e14dde",
   "metadata": {},
   "outputs": [],
   "source": [
    "\n",
    "\n",
    "\n",
    "\n",
    "try:\n",
    "\n",
    "except Exception:\n",
    "    logging.exception('exception block')\n",
    "    exc_type, exc_value, exc_traceback = sys.exc_info()\n",
    "    syslog_struct = \"{}\".format(str(traceback.format_exception(\n",
    "        exc_type,\n",
    "        exc_value, exc_traceback)))\n",
    "    error_id = 'GEN_APP_001'\n",
    "    syslog_struct = syslog_struct.replace(\"'\", '\"')\n",
    "    # LOGGING TO THE ABC DATA BASE ON FAILURE\n",
    "    db_helpers.update_on_failure(args=args,\n",
    "                                 process_start_time=process_start_time,\n",
    "                                 error_id=error_id,\n",
    "                                 error_summary=syslog_struct,\n",
    "                                 skip_down_stream_update=True)\n",
    "    tb = json.dumps(traceback.format_tb(exc_traceback))\n",
    "    raise eh.SparkSessionError(str(exc_type), str(exc_value), tb)\n"
   ]
  }
 ],
 "metadata": {
  "kernelspec": {
   "display_name": "PySpark",
   "language": "python",
   "name": "pysparkkernel"
  },
  "language_info": {
   "codemirror_mode": {
    "name": "python",
    "version": 3
   },
   "file_extension": ".py",
   "mimetype": "text/x-python",
   "name": "pyspark",
   "pygments_lexer": "python3"
  }
 },
 "nbformat": 4,
 "nbformat_minor": 5
}
