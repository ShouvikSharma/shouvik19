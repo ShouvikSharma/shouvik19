{
 "cells": [
  {
   "cell_type": "code",
   "execution_count": 1,
   "id": "63bbc88a",
   "metadata": {},
   "outputs": [
    {
     "name": "stdout",
     "output_type": "stream",
     "text": [
      "Starting Spark application\n"
     ]
    },
    {
     "data": {
      "text/html": [
       "<table>\n",
       "<tr><th>ID</th><th>YARN Application ID</th><th>Kind</th><th>State</th><th>Spark UI</th><th>Driver log</th><th>User</th><th>Current session?</th></tr><tr><td>0</td><td>application_1724339927035_0001</td><td>pyspark</td><td>idle</td><td><a target=\"_blank\" href=\"http://ip-10-240-118-77.us-east-2.compute.internal:20888/proxy/application_1724339927035_0001/\">Link</a></td><td><a target=\"_blank\" href=\"http://ip-10-240-118-64.us-east-2.compute.internal:8042/node/containerlogs/container_1724339927035_0001_01_000001/livy\">Link</a></td><td>None</td><td>✔</td></tr></table>"
      ],
      "text/plain": [
       "<IPython.core.display.HTML object>"
      ]
     },
     "metadata": {},
     "output_type": "display_data"
    },
    {
     "data": {
      "application/vnd.jupyter.widget-view+json": {
       "model_id": "",
       "version_major": 2,
       "version_minor": 0
      },
      "text/plain": [
       "FloatProgress(value=0.0, bar_style='info', description='Progress:', layout=Layout(height='25px', width='50%'),…"
      ]
     },
     "metadata": {},
     "output_type": "display_data"
    },
    {
     "name": "stdout",
     "output_type": "stream",
     "text": [
      "SparkSession available as 'spark'.\n"
     ]
    },
    {
     "data": {
      "application/vnd.jupyter.widget-view+json": {
       "model_id": "",
       "version_major": 2,
       "version_minor": 0
      },
      "text/plain": [
       "FloatProgress(value=0.0, bar_style='info', description='Progress:', layout=Layout(height='25px', width='50%'),…"
      ]
     },
     "metadata": {},
     "output_type": "display_data"
    },
    {
     "name": "stdout",
     "output_type": "stream",
     "text": [
      "1"
     ]
    }
   ],
   "source": [
    "1"
   ]
  },
  {
   "cell_type": "code",
   "execution_count": 16,
   "id": "a13a25f2",
   "metadata": {},
   "outputs": [
    {
     "data": {
      "application/vnd.jupyter.widget-view+json": {
       "model_id": "",
       "version_major": 2,
       "version_minor": 0
      },
      "text/plain": [
       "FloatProgress(value=0.0, bar_style='info', description='Progress:', layout=Layout(height='25px', width='50%'),…"
      ]
     },
     "metadata": {},
     "output_type": "display_data"
    }
   ],
   "source": [
    "df = spark.read.load('s3://avantcamp-partner01-prod-transform-bucket/avant/direct_mail/remail/creative_code_allocated_and_deduped_history/10856_t/direct_mail_transformation.pq/')\n"
   ]
  },
  {
   "cell_type": "code",
   "execution_count": 17,
   "id": "324b4d86",
   "metadata": {},
   "outputs": [
    {
     "data": {
      "application/vnd.jupyter.widget-view+json": {
       "model_id": "",
       "version_major": 2,
       "version_minor": 0
      },
      "text/plain": [
       "FloatProgress(value=0.0, bar_style='info', description='Progress:', layout=Layout(height='25px', width='50%'),…"
      ]
     },
     "metadata": {},
     "output_type": "display_data"
    },
    {
     "name": "stdout",
     "output_type": "stream",
     "text": [
      "+-------+--------------------+\n",
      "|send_id|remail_creative_code|\n",
      "+-------+--------------------+\n",
      "|  187R1|      187R1_408_2207|\n",
      "|  187R1|      187R1_408_2207|\n",
      "|  187R1|      187R1_407_2193|\n",
      "|  187R1|      187R1_408_2207|\n",
      "|  187R1|      187R1_407_2200|\n",
      "|  187R1|      187R1_407_2193|\n",
      "|  187R1|      187R1_408_2218|\n",
      "|  187R1|      187R1_408_2224|\n",
      "|  187R1|      187R1_408_2218|\n",
      "|  187R1|      187R1_408_2195|\n",
      "+-------+--------------------+\n",
      "only showing top 10 rows"
     ]
    }
   ],
   "source": [
    "df.select('send_id','remail_creative_code').show(10)"
   ]
  },
  {
   "cell_type": "code",
   "execution_count": 10,
   "id": "3aac912b",
   "metadata": {},
   "outputs": [
    {
     "data": {
      "application/vnd.jupyter.widget-view+json": {
       "model_id": "",
       "version_major": 2,
       "version_minor": 0
      },
      "text/plain": [
       "FloatProgress(value=0.0, bar_style='info', description='Progress:', layout=Layout(height='25px', width='50%'),…"
      ]
     },
     "metadata": {},
     "output_type": "display_data"
    },
    {
     "name": "stderr",
     "output_type": "stream",
     "text": [
      "An error was encountered:\n",
      "cannot import name 'col' from 'pyspark.sql' (/mnt1/yarn/usercache/livy/appcache/application_1724339927035_0001/container_1724339927035_0001_01_000001/pyspark.zip/pyspark/sql/__init__.py)\n",
      "Traceback (most recent call last):\n",
      "ImportError: cannot import name 'col' from 'pyspark.sql' (/mnt1/yarn/usercache/livy/appcache/application_1724339927035_0001/container_1724339927035_0001_01_000001/pyspark.zip/pyspark/sql/__init__.py)\n",
      "\n"
     ]
    }
   ],
   "source": [
    "from pyspark.sql import col\n",
    "df.withColumn(col(send_id),lit('187R1'))"
   ]
  },
  {
   "cell_type": "code",
   "execution_count": 12,
   "id": "c2825d48",
   "metadata": {},
   "outputs": [
    {
     "data": {
      "application/vnd.jupyter.widget-view+json": {
       "model_id": "",
       "version_major": 2,
       "version_minor": 0
      },
      "text/plain": [
       "FloatProgress(value=0.0, bar_style='info', description='Progress:', layout=Layout(height='25px', width='50%'),…"
      ]
     },
     "metadata": {},
     "output_type": "display_data"
    }
   ],
   "source": [
    "from pyspark.sql import functions as F\n",
    "\n",
    "# Use F.col instead of col\n",
    "df = df.withColumn(\"send_id\", F.lit('187R1'))"
   ]
  },
  {
   "cell_type": "code",
   "execution_count": 13,
   "id": "bcc2c4cb",
   "metadata": {},
   "outputs": [
    {
     "data": {
      "application/vnd.jupyter.widget-view+json": {
       "model_id": "",
       "version_major": 2,
       "version_minor": 0
      },
      "text/plain": [
       "FloatProgress(value=0.0, bar_style='info', description='Progress:', layout=Layout(height='25px', width='50%'),…"
      ]
     },
     "metadata": {},
     "output_type": "display_data"
    },
    {
     "name": "stdout",
     "output_type": "stream",
     "text": [
      "+-------+--------------------+\n",
      "|send_id|remail_creative_code|\n",
      "+-------+--------------------+\n",
      "|  187R1|      187R1_408_2207|\n",
      "|  187R1|      187R1_408_2207|\n",
      "|  187R1|      187R1_407_2193|\n",
      "|  187R1|      187R1_408_2207|\n",
      "|  187R1|      187R1_407_2200|\n",
      "|  187R1|      187R1_407_2193|\n",
      "|  187R1|      187R1_408_2218|\n",
      "|  187R1|      187R1_408_2224|\n",
      "|  187R1|      187R1_408_2218|\n",
      "|  187R1|      187R1_408_2195|\n",
      "+-------+--------------------+\n",
      "only showing top 10 rows"
     ]
    }
   ],
   "source": [
    "df.select('send_id','remail_creative_code').show(10)"
   ]
  },
  {
   "cell_type": "code",
   "execution_count": 18,
   "id": "be24abc0",
   "metadata": {},
   "outputs": [
    {
     "data": {
      "application/vnd.jupyter.widget-view+json": {
       "model_id": "",
       "version_major": 2,
       "version_minor": 0
      },
      "text/plain": [
       "FloatProgress(value=0.0, bar_style='info', description='Progress:', layout=Layout(height='25px', width='50%'),…"
      ]
     },
     "metadata": {},
     "output_type": "display_data"
    }
   ],
   "source": [
    "df.write.mode('overwrite').parquet('s3://avantcamp-partner01-prod-transform-bucket/avant/direct_mail/remail/creative_code_allocated_and_deduped_history/10856/direct_mail_transformation.pq/')"
   ]
  },
  {
   "cell_type": "code",
   "execution_count": 19,
   "id": "8f6d2c83",
   "metadata": {},
   "outputs": [
    {
     "data": {
      "application/vnd.jupyter.widget-view+json": {
       "model_id": "",
       "version_major": 2,
       "version_minor": 0
      },
      "text/plain": [
       "FloatProgress(value=0.0, bar_style='info', description='Progress:', layout=Layout(height='25px', width='50%'),…"
      ]
     },
     "metadata": {},
     "output_type": "display_data"
    },
    {
     "name": "stdout",
     "output_type": "stream",
     "text": [
      "File s3://avantcamp-partner01-prod-transform-bucket/avant/direct_mail/remail/creative_code_allocated_and_deduped_history/10856_t/direct_mail_transformation.pq/ deleted from avantcamp-partner01-prod-transform-bucket."
     ]
    }
   ],
   "source": [
    "import boto3\n",
    "\n",
    "# Initialize a session using your credentials\n",
    "s3 = boto3.resource('s3')\n",
    "\n",
    "# Specify the bucket name and file name (key)\n",
    "bucket_name = 'avantcamp-partner01-prod-transform-bucket'\n",
    "file_key = 's3://avantcamp-partner01-prod-transform-bucket/avant/direct_mail/remail/creative_code_allocated_and_deduped_history/10856_t/direct_mail_transformation.pq/'\n",
    "\n",
    "# Delete the file\n",
    "s3.Object(bucket_name, file_key).delete()\n",
    "\n",
    "print(f\"File {file_key} deleted from {bucket_name}.\")"
   ]
  },
  {
   "cell_type": "code",
   "execution_count": null,
   "id": "ef823934",
   "metadata": {},
   "outputs": [],
   "source": []
  }
 ],
 "metadata": {
  "kernelspec": {
   "display_name": "PySpark",
   "language": "python",
   "name": "pysparkkernel"
  },
  "language_info": {
   "codemirror_mode": {
    "name": "python",
    "version": 3
   },
   "file_extension": ".py",
   "mimetype": "text/x-python",
   "name": "pyspark",
   "pygments_lexer": "python3"
  }
 },
 "nbformat": 4,
 "nbformat_minor": 5
}
