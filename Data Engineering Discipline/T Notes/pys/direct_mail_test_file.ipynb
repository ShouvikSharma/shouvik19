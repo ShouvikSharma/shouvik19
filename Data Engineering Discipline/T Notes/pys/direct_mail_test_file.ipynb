{
 "cells": [
  {
   "cell_type": "code",
   "execution_count": 5,
   "metadata": {},
   "outputs": [
    {
     "name": "stdout",
     "output_type": "stream",
     "text": [
      "1"
     ]
    }
   ],
   "source": [
    "1"
   ]
  },
  {
   "cell_type": "code",
   "execution_count": 6,
   "metadata": {},
   "outputs": [],
   "source": [
    "args = {'ENV': 'prod', 'REGION': 'us-east-2', 'account_id': '235352882622', 'PARTNER_NAME': 'avant', 'emr_details': {}, 'AIRFLOW_PATH': '/usr/local/airflow', 'SQL_BASE_PATH': '/usr/local/airflow/test', 'DREMIO_ENV': 'prod', 'PARTNER_ID': 'partner01', 'measurement_date': '2023-09-27', 'YEAR': '2023', 'MONTH': '09', 'DATE': '27', 'YYYY': '2023', 'MM': '09', 'DD': '27', 'date': '2023-09-27', 'date_time': '2023-09-27 04:37:00', 'smtp_details': {'EMAIL_FROM': 'campaign-airflow-prod@partner01.data.avant.com'}, 'vault_details': {'vault_url': 'https://vault.shared.partner01.data.avant.com', 'meta_model': 'app/campaign/meta_model/prod', 'ec2_metadata_url': 'http://169.254.169.254', 'group_role': 'airflow-role', 'ec2_role': 'avant-campaign-dev-ecs-task-role', 'emr_role': 'campaign_emr_instance_role', 'vault_meta_base_url': '{base}/latest/meta-data/iam/security-credentials/{role}', 'encryption_details': 'app/landing_zone_encryption/acxiom', 'dremio_jdbc_user': 'app/dremio/jdbc_prod_sa', 'dremio_jdbc_url': 'jdbc:dremio:direct=dremio-int-prod.services.global.avant.com:31010', 'dremio_url': 'https://dremio-prod.services.global.avant.com', 'dremio_vault_path': 'user/devops/dremio/sa_prod_user', 'garden_vault_path': 'user/devops/garden/campaign_garden_scoring', 'smtp_vault_path': 'user/devops/smtp', 'neustar_vault_path': 'app/neustar', 'approval_vault_path': 'app/campaign/approval/prod'}, 'sqs_details': {'encrypt_decrypt_sqs_details': {'sqs_name': '{}_{}_{}_encrypt_decrypt_queue', 'sqs_url': 'https://us-east-2.queue.amazonaws.com/235352882622/DirectMail_2_6_encrypt_decrypt_queue.fifo'}, 'selection_eligibility_sqs_details': {'sqs_name': '{}_{}_{}_selection_eligibility_queue', 'sqs_url': 'https://sqs.us-east-2.amazonaws.com/235352882622/{}.fifo'}, 'selection_desirability_sqs_details': {'sqs_name': '{}_{}_{}_selection_desirability_queue', 'sqs_url': 'https://sqs.us-east-2.amazonaws.com/235352882622/{}.fifo'}}, 's3_details': {'config_file_bucket': 'avantcamp-partner01-prod-common-bucket', 'config_file_names': {'parameter_data': 'common/parameters.cfg', 'feed_schema_tracker': 'common/feed_schema.cfg'}, 'campaign_input_file_prefix_history': 'campaign-user-input-files_history', 'campaign_input_file_prefix': 'campaign-user-input-files', 'campaign_input_file_name': 'campaign - User Input - Template.xlsx', 'campaign_dynamic_dag_file_prefix': 'campaign-system-input-files', 'campaign_dynamic_dag_file_name': 'campaign_dynamic_dag_config.json'}, 'schema_name': 'campaign_config', 'campaign_driver_table_name': 'campaign_driver', 'selection_group_tname': 'selection_group_rule_config', 'uow_dependency_table_name': 'uow_dependency', 'parent_config_id': '1', 'campaign_driver_config_table_name': 'campaign_driver_config', 'common_config_table_name': 'common_system_config', 'airflow_path': '/usr/local/airflow', 'state_dict': {'state_id': {1: 'started', 2: 'inprogress', 3: 'completed', 4: 'failed'}, 'message': {1: 'submitted PySpark job to EMR', 2: 'PySpark job running in EMR', 3: 'Completed PySpark job successfully'}}, 'dremio_table_details': [{'table_name': 'table_name_1', 'table_path': 'path1'}, {'table_name': 'table_name_2', 'table_path': 'path2'}], 'executor_instances': '60', 'sql_base_path': '/usr/local/airflow/sql/{}/{}/{}.sql', 'dremio_security_table_name': 'avant.prod.campaign_abc.campaign_config.campaign_dremio_masking_table', 'local_path': '/usr/local/airflow', 'campaign_type_config_id': '2', 'campaign_name': 'Direct Mail', 'dag_name': 'Direct_Mail_2_6_amount_publish', 'conf': \"{'spark.executor.memoryOverhead': '5g', 'spark.driver.maxResultSize': '3g', 'spark.driver.memory': '8g', 'spark.driver.extraJavaOptions': '-Xss8m', 'spark.executor.extraJavaOptions': '-Xss8m'}\", 'executor_memory': '26g', 'looker_url': 'https://avantstaging.looker.com/dashboards/98', 'campaign_run_name': '202311_001', 'direct_mail_amount_oltp_eligibility_path': 'direct_mail/mailed/eligibility/7963', 'direct_mail_ingestion_file_name': 'direct_mail_ingestion.pq', 'direct_mail_transformation_file_name': 'direct_mail_transformation.pq', 'direct_mail_eligibility_file_name': 'direct_mail_eligibility.pq', 'direct_mail_scoring_file_name': 'direct_mail_scoring.pq', 'direct_mail_approval_file_name': 'direct_mail_approval.pq', 'direct_mail_interim1_path': 'direct_mail/interim1/7963', 'direct_mail_interim2_path': 'direct_mail/interim2/7963', 'direct_mail_first_mail_desirability_path': 'direct_mail/first_mail/desirabiity/7963', 'direct_mail_scoring_full_data_path': 'direct_mail/scoring/7963', 'direct_mail_interim1_final_path': 'direct_mail/interim1_final/7963', 'direct_mail_interim2_final_path': 'direct_mail/interim2_final/7963', 'direct_mail_first_mail_path': 'direct_mail/first_mail/7963', 'direct_mail_first_mail_eligibility_path': 'direct_mail/first_mail/eligibility/7963', 'direct_mail_desirability_file_name': 'direct_mail_desirability.pq', 'direct_mail_treatment_determination_path': 'direct_mail/first_mail/customer_treatment/7963', 'direct_mail_deduped_customer_treatment_path': 'direct_mail/first_mail/deduped_customer_treatment/7963', 'direct_mail_amount_oltp_desirability_path': 'direct_mail/mailed/desirabiity/7963', 'eligibility_source_file_name': 'direct_mail_eligibility_source.pq', 'eligibility_file_name': 'direct_mail_eligibility.pq', 'desirability_path': 'direct_mail/first_mail/desirability/7963', 'eligibility_source_path': 'direct_mail/first_mail/eligibility_source/7963', 'direct_mail_mailed_file_name': 'direct_mail_mailed_ingestion.pq', 'direct_mail_interim_file_name': 'direct_mail_ingestion.pq', 'desirability_file_name': 'direct_mail_desirability.pq', 'transformation_file_name': 'direct_mail_transformation.pq', 'eligibility_path': 'direct_mail/first_mail/eligibility/7963', 'transformation_path': 'direct_mail/first_mail/transformation/7963', 'transformation_dedup_file_name': 'direct_mail_transformation.pq', 'transformation_creative_file_name': 'direct_mail_transformation.pq', 'transformation_creative_path': 'direct_mail/first_mail/creative_code_allocated/7963', 'direct_mail_publish_path': 'preapproved_records/avant/{ENV}', 'transformation_dedup_path': 'direct_mail/first_mail/creative_code_allocated_and_deduped_history/7963', 'scoring_id_columns': 'bpid', 'transformation_final_dedup_path': 'direct_mail/first_mail/creative_code_allocated_and_deduped_final', 'direct_mail_amount_oltp_path': 'direct_mail/mailed/7963', 'direct_mail_publish_file_name': 'direct_mail_publish.csv', 'direct_mail_amount_publish_file_name': 'direct_mail_mailed_7963_{campaign_run_id}_{date}.pq', 'direct_mail_scoring_path': 'direct_mail/first_mail/scoring/7963', 'direct_mail_scoring_history_path': '\"avant\".\"{ENV}\".\"dw\".\"dw_orig_history\".\"direct_mail_model_score\"', 'mailed_amount_publish_file_name': 'direct_mail_mailed_7963_{campaign_run_id}_{date}.file_format', 'mailed_publish_file_name': 'direct_mail_mailed_7963_{campaign_run_id}_{date}.csv', 'direct_mail_acxiom_publish_path': 'acxiom/to_acxiom/{ENV}', 'direct_mail_acxiom_publish_file_name': 'AV_MAIL_{batch_key}_SELECTION_{date}.csv', 'selection_dedup_path': 'direct_mail/first_mail/selection_dedup/7963', 'feed_metadata_object': 'common/feed_metadata.cfg', 'uow_dependency_object': 'common/uow_dependency.cfg', 'uow_error_object': 'common/uow_error.cfg', 'config_file_bucket': 'avantcamp-prod-common-bucket', 'config_file_name': 'common/feed_metadata.cfg', 'parameter_config_file': 'common/parameters.cfg', 'acxiom_bucket': 'avant-partner01-landing', 'avant_acxiom_bucket': 'avant-acxiom', 'data_lake_bucket': 'avant-data-lake-ingest', 'publish_bucket': 'avantcamp-partner01-prod-publish-bucket', 'common_bucket': 'avantcamp-partner01-prod-common-bucket', 'exception_bucket': 'avantcamp-partner01-prod-exception-bucket', 'log_bucket': 'avantcamp-partner01-prod-log-bucket', 'selection_bucket': 'avantcamp-partner01-prod-selection-bucket', 'approval_bucket': 'avantcamp-partner01-prod-approval-bucket', 'transient_bucket': 'avantcamp-partner01-prod-transient-bucket', 'ingestion_bucket': 'avantcamp-partner01-prod-ingestion-bucket', 'transform_bucket': 'avantcamp-partner01-prod-transform-bucket', 'scoring_bucket': 'avantcamp-partner01-prod-score-bucket', 'call_logs_amount_publish_path': 'landing/bpo/{ENV}/call_logs', 'bpo_amount_publish_bucket': 'amount-{PARTNER_NAME}-prd-data-lake-ingest', 'call_interval_amount_publish_path': 'landing/bpo/{ENV}/call_interval', 'emails_amount_publish_path': 'landing/bpo/{ENV}/emails', 'qa_amount_publish_path': 'landing/bpo/{ENV}/qa', 'agent_interval_amount_publish_path': 'landing/bpo/{ENV}/agent_interval', 'dremio_ingestion_file_path': '{source_file_type}/{YYYY}/{MM}/{DD}', 'dremio_ingestion_file_name': 'bpo_{source_file_type}_7963_{campaign_run_id}_{date}.{file_format}', 'emails_rename_full_source_path': 'emails/{YYYY}/{MM}/{DD}/bpo_emails_7963_{campaign_run_id}_{date}.{file_format}', 'ivr_call_logs_rename_full_source_path': 'ivr_call_logs/{YYYY}/{MM}/{DD}/bpo_ivr_call_logs_7963_{campaign_run_id}_{date}.{file_format}', 'qa_rename_full_source_path': 'qa/{YYYY}/{MM}/{DD}/bpo_qa_7963_{campaign_run_id}_{date}.{file_format}', 'call_logs_rename_full_source_path': 'call_logs/{YYYY}/{MM}/{DD}/bpo_call_logs_7963_{campaign_run_id}_{date}.{file_format}', 'agent_interval_rename_full_source_path': 'agent_interval/{YYYY}/{MM}/{DD}/bpo_agent_interval_7963_{campaign_run_id}_{date}.{file_format}', 'call_interval_rename_full_source_path': 'call_interval/{YYYY}/{MM}/{DD}/bpo_call_interval_7963_{campaign_run_id}_{date}.{file_format}', 'emails_rename_file_name': 'bpo_emails_7963_{campaign_run_id}_{date}.{file_format}', 'ivr_call_logs_rename_file_name': 'bpo_ivr_call_logs_7963_{campaign_run_id}_{date}.{file_format}', 'qa_rename_file_name': 'bpo_qa_7963_{campaign_run_id}_{date}.{file_format}', 'call_logs_rename_file_name': 'bpo_call_logs_7963_{campaign_run_id}_{date}.{file_format}', 'agent_interval_rename_file_name': 'bpo_agent_interval_7963_{campaign_run_id}_{date}.{file_format}', 'call_interval_rename_file_name': 'bpo_call_interval_7963_{campaign_run_id}_{date}.{file_format}', 'eligibility_selection_history_dedup_path': 'direct_mail/first_mail/eligibility_selection_history_dedup/7963', 'eligibility_selection_latest_dedup_path': 'direct_mail/first_mail/eligibility_selection_dedup/', 'eligibility_dedupe_source_path': 'direct_mail/first_mail/eligibility_dedup_source/', 'direct_mail_amount_latest_send_oltp_path': 'direct_mail/mailed_latest_send', 'direct_mail_scoring_output_path': '{stage_id}/direct_mail/first_mail/7963', 'eligibility_marketing_selection_file_name': 'direct_mail_marketing_eligibility.pq', 'desirability_marketing_selection_file_name': 'direct_mail_marketing_desirability.pq', 'marketing_selection_transformation_creative_file_name': 'direct_mail_marketing_selection_transformation.pq', 'args_dremio_jdbc_user_prod': 'app/dremio/jdbc_prod_sa', 'args_dremio_url_prod': 'https://dremio-prod.services.global.avant.com', 'publish_eloan_bucket': 'avantcamp-partner02-prod-publish-bucket', 'transform_eloan_bucket': 'avantcamp-partner02-prod-transform-bucket', 'ingestion_eloan_bucket': 'avantcamp-partner02-prod-ingestion-bucket', 'args_dremio_vault_path_prod': 'user/devops/dremio/sa_prod_user', 'args_dremio_jdbc_url_prod': 'jdbc:dremio:direct=dremio-int-prod.services.global.avant.com:31010', 'td_dlds_raw_bucket': 'avantdlds-partner03-prod-raw-bucket', 'ingestion_td_bucket': 'avantcamp-partner03-prod-ingestion-bucket', 'td_dlds_transform_bucket': 'avantdlds-partner03-prod-transform-bucket', 'transform_td_bucket': 'avantcamp-partner03-prod-transform-bucket', 'campaign_batch_id': '7963', 'campaign_run_id': '3', 'dremio_data': {4: {'transformation': [{'dremio_config_id': 1, 'campaign_type_config_id': 2, 'stage_id': 4, 'sequence': 1, 'module_config_type': 'transformation', 're_create': '0.0', 'sql_type': 'select', 'pds': 'avantcamp-{PARTNER_ID}-{DREMIO_ENV}.avantcamp-{PARTNER_ID}-{ENV}-transform-bucket.{PARTNER_NAME}.direct_mail.first_mail.creative_code_allocated_and_deduped_final', 'intermediate_vds': '', 'intermediate_vds_sql': '', 'final_vds': '{PARTNER_NAME}.{ENV}.dw.dw_orig.direct_mail_prospect_selected', 'final_vds_sql': '', 'created_by': 'avantadmin', 'created_date': '2021-06-04', 'is_active_flag': True}, {'dremio_config_id': 2, 'campaign_type_config_id': 2, 'stage_id': 4, 'sequence': 2, 'module_config_type': 'transformation', 're_create': '0.0', 'sql_type': 'select', 'pds': 'avantcamp-{PARTNER_ID}-{DREMIO_ENV}.avantcamp-{PARTNER_ID}-{ENV}-transform-bucket.{PARTNER_NAME}.direct_mail.first_mail.creative_code_allocated_and_deduped_history', 'intermediate_vds': '', 'intermediate_vds_sql': '', 'final_vds': '{PARTNER_NAME}.{ENV}.dw.dw_orig.direct_mail_prospect_selected_by_send', 'final_vds_sql': '', 'created_by': 'avantadmin', 'created_date': '2021-06-04', 'is_active_flag': True}, {'dremio_config_id': 14, 'campaign_type_config_id': 2, 'stage_id': 4, 'sequence': 5, 'module_config_type': 'transformation', 're_create': '0.0', 'sql_type': 'select', 'pds': 'avantcamp-{PARTNER_ID}-{DREMIO_ENV}.avantcamp-{PARTNER_ID}-{ENV}-ingestion-bucket.{PARTNER_NAME}.direct_mail.first_mail.eligibility_source', 'intermediate_vds': '', 'intermediate_vds_sql': '', 'final_vds': '{PARTNER_NAME}.{ENV}.dw.dw_orig.direct_mail_prospect_by_send_campaign', 'final_vds_sql': '', 'created_by': 'avantadmin', 'created_date': '2021-06-04', 'is_active_flag': True}, {'dremio_config_id': 15, 'campaign_type_config_id': 2, 'stage_id': 4, 'sequence': 6, 'module_config_type': 'transformation', 're_create': '0.0', 'sql_type': 'select', 'pds': 'avantcamp-{PARTNER_ID}-{DREMIO_ENV}.avantcamp-{PARTNER_ID}-{ENV}-ingestion-bucket.{PARTNER_NAME}.direct_mail.first_mail.eligibility_dedup_source', 'intermediate_vds': '', 'intermediate_vds_sql': '', 'final_vds': '{PARTNER_NAME}.{ENV}.dw.dw_orig.direct_mail_prospect_campaign', 'final_vds_sql': '', 'created_by': 'avantadmin', 'created_date': '2021-06-04', 'is_active_flag': True}, {'dremio_config_id': 18, 'campaign_type_config_id': 2, 'stage_id': 4, 'sequence': 9, 'module_config_type': 'transformation', 're_create': '0.0', 'sql_type': 'select', 'pds': 'avantcamp-{PARTNER_ID}-{DREMIO_ENV}.avantcamp-{PARTNER_ID}-{ENV}-selection-bucket.{PARTNER_NAME}.direct_mail.first_mail.eligibility_selection_history_dedup', 'intermediate_vds': '', 'intermediate_vds_sql': '', 'final_vds': '{PARTNER_NAME}.{ENV}.dw.dw_orig.direct_mail_eligible_by_send', 'final_vds_sql': '', 'created_by': 'avantadmin', 'created_date': '2021-06-04', 'is_active_flag': True}, {'dremio_config_id': 19, 'campaign_type_config_id': 2, 'stage_id': 4, 'sequence': 10, 'module_config_type': 'transformation', 're_create': '0.0', 'sql_type': 'select', 'pds': 'avantcamp-{PARTNER_ID}-{DREMIO_ENV}.avantcamp-{PARTNER_ID}-{ENV}-selection-bucket.{PARTNER_NAME}.direct_mail.first_mail.eligibility_selection_dedup', 'intermediate_vds': '', 'intermediate_vds_sql': '', 'final_vds': '{PARTNER_NAME}.{ENV}.dw.dw_orig.direct_mail_eligible', 'final_vds_sql': '', 'created_by': 'avantadmin', 'created_date': '2021-06-04', 'is_active_flag': True}], 'scoring': [{'dremio_config_id': 5, 'campaign_type_config_id': 2, 'stage_id': 4, 'sequence': 4, 'module_config_type': 'scoring', 're_create': '0.0', 'sql_type': 'custom', 'pds': 'avantcamp-{PARTNER_ID}-{DREMIO_ENV}.avantcamp-{PARTNER_ID}-{ENV}-score-bucket.{PARTNER_NAME}.direct_mail.first_mail.scoring', 'intermediate_vds': '{PARTNER_NAME}.{ENV}.intermediate.dw.dw_orig_history.direct_mail_model_score_by_send', 'intermediate_vds_sql': 'select direct_mail.*Ã¢â‚¬Â¨ from {direct_mail_scoring_history_path} direct_mailÃ¢â‚¬Â¨ INNER JOINÃ¢â‚¬Â¨ (Ã¢â‚¬Â¨select max(etl_ingestion_time) as etl_ingestion_timeÃ¢â‚¬Â¨ from {direct_mail_scoring_history_path}) direct_mail_by_send Ã¢â‚¬Â¨on direct_mail.etl_ingestion_time=direct_mail_by_send.etl_ingestion_time', 'final_vds': '{PARTNER_NAME}.{ENV}.dw.dw_orig.direct_mail_model_score_by_send', 'final_vds_sql': '', 'created_by': 'avantadmin', 'created_date': '2021-06-04', 'is_active_flag': True}, {'dremio_config_id': 6, 'campaign_type_config_id': 2, 'stage_id': 4, 'sequence': 3, 'module_config_type': 'scoring', 're_create': '0.0', 'sql_type': 'custom', 'pds': 'avantcamp-{PARTNER_ID}-{DREMIO_ENV}.avantcamp-{PARTNER_ID}-{ENV}-score-bucket.{PARTNER_NAME}.direct_mail.first_mail.scoring', 'intermediate_vds': '', 'intermediate_vds_sql': '', 'final_vds': '{PARTNER_NAME}.{ENV}.dw.dw_orig_history.direct_mail_model_score', 'final_vds_sql': '', 'created_by': 'avantadmin', 'created_date': '2021-06-04', 'is_active_flag': True}]}, 6: {'ingestion': [{'dremio_config_id': 16, 'campaign_type_config_id': 2, 'stage_id': 6, 'sequence': 7, 'module_config_type': 'ingestion', 're_create': '0.0', 'sql_type': 'select', 'pds': 'avantcamp-{PARTNER_ID}-{DREMIO_ENV}.avantcamp-{PARTNER_ID}-{ENV}-ingestion-bucket.{PARTNER_NAME}.direct_mail.mailed', 'intermediate_vds': '{PARTNER_NAME}.{ENV}.intermediate.dw.dw_orig.direct_mail_prospect_mailed_by_send_campaign', 'intermediate_vds_sql': 'select * from avantcamp-{PARTNER_ID}-{DREMIO_ENV}.avantcamp-{PARTNER_ID}-{ENV}-ingestion-bucket.{PARTNER_NAME}.direct_mail.mailed', 'final_vds': '{PARTNER_NAME}.{ENV}.dw.dw_orig.direct_mail_prospect_mailed_by_send_campaign', 'final_vds_sql': '', 'created_by': 'avantadmin', 'created_date': '2021-06-04', 'is_active_flag': True}, {'dremio_config_id': 17, 'campaign_type_config_id': 2, 'stage_id': 6, 'sequence': 8, 'module_config_type': 'ingestion', 're_create': '0.0', 'sql_type': 'select', 'pds': 'avantcamp-{PARTNER_ID}-{DREMIO_ENV}.avantcamp-{PARTNER_ID}-{ENV}-ingestion-bucket.{PARTNER_NAME}.direct_mail.mailed_latest_send', 'intermediate_vds': '{PARTNER_NAME}.{ENV}.intermediate.dw.dw_orig.direct_mail_prospect_mailed_campaign', 'intermediate_vds_sql': 'select * from avantcamp-{PARTNER_ID}-{DREMIO_ENV}.avantcamp-{PARTNER_ID}-{ENV}-ingestion-bucket.{PARTNER_NAME}.direct_mail.mailed_latest_send', 'final_vds': '{PARTNER_NAME}.{ENV}.dw.dw_orig.direct_mail_prospect_mailed_campaign', 'final_vds_sql': '', 'created_by': 'avantadmin', 'created_date': '2021-06-04', 'is_active_flag': True}]}, 7: {'transformation': [{'dremio_config_id': 28, 'campaign_type_config_id': 2, 'stage_id': 7, 'sequence': 6, 'module_config_type': 'transformation', 're_create': '0.0', 'sql_type': 'select', 'pds': 'avantcamp-{PARTNER_ID}-{DREMIO_ENV}.avantcamp-{PARTNER_ID}-{ENV}-transform-bucket.{PARTNER_NAME}.direct_mail.first_mail.creative_code_allocated_and_deduped_history', 'intermediate_vds': '', 'intermediate_vds_sql': '', 'final_vds': '{PARTNER_NAME}.{ENV}.dw.dw_orig.direct_mail_prospect_selected_by_send', 'final_vds_sql': '', 'created_by': 'avantadmin', 'created_date': '2021-09-16', 'is_active_flag': True}, {'dremio_config_id': 27, 'campaign_type_config_id': 2, 'stage_id': 7, 'sequence': 5, 'module_config_type': 'transformation', 're_create': '0.0', 'sql_type': 'select', 'pds': 'avantcamp-{PARTNER_ID}-{DREMIO_ENV}.avantcamp-{PARTNER_ID}-{ENV}-transform-bucket.{PARTNER_NAME}.direct_mail.first_mail.creative_code_allocated_and_deduped_final', 'intermediate_vds': '', 'intermediate_vds_sql': '', 'final_vds': '{PARTNER_NAME}.{ENV}.dw.dw_orig.direct_mail_prospect_selected', 'final_vds_sql': '', 'created_by': 'avantadmin', 'created_date': '2021-09-16', 'is_active_flag': True}]}}, 'from_date': '2023-09-26', 'to_date': '2023-09-27', 'current_date': '2023-09-27', '4': {'selection': {'eligibility': {'source_path': 's3://avantcamp-partner01-prod-ingestion-bucket/avant/direct_mail/first_mail/eligibility_source/7963/direct_mail_eligibility_source.pq', 'target_path': 's3://avantcamp-partner01-prod-selection-bucket/avant/direct_mail/first_mail/eligibility/7963/direct_mail_eligibility.pq'}, 'desirability': {'source_path': 's3://avantcamp-partner01-prod-selection-bucket/avant/direct_mail/first_mail/eligibility/7963/direct_mail_eligibility.pq', 'target_path': 's3://avantcamp-partner01-prod-selection-bucket/avant/direct_mail/first_mail/desirability/7963/direct_mail_desirability.pq'}, 'crossover': {'source_path': 's3://avantcamp-partner01-prod-selection-bucket/avant/direct_mail/first_mail/desirability/7963/direct_mail_desirability.pq', 'target_path': 's3://avantcamp-partner01-prod-selection-bucket/avant/direct_mail/first_mail/desirability/7963/direct_mail_desirability.pq'}, 'selection_dedup': {'source_path': 's3://avantcamp-partner01-prod-selection-bucket/avant/direct_mail/first_mail/desirability/7963/direct_mail_desirability.pq', 'target_path': 's3://avantcamp-partner01-prod-selection-bucket/avant/direct_mail/first_mail/selection_dedup/7963/direct_mail_desirability.pq', 'eligibility_source_path': 's3://avantcamp-partner01-prod-selection-bucket/avant/direct_mail/first_mail/eligibility/7963/direct_mail_eligibility.pq', 'eligibility_history_target_path': 's3://avantcamp-partner01-prod-selection-bucket/avant/direct_mail/first_mail/eligibility_selection_history_dedup/7963/direct_mail_eligibility.pq', 'eligibility_dedupe_target_path': 's3://avantcamp-partner01-prod-selection-bucket/avant/direct_mail/first_mail/eligibility_selection_dedup//direct_mail_eligibility.pq'}}, 'transformation': {'creative_code_allocation': {'source_path': 's3://avantcamp-partner01-prod-selection-bucket/avant/direct_mail/first_mail/selection_dedup/7963/direct_mail_desirability.pq', 'target_path': 's3://avantcamp-partner01-prod-transform-bucket/avant/direct_mail/first_mail/creative_code_allocated/7963/direct_mail_transformation.pq'}, 'dedup_after_creative_code_allocation': {'source_path': 's3://avantcamp-partner01-prod-transform-bucket/avant/direct_mail/first_mail/creative_code_allocated/7963/direct_mail_transformation.pq', 'target_path': 's3://avantcamp-partner01-prod-transform-bucket/avant/direct_mail/first_mail/creative_code_allocated_and_deduped_history/7963/direct_mail_transformation.pq', 'approval_target_path': 's3://avantcamp-partner01-prod-transform-bucket/avant/direct_mail/first_mail/creative_code_allocated_and_deduped_final/direct_mail_transformation.pq'}}}, '3': {'scoring': {'export_path': 'avantcamp-partner01-prod-score-bucket/avant/2/{stage_id}/direct_mail/first_mail/7963', 'table_name_1': 'avantcamp-partner01-prod-transform-bucket', 'table_name_2': 'avant/direct_mail/first_mail/7963/direct_mail_transformation.pq/part', 'id_column': 'bpid'}}, '6': {'publish': [{'source_path': 's3://avantcamp-partner01-prod-transform-bucket/avant/direct_mail/mailed/7963/direct_mail_transformation.pq', 'target_path': 's3://avant-acxiom/preapproved_records/avant/{ENV}'}]}, '7': {'selection': {'eligibility': {'source_path': 's3://avantcamp-partner01-prod-ingestion-bucket/avant/direct_mail/first_mail/eligibility_source/7963/direct_mail_eligibility_source.pq', 'target_path': 's3://avantcamp-partner01-prod-selection-bucket/avant/direct_mail/first_mail/eligibility/7963/direct_mail_marketing_eligibility.pq'}, 'desirability': {'source_path': 's3://avantcamp-partner01-prod-selection-bucket/avant/direct_mail/first_mail/eligibility/7963/direct_mail_marketing_eligibility.pq', 'target_path': 's3://avantcamp-partner01-prod-selection-bucket/avant/direct_mail/first_mail/desirability/7963/direct_mail_marketing_desirability.pq'}, 'crossover': {'source_path': 's3://avantcamp-partner01-prod-selection-bucket/avant/direct_mail/first_mail/desirability/7963/direct_mail_marketing_desirability.pq', 'target_path': 's3://avantcamp-partner01-prod-selection-bucket/avant/direct_mail/first_mail/desirability/7963/direct_mail_marketing_desirability.pq'}, 'selection_dedup': {'source_path': 's3://avantcamp-partner01-prod-selection-bucket/avant/direct_mail/first_mail/desirability/7963/direct_mail_marketing_desirability.pq', 'marketing_selection_source_path': 's3://avantcamp-partner01-prod-transform-bucket/avant/direct_mail/first_mail/creative_code_allocated_and_deduped_final/direct_mail_transformation.pq', 'target_path': 's3://avantcamp-partner01-prod-selection-bucket/avant/direct_mail/first_mail/selection_dedup/7963/direct_mail_marketing_desirability.pq'}}, 'transformation': {'creative_code_allocation': {'source_path': 's3://avantcamp-partner01-prod-selection-bucket/avant/direct_mail/first_mail/selection_dedup/7963/direct_mail_marketing_desirability.pq', 'target_path': 's3://avantcamp-partner01-prod-transform-bucket/avant/direct_mail/first_mail/creative_code_allocated/7963/direct_mail_marketing_selection_transformation.pq'}, 'dedup_after_creative_code_allocation': {'source_path': 's3://avantcamp-partner01-prod-transform-bucket/avant/direct_mail/first_mail/creative_code_allocated/7963/direct_mail_marketing_selection_transformation.pq', 'target_path': 's3://avantcamp-partner01-prod-transform-bucket/avant/direct_mail/first_mail/creative_code_allocated_and_deduped_history/7963/direct_mail_marketing_selection_transformation.pq', 'approval_target_path': 's3://avantcamp-partner01-prod-transform-bucket/avant/direct_mail/first_mail/creative_code_allocated_and_deduped_final/direct_mail_marketing_selection_transformation.pq'}}}, 'direct_mail_interim1_ingestion': 'avant/direct_mail/interim1/7963/direct_mail_ingestion.pq', 'direct_mail_interim2_ingestion': 'avant/direct_mail/interim2/7963/direct_mail_ingestion.pq', 'mailed_transformation': 's3://avantcamp-partner01-prod-transform-bucket/avant/direct_mail/mailed/7963/direct_mail_transformation.pq', 'direct_mail_interim1_parquet_ingestion': 'avant/direct_mail/interim1_final/7963/direct_mail_ingestion.pq', 'direct_mail_interim2_parquet_ingestion': 'avant/direct_mail/interim2_final/7963/direct_mail_ingestion.pq', 'acxiom_joined_with_scoring_file_ingestion': 's3://avantcamp-partner01-prod-ingestion-bucket/avant/direct_mail/first_mail/eligibility_source/7963/direct_mail_eligibility_source.pq', 'acxiom_dedupe_file_ingestion': 's3://avantcamp-partner01-prod-ingestion-bucket/avant/direct_mail/first_mail/eligibility_dedup_source//direct_mail_eligibility_source.pq', 'direct_mail_first_mail_ingestion': 's3://avantcamp-partner01-prod-ingestion-bucket/avant/direct_mail/first_mail/7963/direct_mail_ingestion.pq', 'acxiom_data_transformation': 's3://avantcamp-partner01-prod-ingestion-bucket/avant/direct_mail/first_mail/7963/direct_mail_ingestion.pq', 'direct_mail_first_mail_transformation': 's3://avantcamp-partner01-prod-transform-bucket/avant/direct_mail/first_mail/7963/direct_mail_transformation.pq', 'scoring_file_path': 's3://avantcamp-partner01-prod-score-bucket/avant/direct_mail/first_mail/scoring/7963/direct_mail_scoring.pq', 'scoring_full_data_file': 's3://avantcamp-partner01-prod-score-bucket/avant/direct_mail/scoring/7963/direct_mail_scoring.pq', 'direct_mail_first_mail_deduped_final': 's3://avantcamp-partner01-prod-transform-bucket/avant/direct_mail/first_mail/creative_code_allocated_and_deduped_final/*', 'direct_mail_first_mail_publish': 's3://avantcamp-partner01-prod-publish-bucket/avant/direct_mail/first_mail/7963/direct_mail_publish.csv', 'direct_mail_amount_oltp_ingestion': 'avant/direct_mail/mailed/7963/direct_mail_mailed_ingestion.pq', 'direct_mail_mailed_latest_send_ingestion': 's3://avantcamp-partner01-prod-ingestion-bucket/avant/direct_mail/mailed_latest_send/direct_mail_mailed_ingestion.pq', 'direct_mail_mailed_ingestion': 's3://avantcamp-partner01-prod-ingestion-bucket/avant/direct_mail/mailed/7963/direct_mail_ingestion.pq', 'direct_mail_mailed_transformation': 's3://avantcamp-partner01-prod-transform-bucket/avant/direct_mail/mailed/7963/direct_mail_transformation.pq', 'direct_mail_remail_publish_file_name': 'acxiom/to_acxiom/{ENV}/AV_MAIL_{batch_key}_SELECTION_{date}.csv', 'code_name': 'Direct_Mail_2_6_amount_publish', 'partner_name': 'avant', 'stage_id': '6', 'common_service_name': 'Direct_Mail_2_6_amount_publish', 'shared_vpc_role': 'arn:aws:iam::336913029742:role/AWS-Airflow-Deploy-Role', 'sqs_args': {'sqs_name': '{}_{}_{}_encrypt_decrypt_queue', 'sqs_url': 'https://us-east-2.queue.amazonaws.com/235352882622/DirectMail_2_6_encrypt_decrypt_queue.fifo'}, 'campaign_driver_config_id': 28517, 'module_config_type': 'publish', 'campaign_component_run_id': 211957}"
   ]
  },
  {
   "cell_type": "code",
   "execution_count": 7,
   "metadata": {},
   "outputs": [],
   "source": [
    "import sys\n",
    "import traceback\n",
    "from campaign_utils.logging_helpers import LoggingHelper\n",
    "from campaign_utils.publish import Publish\n",
    "from campaign_utils.vault_client import VaultClient\n",
    "from campaign_utils.db_helpers import DBHelpers\n",
    "from campaign_utils.sql_query import SqlQuery\n",
    "import gnupg\n",
    "from campaign_utils.s3_helpers import S3Helpers\n",
    "from campaign_utils.encrypt_decrypt import EncryptDecrypt\n",
    "from campaign_utils.common_funtion import CommonFunction\n",
    "from tempfile import NamedTemporaryFile\n",
    "import s3fs\n"
   ]
  },
  {
   "cell_type": "code",
   "execution_count": 8,
   "metadata": {},
   "outputs": [
    {
     "name": "stdout",
     "output_type": "stream",
     "text": [
      "'app/landing_zone_encryption/acxiom'"
     ]
    }
   ],
   "source": [
    "args['vault_details']['encryption_details']"
   ]
  },
  {
   "cell_type": "code",
   "execution_count": 9,
   "metadata": {},
   "outputs": [
    {
     "name": "stdout",
     "output_type": "stream",
     "text": [
      "authenticated"
     ]
    }
   ],
   "source": [
    "vault_obj = VaultClient(args)\n",
    "cred_s = vault_obj.get_credentials(\n",
    "            secret_path= 'app/landing_zone_encryption/amount_encryption'\n",
    "        )\n",
    "\n",
    "creds = cred_s\n",
    "if 'password' in creds:\n",
    "    password = creds['password']\n",
    "if 'mail_id' in creds:\n",
    "    mail_id = creds['mail_id']\n",
    "else:\n",
    "    mail_id = creds['user_id']\n",
    "gpg = gnupg.GPG()\n",
    "if \"pubkey.asc\" in creds:\n",
    "    imported_pub_key = gpg.import_keys(creds['pubkey.asc'])\n",
    "\n",
    "if \"public_key\" in creds:\n",
    "    imported_pub_key = gpg.import_keys(creds['public_key'])\n",
    "\n",
    "if \"privkey.asc\" in creds:\n",
    "    imported_priv_key = gpg.import_keys(creds['privkey.asc'])"
   ]
  },
  {
   "cell_type": "code",
   "execution_count": 20,
   "metadata": {},
   "outputs": [],
   "source": [
    "input_file_data = 'avantcamp-partner01-prod-transform-bucket/avant/direct_mail/mailed/7963/direct_mail_transformation.pq/Direct Mail Test Cases for Ocala 2.0 10102023.csv'\n",
    "\n",
    "bucket_name = 'avant-acxiom' \n",
    "prefix_path = 'preapproved_records/avant/prod/Direct Mail Test Cases for Ocala 2.0 10122023.csv.gpg'"
   ]
  },
  {
   "cell_type": "code",
   "execution_count": 21,
   "metadata": {},
   "outputs": [],
   "source": [
    "s3_helpers_obj = S3Helpers(args=args)\n",
    "encrypt_decrypt_obj = EncryptDecrypt(args=cred_s)\n",
    "fs = s3fs.S3FileSystem()\n",
    "_type = 'encrypt'\n"
   ]
  },
  {
   "cell_type": "code",
   "execution_count": 22,
   "metadata": {},
   "outputs": [
    {
     "name": "stdout",
     "output_type": "stream",
     "text": [
      "True\n",
      "encryption ok\n",
      "[GNUPG:] BEGIN_ENCRYPTION 2 9\n",
      "[GNUPG:] END_ENCRYPTION"
     ]
    }
   ],
   "source": [
    "with fs.open(input_file_data, \"rb\") as infile:\n",
    "    with NamedTemporaryFile() as temp_file:\n",
    "        local_path = temp_file.name\n",
    "        encrypt_decrypt_obj.encrypt_decrypt_files(\n",
    "            infile=infile,\n",
    "            local_path=local_path,\n",
    "            _type=_type\n",
    "        )\n",
    "        s3_helpers_obj.s3_upload_file(\n",
    "            local_file=local_path,\n",
    "            bucket=bucket_name,\n",
    "            object_name=prefix_path\n",
    "        )"
   ]
  },
  {
   "cell_type": "code",
   "execution_count": 23,
   "metadata": {},
   "outputs": [],
   "source": [
    "def list_objects(bucket_name, prefix):\n",
    "    session_obj = CommonFunction.get_aws_session_obj()\n",
    "    s3_client = session_obj.client('s3')\n",
    "    paginator = s3_client.get_paginator(\"list_objects_v2\")\n",
    "    page_iterator = paginator.paginate(Bucket=bucket_name, Prefix=prefix)\n",
    "    bucket_object_list = []\n",
    "    for page in page_iterator:\n",
    "        if \"Contents\" in page:\n",
    "            for key in page[\"Contents\"]:\n",
    "                prefix_key = key[\"Key\"]\n",
    "                bucket_object_list.append(prefix_key)\n",
    "    return bucket_object_list"
   ]
  },
  {
   "cell_type": "code",
   "execution_count": 24,
   "metadata": {},
   "outputs": [
    {
     "name": "stdout",
     "output_type": "stream",
     "text": [
      "['preapproved_records/avant/prod/Direct Mail Test Cases for Ocala 2.0 10102023.csv.gpg', 'preapproved_records/avant/prod/Direct Mail Test Cases for Ocala 2.0 10122023.csv.gpg']"
     ]
    }
   ],
   "source": [
    "list_objects(bucket_name,prefix = 'preapproved_records/avant/prod/')"
   ]
  },
  {
   "cell_type": "code",
   "execution_count": 25,
   "metadata": {},
   "outputs": [
    {
     "name": "stdout",
     "output_type": "stream",
     "text": [
      "'avant-acxiom'"
     ]
    }
   ],
   "source": [
    "bucket_name"
   ]
  },
  {
   "cell_type": "code",
   "execution_count": null,
   "metadata": {},
   "outputs": [],
   "source": []
  }
 ],
 "metadata": {
  "kernelspec": {
   "display_name": "PySpark3",
   "language": "",
   "name": "pyspark3kernel"
  },
  "language_info": {
   "codemirror_mode": {
    "name": "python",
    "version": 3
   },
   "mimetype": "text/x-python",
   "name": "pyspark3",
   "pygments_lexer": "python3"
  }
 },
 "nbformat": 4,
 "nbformat_minor": 2
}
