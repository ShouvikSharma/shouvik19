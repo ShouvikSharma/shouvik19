{
 "cells": [
  {
   "cell_type": "code",
   "execution_count": 1,
   "id": "87dfc0b0",
   "metadata": {},
   "outputs": [
    {
     "name": "stdout",
     "output_type": "stream",
     "text": [
      "Starting Spark application\n"
     ]
    },
    {
     "data": {
      "text/html": [
       "<table>\n",
       "<tr><th>ID</th><th>YARN Application ID</th><th>Kind</th><th>State</th><th>Spark UI</th><th>Driver log</th><th>User</th><th>Current session?</th></tr><tr><td>2</td><td>application_1723752589469_0003</td><td>pyspark</td><td>idle</td><td><a target=\"_blank\" href=\"http://ip-10-240-123-23.us-east-2.compute.internal:20888/proxy/application_1723752589469_0003/\">Link</a></td><td><a target=\"_blank\" href=\"http://ip-10-240-123-241.us-east-2.compute.internal:8042/node/containerlogs/container_1723752589469_0003_01_000001/livy\">Link</a></td><td>None</td><td>✔</td></tr></table>"
      ],
      "text/plain": [
       "<IPython.core.display.HTML object>"
      ]
     },
     "metadata": {},
     "output_type": "display_data"
    },
    {
     "data": {
      "application/vnd.jupyter.widget-view+json": {
       "model_id": "",
       "version_major": 2,
       "version_minor": 0
      },
      "text/plain": [
       "FloatProgress(value=0.0, bar_style='info', description='Progress:', layout=Layout(height='25px', width='50%'),…"
      ]
     },
     "metadata": {},
     "output_type": "display_data"
    },
    {
     "name": "stdout",
     "output_type": "stream",
     "text": [
      "SparkSession available as 'spark'.\n"
     ]
    },
    {
     "data": {
      "application/vnd.jupyter.widget-view+json": {
       "model_id": "",
       "version_major": 2,
       "version_minor": 0
      },
      "text/plain": [
       "FloatProgress(value=0.0, bar_style='info', description='Progress:', layout=Layout(height='25px', width='50%'),…"
      ]
     },
     "metadata": {},
     "output_type": "display_data"
    },
    {
     "name": "stdout",
     "output_type": "stream",
     "text": [
      "1"
     ]
    }
   ],
   "source": [
    "1"
   ]
  },
  {
   "cell_type": "code",
   "execution_count": 2,
   "id": "789b7d25",
   "metadata": {},
   "outputs": [
    {
     "data": {
      "application/vnd.jupyter.widget-view+json": {
       "model_id": "",
       "version_major": 2,
       "version_minor": 0
      },
      "text/plain": [
       "FloatProgress(value=0.0, bar_style='info', description='Progress:', layout=Layout(height='25px', width='50%'),…"
      ]
     },
     "metadata": {},
     "output_type": "display_data"
    }
   ],
   "source": [
    "args = {'aws_read_shared_vpc': 'arn:aws:iam::336913029742:role/admin_access_for_{}_from_shared', 'EMAIL_RESPONSE_SLA_PATH': 'common/Email_Response_SLA.csv', 'feed_attribute_object': 'common/feed_attr.cfg', 'feed_metadata_object': 'common/feed_metadata.cfg', 'uow_dependency_object': 'common/uow_dependency.cfg', 'uow_error_object': 'common/uow_error.cfg', 'MasterSecurityGroupName': 'AirflowEMRMasterSG', 'SlaveSecurityGroupName': 'AirflowEMRSlaveSG', 'SubnetKeyName': 'data-partner01-{}-private-app-2a', 'DB_CLUSTER_IDENTIFIER': 'auroraclusteroperational', 'instance_profile_role': 'ec2_run_terraform', 'service_role': 'EC_EMR_DEFAULTBBI', 'auto_scaling_role': 'EC_EMR_DEFAULTBBI', 'EMR_EC_PEM_FILE': 'EC2_BBI_DEV', 'ServiceSecurityGroupName': 'AirflowServiceSecurityGroup', 'workflow_file_id': 'workflow_001', 'workflow_application': 'workflow', 'avant_source_type': 'regular', 'avant_reproc_source_type': 'Reproc', 'loaded_by': 'avantadmin', 'config_file_bucket': 'avantdlds-prod-common-bucket', 'config_file_name': 'common/feed_metadata.cfg', 'parameter_config_file': 'common/parameters.cfg', 'region': 'us-east-2', 'feed_attribute_config_file': 'common/feed_attr.cfg', 'helpscout_batch_conversation_file_id': 'helpscout_001', 'helpscout_batch_threads_file_id': 'helpscout_002', 'mailbox_csv_path': '/common/Mailboxes.csv', 'cluster_id': 'cluster_id', 'spark_application_type': 'pyspark', 'aws_connection_id': 'aws_default', 'OPS_TABLE_S3_BUCKET_TABLE': 'S3_BUCKET_TABLE', 'OPS_TABLE_BATCH_RUN_STATS': 'BATCH_RUN_STATS', 'OPS_TABLE_BATCH_REPORTS': 'BATCH_REPORTS', 'transform_bucket': 'avantdlds-partner01-prod-transform-bucket', 'common_bucket': 'avantdlds-partner01-prod-common-bucket', 'exception_bucket': 'avantdlds-partner01-prod-exception-bucket', 'log_bucket': 'avantdlds-partner01-prod-log-bucket', 'raw_bucket': 'avantdlds-partner01-prod-raw-bucket', 'stage_bucket': 'avantdlds-partner01-prod-stage-bucket', 'transient_bucket': 'avantdlds-partner01-prod-transient-bucket', 'drop_bucket': 'avant-partner01-landing', 'verifications_stage_vds_path': 'avant.{}.dw.dw_orig.verifications_stage_session', 'verifications_stage_vds_path_history': 'avant.{}.dw.dw_orig_history.verifications_stage_session_history', 'verifications_queue_vds_path_history': 'avant.{}.dw.dw_orig_history.verifications_queue_session_history', 'loan_customer_application_history_l0_vds_path_intermediate': 'avant.{}.intermediate.dw.dw_orig_history.loan_customer_application_history_l0', 'verifications_queue_vds_path': 'avant.{}.dw.dw_orig.verifications_queue_session', 'outgoing_bucket': 'avantdlds-partner01-prod-outgoing-bucket', 'dremio_security_table_name': 'dremio_security', 'dedup_loan_by_installment': 'loan_by_installment/loan_by_installment_002/dedup_loan_by_installment/', 'partner01_source': 'avantdlds-partner01-prod', 'ref_data_object': 'common/reference_data.cfg', 'decrypt_script_path': 'dag/parallel_decrypt.py', 'ccabm_cure_rate_path': 'cc_account_by_month/cc_account_by_month_001/cure_rate/', 'aps_dedup_active_installment': 'account_portfolios_refi/account_portfolios_refi_001/account_portfolios_refi/dedup_active_installment', 'apu_dedup_active_installment': 'account_portfolios_uil/account_portfolios_uil_001/account_portfolios_uil/dedup_active_installment', 'dremio_security_redesign': '\"Security\".dremio_security_redesign', 'first_data_account_data_lake_dedup_file': 'first_data/first_data_001/dedup_account', 'aps_dedup_balances': 'account_portfolios_refi/account_portfolios_refi_001/account_portfolios_refi/dedup_balances', 'aps_dedup_interest_rate_schedule': 'account_portfolios_refi/account_portfolios_refi_001/account_portfolios_refi/dedup_interest_rate', 'aps_dedup_loan_debt_sale': 'account_portfolios_refi/account_portfolios_refi_001/account_portfolios_refi/dedup_loan_debt_sale', 'aps_dedup_loan_financial_owner': 'account_portfolios_refi/account_portfolios_refi_001/account_portfolios_refi/dedup_loan_financial_owner', 'aps_dedup_loan_payment_plan': 'account_portfolios_refi/account_portfolios_refi_001/account_portfolios_refi/dedup_loan_payment_plan', 'aps_dedup_loan_servicing_settlement': 'account_portfolios_refi/account_portfolios_refi_001/account_portfolios_refi/dedup_loan_servicing_settlement', 'aps_dedup_treasury_charge_off': 'account_portfolios_refi/account_portfolios_refi_001/account_portfolios_refi/dedup_treasury_charge_off', 'apu_dedup_balances': 'account_portfolios_uil/account_portfolios_uil_001/account_portfolios_uil/dedup_balances', 'apu_dedup_interest_rate_schedule': 'account_portfolios_uil/account_portfolios_uil_001/account_portfolios_uil/dedup_interest_rate', 'apu_dedup_loan_debt_sale': 'account_portfolios_uil/account_portfolios_uil_001/account_portfolios_uil/dedup_loan_debt_sale', 'apu_dedup_loan_financial_owner': 'account_portfolios_uil/account_portfolios_uil_001/account_portfolios_uil/dedup_loan_financial_owner', 'apu_dedup_loan_payment_plan': 'account_portfolios_uil/account_portfolios_uil_001/account_portfolios_uil/dedup_loan_payment_plan', 'apu_dedup_loan_servicing_settlement': 'account_portfolios_uil/account_portfolios_uil_001/account_portfolios_uil/dedup_loan_servicing_settlement', 'apu_dedup_treasury_charge_off': 'account_portfolios_uil/account_portfolios_uil_001/account_portfolios_uil/dedup_treasury_charge_off', 'aps_dedup_operational_charge_off': 'account_portfolios_refi/account_portfolios_refi_001/account_portfolios_refi/dedup_operational_charge_off', 'apu_dedup_operational_charge_off': 'account_portfolios_uil/account_portfolios_uil_001/account_portfolios_uil/dedup_operational_charge_off', 'aps_dedup_original_installment': 'account_portfolios_refi/account_portfolios_refi_001/account_portfolios_refi/dedup_original_installment', 'first_data_account_delinquency_data_lake_dedup_file': 'first_data/first_data_002/dedup_account_delinquency', 'first_data_account_delinquency_items_data_lake_dedup_file': 'first_data/first_data_003/dedup_account_delinquency_items', 'first_data_current_monetary_activity_data_lake_dedup_file': 'first_data/first_data_004/dedup_current_monetary_activity', 'first_data_fraud_falcon_data_lake_dedup_file': 'first_data/first_data_005/dedup_fraud_falcon', 'first_data_historical_cardholder_data_data_lake_dedup_file': 'first_data/first_data_006/dedup_historical_cardholder_data', 'first_data_monetary_detail_charge_off_data_lake_dedup_file': 'first_data/first_data_007/dedup_monetary_detail_charge_off', 'first_data_monetary_detail_cross_cycle_adjustment_data_lake_dedup_file': 'first_data/first_data_008/dedup_monetary_detail_cross_cycle_adjustment', 'first_data_monetary_detail_current_cycle_adjustment_data_lake_dedup_file': 'first_data/first_data_009/dedup_monetary_detail_current_cycle_adjustment', 'first_data_monetary_detail_transaction_data_lake_dedup_file': 'first_data/first_data_010/dedup_monetary_detail_transaction', 'apu_dedup_original_installment': 'account_portfolios_uil/account_portfolios_uil_001/account_portfolios_uil/dedup_original_installment', 'loan_by_day': 'loan_by_day/loan_by_day_003/dedup_loan_by_day/', 'loan_payment_plan_v3_union': 'account_portfolios_union/account_portfolios_union_001/loan_payment_plan/loan_payment_plan_union', 'dedup_loan_by_day': 'loan_by_day/loan_by_day_003/dedup_loan_by_day', 'loan_financial_owner_v3_union': 'account_portfolios_union/account_portfolios_union_001/loan_financial_owner/loan_financial_owner_union', 'loan_by_day_v3': 'loan_by_day/loan_by_day_003/dedup_loan_by_day/', 'raw_loan_by_day': 'loan_by_day/loan_by_day_003/loan_by_day/*/*/*/*/*/', 'dedup_loan_balance_by_day': 'loan_balance_by_day/loan_balance_by_day_001/loan_balance_by_day/', 'cc_account_by_day_dedup_file': 'avant/cc_account_by_day/cc_account_by_day_001/dedup_cc_account_by_day', 'original_installment_union': 'account_portfolios_union/account_portfolios_union_001/original_installment/original_installment_union', 'verification_status_decision_dedup_file': 'verifications/verifications_009/dedupe_verifications_status_decision', 'verification_queue_session_join_data_path': 'verifications/verifications_010/join_verification_queue_session', 'verification_stage_session_join_data_path': 'verifications/verifications_011/join_verification_stage_session', 'cust_app_dedup_file': 'customer_application/customer_application_001/dedup_loan_customer_application', 'cust_app_experiment_dedup_file': 'customer_application/customer_application_005/dedup_loan_customer_application_experiment', 'fd_cc_lv_account_data_lake_dedup_file': 'fd_cc_lv/fd_cc_lv_001/dedup_account', 'fd_cc_lv_account_delinquency_data_lake_dedup_file': 'fd_cc_lv/fd_cc_lv_002/dedup_account_delinquency', 'fd_cc_lv_account_delinquency_items_data_lake_dedup_file': 'fd_cc_lv/fd_cc_lv_003/dedup_account_delinquency_items', 'fd_cc_lv_current_monetary_activity_data_lake_dedup_file': 'fd_cc_lv/fd_cc_lv_004/dedup_current_monetary_activity', 'fd_cc_lv_fraud_falcon_data_lake_dedup_file': 'fd_cc_lv/fd_cc_lv_005/dedup_fraud_falcon', 'fd_cc_lv_historical_cardholder_data_data_lake_dedup_file': 'fd_cc_lv/fd_cc_lv_006/dedup_historical_cardholder_data', 'fd_cc_lv_monetary_detail_charge_off_data_lake_dedup_file': 'fd_cc_lv/fd_cc_lv_007/dedup_monetary_detail_charge_off', 'fd_cc_lv_monetary_detail_cross_cycle_adjustment_data_lake_dedup_file': 'fd_cc_lv/fd_cc_lv_008/dedup_monetary_detail_cross_cycle_adjustment', 'fd_cc_lv_monetary_detail_current_cycle_adjustment_data_lake_dedup_file': 'fd_cc_lv/fd_cc_lv_009/dedup_monetary_detail_current_cycle_adjustment', 'fd_cc_lv_monetary_detail_transaction_data_lake_dedup_file': 'fd_cc_lv/fd_cc_lv_010/dedup_monetary_detail_transaction', 'metro_monthly_header_footer_data_path': 'metro/metro_monthly/metro_monthly_002/header_footer/2024/08/13', 'metro_monthly_base_segment_file_name': 'metro_monthly_base_segment_322324_1_20240813.pq', 'metro_monthly_header_footer_file_name': 'metro_monthly__header_footer_322324_1_20240813.pq', 'metro_monthly_base_segment_raw_pds_path': '\"avantdlds-partner01-prod\".\"avantdlds-partner01-prod-raw-bucket\".\"avant\".\"metro\".\"metro_monthly\".\"metro_monthly_001\".\"base_segment\"', 'metro_monthly_base_segment_data_path': 'metro/metro_monthly/metro_monthly_001/base_segment/2024/08/13', 'metro_monthly_header_footer_raw_pds_path': '\"avantdlds-partner01-prod\".\"avantdlds-partner01-prod-raw-bucket\".\"avant\".\"metro\".\"metro_monthly\".\"metro_monthly_002\".\"header_footer\"', 'metro_monthly_header_footer_raw_vds_path': 'avant.prod.dl.amount.metro_monthly.metro_send_header_footer', 'cancelled_loans_union': 'account_portfolios_union/account_portfolios_union_001/cancelled_loans/cancelled_loans_union', 'metro_monthly_base_segment_raw_vds_path': 'avant.prod.dl.amount.metro_monthly.account_by_metro_send', 'metro_monthly_base_segment_dedupe_pds_path': '\"avantdlds-partner01-prod\".\"avantdlds-partner01-prod-transform-bucket\".\"avant\".\"metro\".\"metro_monthly\".\"metro_monthly_001\".\"dedup_metro_monthly_base_segment\"', 'metro_monthly_base_segment_final_vds_path': 'avant.prod.dw.dw_serv.account_by_metro_send', 'dedup_loan_transcation_v3': 'loan_transaction/loan_transaction_003/dedup_loan_transaction/', 'metro_monthly_base_segment_dedupe_vds_path': 'avant.prod.intermediate.dw.dw_serv.account_by_metro_send', 'metro_monthly_header_footer_dedupe_pds_path': '\"avantdlds-partner01-prod\".\"avantdlds-partner01-prod-transform-bucket\".\"avant\".\"metro\".\"metro_monthly\".\"metro_monthly_002\".\"dedup_metro_monthly_header_footer\"', 'metro_monthly_header_footer_dedupe_vds_path': 'avant.prod.dw.dw_serv.metro_send_header_footer', 'status_dict': \"{'step_1': 'Landed', 'step_2': 'Ingested', 'step_3': 'Registered', 'step_4': 'raw_preprocessed', 'step_5': 'Staged', 'step_6': 'Transformed', 'step_7': 'Expired', 'step_8': 'Rejected'}\", 'interest_rate_union': 'account_portfolios_union/account_portfolios_union_001/interest_rate/interest_rate_union', 'treasury_charge_off_union': 'account_portfolios_union/account_portfolios_union_001/treasury_charge_off/treasury_charge_off_union', 'loan_financial_owner_union': 'account_portfolios_union/account_portfolios_union_001/loan_financial_owner/loan_financial_owner_union', 'loan_debt_sale_union': 'account_portfolios_union/account_portfolios_union_001/loan_debt_sale/loan_debt_sale_union', 'loan_servicing_settlement_union': 'account_portfolios_union/account_portfolios_union_001/loan_servicing_settlement/loan_servicing_settlement_union', 'dedup_loan_transaction': 'loan_transaction/loan_transaction_003/dedup_loan_transaction', 'cca_cust_app_dedup_file': 'credit_card_customer_application/credit_card_customer_application_004/dedup_credit_card_customer_application', 'first_data_phase_two_daily_authorization_data_lake_dedup_file': 'first_data/first_data_014/dedup_daily_authorization', 'first_data_phase_two_security_master_work_1_data_lake_dedup_file': 'first_data/first_data_015/dedup_security_master_work_1', 'first_data_phase_two_security_master_work_4_data_lake_dedup_file': 'first_data/first_data_016/dedup_security_master_work_4', 'tco_reference_file_path': 'tco_reference/tco_ref_update.csv', 'aps_dedup_cancelled_loans': 'account_portfolios_refi/account_portfolios_refi_001/account_portfolios_refi/cancelled_loans/append_cancelled_loans', 'apu_dedup_cancelled_loans': 'account_portfolios_uil/account_portfolios_uil_001/account_portfolios_uil/cancelled_loans/append_cancelled_loans', 'parquet_block_size': '512', 'uil_raw_dedup_path': 'account_portfolios_uil/account_portfolios_uil_001/dedup_account_portfolios_uil/', 'refi_raw_dedup_path': 'account_portfolios_refi/account_portfolios_refi_001/dedup_account_portfolios_refi/', 'balances_union': 'loan_balance_by_day/loan_balance_by_day_001/balances_union/', 'dremio_security_table_path': 'Security.dremio_security_redesign', 'operational_charge_off_v3_union': 'account_portfolios_union/account_portfolios_union_001/operational_charge_off/operational_charge_off_union', 'workflow_script_sessions': 'workflow/pyspark/workflow_session.py', 'workflow_script_session_types': 'workflow/pyspark/workflow_type_session.py', 'workflow_script_validations': 'workflow/pyspark/workflow_validation.py', 'workflow_script_step': 'workflow/pyspark/workflow_step.py', 'VAULT_URL': 'https://vault.shared.partner01.data.avant.com', 'vault_encrypt_path': 'app/landing_zone_encryption/amount/prod', 'ABC_VAULT_PATH': 'app/abc/prod', 'secret_path': 'app/abc/prod', 'DREMIO_USERNAME': 'XXXXXXXXXX', 'DREMIO_PASSWORD': 'XXXXXXXXXX', 'ec2_role': 'airflow-role', 'role_name': 'avant-dlds-airflow-prod-ecs-task-role', 'emr_role_name': 'ec2_run_terraform', 'metadata_url_base': 'http://169.254.169.254', 'file_id': 'metro_monthly_001', 'batch_id': '322324', 'run_id': '1', 'partner_id': 'partner01', 'business_date': '2024-08-13', 'sub_partner': 'avant', 'file_list': ['amount/drop/metro_webbank_avant-1_0-full-20240812_185258-0500/metro_webbank_avant_full_20240812.txt.6e8cc484-5908-11ef-b325-0a58a9feac02'], 's3_bucket_process_start_time': '2024-08-13 00:22:11', 'header_footer_raw_file_path': 's3://avantdlds-partner01-prod-raw-bucket/avant/metro/metro_monthly/metro_monthly_002/header_footer/2024/08/13/metro_monthly__header_footer_322324_1_20240813.pq', 'base_segment_raw_file_path': 's3://avantdlds-partner01-prod-raw-bucket/avant/metro/metro_monthly/metro_monthly_001/base_segment/2024/08/13/metro_monthly_base_segment_322324_1_20240813.pq', 'header_footer_transform_file_path': 's3://avantdlds-partner01-prod-transform-bucket/avant/metro/metro_monthly/metro_monthly_002/header_footer/2024/08/13/metro_monthly__header_footer_322324_1_20240813.pq', 'base_segment_transform_file_path': 's3://avantdlds-partner01-prod-transform-bucket/avant/metro/metro_monthly/metro_monthly_001/base_segment/2024/08/13/metro_monthly_base_segment_322324_1_20240813.pq', 'metro_monthly_base_segment_dedupe': {'partition_key': 'account_by_metro_send_uuid', 's3_prefix': 'avant/metro/metro_monthly/metro_monthly_001', 'target_path': 's3://avantdlds-partner01-prod-transform-bucket/avant/metro/metro_monthly/metro_monthly_001/dedup_metro_monthly_base_segment', 'delta_output': 's3://avantdlds-partner01-prod-transform-bucket/avant/metro/metro_monthly/metro_monthly_001/base_segment/2024/08/13/metro_monthly_base_segment_322324_1_20240813.pq', 'backup_prefix': 'avant/metro/metro_monthly/metro_monthly_001/backup/dedup_metro_monthly_base_segment', 'source_bucket': 'avantdlds-partner01-prod-transform-bucket', 'target_bucket': 'avantdlds-partner01-prod-transform-bucket', 'union_file_full_path': 's3://avantdlds-partner01-prod-transform-bucket/avant/metro/metro_monthly/metro_monthly_001/union/dedup_metro_monthly_base_segment'}, 'metro_monthly_header_footer_dedupe': {'partition_key': 'metro_send_header_footer_uuid', 's3_prefix': 'avant/metro/metro_monthly/metro_monthly_002', 'target_path': 's3://avantdlds-partner01-prod-transform-bucket/avant/metro/metro_monthly/metro_monthly_002/dedup_metro_monthly_header_footer', 'delta_output': 's3://avantdlds-partner01-prod-transform-bucket/avant/metro/metro_monthly/metro_monthly_002/header_footer/2024/08/13/metro_monthly__header_footer_322324_1_20240813.pq', 'backup_prefix': 'avant/metro/metro_monthly/metro_monthly_002/backup/dedup_metro_monthly_header_footer', 'source_bucket': 'avantdlds-partner01-prod-transform-bucket', 'target_bucket': 'avantdlds-partner01-prod-transform-bucket', 'union_file_full_path': 's3://avantdlds-partner01-prod-transform-bucket/avant/metro/metro_monthly/metro_monthly_002/union/dedup_metro_monthly_header_footer'}, 'dremio_jdbc_url': ('jdbc:dremio:direct=dremio-int-prod.services.global.avant.com:31010',), 'dremio_server_url': 'https://dremio-prod.services.global.avant.com', 'base_segment_data_type_list': [('ssn', 'String'), ('cycle_identifier_code', 'String'), ('record_length_count', 'integer'), ('credit_limit_amount', 'Integer'), ('highest_credit_or_loan_amount', 'Integer'), ('scheduled_monthly_payment_amount', 'Integer'), ('actual_payment_amount', 'Integer'), ('current_balance', 'Integer'), ('past_due_amount', 'Integer'), ('original_charge_off_amount', 'Integer'), ('account_information_date', 'Date'), ('city', 'String'), ('k2_purchased_sold_indicator', 'integer'), ('k4_balloon_payment_amount', 'Integer'), ('l1_change_indicator', 'integer'), ('account_information_time', 'Timestamp'), ('processing_indicator', 'String'), ('reserved_1', 'String'), ('reporter_identification_number', 'String'), ('consumer_account_number', 'String'), ('portfolio_type_code', 'String'), ('account_type', 'String'), ('opened_date', 'String'), ('term_duration_code', 'String'), ('term_frequency_code', 'String'), ('account_status', 'String'), ('payment_rating_code', 'String'), ('payment_history_profile', 'String'), ('special_comment_code', 'String'), ('compliance_condition_code', 'String'), ('fcra_first_delinquency_date', 'String'), ('closed_date', 'String'), ('last_payment_date', 'String'), ('interest_type_indicator', 'String'), ('reserved_2', 'String'), ('last_name', 'String'), ('first_name', 'String'), ('middle_name', 'String'), ('generation_code', 'String'), ('birth_date', 'String'), ('phone_number', 'String'), ('ecoa_code', 'String'), ('consumer_information_code', 'String'), ('country_code', 'String'), ('address_1', 'String'), ('address_2', 'String'), ('state', 'String'), ('zip_code', 'String'), ('address_indicator_code', 'String'), ('residence_code', 'String'), ('j1_segment_identifier', 'String'), ('j1_reserved_1', 'String'), ('j1_last_name', 'String'), ('j1_first_name', 'String'), ('j1_middle_name', 'String'), ('j1_generation_code', 'String'), ('j1_ssn', 'String'), ('j1_birth_date', 'String'), ('j1_phone_number', 'String'), ('j1_ecoa_code', 'String'), ('j1_consumer_information_code', 'String'), ('j1_reserved_2', 'String'), ('j2_segment_identifier', 'String'), ('j2_reserved_1', 'String'), ('j2_last_name', 'String'), ('j2_first_name', 'String'), ('j2_middle_name', 'String'), ('j2_generation_code', 'String'), ('j2_ssn', 'String'), ('j2_birth_date', 'String'), ('j2_phone_number', 'String'), ('j2_ecoa_code', 'String'), ('j2_consumer_information_code', 'String'), ('j2_country_code', 'String'), ('j2_address_1', 'String'), ('j2_address_2', 'String'), ('j2_city', 'String'), ('j2_state', 'String'), ('j2_zip_code', 'String'), ('j2_address_indicator_code', 'String'), ('j2_residence_code', 'String'), ('j2_reserved_2', 'String'), ('k1_segment_identifier', 'String'), ('k1_original_creditor_name', 'String'), ('k1_creditor_code', 'String'), ('k2_segment_identifier', 'String'), ('k2_purchased_sold_name', 'String'), ('k2_reserved', 'String'), ('k3_segment_identifier', 'String'), ('k3_agency_code', 'String'), ('k3_account_number', 'String'), ('k3_mortgage_identification_number', 'String'), ('k4_segment_indentifier', 'String'), ('k4_specialized_payment_indicator', 'String'), ('k4_deferred_payment_start_date', 'String'), ('k4_balloon_payment_due_date', 'String'), ('k4_reserved', 'String'), ('l1_segment_identifier', 'String'), ('l1_new_consumer_account_number', 'String'), ('l1_new_identification_number', 'String'), ('l1_reserved', 'String'), ('n1_segment_identifier', 'String'), ('n1_employer_name', 'String'), ('n1_employer_address_1', 'String'), ('n1_employer_address_2', 'String'), ('n1_employer_city', 'String'), ('n1_employer_state', 'String'), ('n1_employer_zip_code', 'String'), ('n1_occupation', 'String'), ('n1_reserved', 'String')], 'header_footer_data_type_list': [('header_record_length_count', 'integer'), ('block_count', 'integer'), ('ssn_base_segment_count', 'integer'), ('ssn_j1_segment_count', 'integer'), ('ssn_j2_segment_count', 'integer'), ('birth_date_all_segment_count', 'integer'), ('birth_date_base_segment_count', 'integer'), ('birth_date_j1_segment_count', 'integer'), ('birth_date_j2_segment_count', 'integer'), ('phone_number_all_segment_count', 'integer'), ('trailer_reserved_2', 'String'), ('transunion_program_identifier', 'String'), ('activity_date', 'Date'), ('created_date', 'Date'), ('program_date', 'String'), ('program_revision_date', 'String'), ('reporter_name', 'String'), ('reporter_address', 'String'), ('reporter_phone_number', 'String'), ('software_vendor_name', 'String'), ('software_version_number', 'String'), ('trailer_record_length_count', 'integer'), ('base_record_count', 'integer'), ('status_code_df_count', 'integer'), ('j1_customer_segment_count', 'integer'), ('j2_customer_segment_count', 'integer'), ('status_code_da_count', 'integer'), ('status_code_05_count', 'integer'), ('status_code_11_count', 'integer'), ('status_code_13_count', 'integer'), ('status_code_61_count', 'integer'), ('status_code_62_count', 'integer'), ('status_code_63_count', 'integer'), ('status_code_64_count', 'integer'), ('status_code_65_count', 'integer'), ('status_code_71_count', 'integer'), ('status_code_78_count', 'integer'), ('status_code_80_count', 'integer'), ('status_code_82_count', 'integer'), ('status_code_83_count', 'integer'), ('status_code_84_count', 'integer'), ('status_code_88_count', 'integer'), ('status_code_89_count', 'integer'), ('status_code_93_count', 'integer'), ('status_code_94_count', 'integer'), ('status_code_95_count', 'integer'), ('status_code_96_count', 'integer'), ('status_code_97_count', 'integer'), ('ecoa_code_z_count', 'integer'), ('employment_segment_count', 'integer'), ('original_creditor_segment_count', 'integer'), ('purchased_sold_segment_count', 'integer'), ('mortgage_segment_count', 'integer'), ('specialized_payment_segment_count', 'integer'), ('change_segment_count', 'integer'), ('ssn_all_segment_count', 'integer'), ('microbilt_prbc_program_identifier', 'String'), ('header_reserved', 'String'), ('trailer_identifier', 'String'), ('trailer_reserved_1', 'String'), ('header_identifier', 'String'), ('cycle_identifier', 'String'), ('innovis_program_identifier', 'String'), ('equifax_program_identifier', 'String'), ('experian_program_identifier', 'String')], 'job_id': 988001, 'program_name': 'preprocess.py'}\n"
   ]
  },
  {
   "cell_type": "code",
   "execution_count": 7,
   "id": "5b2f11bd",
   "metadata": {},
   "outputs": [
    {
     "data": {
      "application/vnd.jupyter.widget-view+json": {
       "model_id": "",
       "version_major": 2,
       "version_minor": 0
      },
      "text/plain": [
       "FloatProgress(value=0.0, bar_style='info', description='Progress:', layout=Layout(height='25px', width='50%'),…"
      ]
     },
     "metadata": {},
     "output_type": "display_data"
    }
   ],
   "source": [
    "import traceback\n",
    "import sys\n",
    "import logging\n",
    "from pyspark.sql.functions import *  # noqa: F403\n",
    "from pyspark.sql import SparkSession\n",
    "from common_utils import common_functions as cf\n",
    "from common_utils import exception_helpers as eh\n",
    "import json\n",
    "from common_utils import db_helpers\n",
    "from datetime import datetime as dt\n",
    "log_bucket = args['log_bucket']\n",
    "exception_bucket = args['exception_bucket']\n",
    "raw_bucket = args['raw_bucket']\n",
    "raw_source_record_count = 0\n",
    "raw_target_record_count = 0\n",
    "transient_source_record_count = 0\n",
    "transient_target_record_count = 0\n",
    "log_customer_application = 0\n",
    "date_of_impl = cf.get_cur_time(time_format=\"%Y-%m-%d\")\n",
    "process_start_time = cf.get_cur_time()\n",
    "transient_bucket = args['transient_bucket']\n",
    "owner = args['loaded_by']\n",
    "file_list = args['file_list']\n",
    "app_name = args['program_name'] + str(process_start_time)\n",
    "header_footer_target_path = args['header_footer_raw_file_path']\n",
    "base_segment_target_path = args['base_segment_raw_file_path']\n",
    "spark = SparkSession.builder.appName(app_name).config(\"spark.sql.crossJoin.enabled\",\n",
    "                                                      True).getOrCreate()\n",
    "\n",
    "\n",
    "\n",
    "def schema_infer(fixed_data, rec, rec_type='header'):\n",
    "    \"\"\"\n",
    "    function to infer schema for both header footer df snd base segment df\n",
    "    :param fixed_data: file schema\n",
    "    :param rec: dataframe record\n",
    "    :param rec_type: header, footer, base segment schema\n",
    "    :return: final data frame with schema\n",
    "    \"\"\"\n",
    "    final_data = {}\n",
    "    for x in fixed_data:\n",
    "        for data in rec:\n",
    "            if data[2].lower() == rec_type.lower():\n",
    "                final_data[data[1]] = x[data[4] - 1:data[5]]\n",
    "            elif str(data[2].lower()).startswith(rec_type.lower()):\n",
    "                # if its k\n",
    "                final_data[data[1]] = x[data[4] - 1:data[5]]\n",
    "    return final_data"
   ]
  },
  {
   "cell_type": "code",
   "execution_count": 8,
   "id": "8f7ad59d",
   "metadata": {},
   "outputs": [
    {
     "data": {
      "application/vnd.jupyter.widget-view+json": {
       "model_id": "",
       "version_major": 2,
       "version_minor": 0
      },
      "text/plain": [
       "FloatProgress(value=0.0, bar_style='info', description='Progress:', layout=Layout(height='25px', width='50%'),…"
      ]
     },
     "metadata": {},
     "output_type": "display_data"
    },
    {
     "name": "stdout",
     "output_type": "stream",
     "text": [
      "['amount/drop/metro_webbank_avant-1_0-full-20240812_185258-0500/metro_webbank_avant_full_20240812.txt.6e8cc484-5908-11ef-b325-0a58a9feac02']"
     ]
    }
   ],
   "source": [
    "file_list"
   ]
  },
  {
   "cell_type": "code",
   "execution_count": 9,
   "id": "65f6ba04",
   "metadata": {},
   "outputs": [
    {
     "data": {
      "application/vnd.jupyter.widget-view+json": {
       "model_id": "",
       "version_major": 2,
       "version_minor": 0
      },
      "text/plain": [
       "FloatProgress(value=0.0, bar_style='info', description='Progress:', layout=Layout(height='25px', width='50%'),…"
      ]
     },
     "metadata": {},
     "output_type": "display_data"
    },
    {
     "name": "stdout",
     "output_type": "stream",
     "text": [
      "'s3://avantdlds-partner01-prod-transient-bucket/amount/drop/metro_webbank_avant-1_0-full-20240812_185258-0500/metro_webbank_avant_full_20240812.txt.6e8cc484-5908-11ef-b325-0a58a9feac02'"
     ]
    }
   ],
   "source": [
    "source_path"
   ]
  },
  {
   "cell_type": "code",
   "execution_count": 4,
   "id": "9a707496",
   "metadata": {},
   "outputs": [
    {
     "data": {
      "application/vnd.jupyter.widget-view+json": {
       "model_id": "",
       "version_major": 2,
       "version_minor": 0
      },
      "text/plain": [
       "FloatProgress(value=0.0, bar_style='info', description='Progress:', layout=Layout(height='25px', width='50%'),…"
      ]
     },
     "metadata": {},
     "output_type": "display_data"
    },
    {
     "name": "stdout",
     "output_type": "stream",
     "text": [
      "No active exception to reraise\n",
      "Expected to work only for dev\n",
      "Line to debug starts: http://169.254.169.254/latest/meta-data/iam/security-credentials/ec2_run_terraform\n",
      "===========status code = 200==========\n",
      "Already credentials exists\n",
      "authentication was successful using credentials\n",
      "Vault client authenticated\n",
      "using approach 1\n",
      "No active exception to reraise\n",
      "Expected to work only for dev\n",
      "Line to debug starts: http://169.254.169.254/latest/meta-data/iam/security-credentials/ec2_run_terraform\n",
      "===========status code = 200==========\n",
      "Already credentials exists\n",
      "authentication was successful using credentials\n",
      "Vault client authenticated\n",
      "using approach 1"
     ]
    }
   ],
   "source": [
    "for file in file_list:\n",
    "    args['run_id'] = db_helpers.insert_batch_run_stats(\n",
    "        args=args, process_start_time=process_start_time,\n",
    "        program_name=args['program_name'],\n",
    "        partner_id=args['partner_id'],\n",
    "        sub_partner=args['sub_partner'])\n",
    "\n",
    "    source_path = \"s3://{}/{}\".format(transient_bucket, file)\n",
    "    send_date = file.split(\"/\")[3].split(\".\")[0].split(\"_\")[-1]\n",
    "    source_file_creation_time = dt.strptime(send_date,\n",
    "                                            '%Y%m%d').strftime('%Y-%m-%d %H:%M:%S.%f')\n",
    "\n",
    "    break"
   ]
  },
  {
   "cell_type": "code",
   "execution_count": 5,
   "id": "0f4c963c",
   "metadata": {},
   "outputs": [
    {
     "data": {
      "application/vnd.jupyter.widget-view+json": {
       "model_id": "",
       "version_major": 2,
       "version_minor": 0
      },
      "text/plain": [
       "FloatProgress(value=0.0, bar_style='info', description='Progress:', layout=Layout(height='25px', width='50%'),…"
      ]
     },
     "metadata": {},
     "output_type": "display_data"
    },
    {
     "name": "stdout",
     "output_type": "stream",
     "text": [
      "'s3://avantdlds-partner01-prod-transient-bucket/amount/drop/metro_webbank_avant-1_0-full-20240812_185258-0500/metro_webbank_avant_full_20240812.txt.6e8cc484-5908-11ef-b325-0a58a9feac02'"
     ]
    }
   ],
   "source": [
    "source_path"
   ]
  },
  {
   "cell_type": "code",
   "execution_count": 6,
   "id": "30318971",
   "metadata": {},
   "outputs": [
    {
     "data": {
      "application/vnd.jupyter.widget-view+json": {
       "model_id": "",
       "version_major": 2,
       "version_minor": 0
      },
      "text/plain": [
       "FloatProgress(value=0.0, bar_style='info', description='Progress:', layout=Layout(height='25px', width='50%'),…"
      ]
     },
     "metadata": {},
     "output_type": "display_data"
    },
    {
     "name": "stderr",
     "output_type": "stream",
     "text": [
      "An error was encountered:\n",
      "Path does not exist: s3://avantdlds-partner01-prod-transient-bucket/amount/drop/metro_webbank_avant-1_0-full-20240812_185258-0500/metro_webbank_avant_full_20240812.txt.6e8cc484-5908-11ef-b325-0a58a9feac02\n",
      "Traceback (most recent call last):\n",
      "  File \"/mnt/yarn/usercache/livy/appcache/application_1723752589469_0003/container_1723752589469_0003_01_000001/pyspark.zip/pyspark/sql/readwriter.py\", line 421, in text\n",
      "    return self._df(self._jreader.text(self._spark._sc._jvm.PythonUtils.toSeq(paths)))\n",
      "  File \"/mnt/yarn/usercache/livy/appcache/application_1723752589469_0003/container_1723752589469_0003_01_000001/py4j-0.10.9.5-src.zip/py4j/java_gateway.py\", line 1322, in __call__\n",
      "    answer, self.gateway_client, self.target_id, self.name)\n",
      "  File \"/mnt/yarn/usercache/livy/appcache/application_1723752589469_0003/container_1723752589469_0003_01_000001/pyspark.zip/pyspark/sql/utils.py\", line 196, in deco\n",
      "    raise converted from None\n",
      "pyspark.sql.utils.AnalysisException: Path does not exist: s3://avantdlds-partner01-prod-transient-bucket/amount/drop/metro_webbank_avant-1_0-full-20240812_185258-0500/metro_webbank_avant_full_20240812.txt.6e8cc484-5908-11ef-b325-0a58a9feac02\n",
      "\n"
     ]
    }
   ],
   "source": [
    "file_name = file.split(\"/\")[3].split(\".\")[0]\n",
    "final_file_name = file_name + '.txt'\n"
   ]
  },
  {
   "cell_type": "code",
   "execution_count": 11,
   "id": "019477e9",
   "metadata": {},
   "outputs": [
    {
     "data": {
      "application/vnd.jupyter.widget-view+json": {
       "model_id": "",
       "version_major": 2,
       "version_minor": 0
      },
      "text/plain": [
       "FloatProgress(value=0.0, bar_style='info', description='Progress:', layout=Layout(height='25px', width='50%'),…"
      ]
     },
     "metadata": {},
     "output_type": "display_data"
    }
   ],
   "source": [
    "source_path = 's3://avantdlds-partner01-prod-transient-bucket/amount/drop/metro_webbank_avant-1_0-full-20240812_185258-0500/metro_webbank_avant_full_20240812.txt.5f2e3436-5b48-11ef-93f7-0a58a9feac02'"
   ]
  },
  {
   "cell_type": "code",
   "execution_count": 12,
   "id": "8b4bd7b2",
   "metadata": {},
   "outputs": [
    {
     "data": {
      "application/vnd.jupyter.widget-view+json": {
       "model_id": "",
       "version_major": 2,
       "version_minor": 0
      },
      "text/plain": [
       "FloatProgress(value=0.0, bar_style='info', description='Progress:', layout=Layout(height='25px', width='50%'),…"
      ]
     },
     "metadata": {},
     "output_type": "display_data"
    }
   ],
   "source": [
    "source_df = spark.read.text(source_path)"
   ]
  },
  {
   "cell_type": "code",
   "execution_count": 14,
   "id": "7bc6da18",
   "metadata": {},
   "outputs": [
    {
     "data": {
      "application/vnd.jupyter.widget-view+json": {
       "model_id": "",
       "version_major": 2,
       "version_minor": 0
      },
      "text/plain": [
       "FloatProgress(value=0.0, bar_style='info', description='Progress:', layout=Layout(height='25px', width='50%'),…"
      ]
     },
     "metadata": {},
     "output_type": "display_data"
    },
    {
     "name": "stdout",
     "output_type": "stream",
     "text": [
      "+--------------------+\n",
      "|               value|\n",
      "+--------------------+\n",
      "|1064HEADER       ...|\n",
      "+--------------------+\n",
      "only showing top 1 row"
     ]
    }
   ],
   "source": [
    "source_df.show(1)"
   ]
  },
  {
   "cell_type": "code",
   "execution_count": 15,
   "id": "fa294b2f",
   "metadata": {},
   "outputs": [
    {
     "data": {
      "application/vnd.jupyter.widget-view+json": {
       "model_id": "",
       "version_major": 2,
       "version_minor": 0
      },
      "text/plain": [
       "FloatProgress(value=0.0, bar_style='info', description='Progress:', layout=Layout(height='25px', width='50%'),…"
      ]
     },
     "metadata": {},
     "output_type": "display_data"
    },
    {
     "name": "stdout",
     "output_type": "stream",
     "text": [
      "No active exception to reraise\n",
      "Expected to work only for dev\n",
      "Line to debug starts: http://169.254.169.254/latest/meta-data/iam/security-credentials/ec2_run_terraform\n",
      "===========status code = 200==========\n",
      "Already credentials exists\n",
      "authentication was successful using credentials\n",
      "Vault client authenticated\n",
      "using approach 1\n",
      "\n",
      "select file_id, attribute_name, attribute_desc, ingested_attribute_name, from_pos, \n",
      "to_pos from feed_schema_tracker where file_id = 'metro_monthly_001' and active_status=True\n",
      "\n",
      "[('metro_monthly_001', 'header_record_length_count', 'header', 'header_record_length_count', 1, 4), ('metro_monthly_001', 'ssn', 'body_base_segment', 'ssn', 298, 306), ('metro_monthly_001', 'block_count', 'footer', 'block_count', 57, 65), ('metro_monthly_001', 'ssn_base_segment_count', 'footer', 'ssn_base_segment_count', 336, 344), ('metro_monthly_001', 'ssn_j1_segment_count', 'footer', 'ssn_j1_segment_count', 345, 353), ('metro_monthly_001', 'ssn_j2_segment_count', 'footer', 'ssn_j2_segment_count', 354, 362), ('metro_monthly_001', 'birth_date_all_segment_count', 'footer', 'birth_date_all_segment_count', 363, 371), ('metro_monthly_001', 'birth_date_base_segment_count', 'footer', 'birth_date_base_segment_count', 372, 380), ('metro_monthly_001', 'birth_date_j1_segment_count', 'footer', 'birth_date_j1_segment_count', 381, 389), ('metro_monthly_001', 'birth_date_j2_segment_count', 'footer', 'birth_date_j2_segment_count', 390, 398), ('metro_monthly_001', 'phone_number_all_segment_count', 'footer', 'phone_number_all_segment_count', 399, 407), ('metro_monthly_001', 'trailer_reserved_2', 'footer', 'trailer_reserved_2', 408, 408), ('metro_monthly_001', 'cycle_identifier_code', 'body_base_segment', 'cycle_identifier_code', 41, 42), ('metro_monthly_001', 'transunion_program_identifier', 'header', 'transunion_program_identifier', 38, 47), ('metro_monthly_001', 'activity_date', 'header', 'activity_date', 48, 55), ('metro_monthly_001', 'created_date', 'header', 'created_date', 56, 63), ('metro_monthly_001', 'program_date', 'header', 'program_date', 64, 71), ('metro_monthly_001', 'program_revision_date', 'header', 'program_revision_date', 72, 79), ('metro_monthly_001', 'reporter_name', 'header', 'reporter_name', 80, 119), ('metro_monthly_001', 'reporter_address', 'header', 'reporter_address', 120, 215), ('metro_monthly_001', 'reporter_phone_number', 'header', 'reporter_phone_number', 216, 225), ('metro_monthly_001', 'software_vendor_name', 'header', 'software_vendor_name', 226, 265), ('metro_monthly_001', 'software_version_number', 'header', 'software_version_number', 266, 270), ('metro_monthly_001', 'record_length_count', 'body_base_segment', 'record_length_count', 1, 4), ('metro_monthly_001', 'credit_limit_amount', 'body_base_segment', 'credit_limit_amount', 84, 92), ('metro_monthly_001', 'highest_credit_or_loan_amount', 'body_base_segment', 'highest_credit_or_loan_amount', 93, 101), ('metro_monthly_001', 'scheduled_monthly_payment_amount', 'body_base_segment', 'scheduled_monthly_payment_amount', 106, 114), ('metro_monthly_001', 'actual_payment_amount', 'body_base_segment', 'actual_payment_amount', 115, 123), ('metro_monthly_001', 'current_balance', 'body_base_segment', 'current_balance', 155, 163), ('metro_monthly_001', 'past_due_amount', 'body_base_segment', 'past_due_amount', 164, 172), ('metro_monthly_001', 'original_charge_off_amount', 'body_base_segment', 'original_charge_off_amount', 173, 181), ('metro_monthly_001', 'account_information_date', 'body_base_segment', 'account_information_date', 182, 189), ('metro_monthly_001', 'city', 'body_base_segment', 'city', 394, 413), ('metro_monthly_001', 'k2_purchased_sold_indicator', 'body_k2_segment', 'k2_purchased_sold_indicator', 763, 763), ('metro_monthly_001', 'k4_balloon_payment_amount', 'body_k4_segment', 'k4_balloon_payment_amount', 855, 863), ('metro_monthly_001', 'l1_change_indicator', 'body_l1_segment', 'l1_change_indicator', 867, 867), ('metro_monthly_001', 'trailer_record_length_count', 'footer', 'trailer_record_length_count', 1, 4), ('metro_monthly_001', 'base_record_count', 'footer', 'base_record_count', 12, 20), ('metro_monthly_001', 'status_code_df_count', 'footer', 'status_code_df_count', 30, 38), ('metro_monthly_001', 'j1_customer_segment_count', 'footer', 'j1_customer_segment_count', 39, 47), ('metro_monthly_001', 'j2_customer_segment_count', 'footer', 'j2_customer_segment_count', 48, 56), ('metro_monthly_001', 'status_code_da_count', 'footer', 'status_code_da_count', 66, 74), ('metro_monthly_001', 'status_code_05_count', 'footer', 'status_code_05_count', 75, 83), ('metro_monthly_001', 'status_code_11_count', 'footer', 'status_code_11_count', 84, 92), ('metro_monthly_001', 'status_code_13_count', 'footer', 'status_code_13_count', 93, 101), ('metro_monthly_001', 'status_code_61_count', 'footer', 'status_code_61_count', 102, 110), ('metro_monthly_001', 'status_code_62_count', 'footer', 'status_code_62_count', 111, 119), ('metro_monthly_001', 'status_code_63_count', 'footer', 'status_code_63_count', 120, 128), ('metro_monthly_001', 'status_code_64_count', 'footer', 'status_code_64_count', 129, 137), ('metro_monthly_001', 'status_code_65_count', 'footer', 'status_code_65_count', 138, 146), ('metro_monthly_001', 'status_code_71_count', 'footer', 'status_code_71_count', 147, 155), ('metro_monthly_001', 'status_code_78_count', 'footer', 'status_code_78_count', 156, 164), ('metro_monthly_001', 'status_code_80_count', 'footer', 'status_code_80_count', 165, 173), ('metro_monthly_001', 'status_code_82_count', 'footer', 'status_code_82_count', 174, 182), ('metro_monthly_001', 'status_code_83_count', 'footer', 'status_code_83_count', 183, 191), ('metro_monthly_001', 'status_code_84_count', 'footer', 'status_code_84_count', 192, 200), ('metro_monthly_001', 'status_code_88_count', 'footer', 'status_code_88_count', 201, 209), ('metro_monthly_001', 'status_code_89_count', 'footer', 'status_code_89_count', 210, 218), ('metro_monthly_001', 'status_code_93_count', 'footer', 'status_code_93_count', 219, 227), ('metro_monthly_001', 'status_code_94_count', 'footer', 'status_code_94_count', 228, 236), ('metro_monthly_001', 'status_code_95_count', 'footer', 'status_code_95_count', 237, 245), ('metro_monthly_001', 'status_code_96_count', 'footer', 'status_code_96_count', 246, 254), ('metro_monthly_001', 'status_code_97_count', 'footer', 'status_code_97_count', 255, 263), ('metro_monthly_001', 'ecoa_code_z_count', 'footer', 'ecoa_code_z_count', 264, 272), ('metro_monthly_001', 'employment_segment_count', 'footer', 'employment_segment_count', 273, 281), ('metro_monthly_001', 'original_creditor_segment_count', 'footer', 'original_creditor_segment_count', 282, 290), ('metro_monthly_001', 'purchased_sold_segment_count', 'footer', 'purchased_sold_segment_count', 291, 299), ('metro_monthly_001', 'mortgage_segment_count', 'footer', 'mortgage_segment_count', 300, 308), ('metro_monthly_001', 'specialized_payment_segment_count', 'footer', 'specialized_payment_segment_count', 309, 317), ('metro_monthly_001', 'change_segment_count', 'footer', 'change_segment_count', 318, 326), ('metro_monthly_001', 'ssn_all_segment_count', 'footer', 'ssn_all_segment_count', 327, 335), ('metro_monthly_001', 'account_information_time', 'body_base_segment', 'account_information_time', 6, 19), ('metro_monthly_001', 'microbilt_prbc_program_identifier', 'header', 'microbilt_prbc_program_identifier', 271, 280), ('metro_monthly_001', 'header_reserved', 'header', 'header_reserved', 281, 427), ('metro_monthly_001', 'processing_indicator', 'body_base_segment', 'processing_indicator', 5, 5), ('metro_monthly_001', 'reserved_1', 'body_base_segment', 'reserved_1', 20, 20), ('metro_monthly_001', 'reporter_identification_number', 'body_base_segment', 'reporter_identification_number', 21, 40), ('metro_monthly_001', 'consumer_account_number', 'body_base_segment', 'consumer_account_number', 43, 72), ('metro_monthly_001', 'portfolio_type_code', 'body_base_segment', 'portfolio_type_code', 73, 73), ('metro_monthly_001', 'account_type', 'body_base_segment', 'account_type', 74, 75), ('metro_monthly_001', 'opened_date', 'body_base_segment', 'opened_date', 76, 83), ('metro_monthly_001', 'term_duration_code', 'body_base_segment', 'term_duration_code', 102, 104), ('metro_monthly_001', 'term_frequency_code', 'body_base_segment', 'term_frequency_code', 105, 105), ('metro_monthly_001', 'account_status', 'body_base_segment', 'account_status', 124, 125), ('metro_monthly_001', 'payment_rating_code', 'body_base_segment', 'payment_rating_code', 126, 126), ('metro_monthly_001', 'payment_history_profile', 'body_base_segment', 'payment_history_profile', 127, 150), ('metro_monthly_001', 'special_comment_code', 'body_base_segment', 'special_comment_code', 151, 152), ('metro_monthly_001', 'compliance_condition_code', 'body_base_segment', 'compliance_condition_code', 153, 154), ('metro_monthly_001', 'fcra_first_delinquency_date', 'body_base_segment', 'fcra_first_delinquency_date', 190, 197), ('metro_monthly_001', 'closed_date', 'body_base_segment', 'closed_date', 198, 205), ('metro_monthly_001', 'last_payment_date', 'body_base_segment', 'last_payment_date', 206, 213), ('metro_monthly_001', 'interest_type_indicator', 'body_base_segment', 'interest_type_indicator', 214, 214), ('metro_monthly_001', 'reserved_2', 'body_base_segment', 'reserved_2', 215, 231), ('metro_monthly_001', 'last_name', 'body_base_segment', 'last_name', 232, 256), ('metro_monthly_001', 'first_name', 'body_base_segment', 'first_name', 257, 276), ('metro_monthly_001', 'middle_name', 'body_base_segment', 'middle_name', 277, 296), ('metro_monthly_001', 'generation_code', 'body_base_segment', 'generation_code', 297, 297), ('metro_monthly_001', 'birth_date', 'body_base_segment', 'birth_date', 307, 314), ('metro_monthly_001', 'phone_number', 'body_base_segment', 'phone_number', 315, 324), ('metro_monthly_001', 'ecoa_code', 'body_base_segment', 'ecoa_code', 325, 325), ('metro_monthly_001', 'consumer_information_code', 'body_base_segment', 'consumer_information_code', 326, 327), ('metro_monthly_001', 'country_code', 'body_base_segment', 'country_code', 328, 329), ('metro_monthly_001', 'address_1', 'body_base_segment', 'address_1', 330, 361), ('metro_monthly_001', 'address_2', 'body_base_segment', 'address_2', 362, 393), ('metro_monthly_001', 'state', 'body_base_segment', 'state', 414, 415), ('metro_monthly_001', 'zip_code', 'body_base_segment', 'zip_code', 416, 424), ('metro_monthly_001', 'address_indicator_code', 'body_base_segment', 'address_indicator_code', 425, 425), ('metro_monthly_001', 'residence_code', 'body_base_segment', 'residence_code', 426, 426), ('metro_monthly_001', 'j1_segment_identifier', 'body_j1_segment', 'j1_segment_identifier', 427, 428), ('metro_monthly_001', 'j1_reserved_1', 'body_j1_segment', 'j1_reserved_1', 429, 429), ('metro_monthly_001', 'j1_last_name', 'body_j1_segment', 'j1_last_name', 430, 454), ('metro_monthly_001', 'j1_first_name', 'body_j1_segment', 'j1_first_name', 455, 474), ('metro_monthly_001', 'j1_middle_name', 'body_j1_segment', 'j1_middle_name', 475, 494), ('metro_monthly_001', 'j1_generation_code', 'body_j1_segment', 'j1_generation_code', 495, 495), ('metro_monthly_001', 'j1_ssn', 'body_j1_segment', 'j1_ssn', 496, 504), ('metro_monthly_001', 'j1_birth_date', 'body_j1_segment', 'j1_birth_date', 505, 512), ('metro_monthly_001', 'j1_phone_number', 'body_j1_segment', 'j1_phone_number', 513, 522), ('metro_monthly_001', 'j1_ecoa_code', 'body_j1_segment', 'j1_ecoa_code', 523, 523), ('metro_monthly_001', 'j1_consumer_information_code', 'body_j1_segment', 'j1_consumer_information_code', 524, 525), ('metro_monthly_001', 'j1_reserved_2', 'body_j1_segment', 'j1_reserved_2', 526, 526), ('metro_monthly_001', 'j2_segment_identifier', 'body_j2_segment', 'j2_segment_identifier', 527, 528), ('metro_monthly_001', 'j2_reserved_1', 'body_j2_segment', 'j2_reserved_1', 529, 529), ('metro_monthly_001', 'j2_last_name', 'body_j2_segment', 'j2_last_name', 530, 554), ('metro_monthly_001', 'j2_first_name', 'body_j2_segment', 'j2_first_name', 555, 574), ('metro_monthly_001', 'j2_middle_name', 'body_j2_segment', 'j2_middle_name', 575, 594), ('metro_monthly_001', 'j2_generation_code', 'body_j2_segment', 'j2_generation_code', 595, 595), ('metro_monthly_001', 'j2_ssn', 'body_j2_segment', 'j2_ssn', 596, 604), ('metro_monthly_001', 'j2_birth_date', 'body_j2_segment', 'j2_birth_date', 605, 612), ('metro_monthly_001', 'j2_phone_number', 'body_j2_segment', 'j2_phone_number', 613, 622), ('metro_monthly_001', 'j2_ecoa_code', 'body_j2_segment', 'j2_ecoa_code', 623, 623), ('metro_monthly_001', 'j2_consumer_information_code', 'body_j2_segment', 'j2_consumer_information_code', 624, 625), ('metro_monthly_001', 'j2_country_code', 'body_j2_segment', 'j2_country_code', 626, 627), ('metro_monthly_001', 'j2_address_1', 'body_j2_segment', 'j2_address_1', 628, 659), ('metro_monthly_001', 'j2_address_2', 'body_j2_segment', 'j2_address_2', 660, 691), ('metro_monthly_001', 'j2_city', 'body_j2_segment', 'j2_city', 692, 711), ('metro_monthly_001', 'j2_state', 'body_j2_segment', 'j2_state', 712, 713), ('metro_monthly_001', 'j2_zip_code', 'body_j2_segment', 'j2_zip_code', 714, 722), ('metro_monthly_001', 'j2_address_indicator_code', 'body_j2_segment', 'j2_address_indicator_code', 723, 723), ('metro_monthly_001', 'j2_residence_code', 'body_j2_segment', 'j2_residence_code', 724, 724), ('metro_monthly_001', 'j2_reserved_2', 'body_j2_segment', 'j2_reserved_2', 725, 726), ('metro_monthly_001', 'k1_segment_identifier', 'body_k1_segment', 'k1_segment_identifier', 727, 728), ('metro_monthly_001', 'k1_original_creditor_name', 'body_k1_segment', 'k1_original_creditor_name', 729, 758), ('metro_monthly_001', 'k1_creditor_code', 'body_k1_segment', 'k1_creditor_code', 759, 760), ('metro_monthly_001', 'k2_segment_identifier', 'body_k2_segment', 'k2_segment_identifier', 761, 762), ('metro_monthly_001', 'k2_purchased_sold_name', 'body_k2_segment', 'k2_purchased_sold_name', 764, 793), ('metro_monthly_001', 'k2_reserved', 'body_k2_segment', 'k2_reserved', 794, 794), ('metro_monthly_001', 'k3_segment_identifier', 'body_k3_segment', 'k3_segment_identifier', 795, 796), ('metro_monthly_001', 'k3_agency_code', 'body_k3_segment', 'k3_agency_code', 797, 798), ('metro_monthly_001', 'k3_account_number', 'body_k3_segment', 'k3_account_number', 799, 816), ('metro_monthly_001', 'k3_mortgage_identification_number', 'body_k3_segment', 'k3_mortgage_identification_number', 817, 834), ('metro_monthly_001', 'k4_segment_indentifier', 'body_k4_segment', 'k4_segment_indentifier', 835, 836), ('metro_monthly_001', 'k4_specialized_payment_indicator', 'body_k4_segment', 'k4_specialized_payment_indicator', 837, 838), ('metro_monthly_001', 'k4_deferred_payment_start_date', 'body_k4_segment', 'k4_deferred_payment_start_date', 839, 846), ('metro_monthly_001', 'k4_balloon_payment_due_date', 'body_k4_segment', 'k4_balloon_payment_due_date', 847, 854), ('metro_monthly_001', 'k4_reserved', 'body_k4_segment', 'k4_reserved', 864, 864), ('metro_monthly_001', 'l1_segment_identifier', 'body_l1_segment', 'l1_segment_identifier', 865, 866), ('metro_monthly_001', 'l1_new_consumer_account_number', 'body_l1_segment', 'l1_new_consumer_account_number', 868, 897), ('metro_monthly_001', 'l1_new_identification_number', 'body_l1_segment', 'l1_new_identification_number', 898, 917), ('metro_monthly_001', 'l1_reserved', 'body_l1_segment', 'l1_reserved', 918, 918), ('metro_monthly_001', 'n1_segment_identifier', 'body_n1_segment', 'n1_segment_identifier', 919, 920), ('metro_monthly_001', 'n1_employer_name', 'body_n1_segment', 'n1_employer_name', 921, 950), ('metro_monthly_001', 'n1_employer_address_1', 'body_n1_segment', 'n1_employer_address_1', 951, 982), ('metro_monthly_001', 'n1_employer_address_2', 'body_n1_segment', 'n1_employer_address_2', 983, 1014), ('metro_monthly_001', 'n1_employer_city', 'body_n1_segment', 'n1_employer_city', 1015, 1034), ('metro_monthly_001', 'n1_employer_state', 'body_n1_segment', 'n1_employer_state', 1035, 1036), ('metro_monthly_001', 'n1_employer_zip_code', 'body_n1_segment', 'n1_employer_zip_code', 1037, 1045), ('metro_monthly_001', 'n1_occupation', 'body_n1_segment', 'n1_occupation', 1046, 1063), ('metro_monthly_001', 'n1_reserved', 'body_n1_segment', 'n1_reserved', 1064, 1064), ('metro_monthly_001', 'trailer_identifier', 'footer', 'trailer_identifier', 5, 11), ('metro_monthly_001', 'trailer_reserved_1', 'footer', 'trailer_reserved_1', 21, 29), ('metro_monthly_001', 'header_identifier', 'header', 'header_identifier', 5, 10), ('metro_monthly_001', 'cycle_identifier', 'header', 'cycle_identifier', 11, 12), ('metro_monthly_001', 'innovis_program_identifier', 'header', 'innovis_program_identifier', 13, 22), ('metro_monthly_001', 'equifax_program_identifier', 'header', 'equifax_program_identifier', 23, 32), ('metro_monthly_001', 'experian_program_identifier', 'header', 'experian_program_identifier', 33, 37)]\n",
      "<class 'list'>"
     ]
    }
   ],
   "source": [
    "source_df = spark.read.text(source_path)\n",
    "program_path_query = \"\"\"\n",
    "select file_id, attribute_name, attribute_desc, ingested_attribute_name, from_pos, \n",
    "to_pos from {} where file_id = '{}' and active_status=True\n",
    "\"\"\"\n",
    "program_path_query = program_path_query.format('feed_schema_tracker',\n",
    "                                               args['file_id'])\n",
    "\n",
    "results = db_helpers.get_records(args, args['file_id'], program_path_query)\n",
    "\n"
   ]
  },
  {
   "cell_type": "code",
   "execution_count": 20,
   "id": "30853602",
   "metadata": {},
   "outputs": [
    {
     "data": {
      "application/vnd.jupyter.widget-view+json": {
       "model_id": "",
       "version_major": 2,
       "version_minor": 0
      },
      "text/plain": [
       "FloatProgress(value=0.0, bar_style='info', description='Progress:', layout=Layout(height='25px', width='50%'),…"
      ]
     },
     "metadata": {},
     "output_type": "display_data"
    }
   ],
   "source": [
    "body_df = source_df.filter(\n",
    "    ~((source_df.value.rlike('^[0-9]{4}HEADER')) | (source_df.value.rlike('^[0-9]{4}TRAILER'))))\n"
   ]
  },
  {
   "cell_type": "code",
   "execution_count": 22,
   "id": "66821f31",
   "metadata": {},
   "outputs": [
    {
     "data": {
      "application/vnd.jupyter.widget-view+json": {
       "model_id": "",
       "version_major": 2,
       "version_minor": 0
      },
      "text/plain": [
       "FloatProgress(value=0.0, bar_style='info', description='Progress:', layout=Layout(height='25px', width='50%'),…"
      ]
     },
     "metadata": {},
     "output_type": "display_data"
    },
    {
     "name": "stdout",
     "output_type": "stream",
     "text": [
      "+--------------------------------------------------------------------------------------------------------------------------------------------------------------------------------------------------------------------------------------------------------------------------------------------------------------------------------------------------------------------------------------------------------------------------------------------------------------------------------------------------------------------------------------------------------------------------------------------------------------------------------------------------------------------------------------------------------------------------------------------------------------------------------------------------------------------------------------------------------------------------------------------------------------------------------------------------------------------------------------------------------------------------------------------------------------------------------------------------------+\n",
      "|value                                                                                                                                                                                                                                                                                                                                                                                                                                                                                                                                                                                                                                                                                                                                                                                                                                                                                                                                                                                                                                                                                                   |\n",
      "+--------------------------------------------------------------------------------------------------------------------------------------------------------------------------------------------------------------------------------------------------------------------------------------------------------------------------------------------------------------------------------------------------------------------------------------------------------------------------------------------------------------------------------------------------------------------------------------------------------------------------------------------------------------------------------------------------------------------------------------------------------------------------------------------------------------------------------------------------------------------------------------------------------------------------------------------------------------------------------------------------------------------------------------------------------------------------------------------------------+\n",
      "|1064100000000000000099999                 6244039                       I011019202200000000000000500036 M000000000000000000DA LL321000000000000000BBBBAH  00000000000000000000000436206262024021820240626202412292023                  VANDERVEN                LAURA                                    0796087740615196184366620011  US108 DELISLE CT                                                  SUMMERVILLE         SC29486      J1                                                                                                  J2                                                                                                                                                                                                      K1WEBBANK                       12K2                                K3                                      K4                            L1                                                    N1                                                                                                                                                |\n",
      "|1064100000000000000099999                 6883525                       I010119202300000000000001550036 M00000000000000053713000000000000021000BBBBBBBAU  00000000000000000000000000007312024000000000716202407162024                  CONDREY SR               DEVON                                    0576071090713197444362154831  US918 N MARLYN AVE                F                               ESSEX               MD21221      J1                                                                                                  J2                                                                                                                                                                                                      K1WEBBANK                       12K2                                K3                                      K4                            L1                                                    N1                                                                                                                                                |\n",
      "|1064100000000000000099999                 7443828                       I010414202300000000000001000048 M000000000000000000DA LL321000000000BBBBBBBBBBAH  00000000000000000000000979406262024021520240626202401162024                  EAGAN                    JOHN                                     3279080730204199470883305761  US763 KENT AVE                                                    CRETE               IL60417      J1                                                                                                  J2                                                                                                                                                                                                      K1WEBBANK                       12K2                                K3                                      K4                            L1                                                    N1                                                                                                                                                |\n",
      "|1064100000000000000099999                 4485594                       I010126202200000000000000400036 M000000000000000000DA LL3210000000000000000000AH  00000000000000000000000194306262024022520240626202412012023                  HURLEY                   ALEX                                     5947003891110198672721901861  US6733 25TH ST N                                                  SAINT PETERSBURG    FL33703      J1                                                                                                  J2                                                                                                                                                                                                      K1WEBBANK                       12K2                                K3                                      K4                            L1                                                    N1                                                                                                                                                |\n",
      "|1064100000000000000099999                 5677165                       I010727202200000000000000850036 M000000000000000000DA LL321000000000000000000BAH  00000000000000000000000619106262024022820240626202412272023                  FANNIN                   CHAD                                     3028676030710197574070187311  US12953 WESTFALL ROAD                                             FRANKFORT           OH45628      J1                                                                                                  J2                                                                                                                                                                                                      K1WEBBANK                       12K2                                K3                                      K4                            L1                                                    N1                                                                                                                                                |\n",
      "|1064100000000000000099999                 4316429                       I010901202100000000000000600036 M000000000000000000DA LL3210000000000000000000AH  00000000000000000000000236206262024022120240626202412222023                  PETERSON                 NICOLE                                   6081014940417198292580900001  US101 W 20TH ST                   APT B                           ANTIOCH             CA94509      J1                                                                                                  J2                                                                                                                                                                                                      K1WEBBANK                       12K2                                K3                                      K4                            L1                                                    N1                                                                                                                                                |\n",
      "|1064100000000000000099999                 6195533                       I011007202200000000000000500036 M000000000000000000DA LL332100000000000000BBBBAH  00000000000000000000000436406262024010620240626202404122024                  SIMPSON                  RILEY                                    5195339750212199820899165961  US3530 UPPER FORK WAY                                             BOISE               ID83709      J1                                                                                                  J2                                                                                                                                                                                                      K1WEBBANK                       12K2                                K3                                      K4                            L1                                                    N1                                                                                                                                                |\n",
      "|1064100000000000000099999                 7980627                       I010706202300000000000000210024 M000000000000000000DA LD321000000BBBBBBBBBBBBBAH  00000000000000000000000199406262024020720240626202412062023                  ROBERSON                 AURIELLE                                 6401819640803199071351738091  US1117 AUTREY                                                     HOUSTON             TX77006      J1                                                                                                  J2                                                                                                                                                                                                      K1WEBBANK                       12K2                                K3                                      K4                            L1                                                    N1                                                                                                                                                |\n",
      "|1064100000000000000099999                 5550933                       I010712202200000000000000820036 M000000000000000000DA LL321000000000000000000BAH  00000000000000000000000585706262024021120240626202412222023                  LOPEZ                    CINDY                                    6236232780125199381863151891  US34159 CASTLE PINES DRIVE                                        YUCAIPA             CA92399      J1                                                                                                  J2                                                                                                                                                                                                      K1WEBBANK                       12K2                                K3                                      K4                            L1                                                    N1                                                                                                                                                |\n",
      "|1064100000000000000099999                 8043845                       I010714202300000000000000820024 M000000000000000000DA LL321000000BBBBBBBBBBBBBAH  00000000000000000000000804606262024021520240626202412222023                  PAGAN                    DELMA                                    0497080290903198020370697871  US167 WARNER SR                                                   WATERBURY           CT06704      J1                                                                                                  J2                                                                                                                                                                                                      K1WEBBANK                       12K2                                K3                                      K4                            L1                                                    N1                                                                                                                                                |\n",
      "|1064100000000000000099999                 9080582                       I010104202400000000000000300024 M00000000000000000083 L3210BBBBBBBBBBBBBBBBBBBAH  00000000000000000000000354707252024030620240725202400000000                  HERNANDEZ                ADRIAN                                   3348612010808199163070995751  US420 HUBBARD CIR                                                 PLANO               IL60545      J1                                                                                                  J2                                                                                                                                                                                                      K1WEBBANK                       12K2                                K3                                      K4                            L1                                                    N1                                                                                                                                                |\n",
      "|1064100000000000000099999                 5551300                       I010708202200000000000000600036 M00000000000000000083 L3210000000000000000000BAH  00000000000000000000000416907252024030920240725202401082024                  HARBALI                  MOHAMED                                  3831379880409199273477690731  US1752 CRESTVIEW DR               APT 102                         CANTON              MI48188      J1                                                                                                  J2                                                                                                                                                                                                      K1WEBBANK                       12K2                                K3                                      K4                            L1                                                    N1                                                                                                                                                |\n",
      "|1064100000000000000099999                 7984039                       I010710202300000000000001100036 M00000000000000000084 LLL32100000BBBBBBBBBBBBBAH  00000000000000000000001156907252024012020240725202411102023                  DELVALLE                 OMOTAYO                                  8333504050217199244352269201  US4222 STANWOOD AVENUE                                            BALTIMORE           MD21206      J1                                                                                                  J2                                                                                                                                                                                                      K1WEBBANK                       12K2                                K3                                      K4                            L1                                                    N1                                                                                                                                                |\n",
      "|1064100000000000000099999                 5757622                       I010805202200000000000001000036 M00000000000000000083 L321000000000000000000BBAH  00000000000000000000000670007252024030620240725202401122024                  AYERS                    TIMOTHY                                  2432341231229196070475652601  US417 DOUGHTON LN.                E                               CHARLOTTE           NC28217      J1                                                                                                  J2                                                                                                                                                                                                      K1WEBBANK                       12K2                                K3                                      K4                            L1                                                    N1                                                                                                                                                |\n",
      "|1064100000000000000099999                 4693751                       I010310202200000000000000732736 M00000000000000000083 L32100000000000000000000AH  00000000000000000000000417907252024032320240725202402282024                  ROCKWELL                 KEZIEYA                                  3607256520422198377332976841  US7258 S CORNELL AVE              APT 2                           CHICAGO             IL60649      J1                                                                                                  J2                                                                                                                                                                                                      K1WEBBANK                       12K2                                K3                                      K4                            L1                                                    N1                                                                                                                                                |\n",
      "|1064100000000000000099999                 7500934                       I010425202300000000000000394524 M00000000000000069164 10000000000000BBBBBBBBBBAU  00000000000000000000000171307312024062120240729202407292024                  ORTEGA                   ROSARIO                                  4623964100318197621030091501  US301 HALE ST.                                                    FREDERICKSBURG      TX78624      J1                                                                                                  J2                                                                                                                                                                                                      K1WEBBANK                       12K2                                K3                                      K4                            L1                                                    N1                                                                                                                                                |\n",
      "|1064100000000000000099999                 7189937                       I010307202300000000000000400036 M00000000000000000083 L32100000000000BBBBBBBBBAH  00000000000000000000000371107252024030820240725202401172024                  DUCKWORTH                JERRY                                    5392781930626199325388608351  US3040 PORTRAIT WAY               A101                            SACRAMENTO          CA95826      J1                                                                                                  J2                                                                                                                                                                                                      K1WEBBANK                       12K2                                K3                                      K4                            L1                                                    N1                                                                                                                                                |\n",
      "|1064100000000000000099999                 8412447                       I010911202300000000000000800036 M00000000000000000084 LL3210000BBBBBBBBBBBBBBBAH  00000000000000000000000791307252024021020240725202412112023                  BEHRMANN                 SOVANNA                                  5668564350812198590996915351  US590 N 3000 W                                                    CLEARFIELD          UT84015      J1                                                                                                  J2                                                                                                                                                                                                      K1WEBBANK                       12K2                                K3                                      K4                            L1                                                    N1                                                                                                                                                |\n",
      "|1064100000000000000099999                 6163457                       I011004202200000000000000650024 M00000000000000000083 L32100000D0000000000BBBBAH  00000000000000000000000453307252024031020240725202401092024                  CAVAZOS                  WILFREDO                                 6362806100217199228173665011  US1066 W GLENLAKE AVE APT 1       APT 1321                        CHICAGO             IL60660      J1                                                                                                  J2                                                                                                                                                                                                      K1WEBBANK                       12K2                                K3                                      K4                            L1                                                    N1                                                                                                                                                |\n",
      "|1064100000000000000099999                 4358507                       I011020202100000000000001600048 M00000000000000000084 LLL321000000000000000000AH  00000000000000000000001042207252024010620240725202405302024                  SESSIONS                 QUINTIN                                  5352960160422198450937813761  US406 WEST CANYON LAKES DR                                        KENNEWICK           WA99337      J1                                                                                                  J2                                                                                                                                                                                                      K1WEBBANK                       12K2                                K3                                      K4                            L1                                                    N1                                                                                                                                                |\n",
      "+--------------------------------------------------------------------------------------------------------------------------------------------------------------------------------------------------------------------------------------------------------------------------------------------------------------------------------------------------------------------------------------------------------------------------------------------------------------------------------------------------------------------------------------------------------------------------------------------------------------------------------------------------------------------------------------------------------------------------------------------------------------------------------------------------------------------------------------------------------------------------------------------------------------------------------------------------------------------------------------------------------------------------------------------------------------------------------------------------------+\n",
      "only showing top 20 rows"
     ]
    }
   ],
   "source": [
    "body_df.show(truncate = False)"
   ]
  },
  {
   "cell_type": "code",
   "execution_count": 23,
   "id": "75d15c79",
   "metadata": {},
   "outputs": [
    {
     "data": {
      "application/vnd.jupyter.widget-view+json": {
       "model_id": "",
       "version_major": 2,
       "version_minor": 0
      },
      "text/plain": [
       "FloatProgress(value=0.0, bar_style='info', description='Progress:', layout=Layout(height='25px', width='50%'),…"
      ]
     },
     "metadata": {},
     "output_type": "display_data"
    }
   ],
   "source": [
    "header_df = source_df.filter(source_df.value.rlike('^[0-9]{4}HEADER'))\n",
    "trailer_df = source_df.filter(source_df.value.rlike('^[0-9]{4}TRAILER'))"
   ]
  },
  {
   "cell_type": "code",
   "execution_count": 24,
   "id": "9ff29c83",
   "metadata": {},
   "outputs": [
    {
     "data": {
      "application/vnd.jupyter.widget-view+json": {
       "model_id": "",
       "version_major": 2,
       "version_minor": 0
      },
      "text/plain": [
       "FloatProgress(value=0.0, bar_style='info', description='Progress:', layout=Layout(height='25px', width='50%'),…"
      ]
     },
     "metadata": {},
     "output_type": "display_data"
    }
   ],
   "source": [
    "# base_segment schema inferring\n",
    "df2 = body_df.rdd.map(lambda x: schema_infer(x, results, 'body'))\n",
    "final_body_df = df2.toDF()\n",
    "final_body_df = final_body_df.withColumn(\"send_date\",\n",
    "                                         to_date(lit(send_date), \"yyyyMMdd\"))\n",
    "\n",
    "final_body_df = final_body_df.withColumn(\"file_name\",\n",
    "                                         lit(final_file_name))\n",
    "final_body_df = final_body_df.withColumn('account_by_metro_send_uuid', sha2(\n",
    "    concat_ws('~', col('consumer_account_number'), col('file_name')), 256))\n",
    "\n",
    "final_body_df = final_body_df.withColumn(\n",
    "    \"etl_ingestion_time\", lit(cf.get_cur_time()).cast('timestamp'))\n",
    "final_body_df = final_body_df.withColumn(\n",
    "    \"source_file_creation_time\",\n",
    "    lit(source_file_creation_time).cast('timestamp'))\n",
    "\n",
    "final_body_df.write.mode(\"append\").parquet(base_segment_target_path)"
   ]
  },
  {
   "cell_type": "code",
   "execution_count": 25,
   "id": "6d6da629",
   "metadata": {},
   "outputs": [
    {
     "data": {
      "application/vnd.jupyter.widget-view+json": {
       "model_id": "",
       "version_major": 2,
       "version_minor": 0
      },
      "text/plain": [
       "FloatProgress(value=0.0, bar_style='info', description='Progress:', layout=Layout(height='25px', width='50%'),…"
      ]
     },
     "metadata": {},
     "output_type": "display_data"
    },
    {
     "name": "stdout",
     "output_type": "stream",
     "text": [
      "'s3://avantdlds-partner01-prod-raw-bucket/avant/metro/metro_monthly/metro_monthly_001/base_segment/2024/08/13/metro_monthly_base_segment_322324_1_20240813.pq'"
     ]
    }
   ],
   "source": [
    "base_segment_target_path"
   ]
  },
  {
   "cell_type": "code",
   "execution_count": 33,
   "id": "0c42243f",
   "metadata": {},
   "outputs": [
    {
     "data": {
      "application/vnd.jupyter.widget-view+json": {
       "model_id": "",
       "version_major": 2,
       "version_minor": 0
      },
      "text/plain": [
       "FloatProgress(value=0.0, bar_style='info', description='Progress:', layout=Layout(height='25px', width='50%'),…"
      ]
     },
     "metadata": {},
     "output_type": "display_data"
    },
    {
     "name": "stdout",
     "output_type": "stream",
     "text": [
      "-RECORD 0---------------------------------------------------------------------------------------------\n",
      " account_information_date          | 06262024                                                         \n",
      " account_information_time          | 00000000000000                                                   \n",
      " account_status                    | DA                                                               \n",
      " account_type                      | 01                                                               \n",
      " actual_payment_amount             | 000000000                                                        \n",
      " address_1                         | 108 DELISLE CT                                                   \n",
      " address_2                         |                                                                  \n",
      " address_indicator_code            |                                                                  \n",
      " birth_date                        | 06151961                                                         \n",
      " city                              | SUMMERVILLE                                                      \n",
      " closed_date                       | 06262024                                                         \n",
      " compliance_condition_code         |                                                                  \n",
      " consumer_account_number           | 6244039                                                          \n",
      " consumer_information_code         |                                                                  \n",
      " country_code                      | US                                                               \n",
      " credit_limit_amount               | 000000000                                                        \n",
      " current_balance                   | 000000000                                                        \n",
      " cycle_identifier_code             |                                                                  \n",
      " ecoa_code                         | 1                                                                \n",
      " fcra_first_delinquency_date       | 02182024                                                         \n",
      " first_name                        | LAURA                                                            \n",
      " generation_code                   |                                                                  \n",
      " highest_credit_or_loan_amount     | 000005000                                                        \n",
      " interest_type_indicator           |                                                                  \n",
      " j1_birth_date                     |                                                                  \n",
      " j1_consumer_information_code      |                                                                  \n",
      " j1_ecoa_code                      |                                                                  \n",
      " j1_first_name                     |                                                                  \n",
      " j1_generation_code                |                                                                  \n",
      " j1_last_name                      |                                                                  \n",
      " j1_middle_name                    |                                                                  \n",
      " j1_phone_number                   |                                                                  \n",
      " j1_reserved_1                     |                                                                  \n",
      " j1_reserved_2                     |                                                                  \n",
      " j1_segment_identifier             | J1                                                               \n",
      " j1_ssn                            |                                                                  \n",
      " j2_address_1                      |                                                                  \n",
      " j2_address_2                      |                                                                  \n",
      " j2_address_indicator_code         |                                                                  \n",
      " j2_birth_date                     |                                                                  \n",
      " j2_city                           |                                                                  \n",
      " j2_consumer_information_code      |                                                                  \n",
      " j2_country_code                   |                                                                  \n",
      " j2_ecoa_code                      |                                                                  \n",
      " j2_first_name                     |                                                                  \n",
      " j2_generation_code                |                                                                  \n",
      " j2_last_name                      |                                                                  \n",
      " j2_middle_name                    |                                                                  \n",
      " j2_phone_number                   |                                                                  \n",
      " j2_reserved_1                     |                                                                  \n",
      " j2_reserved_2                     |                                                                  \n",
      " j2_residence_code                 |                                                                  \n",
      " j2_segment_identifier             | J2                                                               \n",
      " j2_ssn                            |                                                                  \n",
      " j2_state                          |                                                                  \n",
      " j2_zip_code                       |                                                                  \n",
      " k1_creditor_code                  | 12                                                               \n",
      " k1_original_creditor_name         | WEBBANK                                                          \n",
      " k1_segment_identifier             | K1                                                               \n",
      " k2_purchased_sold_indicator       |                                                                  \n",
      " k2_purchased_sold_name            |                                                                  \n",
      " k2_reserved                       |                                                                  \n",
      " k2_segment_identifier             | K2                                                               \n",
      " k3_account_number                 |                                                                  \n",
      " k3_agency_code                    |                                                                  \n",
      " k3_mortgage_identification_number |                                                                  \n",
      " k3_segment_identifier             | K3                                                               \n",
      " k4_balloon_payment_amount         |                                                                  \n",
      " k4_balloon_payment_due_date       |                                                                  \n",
      " k4_deferred_payment_start_date    |                                                                  \n",
      " k4_reserved                       |                                                                  \n",
      " k4_segment_indentifier            | K4                                                               \n",
      " k4_specialized_payment_indicator  |                                                                  \n",
      " l1_change_indicator               |                                                                  \n",
      " l1_new_consumer_account_number    |                                                                  \n",
      " l1_new_identification_number      |                                                                  \n",
      " l1_reserved                       |                                                                  \n",
      " l1_segment_identifier             | L1                                                               \n",
      " last_name                         | VANDERVEN                                                        \n",
      " last_payment_date                 | 12292023                                                         \n",
      " middle_name                       |                                                                  \n",
      " n1_employer_address_1             |                                                                  \n",
      " n1_employer_address_2             |                                                                  \n",
      " n1_employer_city                  |                                                                  \n",
      " n1_employer_name                  |                                                                  \n",
      " n1_employer_state                 |                                                                  \n",
      " n1_employer_zip_code              |                                                                  \n",
      " n1_occupation                     |                                                                  \n",
      " n1_reserved                       |                                                                  \n",
      " n1_segment_identifier             | N1                                                               \n",
      " opened_date                       | 10192022                                                         \n",
      " original_charge_off_amount        | 000004362                                                        \n",
      " past_due_amount                   | 000000000                                                        \n",
      " payment_history_profile           | LL321000000000000000BBBB                                         \n",
      " payment_rating_code               |                                                                  \n",
      " phone_number                      | 8436662001                                                       \n",
      " portfolio_type_code               | I                                                                \n",
      " processing_indicator              | 1                                                                \n",
      " record_length_count               | 1064                                                             \n",
      " reporter_identification_number    | 99999                                                            \n",
      " reserved_1                        | 0                                                                \n",
      " reserved_2                        |                                                                  \n",
      " residence_code                    |                                                                  \n",
      " scheduled_monthly_payment_amount  | 000000000                                                        \n",
      " special_comment_code              | AH                                                               \n",
      " ssn                               | 079608774                                                        \n",
      " state                             | SC                                                               \n",
      " term_duration_code                | 36                                                               \n",
      " term_frequency_code               | M                                                                \n",
      " zip_code                          | 29486                                                            \n",
      " send_date                         | 2024-08-12                                                       \n",
      " file_name                         | metro_webbank_avant_full_20240812.txt                            \n",
      " account_by_metro_send_uuid        | 0d12c829c1166bd1432b9b8bf6e3b7cab687ad82b88f94a5a7cd4381b75d8e63 \n",
      " etl_ingestion_time                | 2024-08-15 22:27:19                                              \n",
      " source_file_creation_time         | 2024-08-12 00:00:00                                              \n",
      "-RECORD 1---------------------------------------------------------------------------------------------\n",
      " account_information_date          | 07312024                                                         \n",
      " account_information_time          | 00000000000000                                                   \n",
      " account_status                    | 13                                                               \n",
      " account_type                      | 01                                                               \n",
      " actual_payment_amount             | 000000537                                                        \n",
      " address_1                         | 918 N MARLYN AVE                                                 \n",
      " address_2                         | F                                                                \n",
      " address_indicator_code            |                                                                  \n",
      " birth_date                        | 07131974                                                         \n",
      " city                              | ESSEX                                                            \n",
      " closed_date                       | 07162024                                                         \n",
      " compliance_condition_code         |                                                                  \n",
      " consumer_account_number           | 6883525                                                          \n",
      " consumer_information_code         |                                                                  \n",
      " country_code                      | US                                                               \n",
      " credit_limit_amount               | 000000000                                                        \n",
      " current_balance                   | 000000000                                                        \n",
      " cycle_identifier_code             |                                                                  \n",
      " ecoa_code                         | 1                                                                \n",
      " fcra_first_delinquency_date       | 00000000                                                         \n",
      " first_name                        | DEVON                                                            \n",
      " generation_code                   |                                                                  \n",
      " highest_credit_or_loan_amount     | 000015500                                                        \n",
      " interest_type_indicator           |                                                                  \n",
      " j1_birth_date                     |                                                                  \n",
      " j1_consumer_information_code      |                                                                  \n",
      " j1_ecoa_code                      |                                                                  \n",
      " j1_first_name                     |                                                                  \n",
      " j1_generation_code                |                                                                  \n",
      " j1_last_name                      |                                                                  \n",
      " j1_middle_name                    |                                                                  \n",
      " j1_phone_number                   |                                                                  \n",
      " j1_reserved_1                     |                                                                  \n",
      " j1_reserved_2                     |                                                                  \n",
      " j1_segment_identifier             | J1                                                               \n",
      " j1_ssn                            |                                                                  \n",
      " j2_address_1                      |                                                                  \n",
      " j2_address_2                      |                                                                  \n",
      " j2_address_indicator_code         |                                                                  \n",
      " j2_birth_date                     |                                                                  \n",
      " j2_city                           |                                                                  \n",
      " j2_consumer_information_code      |                                                                  \n",
      " j2_country_code                   |                                                                  \n",
      " j2_ecoa_code                      |                                                                  \n",
      " j2_first_name                     |                                                                  \n",
      " j2_generation_code                |                                                                  \n",
      " j2_last_name                      |                                                                  \n",
      " j2_middle_name                    |                                                                  \n",
      " j2_phone_number                   |                                                                  \n",
      " j2_reserved_1                     |                                                                  \n",
      " j2_reserved_2                     |                                                                  \n",
      " j2_residence_code                 |                                                                  \n",
      " j2_segment_identifier             | J2                                                               \n",
      " j2_ssn                            |                                                                  \n",
      " j2_state                          |                                                                  \n",
      " j2_zip_code                       |                                                                  \n",
      " k1_creditor_code                  | 12                                                               \n",
      " k1_original_creditor_name         | WEBBANK                                                          \n",
      " k1_segment_identifier             | K1                                                               \n",
      " k2_purchased_sold_indicator       |                                                                  \n",
      " k2_purchased_sold_name            |                                                                  \n",
      " k2_reserved                       |                                                                  \n",
      " k2_segment_identifier             | K2                                                               \n",
      " k3_account_number                 |                                                                  \n",
      " k3_agency_code                    |                                                                  \n",
      " k3_mortgage_identification_number |                                                                  \n",
      " k3_segment_identifier             | K3                                                               \n",
      " k4_balloon_payment_amount         |                                                                  \n",
      " k4_balloon_payment_due_date       |                                                                  \n",
      " k4_deferred_payment_start_date    |                                                                  \n",
      " k4_reserved                       |                                                                  \n",
      " k4_segment_indentifier            | K4                                                               \n",
      " k4_specialized_payment_indicator  |                                                                  \n",
      " l1_change_indicator               |                                                                  \n",
      " l1_new_consumer_account_number    |                                                                  \n",
      " l1_new_identification_number      |                                                                  \n",
      " l1_reserved                       |                                                                  \n",
      " l1_segment_identifier             | L1                                                               \n",
      " last_name                         | CONDREY SR                                                       \n",
      " last_payment_date                 | 07162024                                                         \n",
      " middle_name                       |                                                                  \n",
      " n1_employer_address_1             |                                                                  \n",
      " n1_employer_address_2             |                                                                  \n",
      " n1_employer_city                  |                                                                  \n",
      " n1_employer_name                  |                                                                  \n",
      " n1_employer_state                 |                                                                  \n",
      " n1_employer_zip_code              |                                                                  \n",
      " n1_occupation                     |                                                                  \n",
      " n1_reserved                       |                                                                  \n",
      " n1_segment_identifier             | N1                                                               \n",
      " opened_date                       | 01192023                                                         \n",
      " original_charge_off_amount        | 000000000                                                        \n",
      " past_due_amount                   | 000000000                                                        \n",
      " payment_history_profile           | 00000000000021000BBBBBBB                                         \n",
      " payment_rating_code               | 0                                                                \n",
      " phone_number                      | 4436215483                                                       \n",
      " portfolio_type_code               | I                                                                \n",
      " processing_indicator              | 1                                                                \n",
      " record_length_count               | 1064                                                             \n",
      " reporter_identification_number    | 99999                                                            \n",
      " reserved_1                        | 0                                                                \n",
      " reserved_2                        |                                                                  \n",
      " residence_code                    |                                                                  \n",
      " scheduled_monthly_payment_amount  | 000000000                                                        \n",
      " special_comment_code              | AU                                                               \n",
      " ssn                               | 057607109                                                        \n",
      " state                             | MD                                                               \n",
      " term_duration_code                | 36                                                               \n",
      " term_frequency_code               | M                                                                \n",
      " zip_code                          | 21221                                                            \n",
      " send_date                         | 2024-08-12                                                       \n",
      " file_name                         | metro_webbank_avant_full_20240812.txt                            \n",
      " account_by_metro_send_uuid        | c543869124f2780966a851873974f8c78dddd14d8d2a8a78b79cdbf2e7b12b04 \n",
      " etl_ingestion_time                | 2024-08-15 22:27:19                                              \n",
      " source_file_creation_time         | 2024-08-12 00:00:00                                              \n",
      "-RECORD 2---------------------------------------------------------------------------------------------\n",
      " account_information_date          | 06262024                                                         \n",
      " account_information_time          | 00000000000000                                                   \n",
      " account_status                    | DA                                                               \n",
      " account_type                      | 01                                                               \n",
      " actual_payment_amount             | 000000000                                                        \n",
      " address_1                         | 763 KENT AVE                                                     \n",
      " address_2                         |                                                                  \n",
      " address_indicator_code            |                                                                  \n",
      " birth_date                        | 02041994                                                         \n",
      " city                              | CRETE                                                            \n",
      " closed_date                       | 06262024                                                         \n",
      " compliance_condition_code         |                                                                  \n",
      " consumer_account_number           | 7443828                                                          \n",
      " consumer_information_code         |                                                                  \n",
      " country_code                      | US                                                               \n",
      " credit_limit_amount               | 000000000                                                        \n",
      " current_balance                   | 000000000                                                        \n",
      " cycle_identifier_code             |                                                                  \n",
      " ecoa_code                         | 1                                                                \n",
      " fcra_first_delinquency_date       | 02152024                                                         \n",
      " first_name                        | JOHN                                                             \n",
      " generation_code                   |                                                                  \n",
      " highest_credit_or_loan_amount     | 000010000                                                        \n",
      " interest_type_indicator           |                                                                  \n",
      " j1_birth_date                     |                                                                  \n",
      " j1_consumer_information_code      |                                                                  \n",
      " j1_ecoa_code                      |                                                                  \n",
      " j1_first_name                     |                                                                  \n",
      " j1_generation_code                |                                                                  \n",
      " j1_last_name                      |                                                                  \n",
      " j1_middle_name                    |                                                                  \n",
      " j1_phone_number                   |                                                                  \n",
      " j1_reserved_1                     |                                                                  \n",
      " j1_reserved_2                     |                                                                  \n",
      " j1_segment_identifier             | J1                                                               \n",
      " j1_ssn                            |                                                                  \n",
      " j2_address_1                      |                                                                  \n",
      " j2_address_2                      |                                                                  \n",
      " j2_address_indicator_code         |                                                                  \n",
      " j2_birth_date                     |                                                                  \n",
      " j2_city                           |                                                                  \n",
      " j2_consumer_information_code      |                                                                  \n",
      " j2_country_code                   |                                                                  \n",
      " j2_ecoa_code                      |                                                                  \n",
      " j2_first_name                     |                                                                  \n",
      " j2_generation_code                |                                                                  \n",
      " j2_last_name                      |                                                                  \n",
      " j2_middle_name                    |                                                                  \n",
      " j2_phone_number                   |                                                                  \n",
      " j2_reserved_1                     |                                                                  \n",
      " j2_reserved_2                     |                                                                  \n",
      " j2_residence_code                 |                                                                  \n",
      " j2_segment_identifier             | J2                                                               \n",
      " j2_ssn                            |                                                                  \n",
      " j2_state                          |                                                                  \n",
      " j2_zip_code                       |                                                                  \n",
      " k1_creditor_code                  | 12                                                               \n",
      " k1_original_creditor_name         | WEBBANK                                                          \n",
      " k1_segment_identifier             | K1                                                               \n",
      " k2_purchased_sold_indicator       |                                                                  \n",
      " k2_purchased_sold_name            |                                                                  \n",
      " k2_reserved                       |                                                                  \n",
      " k2_segment_identifier             | K2                                                               \n",
      " k3_account_number                 |                                                                  \n",
      " k3_agency_code                    |                                                                  \n",
      " k3_mortgage_identification_number |                                                                  \n",
      " k3_segment_identifier             | K3                                                               \n",
      " k4_balloon_payment_amount         |                                                                  \n",
      " k4_balloon_payment_due_date       |                                                                  \n",
      " k4_deferred_payment_start_date    |                                                                  \n",
      " k4_reserved                       |                                                                  \n",
      " k4_segment_indentifier            | K4                                                               \n",
      " k4_specialized_payment_indicator  |                                                                  \n",
      " l1_change_indicator               |                                                                  \n",
      " l1_new_consumer_account_number    |                                                                  \n",
      " l1_new_identification_number      |                                                                  \n",
      " l1_reserved                       |                                                                  \n",
      " l1_segment_identifier             | L1                                                               \n",
      " last_name                         | EAGAN                                                            \n",
      " last_payment_date                 | 01162024                                                         \n",
      " middle_name                       |                                                                  \n",
      " n1_employer_address_1             |                                                                  \n",
      " n1_employer_address_2             |                                                                  \n",
      " n1_employer_city                  |                                                                  \n",
      " n1_employer_name                  |                                                                  \n",
      " n1_employer_state                 |                                                                  \n",
      " n1_employer_zip_code              |                                                                  \n",
      " n1_occupation                     |                                                                  \n",
      " n1_reserved                       |                                                                  \n",
      " n1_segment_identifier             | N1                                                               \n",
      " opened_date                       | 04142023                                                         \n",
      " original_charge_off_amount        | 000009794                                                        \n",
      " past_due_amount                   | 000000000                                                        \n",
      " payment_history_profile           | LL321000000000BBBBBBBBBB                                         \n",
      " payment_rating_code               |                                                                  \n",
      " phone_number                      | 7088330576                                                       \n",
      " portfolio_type_code               | I                                                                \n",
      " processing_indicator              | 1                                                                \n",
      " record_length_count               | 1064                                                             \n",
      " reporter_identification_number    | 99999                                                            \n",
      " reserved_1                        | 0                                                                \n",
      " reserved_2                        |                                                                  \n",
      " residence_code                    |                                                                  \n",
      " scheduled_monthly_payment_amount  | 000000000                                                        \n",
      " special_comment_code              | AH                                                               \n",
      " ssn                               | 327908073                                                        \n",
      " state                             | IL                                                               \n",
      " term_duration_code                | 48                                                               \n",
      " term_frequency_code               | M                                                                \n",
      " zip_code                          | 60417                                                            \n",
      " send_date                         | 2024-08-12                                                       \n",
      " file_name                         | metro_webbank_avant_full_20240812.txt                            \n",
      " account_by_metro_send_uuid        | 73d96cc8160ef6407e3fa9a606bd77d76d9c9dc18cce50d483b24e8a564d820c \n",
      " etl_ingestion_time                | 2024-08-15 22:27:19                                              \n",
      " source_file_creation_time         | 2024-08-12 00:00:00                                              \n",
      "-RECORD 3---------------------------------------------------------------------------------------------\n",
      " account_information_date          | 06262024                                                         \n",
      " account_information_time          | 00000000000000                                                   \n",
      " account_status                    | DA                                                               \n",
      " account_type                      | 01                                                               \n",
      " actual_payment_amount             | 000000000                                                        \n",
      " address_1                         | 6733 25TH ST N                                                   \n",
      " address_2                         |                                                                  \n",
      " address_indicator_code            |                                                                  \n",
      " birth_date                        | 11101986                                                         \n",
      " city                              | SAINT PETERSBURG                                                 \n",
      " closed_date                       | 06262024                                                         \n",
      " compliance_condition_code         |                                                                  \n",
      " consumer_account_number           | 4485594                                                          \n",
      " consumer_information_code         |                                                                  \n",
      " country_code                      | US                                                               \n",
      " credit_limit_amount               | 000000000                                                        \n",
      " current_balance                   | 000000000                                                        \n",
      " cycle_identifier_code             |                                                                  \n",
      " ecoa_code                         | 1                                                                \n",
      " fcra_first_delinquency_date       | 02252024                                                         \n",
      " first_name                        | ALEX                                                             \n",
      " generation_code                   |                                                                  \n",
      " highest_credit_or_loan_amount     | 000004000                                                        \n",
      " interest_type_indicator           |                                                                  \n",
      " j1_birth_date                     |                                                                  \n",
      " j1_consumer_information_code      |                                                                  \n",
      " j1_ecoa_code                      |                                                                  \n",
      " j1_first_name                     |                                                                  \n",
      " j1_generation_code                |                                                                  \n",
      " j1_last_name                      |                                                                  \n",
      " j1_middle_name                    |                                                                  \n",
      " j1_phone_number                   |                                                                  \n",
      " j1_reserved_1                     |                                                                  \n",
      " j1_reserved_2                     |                                                                  \n",
      " j1_segment_identifier             | J1                                                               \n",
      " j1_ssn                            |                                                                  \n",
      " j2_address_1                      |                                                                  \n",
      " j2_address_2                      |                                                                  \n",
      " j2_address_indicator_code         |                                                                  \n",
      " j2_birth_date                     |                                                                  \n",
      " j2_city                           |                                                                  \n",
      " j2_consumer_information_code      |                                                                  \n",
      " j2_country_code                   |                                                                  \n",
      " j2_ecoa_code                      |                                                                  \n",
      " j2_first_name                     |                                                                  \n",
      " j2_generation_code                |                                                                  \n",
      " j2_last_name                      |                                                                  \n",
      " j2_middle_name                    |                                                                  \n",
      " j2_phone_number                   |                                                                  \n",
      " j2_reserved_1                     |                                                                  \n",
      " j2_reserved_2                     |                                                                  \n",
      " j2_residence_code                 |                                                                  \n",
      " j2_segment_identifier             | J2                                                               \n",
      " j2_ssn                            |                                                                  \n",
      " j2_state                          |                                                                  \n",
      " j2_zip_code                       |                                                                  \n",
      " k1_creditor_code                  | 12                                                               \n",
      " k1_original_creditor_name         | WEBBANK                                                          \n",
      " k1_segment_identifier             | K1                                                               \n",
      " k2_purchased_sold_indicator       |                                                                  \n",
      " k2_purchased_sold_name            |                                                                  \n",
      " k2_reserved                       |                                                                  \n",
      " k2_segment_identifier             | K2                                                               \n",
      " k3_account_number                 |                                                                  \n",
      " k3_agency_code                    |                                                                  \n",
      " k3_mortgage_identification_number |                                                                  \n",
      " k3_segment_identifier             | K3                                                               \n",
      " k4_balloon_payment_amount         |                                                                  \n",
      " k4_balloon_payment_due_date       |                                                                  \n",
      " k4_deferred_payment_start_date    |                                                                  \n",
      " k4_reserved                       |                                                                  \n",
      " k4_segment_indentifier            | K4                                                               \n",
      " k4_specialized_payment_indicator  |                                                                  \n",
      " l1_change_indicator               |                                                                  \n",
      " l1_new_consumer_account_number    |                                                                  \n",
      " l1_new_identification_number      |                                                                  \n",
      " l1_reserved                       |                                                                  \n",
      " l1_segment_identifier             | L1                                                               \n",
      " last_name                         | HURLEY                                                           \n",
      " last_payment_date                 | 12012023                                                         \n",
      " middle_name                       |                                                                  \n",
      " n1_employer_address_1             |                                                                  \n",
      " n1_employer_address_2             |                                                                  \n",
      " n1_employer_city                  |                                                                  \n",
      " n1_employer_name                  |                                                                  \n",
      " n1_employer_state                 |                                                                  \n",
      " n1_employer_zip_code              |                                                                  \n",
      " n1_occupation                     |                                                                  \n",
      " n1_reserved                       |                                                                  \n",
      " n1_segment_identifier             | N1                                                               \n",
      " opened_date                       | 01262022                                                         \n",
      " original_charge_off_amount        | 000001943                                                        \n",
      " past_due_amount                   | 000000000                                                        \n",
      " payment_history_profile           | LL3210000000000000000000                                         \n",
      " payment_rating_code               |                                                                  \n",
      " phone_number                      | 7272190186                                                       \n",
      " portfolio_type_code               | I                                                                \n",
      " processing_indicator              | 1                                                                \n",
      " record_length_count               | 1064                                                             \n",
      " reporter_identification_number    | 99999                                                            \n",
      " reserved_1                        | 0                                                                \n",
      " reserved_2                        |                                                                  \n",
      " residence_code                    |                                                                  \n",
      " scheduled_monthly_payment_amount  | 000000000                                                        \n",
      " special_comment_code              | AH                                                               \n",
      " ssn                               | 594700389                                                        \n",
      " state                             | FL                                                               \n",
      " term_duration_code                | 36                                                               \n",
      " term_frequency_code               | M                                                                \n",
      " zip_code                          | 33703                                                            \n",
      " send_date                         | 2024-08-12                                                       \n",
      " file_name                         | metro_webbank_avant_full_20240812.txt                            \n",
      " account_by_metro_send_uuid        | 5e90a5ac812d152f3af168cf3bf6fbbcd93155de00f5c85ff440ace41a991b79 \n",
      " etl_ingestion_time                | 2024-08-15 22:27:19                                              \n",
      " source_file_creation_time         | 2024-08-12 00:00:00                                              \n",
      "only showing top 4 rows"
     ]
    }
   ],
   "source": [
    "final_body_df.show(4,truncate=False,vertical=True)"
   ]
  },
  {
   "cell_type": "code",
   "execution_count": 34,
   "id": "46fa0668",
   "metadata": {},
   "outputs": [
    {
     "data": {
      "application/vnd.jupyter.widget-view+json": {
       "model_id": "",
       "version_major": 2,
       "version_minor": 0
      },
      "text/plain": [
       "FloatProgress(value=0.0, bar_style='info', description='Progress:', layout=Layout(height='25px', width='50%'),…"
      ]
     },
     "metadata": {},
     "output_type": "display_data"
    },
    {
     "name": "stderr",
     "output_type": "stream",
     "text": [
      "An error was encountered:\n",
      "name 'fixed_data' is not defined\n",
      "Traceback (most recent call last):\n",
      "NameError: name 'fixed_data' is not defined\n",
      "\n"
     ]
    }
   ],
   "source": [
    "fixed_data"
   ]
  },
  {
   "cell_type": "code",
   "execution_count": 35,
   "id": "63a2f3a4",
   "metadata": {},
   "outputs": [
    {
     "data": {
      "application/vnd.jupyter.widget-view+json": {
       "model_id": "",
       "version_major": 2,
       "version_minor": 0
      },
      "text/plain": [
       "FloatProgress(value=0.0, bar_style='info', description='Progress:', layout=Layout(height='25px', width='50%'),…"
      ]
     },
     "metadata": {},
     "output_type": "display_data"
    },
    {
     "name": "stdout",
     "output_type": "stream",
     "text": [
      "[('metro_monthly_001', 'header_record_length_count', 'header', 'header_record_length_count', 1, 4), ('metro_monthly_001', 'ssn', 'body_base_segment', 'ssn', 298, 306), ('metro_monthly_001', 'block_count', 'footer', 'block_count', 57, 65), ('metro_monthly_001', 'ssn_base_segment_count', 'footer', 'ssn_base_segment_count', 336, 344), ('metro_monthly_001', 'ssn_j1_segment_count', 'footer', 'ssn_j1_segment_count', 345, 353), ('metro_monthly_001', 'ssn_j2_segment_count', 'footer', 'ssn_j2_segment_count', 354, 362), ('metro_monthly_001', 'birth_date_all_segment_count', 'footer', 'birth_date_all_segment_count', 363, 371), ('metro_monthly_001', 'birth_date_base_segment_count', 'footer', 'birth_date_base_segment_count', 372, 380), ('metro_monthly_001', 'birth_date_j1_segment_count', 'footer', 'birth_date_j1_segment_count', 381, 389), ('metro_monthly_001', 'birth_date_j2_segment_count', 'footer', 'birth_date_j2_segment_count', 390, 398), ('metro_monthly_001', 'phone_number_all_segment_count', 'footer', 'phone_number_all_segment_count', 399, 407), ('metro_monthly_001', 'trailer_reserved_2', 'footer', 'trailer_reserved_2', 408, 408), ('metro_monthly_001', 'cycle_identifier_code', 'body_base_segment', 'cycle_identifier_code', 41, 42), ('metro_monthly_001', 'transunion_program_identifier', 'header', 'transunion_program_identifier', 38, 47), ('metro_monthly_001', 'activity_date', 'header', 'activity_date', 48, 55), ('metro_monthly_001', 'created_date', 'header', 'created_date', 56, 63), ('metro_monthly_001', 'program_date', 'header', 'program_date', 64, 71), ('metro_monthly_001', 'program_revision_date', 'header', 'program_revision_date', 72, 79), ('metro_monthly_001', 'reporter_name', 'header', 'reporter_name', 80, 119), ('metro_monthly_001', 'reporter_address', 'header', 'reporter_address', 120, 215), ('metro_monthly_001', 'reporter_phone_number', 'header', 'reporter_phone_number', 216, 225), ('metro_monthly_001', 'software_vendor_name', 'header', 'software_vendor_name', 226, 265), ('metro_monthly_001', 'software_version_number', 'header', 'software_version_number', 266, 270), ('metro_monthly_001', 'record_length_count', 'body_base_segment', 'record_length_count', 1, 4), ('metro_monthly_001', 'credit_limit_amount', 'body_base_segment', 'credit_limit_amount', 84, 92), ('metro_monthly_001', 'highest_credit_or_loan_amount', 'body_base_segment', 'highest_credit_or_loan_amount', 93, 101), ('metro_monthly_001', 'scheduled_monthly_payment_amount', 'body_base_segment', 'scheduled_monthly_payment_amount', 106, 114), ('metro_monthly_001', 'actual_payment_amount', 'body_base_segment', 'actual_payment_amount', 115, 123), ('metro_monthly_001', 'current_balance', 'body_base_segment', 'current_balance', 155, 163), ('metro_monthly_001', 'past_due_amount', 'body_base_segment', 'past_due_amount', 164, 172), ('metro_monthly_001', 'original_charge_off_amount', 'body_base_segment', 'original_charge_off_amount', 173, 181), ('metro_monthly_001', 'account_information_date', 'body_base_segment', 'account_information_date', 182, 189), ('metro_monthly_001', 'city', 'body_base_segment', 'city', 394, 413), ('metro_monthly_001', 'k2_purchased_sold_indicator', 'body_k2_segment', 'k2_purchased_sold_indicator', 763, 763), ('metro_monthly_001', 'k4_balloon_payment_amount', 'body_k4_segment', 'k4_balloon_payment_amount', 855, 863), ('metro_monthly_001', 'l1_change_indicator', 'body_l1_segment', 'l1_change_indicator', 867, 867), ('metro_monthly_001', 'trailer_record_length_count', 'footer', 'trailer_record_length_count', 1, 4), ('metro_monthly_001', 'base_record_count', 'footer', 'base_record_count', 12, 20), ('metro_monthly_001', 'status_code_df_count', 'footer', 'status_code_df_count', 30, 38), ('metro_monthly_001', 'j1_customer_segment_count', 'footer', 'j1_customer_segment_count', 39, 47), ('metro_monthly_001', 'j2_customer_segment_count', 'footer', 'j2_customer_segment_count', 48, 56), ('metro_monthly_001', 'status_code_da_count', 'footer', 'status_code_da_count', 66, 74), ('metro_monthly_001', 'status_code_05_count', 'footer', 'status_code_05_count', 75, 83), ('metro_monthly_001', 'status_code_11_count', 'footer', 'status_code_11_count', 84, 92), ('metro_monthly_001', 'status_code_13_count', 'footer', 'status_code_13_count', 93, 101), ('metro_monthly_001', 'status_code_61_count', 'footer', 'status_code_61_count', 102, 110), ('metro_monthly_001', 'status_code_62_count', 'footer', 'status_code_62_count', 111, 119), ('metro_monthly_001', 'status_code_63_count', 'footer', 'status_code_63_count', 120, 128), ('metro_monthly_001', 'status_code_64_count', 'footer', 'status_code_64_count', 129, 137), ('metro_monthly_001', 'status_code_65_count', 'footer', 'status_code_65_count', 138, 146), ('metro_monthly_001', 'status_code_71_count', 'footer', 'status_code_71_count', 147, 155), ('metro_monthly_001', 'status_code_78_count', 'footer', 'status_code_78_count', 156, 164), ('metro_monthly_001', 'status_code_80_count', 'footer', 'status_code_80_count', 165, 173), ('metro_monthly_001', 'status_code_82_count', 'footer', 'status_code_82_count', 174, 182), ('metro_monthly_001', 'status_code_83_count', 'footer', 'status_code_83_count', 183, 191), ('metro_monthly_001', 'status_code_84_count', 'footer', 'status_code_84_count', 192, 200), ('metro_monthly_001', 'status_code_88_count', 'footer', 'status_code_88_count', 201, 209), ('metro_monthly_001', 'status_code_89_count', 'footer', 'status_code_89_count', 210, 218), ('metro_monthly_001', 'status_code_93_count', 'footer', 'status_code_93_count', 219, 227), ('metro_monthly_001', 'status_code_94_count', 'footer', 'status_code_94_count', 228, 236), ('metro_monthly_001', 'status_code_95_count', 'footer', 'status_code_95_count', 237, 245), ('metro_monthly_001', 'status_code_96_count', 'footer', 'status_code_96_count', 246, 254), ('metro_monthly_001', 'status_code_97_count', 'footer', 'status_code_97_count', 255, 263), ('metro_monthly_001', 'ecoa_code_z_count', 'footer', 'ecoa_code_z_count', 264, 272), ('metro_monthly_001', 'employment_segment_count', 'footer', 'employment_segment_count', 273, 281), ('metro_monthly_001', 'original_creditor_segment_count', 'footer', 'original_creditor_segment_count', 282, 290), ('metro_monthly_001', 'purchased_sold_segment_count', 'footer', 'purchased_sold_segment_count', 291, 299), ('metro_monthly_001', 'mortgage_segment_count', 'footer', 'mortgage_segment_count', 300, 308), ('metro_monthly_001', 'specialized_payment_segment_count', 'footer', 'specialized_payment_segment_count', 309, 317), ('metro_monthly_001', 'change_segment_count', 'footer', 'change_segment_count', 318, 326), ('metro_monthly_001', 'ssn_all_segment_count', 'footer', 'ssn_all_segment_count', 327, 335), ('metro_monthly_001', 'account_information_time', 'body_base_segment', 'account_information_time', 6, 19), ('metro_monthly_001', 'microbilt_prbc_program_identifier', 'header', 'microbilt_prbc_program_identifier', 271, 280), ('metro_monthly_001', 'header_reserved', 'header', 'header_reserved', 281, 427), ('metro_monthly_001', 'processing_indicator', 'body_base_segment', 'processing_indicator', 5, 5), ('metro_monthly_001', 'reserved_1', 'body_base_segment', 'reserved_1', 20, 20), ('metro_monthly_001', 'reporter_identification_number', 'body_base_segment', 'reporter_identification_number', 21, 40), ('metro_monthly_001', 'consumer_account_number', 'body_base_segment', 'consumer_account_number', 43, 72), ('metro_monthly_001', 'portfolio_type_code', 'body_base_segment', 'portfolio_type_code', 73, 73), ('metro_monthly_001', 'account_type', 'body_base_segment', 'account_type', 74, 75), ('metro_monthly_001', 'opened_date', 'body_base_segment', 'opened_date', 76, 83), ('metro_monthly_001', 'term_duration_code', 'body_base_segment', 'term_duration_code', 102, 104), ('metro_monthly_001', 'term_frequency_code', 'body_base_segment', 'term_frequency_code', 105, 105), ('metro_monthly_001', 'account_status', 'body_base_segment', 'account_status', 124, 125), ('metro_monthly_001', 'payment_rating_code', 'body_base_segment', 'payment_rating_code', 126, 126), ('metro_monthly_001', 'payment_history_profile', 'body_base_segment', 'payment_history_profile', 127, 150), ('metro_monthly_001', 'special_comment_code', 'body_base_segment', 'special_comment_code', 151, 152), ('metro_monthly_001', 'compliance_condition_code', 'body_base_segment', 'compliance_condition_code', 153, 154), ('metro_monthly_001', 'fcra_first_delinquency_date', 'body_base_segment', 'fcra_first_delinquency_date', 190, 197), ('metro_monthly_001', 'closed_date', 'body_base_segment', 'closed_date', 198, 205), ('metro_monthly_001', 'last_payment_date', 'body_base_segment', 'last_payment_date', 206, 213), ('metro_monthly_001', 'interest_type_indicator', 'body_base_segment', 'interest_type_indicator', 214, 214), ('metro_monthly_001', 'reserved_2', 'body_base_segment', 'reserved_2', 215, 231), ('metro_monthly_001', 'last_name', 'body_base_segment', 'last_name', 232, 256), ('metro_monthly_001', 'first_name', 'body_base_segment', 'first_name', 257, 276), ('metro_monthly_001', 'middle_name', 'body_base_segment', 'middle_name', 277, 296), ('metro_monthly_001', 'generation_code', 'body_base_segment', 'generation_code', 297, 297), ('metro_monthly_001', 'birth_date', 'body_base_segment', 'birth_date', 307, 314), ('metro_monthly_001', 'phone_number', 'body_base_segment', 'phone_number', 315, 324), ('metro_monthly_001', 'ecoa_code', 'body_base_segment', 'ecoa_code', 325, 325), ('metro_monthly_001', 'consumer_information_code', 'body_base_segment', 'consumer_information_code', 326, 327), ('metro_monthly_001', 'country_code', 'body_base_segment', 'country_code', 328, 329), ('metro_monthly_001', 'address_1', 'body_base_segment', 'address_1', 330, 361), ('metro_monthly_001', 'address_2', 'body_base_segment', 'address_2', 362, 393), ('metro_monthly_001', 'state', 'body_base_segment', 'state', 414, 415), ('metro_monthly_001', 'zip_code', 'body_base_segment', 'zip_code', 416, 424), ('metro_monthly_001', 'address_indicator_code', 'body_base_segment', 'address_indicator_code', 425, 425), ('metro_monthly_001', 'residence_code', 'body_base_segment', 'residence_code', 426, 426), ('metro_monthly_001', 'j1_segment_identifier', 'body_j1_segment', 'j1_segment_identifier', 427, 428), ('metro_monthly_001', 'j1_reserved_1', 'body_j1_segment', 'j1_reserved_1', 429, 429), ('metro_monthly_001', 'j1_last_name', 'body_j1_segment', 'j1_last_name', 430, 454), ('metro_monthly_001', 'j1_first_name', 'body_j1_segment', 'j1_first_name', 455, 474), ('metro_monthly_001', 'j1_middle_name', 'body_j1_segment', 'j1_middle_name', 475, 494), ('metro_monthly_001', 'j1_generation_code', 'body_j1_segment', 'j1_generation_code', 495, 495), ('metro_monthly_001', 'j1_ssn', 'body_j1_segment', 'j1_ssn', 496, 504), ('metro_monthly_001', 'j1_birth_date', 'body_j1_segment', 'j1_birth_date', 505, 512), ('metro_monthly_001', 'j1_phone_number', 'body_j1_segment', 'j1_phone_number', 513, 522), ('metro_monthly_001', 'j1_ecoa_code', 'body_j1_segment', 'j1_ecoa_code', 523, 523), ('metro_monthly_001', 'j1_consumer_information_code', 'body_j1_segment', 'j1_consumer_information_code', 524, 525), ('metro_monthly_001', 'j1_reserved_2', 'body_j1_segment', 'j1_reserved_2', 526, 526), ('metro_monthly_001', 'j2_segment_identifier', 'body_j2_segment', 'j2_segment_identifier', 527, 528), ('metro_monthly_001', 'j2_reserved_1', 'body_j2_segment', 'j2_reserved_1', 529, 529), ('metro_monthly_001', 'j2_last_name', 'body_j2_segment', 'j2_last_name', 530, 554), ('metro_monthly_001', 'j2_first_name', 'body_j2_segment', 'j2_first_name', 555, 574), ('metro_monthly_001', 'j2_middle_name', 'body_j2_segment', 'j2_middle_name', 575, 594), ('metro_monthly_001', 'j2_generation_code', 'body_j2_segment', 'j2_generation_code', 595, 595), ('metro_monthly_001', 'j2_ssn', 'body_j2_segment', 'j2_ssn', 596, 604), ('metro_monthly_001', 'j2_birth_date', 'body_j2_segment', 'j2_birth_date', 605, 612), ('metro_monthly_001', 'j2_phone_number', 'body_j2_segment', 'j2_phone_number', 613, 622), ('metro_monthly_001', 'j2_ecoa_code', 'body_j2_segment', 'j2_ecoa_code', 623, 623), ('metro_monthly_001', 'j2_consumer_information_code', 'body_j2_segment', 'j2_consumer_information_code', 624, 625), ('metro_monthly_001', 'j2_country_code', 'body_j2_segment', 'j2_country_code', 626, 627), ('metro_monthly_001', 'j2_address_1', 'body_j2_segment', 'j2_address_1', 628, 659), ('metro_monthly_001', 'j2_address_2', 'body_j2_segment', 'j2_address_2', 660, 691), ('metro_monthly_001', 'j2_city', 'body_j2_segment', 'j2_city', 692, 711), ('metro_monthly_001', 'j2_state', 'body_j2_segment', 'j2_state', 712, 713), ('metro_monthly_001', 'j2_zip_code', 'body_j2_segment', 'j2_zip_code', 714, 722), ('metro_monthly_001', 'j2_address_indicator_code', 'body_j2_segment', 'j2_address_indicator_code', 723, 723), ('metro_monthly_001', 'j2_residence_code', 'body_j2_segment', 'j2_residence_code', 724, 724), ('metro_monthly_001', 'j2_reserved_2', 'body_j2_segment', 'j2_reserved_2', 725, 726), ('metro_monthly_001', 'k1_segment_identifier', 'body_k1_segment', 'k1_segment_identifier', 727, 728), ('metro_monthly_001', 'k1_original_creditor_name', 'body_k1_segment', 'k1_original_creditor_name', 729, 758), ('metro_monthly_001', 'k1_creditor_code', 'body_k1_segment', 'k1_creditor_code', 759, 760), ('metro_monthly_001', 'k2_segment_identifier', 'body_k2_segment', 'k2_segment_identifier', 761, 762), ('metro_monthly_001', 'k2_purchased_sold_name', 'body_k2_segment', 'k2_purchased_sold_name', 764, 793), ('metro_monthly_001', 'k2_reserved', 'body_k2_segment', 'k2_reserved', 794, 794), ('metro_monthly_001', 'k3_segment_identifier', 'body_k3_segment', 'k3_segment_identifier', 795, 796), ('metro_monthly_001', 'k3_agency_code', 'body_k3_segment', 'k3_agency_code', 797, 798), ('metro_monthly_001', 'k3_account_number', 'body_k3_segment', 'k3_account_number', 799, 816), ('metro_monthly_001', 'k3_mortgage_identification_number', 'body_k3_segment', 'k3_mortgage_identification_number', 817, 834), ('metro_monthly_001', 'k4_segment_indentifier', 'body_k4_segment', 'k4_segment_indentifier', 835, 836), ('metro_monthly_001', 'k4_specialized_payment_indicator', 'body_k4_segment', 'k4_specialized_payment_indicator', 837, 838), ('metro_monthly_001', 'k4_deferred_payment_start_date', 'body_k4_segment', 'k4_deferred_payment_start_date', 839, 846), ('metro_monthly_001', 'k4_balloon_payment_due_date', 'body_k4_segment', 'k4_balloon_payment_due_date', 847, 854), ('metro_monthly_001', 'k4_reserved', 'body_k4_segment', 'k4_reserved', 864, 864), ('metro_monthly_001', 'l1_segment_identifier', 'body_l1_segment', 'l1_segment_identifier', 865, 866), ('metro_monthly_001', 'l1_new_consumer_account_number', 'body_l1_segment', 'l1_new_consumer_account_number', 868, 897), ('metro_monthly_001', 'l1_new_identification_number', 'body_l1_segment', 'l1_new_identification_number', 898, 917), ('metro_monthly_001', 'l1_reserved', 'body_l1_segment', 'l1_reserved', 918, 918), ('metro_monthly_001', 'n1_segment_identifier', 'body_n1_segment', 'n1_segment_identifier', 919, 920), ('metro_monthly_001', 'n1_employer_name', 'body_n1_segment', 'n1_employer_name', 921, 950), ('metro_monthly_001', 'n1_employer_address_1', 'body_n1_segment', 'n1_employer_address_1', 951, 982), ('metro_monthly_001', 'n1_employer_address_2', 'body_n1_segment', 'n1_employer_address_2', 983, 1014), ('metro_monthly_001', 'n1_employer_city', 'body_n1_segment', 'n1_employer_city', 1015, 1034), ('metro_monthly_001', 'n1_employer_state', 'body_n1_segment', 'n1_employer_state', 1035, 1036), ('metro_monthly_001', 'n1_employer_zip_code', 'body_n1_segment', 'n1_employer_zip_code', 1037, 1045), ('metro_monthly_001', 'n1_occupation', 'body_n1_segment', 'n1_occupation', 1046, 1063), ('metro_monthly_001', 'n1_reserved', 'body_n1_segment', 'n1_reserved', 1064, 1064), ('metro_monthly_001', 'trailer_identifier', 'footer', 'trailer_identifier', 5, 11), ('metro_monthly_001', 'trailer_reserved_1', 'footer', 'trailer_reserved_1', 21, 29), ('metro_monthly_001', 'header_identifier', 'header', 'header_identifier', 5, 10), ('metro_monthly_001', 'cycle_identifier', 'header', 'cycle_identifier', 11, 12), ('metro_monthly_001', 'innovis_program_identifier', 'header', 'innovis_program_identifier', 13, 22), ('metro_monthly_001', 'equifax_program_identifier', 'header', 'equifax_program_identifier', 23, 32), ('metro_monthly_001', 'experian_program_identifier', 'header', 'experian_program_identifier', 33, 37)]"
     ]
    }
   ],
   "source": [
    "results.co"
   ]
  },
  {
   "cell_type": "code",
   "execution_count": null,
   "id": "207f39de",
   "metadata": {},
   "outputs": [],
   "source": []
  }
 ],
 "metadata": {
  "kernelspec": {
   "display_name": "PySpark",
   "language": "python",
   "name": "pysparkkernel"
  },
  "language_info": {
   "codemirror_mode": {
    "name": "python",
    "version": 3
   },
   "file_extension": ".py",
   "mimetype": "text/x-python",
   "name": "pyspark",
   "pygments_lexer": "python3"
  }
 },
 "nbformat": 4,
 "nbformat_minor": 5
}
