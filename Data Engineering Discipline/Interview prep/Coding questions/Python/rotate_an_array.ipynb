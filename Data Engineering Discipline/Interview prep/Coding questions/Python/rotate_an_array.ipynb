{
 "cells": [
  {
   "cell_type": "code",
   "execution_count": 43,
   "metadata": {},
   "outputs": [],
   "source": [
    "# https://www.geeksforgeeks.org/c-program-cyclically-rotate-array-one/?ref=roadmap\n",
    "arr = [1, 2, 3, 4, 5]\n",
    "n = len(arr)"
   ]
  },
  {
   "cell_type": "code",
   "execution_count": 44,
   "metadata": {},
   "outputs": [
    {
     "name": "stdout",
     "output_type": "stream",
     "text": [
      "[1, 2, 3, 4, 5]\n",
      "1\n",
      "5\n",
      "2\n",
      "1\n",
      "3\n",
      "2\n",
      "4\n",
      "3\n",
      "[5, 1, 2, 3, 4]\n"
     ]
    }
   ],
   "source": [
    "print(arr)\n",
    "i = 0\n",
    "j = n - 1\n",
    "while i != j:\n",
    "    print(arr[i])\n",
    "    print(arr[j])\n",
    "    arr[i] , arr[j] = arr[j] , arr[i]\n",
    "    i = i+1\n",
    "\n",
    "print(arr)"
   ]
  },
  {
   "cell_type": "code",
   "execution_count": null,
   "metadata": {},
   "outputs": [],
   "source": []
  }
 ],
 "metadata": {
  "kernelspec": {
   "display_name": "Python 3",
   "language": "python",
   "name": "python3"
  },
  "language_info": {
   "codemirror_mode": {
    "name": "ipython",
    "version": 3
   },
   "file_extension": ".py",
   "mimetype": "text/x-python",
   "name": "python",
   "nbconvert_exporter": "python",
   "pygments_lexer": "ipython3",
   "version": "3.8.10"
  }
 },
 "nbformat": 4,
 "nbformat_minor": 2
}
