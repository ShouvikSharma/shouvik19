{
 "cells": [
  {
   "cell_type": "code",
   "execution_count": 15,
   "metadata": {},
   "outputs": [],
   "source": [
    "nums = [1,5,4,2,9,9,9]; k = 3"
   ]
  },
  {
   "cell_type": "code",
   "execution_count": 20,
   "metadata": {},
   "outputs": [
    {
     "name": "stdout",
     "output_type": "stream",
     "text": [
      "2\n"
     ]
    }
   ],
   "source": [
    "data_dict = {'2':1,'1':2}\n",
    "print(len(data_dict))"
   ]
  },
  {
   "cell_type": "code",
   "execution_count": 18,
   "metadata": {},
   "outputs": [],
   "source": [
    "i =0 ; sum = 0 ; max_sum =0\n",
    "data_dict = {}\n",
    "n = len(nums)\n",
    "for j in range(n):\n",
    "    sum += nums[j]\n",
    "\n",
    "    if nums[j] in data_dict:\n",
    "        data_dict[nums[j]] += 1\n",
    "    else:\n",
    "        data_dict[nums[j]] = 1\n",
    "\n",
    "    if j-i+1 == k:\n",
    "\n",
    "        if len(data_dict) == k:\n",
    "            max_sum = max(max_sum,sum)\n",
    "\n",
    "        sum -= nums[i]\n",
    "        data_dict[nums[i]] -= 1\n",
    "\n",
    "        if data_dict[nums[i]] == 0:\n",
    "            del data_dict[nums[i]]\n",
    "\n",
    "        i += 1\n",
    "\n"
   ]
  },
  {
   "cell_type": "code",
   "execution_count": 19,
   "metadata": {},
   "outputs": [
    {
     "name": "stdout",
     "output_type": "stream",
     "text": [
      "15\n"
     ]
    }
   ],
   "source": [
    "\n",
    "print(max_sum)"
   ]
  },
  {
   "cell_type": "code",
   "execution_count": null,
   "metadata": {},
   "outputs": [],
   "source": [
    "-- create data objects : sum, map, max_sum and starting cursor\n",
    "-- for loop to iterate over all the elements in the list\n",
    "-- 1. add each element to the sum datapoint.\n",
    "-- 2. add each element to the dictonary object.\n",
    "-- 3. if the len of the element list === k then\n",
    "-- i. if the len of the dictonary == k then take the maximum value after comparing with the previous max_sum\n",
    "-- ii. substract the first element from the sum\n",
    "-- iii. remove the first element from the dict\n",
    "-- iv. if the removed element of the data_dict is 0 then delete it\n",
    "-- v. move the cursor for i++"
   ]
  }
 ],
 "metadata": {
  "kernelspec": {
   "display_name": "3.10.0",
   "language": "python",
   "name": "python3"
  },
  "language_info": {
   "codemirror_mode": {
    "name": "ipython",
    "version": 3
   },
   "file_extension": ".py",
   "mimetype": "text/x-python",
   "name": "python",
   "nbconvert_exporter": "python",
   "pygments_lexer": "ipython3",
   "version": "3.10.0"
  }
 },
 "nbformat": 4,
 "nbformat_minor": 2
}
