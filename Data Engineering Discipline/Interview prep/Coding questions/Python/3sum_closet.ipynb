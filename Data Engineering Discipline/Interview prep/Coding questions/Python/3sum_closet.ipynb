{
 "cells": [
  {
   "cell_type": "code",
   "execution_count": 12,
   "metadata": {},
   "outputs": [],
   "source": [
    "nums = [1,1,1]\n",
    "target = 2"
   ]
  },
  {
   "cell_type": "code",
   "execution_count": 13,
   "metadata": {},
   "outputs": [
    {
     "name": "stdout",
     "output_type": "stream",
     "text": [
      "1\n"
     ]
    }
   ],
   "source": [
    "nums = sorted(nums)\n",
    "n_value = len(nums)\n",
    "diff = float('inf')\n",
    "for i,n in enumerate(nums):\n",
    "    start = i+1\n",
    "    end = n_value - 1\n",
    "    ans = 0 \n",
    "\n",
    "    while start < end:\n",
    "        sum_value = nums[i] + nums[start] + nums[end]\n",
    "\n",
    "        if sum_value == target:\n",
    "            print(sum_value)\n",
    "        \n",
    "        elif target > sum_value:\n",
    "            start += 1\n",
    "        \n",
    "        else:\n",
    "            end -= 1\n",
    "\n",
    "        diff = min(abs(target - sum_value), diff)\n",
    "\n",
    "print(diff)\n",
    "\n",
    "\n",
    "\n",
    "\n"
   ]
  },
  {
   "cell_type": "code",
   "execution_count": null,
   "metadata": {},
   "outputs": [],
   "source": []
  },
  {
   "cell_type": "code",
   "execution_count": null,
   "metadata": {},
   "outputs": [],
   "source": []
  }
 ],
 "metadata": {
  "kernelspec": {
   "display_name": "3.10.0",
   "language": "python",
   "name": "python3"
  },
  "language_info": {
   "codemirror_mode": {
    "name": "ipython",
    "version": 3
   },
   "file_extension": ".py",
   "mimetype": "text/x-python",
   "name": "python",
   "nbconvert_exporter": "python",
   "pygments_lexer": "ipython3",
   "version": "3.10.0"
  }
 },
 "nbformat": 4,
 "nbformat_minor": 2
}
