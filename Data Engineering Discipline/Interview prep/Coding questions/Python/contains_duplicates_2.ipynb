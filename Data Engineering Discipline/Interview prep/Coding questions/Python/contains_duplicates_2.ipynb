{
 "cells": [
  {
   "cell_type": "code",
   "execution_count": 5,
   "metadata": {},
   "outputs": [
    {
     "name": "stdout",
     "output_type": "stream",
     "text": [
      "True\n",
      "False\n"
     ]
    }
   ],
   "source": [
    "###########  https://leetcode.com/problems/contains-duplicate-ii/description/?envType=problem-list-v2&envId=hash-table\n",
    "\n",
    "hset = {}\n",
    "k = 3\n",
    "nums = [1,2,3,1]\n",
    "for i in range(len(nums)):\n",
    "    if nums[i] in hset and abs(nums[i]- hset[nums[i ]]) <= k:\n",
    "        print(True)\n",
    "        break\n",
    "    hset[nums[i]] = i\n",
    "print(False)"
   ]
  },
  {
   "cell_type": "code",
   "execution_count": null,
   "metadata": {},
   "outputs": [],
   "source": []
  }
 ],
 "metadata": {
  "kernelspec": {
   "display_name": "Python 3",
   "language": "python",
   "name": "python3"
  },
  "language_info": {
   "codemirror_mode": {
    "name": "ipython",
    "version": 3
   },
   "file_extension": ".py",
   "mimetype": "text/x-python",
   "name": "python",
   "nbconvert_exporter": "python",
   "pygments_lexer": "ipython3",
   "version": "3.8.10"
  }
 },
 "nbformat": 4,
 "nbformat_minor": 2
}
