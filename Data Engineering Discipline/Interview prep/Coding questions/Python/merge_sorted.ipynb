{
 "cells": [
  {
   "cell_type": "code",
   "execution_count": 15,
   "metadata": {},
   "outputs": [],
   "source": [
    "# You are given two integer arrays nums1 and nums2, sorted in non-decreasing order, and two integers m and n, representing the number of elements in nums1 and nums2 respectively.\n",
    "\n",
    "# Merge nums1 and nums2 into a single array sorted in non-decreasing order.\n",
    "\n",
    "# The final sorted array should not be returned by the function, but instead be stored inside the array nums1. To accommodate this, nums1 has a length of m + n, where the first m elements denote the elements that should be merged, and the last n elements are set to 0 and should be ignored. nums2 has a length of n.\n",
    "\n",
    "nums1 = [4,5,6,0,0,0]\n",
    "\n",
    "m = 3\n",
    "nums2 = [1,2,3]\n",
    "n = 3"
   ]
  },
  {
   "cell_type": "code",
   "execution_count": 16,
   "metadata": {},
   "outputs": [
    {
     "name": "stdout",
     "output_type": "stream",
     "text": [
      "Before sorting [4, 5, 6, 1, 2, 3]\n",
      "After sorting [4, 5, 1, 2, 3, 6]\n"
     ]
    }
   ],
   "source": [
    "for j in range(0,n):        \n",
    "    nums1[j+m] = nums2[j]\n",
    "\n",
    "print(\"Before sorting\",nums1)\n",
    "\n",
    "for i in range (0,(m+n)-1):\n",
    "    if nums1[i] > nums1[i+1]:\n",
    "        temp = nums1[i]\n",
    "        nums1[i] = nums1[i+1]\n",
    "        nums1[i+1] = temp\n",
    "    else:\n",
    "        continue\n",
    "\n",
    "print(\"After sorting\",nums1)"
   ]
  },
  {
   "cell_type": "code",
   "execution_count": null,
   "metadata": {},
   "outputs": [],
   "source": []
  }
 ],
 "metadata": {
  "kernelspec": {
   "display_name": "3.10.0",
   "language": "python",
   "name": "python3"
  },
  "language_info": {
   "codemirror_mode": {
    "name": "ipython",
    "version": 3
   },
   "file_extension": ".py",
   "mimetype": "text/x-python",
   "name": "python",
   "nbconvert_exporter": "python",
   "pygments_lexer": "ipython3",
   "version": "3.10.0"
  }
 },
 "nbformat": 4,
 "nbformat_minor": 2
}
