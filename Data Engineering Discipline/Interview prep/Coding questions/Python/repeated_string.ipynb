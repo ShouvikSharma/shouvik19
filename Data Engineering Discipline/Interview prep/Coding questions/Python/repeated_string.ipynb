{
 "cells": [
  {
   "cell_type": "code",
   "execution_count": null,
   "metadata": {},
   "outputs": [],
   "source": [
    "# Given a string s, check if it can be constructed by taking a substring of it and appending multiple copies of the substring together.\n",
    "\n",
    " \n",
    "\n",
    "# Example 1:\n",
    "\n",
    "# Input: s = \"abab\"\n",
    "# Output: true\n",
    "# Explanation: It is the substring \"ab\" twice.\n",
    "# Example 2:\n",
    "\n",
    "# Input: s = \"aba\"\n",
    "# Output: false\n",
    "# Example 3:\n",
    "\n",
    "# Input: s = \"abcabcabcabc\"\n",
    "# Output: true\n",
    "# Explanation: It is the substring \"abc\" four times or the substring \"abcabc\" twice.\n",
    "\n",
    "# https://leetcode.com/problems/repeated-substring-pattern/\n"
   ]
  },
  {
   "cell_type": "code",
   "execution_count": 1,
   "metadata": {},
   "outputs": [],
   "source": [
    "s = \"abab\""
   ]
  },
  {
   "cell_type": "code",
   "execution_count": 24,
   "metadata": {},
   "outputs": [
    {
     "name": "stdout",
     "output_type": "stream",
     "text": [
      "True\n"
     ]
    }
   ],
   "source": [
    "n = len(s)\n",
    "for i in range(1,(n//2)+1):\n",
    "    substring = s[:i]\n",
    "    if substring * (n//i) == s:\n",
    "        print(\"True\")\n",
    "        break\n"
   ]
  },
  {
   "cell_type": "code",
   "execution_count": 19,
   "metadata": {},
   "outputs": [
    {
     "data": {
      "text/plain": [
       "1"
      ]
     },
     "execution_count": 19,
     "metadata": {},
     "output_type": "execute_result"
    }
   ],
   "source": [
    "3//2"
   ]
  },
  {
   "cell_type": "code",
   "execution_count": null,
   "metadata": {},
   "outputs": [],
   "source": []
  }
 ],
 "metadata": {
  "kernelspec": {
   "display_name": "Python 3",
   "language": "python",
   "name": "python3"
  },
  "language_info": {
   "codemirror_mode": {
    "name": "ipython",
    "version": 3
   },
   "file_extension": ".py",
   "mimetype": "text/x-python",
   "name": "python",
   "nbconvert_exporter": "python",
   "pygments_lexer": "ipython3",
   "version": "3.8.10"
  }
 },
 "nbformat": 4,
 "nbformat_minor": 2
}
