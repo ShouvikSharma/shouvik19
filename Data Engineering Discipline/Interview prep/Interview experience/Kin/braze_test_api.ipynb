{
 "cells": [
  {
   "cell_type": "code",
   "execution_count": 8,
   "metadata": {},
   "outputs": [],
   "source": [
    "# import trellis\n",
    "# from datalakeutils.connectors.dremio_db import DremioDB\n",
    "import io\n",
    "import os\n",
    "import re\n",
    "import numpy as np\n",
    "import pandas as pd\n",
    "import boto3\n",
    "import pyarrow\n",
    "import http.client\n",
    "import json\n",
    "import pandas as pd\n",
    "from dotenv import load_dotenv\n",
    "import datetime \n",
    "\n",
    "# load_dotenv()"
   ]
  },
  {
   "cell_type": "code",
   "execution_count": 9,
   "metadata": {},
   "outputs": [],
   "source": [
    "key = 'ae6fa679-ff73-4d55-b6e8-78dfceb0c140'\n",
    "rest_endpoint = 'rest.iad-06'\n",
    "base_url = \"https://rest.iad-06.braze.com/email/unsubscribes\"\n"
   ]
  },
  {
   "cell_type": "code",
   "execution_count": 10,
   "metadata": {},
   "outputs": [
    {
     "data": {
      "text/plain": [
       "'rest.iad-06'"
      ]
     },
     "execution_count": 10,
     "metadata": {},
     "output_type": "execute_result"
    }
   ],
   "source": [
    "rest_endpoint"
   ]
  },
  {
   "cell_type": "code",
   "execution_count": 11,
   "metadata": {},
   "outputs": [],
   "source": [
    "conn = http.client.HTTPSConnection(\"{}.braze.com\".format(rest_endpoint)) \n",
    "headers = {\n",
    "    'Content-Type': \"application/json\",\n",
    "    'Authorization': 'Bearer {api_key}'.format(api_key = key)\n",
    "    }"
   ]
  },
  {
   "cell_type": "code",
   "execution_count": 114,
   "metadata": {},
   "outputs": [],
   "source": [
    "delta=-1 # fetching api data of last 1 day\n",
    "start_date_value = datetime.date.today() + datetime.timedelta(delta)\n",
    "end_date_value = datetime.date.today()\n",
    "\n",
    "start_date = datetime.datetime.strptime(str(start_date_value), '%Y-%m-%d').date()\n",
    "end_date = datetime.datetime.strptime(str(end_date_value), '%Y-%m-%d').date()\n",
    "base_url = \"https://rest.iad-06.braze.com/email/unsubscribes\""
   ]
  },
  {
   "cell_type": "code",
   "execution_count": 115,
   "metadata": {},
   "outputs": [
    {
     "data": {
      "text/plain": [
       "'https://rest.iad-06.braze.com/email/unsubscribes?start_date=2024-02-08&end_date=2024-02-09&limit=500&offset=100'"
      ]
     },
     "execution_count": 115,
     "metadata": {},
     "output_type": "execute_result"
    }
   ],
   "source": [
    "\"{base_url}?start_date={start_date}&end_date={end_date}&limit=500&offset={i}\".format(base_url = base_url, i = offset,end_date = end_date,start_date=start_date)"
   ]
  },
  {
   "cell_type": "code",
   "execution_count": 123,
   "metadata": {},
   "outputs": [],
   "source": [
    "df = pd.DataFrame()\n",
    "conn.request(\"GET\", \"{base_url}?start_date={start_date}&end_date={end_date}&limit=500&offset={i}\".format(base_url = base_url, i = offset,end_date = end_date,start_date=start_date), headers=headers)\n",
    "res = conn.getresponse()"
   ]
  },
  {
   "cell_type": "code",
   "execution_count": 124,
   "metadata": {},
   "outputs": [
    {
     "data": {
      "text/plain": [
       "<http.client.HTTPResponse at 0x14cd36400>"
      ]
     },
     "execution_count": 124,
     "metadata": {},
     "output_type": "execute_result"
    }
   ],
   "source": [
    "res"
   ]
  },
  {
   "cell_type": "code",
   "execution_count": 125,
   "metadata": {},
   "outputs": [],
   "source": [
    "data = res.read()\n",
    "user_info = json.loads(data.decode(\"utf-8\"))"
   ]
  },
  {
   "cell_type": "code",
   "execution_count": 137,
   "metadata": {},
   "outputs": [],
   "source": [
    "df = pd.DataFrame(user_info)"
   ]
  },
  {
   "cell_type": "code",
   "execution_count": 140,
   "metadata": {},
   "outputs": [],
   "source": [
    "data = df.join(pd.json_normalize(df['emails']),)"
   ]
  },
  {
   "cell_type": "code",
   "execution_count": 141,
   "metadata": {},
   "outputs": [
    {
     "data": {
      "text/html": [
       "<div>\n",
       "<style scoped>\n",
       "    .dataframe tbody tr th:only-of-type {\n",
       "        vertical-align: middle;\n",
       "    }\n",
       "\n",
       "    .dataframe tbody tr th {\n",
       "        vertical-align: top;\n",
       "    }\n",
       "\n",
       "    .dataframe thead th {\n",
       "        text-align: right;\n",
       "    }\n",
       "</style>\n",
       "<table border=\"1\" class=\"dataframe\">\n",
       "  <thead>\n",
       "    <tr style=\"text-align: right;\">\n",
       "      <th></th>\n",
       "      <th>emails</th>\n",
       "      <th>message</th>\n",
       "      <th>email</th>\n",
       "      <th>unsubscribed_at</th>\n",
       "    </tr>\n",
       "  </thead>\n",
       "  <tbody>\n",
       "    <tr>\n",
       "      <th>0</th>\n",
       "      <td>{'email': 'joromart20@outlook.com', 'unsubscri...</td>\n",
       "      <td>success</td>\n",
       "      <td>joromart20@outlook.com</td>\n",
       "      <td>2024-02-08T21:59:06Z</td>\n",
       "    </tr>\n",
       "    <tr>\n",
       "      <th>1</th>\n",
       "      <td>{'email': 'kimmfritz@outlook.com', 'unsubscrib...</td>\n",
       "      <td>success</td>\n",
       "      <td>kimmfritz@outlook.com</td>\n",
       "      <td>2024-02-08T21:59:03Z</td>\n",
       "    </tr>\n",
       "    <tr>\n",
       "      <th>2</th>\n",
       "      <td>{'email': 'sjd132@hotmail.com', 'unsubscribed_...</td>\n",
       "      <td>success</td>\n",
       "      <td>sjd132@hotmail.com</td>\n",
       "      <td>2024-02-08T21:58:56Z</td>\n",
       "    </tr>\n",
       "    <tr>\n",
       "      <th>3</th>\n",
       "      <td>{'email': 'roggie01@wi.rr.com', 'unsubscribed_...</td>\n",
       "      <td>success</td>\n",
       "      <td>roggie01@wi.rr.com</td>\n",
       "      <td>2024-02-08T21:58:52Z</td>\n",
       "    </tr>\n",
       "    <tr>\n",
       "      <th>4</th>\n",
       "      <td>{'email': 'tonyrc4par@icloud.com', 'unsubscrib...</td>\n",
       "      <td>success</td>\n",
       "      <td>tonyrc4par@icloud.com</td>\n",
       "      <td>2024-02-08T21:58:49Z</td>\n",
       "    </tr>\n",
       "    <tr>\n",
       "      <th>...</th>\n",
       "      <td>...</td>\n",
       "      <td>...</td>\n",
       "      <td>...</td>\n",
       "      <td>...</td>\n",
       "    </tr>\n",
       "    <tr>\n",
       "      <th>495</th>\n",
       "      <td>{'email': 'katherine.reyes26@hotmail.com', 'un...</td>\n",
       "      <td>success</td>\n",
       "      <td>katherine.reyes26@hotmail.com</td>\n",
       "      <td>2024-02-08T21:37:14Z</td>\n",
       "    </tr>\n",
       "    <tr>\n",
       "      <th>496</th>\n",
       "      <td>{'email': 'raymond.rodriguez1956@gmail.com', '...</td>\n",
       "      <td>success</td>\n",
       "      <td>raymond.rodriguez1956@gmail.com</td>\n",
       "      <td>2024-02-08T21:37:11Z</td>\n",
       "    </tr>\n",
       "    <tr>\n",
       "      <th>497</th>\n",
       "      <td>{'email': 'dawnmoyerads@yahoo.com', 'unsubscri...</td>\n",
       "      <td>success</td>\n",
       "      <td>dawnmoyerads@yahoo.com</td>\n",
       "      <td>2024-02-08T21:37:09Z</td>\n",
       "    </tr>\n",
       "    <tr>\n",
       "      <th>498</th>\n",
       "      <td>{'email': 'suzannecarden@zohomail.com', 'unsub...</td>\n",
       "      <td>success</td>\n",
       "      <td>suzannecarden@zohomail.com</td>\n",
       "      <td>2024-02-08T21:37:09Z</td>\n",
       "    </tr>\n",
       "    <tr>\n",
       "      <th>499</th>\n",
       "      <td>{'email': 'cisolis1@yahoo.com', 'unsubscribed_...</td>\n",
       "      <td>success</td>\n",
       "      <td>cisolis1@yahoo.com</td>\n",
       "      <td>2024-02-08T21:37:01Z</td>\n",
       "    </tr>\n",
       "  </tbody>\n",
       "</table>\n",
       "<p>500 rows × 4 columns</p>\n",
       "</div>"
      ],
      "text/plain": [
       "                                                emails  message  \\\n",
       "0    {'email': 'joromart20@outlook.com', 'unsubscri...  success   \n",
       "1    {'email': 'kimmfritz@outlook.com', 'unsubscrib...  success   \n",
       "2    {'email': 'sjd132@hotmail.com', 'unsubscribed_...  success   \n",
       "3    {'email': 'roggie01@wi.rr.com', 'unsubscribed_...  success   \n",
       "4    {'email': 'tonyrc4par@icloud.com', 'unsubscrib...  success   \n",
       "..                                                 ...      ...   \n",
       "495  {'email': 'katherine.reyes26@hotmail.com', 'un...  success   \n",
       "496  {'email': 'raymond.rodriguez1956@gmail.com', '...  success   \n",
       "497  {'email': 'dawnmoyerads@yahoo.com', 'unsubscri...  success   \n",
       "498  {'email': 'suzannecarden@zohomail.com', 'unsub...  success   \n",
       "499  {'email': 'cisolis1@yahoo.com', 'unsubscribed_...  success   \n",
       "\n",
       "                               email       unsubscribed_at  \n",
       "0             joromart20@outlook.com  2024-02-08T21:59:06Z  \n",
       "1              kimmfritz@outlook.com  2024-02-08T21:59:03Z  \n",
       "2                 sjd132@hotmail.com  2024-02-08T21:58:56Z  \n",
       "3                 roggie01@wi.rr.com  2024-02-08T21:58:52Z  \n",
       "4              tonyrc4par@icloud.com  2024-02-08T21:58:49Z  \n",
       "..                               ...                   ...  \n",
       "495    katherine.reyes26@hotmail.com  2024-02-08T21:37:14Z  \n",
       "496  raymond.rodriguez1956@gmail.com  2024-02-08T21:37:11Z  \n",
       "497           dawnmoyerads@yahoo.com  2024-02-08T21:37:09Z  \n",
       "498       suzannecarden@zohomail.com  2024-02-08T21:37:09Z  \n",
       "499               cisolis1@yahoo.com  2024-02-08T21:37:01Z  \n",
       "\n",
       "[500 rows x 4 columns]"
      ]
     },
     "execution_count": 141,
     "metadata": {},
     "output_type": "execute_result"
    }
   ],
   "source": [
    "data"
   ]
  },
  {
   "cell_type": "code",
   "execution_count": null,
   "metadata": {},
   "outputs": [],
   "source": []
  }
 ],
 "metadata": {
  "kernelspec": {
   "display_name": "Python 3",
   "language": "python",
   "name": "python3"
  },
  "language_info": {
   "codemirror_mode": {
    "name": "ipython",
    "version": 3
   },
   "file_extension": ".py",
   "mimetype": "text/x-python",
   "name": "python",
   "nbconvert_exporter": "python",
   "pygments_lexer": "ipython3",
   "version": "3.8.10"
  }
 },
 "nbformat": 4,
 "nbformat_minor": 2
}
