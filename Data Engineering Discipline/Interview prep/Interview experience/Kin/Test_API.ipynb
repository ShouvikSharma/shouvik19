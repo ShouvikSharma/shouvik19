{
 "cells": [
  {
   "cell_type": "code",
   "execution_count": 1,
   "id": "a422cbdd-9c23-4a99-8e80-4fe662e0afa6",
   "metadata": {},
   "outputs": [
    {
     "data": {
      "text/html": [
       "\n",
       "        <iframe\n",
       "            width=\"700\"\n",
       "            height=\"450\"\n",
       "            src=\"https://data.fortworthtexas.gov/resource/k6ic-7kp7.json?case_no=180003105\"\n",
       "            frameborder=\"0\"\n",
       "            allowfullscreen\n",
       "            \n",
       "        ></iframe>\n",
       "        "
      ],
      "text/plain": [
       "<IPython.lib.display.IFrame at 0x7f3ae478f8b0>"
      ]
     },
     "execution_count": 1,
     "metadata": {},
     "output_type": "execute_result"
    }
   ],
   "source": [
    "from IPython.display import IFrame\n",
    "\n",
    "IFrame('https://data.fortworthtexas.gov/resource/k6ic-7kp7.json?case_no=180003105', width = 700, height = 450)\n"
   ]
  },
  {
   "cell_type": "code",
   "execution_count": 2,
   "id": "dbdec71f-adde-4863-b633-f93af9ede526",
   "metadata": {},
   "outputs": [],
   "source": [
    "# This is the API endpoint - the source of our data\n",
    "endpoint = \"https://data.fortworthtexas.gov/resource/k6ic-7kp7.json\"\n",
    "\n",
    "# Here is the first part of the SoQL query - denoting what type of offense we want\n",
    "type_query = \"?$where=nature_of_call='THEFT'\"\n",
    "\n",
    "# Here is the second part of the query - we are taking offenses after midnight on December 1, \n",
    "# and prior to midnight on January 1\n",
    "date_query = \" AND reported_date>'2019-01-01T00:00:00' AND reported_date<'2020-01-01T00:00:00' &$limit=50000\"\n",
    "\n",
    "# We then concatenate together the endpoint and the two components of the SoQL query\n",
    "# to get our API call.\n",
    "theft_call = endpoint + type_query + date_query"
   ]
  },
  {
   "cell_type": "code",
   "execution_count": 4,
   "id": "48a909c7-2d2a-4d6f-9bc3-d17fcd1aa1c8",
   "metadata": {
    "collapsed": true,
    "jupyter": {
     "outputs_hidden": true
    },
    "tags": []
   },
   "outputs": [
    {
     "data": {
      "text/html": [
       "\n",
       "        <iframe\n",
       "            width=\"500\"\n",
       "            height=\"700\"\n",
       "            src=\"https://data.fortworthtexas.gov/resource/k6ic-7kp7.json?$where=nature_of_call='THEFT' AND reported_date>'2019-01-01T00:00:00' AND reported_date<'2020-01-01T00:00:00' &$limit=50000\"\n",
       "            frameborder=\"0\"\n",
       "            allowfullscreen\n",
       "            \n",
       "        ></iframe>\n",
       "        "
      ],
      "text/plain": [
       "<IPython.lib.display.IFrame at 0x7f3ae478f7c0>"
      ]
     },
     "execution_count": 4,
     "metadata": {},
     "output_type": "execute_result"
    }
   ],
   "source": [
    "IFrame(theft_call,width = 500, height = 700)"
   ]
  },
  {
   "cell_type": "code",
   "execution_count": 21,
   "id": "06010e37-fda1-4d50-8628-045016b6eee6",
   "metadata": {},
   "outputs": [
    {
     "data": {
      "text/plain": [
       "\"https://data.fortworthtexas.gov/resource/k6ic-7kp7.json?$where=nature_of_call='THEFT' AND reported_date>'2019-01-01T00:00:00' AND reported_date<'2020-01-01T00:00:00' &$limit=50000\""
      ]
     },
     "execution_count": 21,
     "metadata": {},
     "output_type": "execute_result"
    }
   ],
   "source": [
    "theft_call"
   ]
  },
  {
   "cell_type": "code",
   "execution_count": 22,
   "id": "9ca9da55-1637-4a9f-b825-dcde3d89886c",
   "metadata": {},
   "outputs": [],
   "source": [
    "from urllib.parse import quote\n",
    "\n",
    "formatted_call = quote(theft_call , safe = \"/:?$=<->&\")"
   ]
  },
  {
   "cell_type": "code",
   "execution_count": 23,
   "id": "33de221f-687f-4012-97be-a1ad116e4bed",
   "metadata": {},
   "outputs": [
    {
     "data": {
      "text/plain": [
       "'https://data.fortworthtexas.gov/resource/k6ic-7kp7.json?$where=nature_of_call=%27THEFT%27%20AND%20reported_date>%272019-01-01T00:00:00%27%20AND%20reported_date<%272020-01-01T00:00:00%27%20&$limit=50000'"
      ]
     },
     "execution_count": 23,
     "metadata": {},
     "output_type": "execute_result"
    }
   ],
   "source": [
    "formatted_call"
   ]
  },
  {
   "cell_type": "code",
   "execution_count": 228,
   "id": "a0bbb807-1ab2-4690-89f2-c91649b246dc",
   "metadata": {},
   "outputs": [
    {
     "data": {
      "text/plain": [
       "(12296, 17)"
      ]
     },
     "execution_count": 228,
     "metadata": {},
     "output_type": "execute_result"
    }
   ],
   "source": [
    "import pandas as pd\n",
    "\n",
    "theft_df = pd.read_json(formatted_call)\n",
    "\n",
    "theft_df.shape"
   ]
  },
  {
   "cell_type": "code",
   "execution_count": 219,
   "id": "a57a4c41-cd3b-490d-b027-b4b16951764e",
   "metadata": {},
   "outputs": [
    {
     "data": {
      "text/plain": [
       "nature_of_call  state  attempt_complete\n",
       "THEFT           TX     A                      51\n",
       "                       C                   12240\n",
       "                Te     C                       3\n",
       "Name: case_no_offense, dtype: int64"
      ]
     },
     "execution_count": 219,
     "metadata": {},
     "output_type": "execute_result"
    }
   ],
   "source": [
    "theft_df.groupby(['nature_of_call','state','attempt_complete'])['case_no_offense'].count()"
   ]
  },
  {
   "cell_type": "code",
   "execution_count": 39,
   "id": "d65a5b4e-fb8c-468d-a10d-eba93466f813",
   "metadata": {},
   "outputs": [
    {
     "data": {
      "text/html": [
       "<div>\n",
       "<style scoped>\n",
       "    .dataframe tbody tr th:only-of-type {\n",
       "        vertical-align: middle;\n",
       "    }\n",
       "\n",
       "    .dataframe tbody tr th {\n",
       "        vertical-align: top;\n",
       "    }\n",
       "\n",
       "    .dataframe thead th {\n",
       "        text-align: right;\n",
       "    }\n",
       "</style>\n",
       "<table border=\"1\" class=\"dataframe\">\n",
       "  <thead>\n",
       "    <tr style=\"text-align: right;\">\n",
       "      <th></th>\n",
       "      <th>case_no_offense</th>\n",
       "      <th>case_no</th>\n",
       "      <th>reported_date</th>\n",
       "      <th>from_date</th>\n",
       "      <th>offense</th>\n",
       "      <th>offense_desc</th>\n",
       "      <th>block_address</th>\n",
       "      <th>city</th>\n",
       "      <th>state</th>\n",
       "      <th>beat</th>\n",
       "      <th>division</th>\n",
       "      <th>councildistrict</th>\n",
       "      <th>attempt_complete</th>\n",
       "      <th>location_type</th>\n",
       "      <th>locationtypedescription</th>\n",
       "      <th>location_1</th>\n",
       "    </tr>\n",
       "    <tr>\n",
       "      <th>nature_of_call</th>\n",
       "      <th></th>\n",
       "      <th></th>\n",
       "      <th></th>\n",
       "      <th></th>\n",
       "      <th></th>\n",
       "      <th></th>\n",
       "      <th></th>\n",
       "      <th></th>\n",
       "      <th></th>\n",
       "      <th></th>\n",
       "      <th></th>\n",
       "      <th></th>\n",
       "      <th></th>\n",
       "      <th></th>\n",
       "      <th></th>\n",
       "      <th></th>\n",
       "    </tr>\n",
       "  </thead>\n",
       "  <tbody>\n",
       "    <tr>\n",
       "      <th>THEFT</th>\n",
       "      <td>190060995-26A</td>\n",
       "      <td>190060995</td>\n",
       "      <td>2019-07-16T10:02:00.000</td>\n",
       "      <td>2019-03-16T12:00:00.000</td>\n",
       "      <td>26A</td>\n",
       "      <td>PC 31.04(E)(4)  2015 Theft of Service&gt;=$2500&lt;$...</td>\n",
       "      <td>6700 CAMP BOWIE BLVD</td>\n",
       "      <td>FORT WORTH</td>\n",
       "      <td>TX</td>\n",
       "      <td>L12</td>\n",
       "      <td>West</td>\n",
       "      <td>3.0</td>\n",
       "      <td>C</td>\n",
       "      <td>8.0</td>\n",
       "      <td>08 DEPARTMENT/DISCOUNT STORE</td>\n",
       "      <td>{'latitude': '32.721920974474735', 'longitude'...</td>\n",
       "    </tr>\n",
       "  </tbody>\n",
       "</table>\n",
       "</div>"
      ],
      "text/plain": [
       "               case_no_offense    case_no            reported_date  \\\n",
       "nature_of_call                                                       \n",
       "THEFT            190060995-26A  190060995  2019-07-16T10:02:00.000   \n",
       "\n",
       "                              from_date offense  \\\n",
       "nature_of_call                                    \n",
       "THEFT           2019-03-16T12:00:00.000     26A   \n",
       "\n",
       "                                                     offense_desc  \\\n",
       "nature_of_call                                                      \n",
       "THEFT           PC 31.04(E)(4)  2015 Theft of Service>=$2500<$...   \n",
       "\n",
       "                       block_address        city state beat division  \\\n",
       "nature_of_call                                                         \n",
       "THEFT           6700 CAMP BOWIE BLVD  FORT WORTH    TX  L12     West   \n",
       "\n",
       "                councildistrict attempt_complete  location_type  \\\n",
       "nature_of_call                                                    \n",
       "THEFT                       3.0                C            8.0   \n",
       "\n",
       "                     locationtypedescription  \\\n",
       "nature_of_call                                 \n",
       "THEFT           08 DEPARTMENT/DISCOUNT STORE   \n",
       "\n",
       "                                                       location_1  \n",
       "nature_of_call                                                     \n",
       "THEFT           {'latitude': '32.721920974474735', 'longitude'...  "
      ]
     },
     "execution_count": 39,
     "metadata": {},
     "output_type": "execute_result"
    }
   ],
   "source": [
    "nature.first()"
   ]
  },
  {
   "cell_type": "code",
   "execution_count": 229,
   "id": "fc486e7e-adc4-4eb6-bc61-79fa6cfe0609",
   "metadata": {},
   "outputs": [],
   "source": [
    "theft_df = theft_df.head(1)"
   ]
  },
  {
   "cell_type": "code",
   "execution_count": 230,
   "id": "4cb087f3-2aad-4065-a959-dfaa2d30b44f",
   "metadata": {},
   "outputs": [
    {
     "data": {
      "text/html": [
       "<div>\n",
       "<style scoped>\n",
       "    .dataframe tbody tr th:only-of-type {\n",
       "        vertical-align: middle;\n",
       "    }\n",
       "\n",
       "    .dataframe tbody tr th {\n",
       "        vertical-align: top;\n",
       "    }\n",
       "\n",
       "    .dataframe thead th {\n",
       "        text-align: right;\n",
       "    }\n",
       "</style>\n",
       "<table border=\"1\" class=\"dataframe\">\n",
       "  <thead>\n",
       "    <tr style=\"text-align: right;\">\n",
       "      <th></th>\n",
       "      <th>case_no_offense</th>\n",
       "      <th>case_no</th>\n",
       "      <th>reported_date</th>\n",
       "      <th>nature_of_call</th>\n",
       "      <th>from_date</th>\n",
       "      <th>offense</th>\n",
       "      <th>offense_desc</th>\n",
       "      <th>block_address</th>\n",
       "      <th>city</th>\n",
       "      <th>state</th>\n",
       "      <th>beat</th>\n",
       "      <th>division</th>\n",
       "      <th>councildistrict</th>\n",
       "      <th>attempt_complete</th>\n",
       "      <th>location_type</th>\n",
       "      <th>locationtypedescription</th>\n",
       "      <th>location_1</th>\n",
       "    </tr>\n",
       "  </thead>\n",
       "  <tbody>\n",
       "    <tr>\n",
       "      <th>0</th>\n",
       "      <td>190060995-26A</td>\n",
       "      <td>190060995</td>\n",
       "      <td>2019-07-16T10:02:00.000</td>\n",
       "      <td>THEFT</td>\n",
       "      <td>2019-03-16T12:00:00.000</td>\n",
       "      <td>26A</td>\n",
       "      <td>PC 31.04(E)(4)  2015 Theft of Service&gt;=$2500&lt;$...</td>\n",
       "      <td>6700 CAMP BOWIE BLVD</td>\n",
       "      <td>FORT WORTH</td>\n",
       "      <td>TX</td>\n",
       "      <td>L12</td>\n",
       "      <td>West</td>\n",
       "      <td>3.0</td>\n",
       "      <td>C</td>\n",
       "      <td>8.0</td>\n",
       "      <td>08 DEPARTMENT/DISCOUNT STORE</td>\n",
       "      <td>{'latitude': '32.721920974474735', 'longitude'...</td>\n",
       "    </tr>\n",
       "  </tbody>\n",
       "</table>\n",
       "</div>"
      ],
      "text/plain": [
       "  case_no_offense    case_no            reported_date nature_of_call  \\\n",
       "0   190060995-26A  190060995  2019-07-16T10:02:00.000          THEFT   \n",
       "\n",
       "                 from_date offense  \\\n",
       "0  2019-03-16T12:00:00.000     26A   \n",
       "\n",
       "                                        offense_desc         block_address  \\\n",
       "0  PC 31.04(E)(4)  2015 Theft of Service>=$2500<$...  6700 CAMP BOWIE BLVD   \n",
       "\n",
       "         city state beat division  councildistrict attempt_complete  \\\n",
       "0  FORT WORTH    TX  L12     West              3.0                C   \n",
       "\n",
       "   location_type       locationtypedescription  \\\n",
       "0            8.0  08 DEPARTMENT/DISCOUNT STORE   \n",
       "\n",
       "                                          location_1  \n",
       "0  {'latitude': '32.721920974474735', 'longitude'...  "
      ]
     },
     "execution_count": 230,
     "metadata": {},
     "output_type": "execute_result"
    }
   ],
   "source": [
    "theft_df"
   ]
  },
  {
   "cell_type": "code",
   "execution_count": 216,
   "id": "cd13d650-7e90-4dc3-83c5-e64b79fa765c",
   "metadata": {},
   "outputs": [],
   "source": [
    "import json\n",
    "theft_1_df = theft_df.location_1.head(1)"
   ]
  },
  {
   "cell_type": "code",
   "execution_count": 217,
   "id": "03c17fad-1691-45b7-9ef0-d2f39e6fc8b9",
   "metadata": {},
   "outputs": [
    {
     "data": {
      "text/plain": [
       "0    {'latitude': '32.721920974474735', 'longitude'...\n",
       "Name: location_1, dtype: object"
      ]
     },
     "execution_count": 217,
     "metadata": {},
     "output_type": "execute_result"
    }
   ],
   "source": [
    "theft_1_df"
   ]
  },
  {
   "cell_type": "code",
   "execution_count": 53,
   "id": "8f292ce5-03e7-4509-9605-f61b7fedc8e4",
   "metadata": {
    "collapsed": true,
    "jupyter": {
     "outputs_hidden": true
    },
    "tags": []
   },
   "outputs": [
    {
     "ename": "TypeError",
     "evalue": "Object of type Series is not JSON serializable",
     "output_type": "error",
     "traceback": [
      "\u001b[0;31m---------------------------------------------------------------------------\u001b[0m",
      "\u001b[0;31mTypeError\u001b[0m                                 Traceback (most recent call last)",
      "\u001b[0;32m/tmp/ipykernel_72/2357159115.py\u001b[0m in \u001b[0;36m<module>\u001b[0;34m\u001b[0m\n\u001b[0;32m----> 1\u001b[0;31m \u001b[0mjson\u001b[0m\u001b[0;34m.\u001b[0m\u001b[0mdumps\u001b[0m\u001b[0;34m(\u001b[0m\u001b[0mtheft_1_df\u001b[0m\u001b[0;34m)\u001b[0m\u001b[0;34m\u001b[0m\u001b[0;34m\u001b[0m\u001b[0m\n\u001b[0m",
      "\u001b[0;32m/opt/conda/lib/python3.9/json/__init__.py\u001b[0m in \u001b[0;36mdumps\u001b[0;34m(obj, skipkeys, ensure_ascii, check_circular, allow_nan, cls, indent, separators, default, sort_keys, **kw)\u001b[0m\n\u001b[1;32m    229\u001b[0m         \u001b[0mcls\u001b[0m \u001b[0;32mis\u001b[0m \u001b[0;32mNone\u001b[0m \u001b[0;32mand\u001b[0m \u001b[0mindent\u001b[0m \u001b[0;32mis\u001b[0m \u001b[0;32mNone\u001b[0m \u001b[0;32mand\u001b[0m \u001b[0mseparators\u001b[0m \u001b[0;32mis\u001b[0m \u001b[0;32mNone\u001b[0m \u001b[0;32mand\u001b[0m\u001b[0;34m\u001b[0m\u001b[0;34m\u001b[0m\u001b[0m\n\u001b[1;32m    230\u001b[0m         default is None and not sort_keys and not kw):\n\u001b[0;32m--> 231\u001b[0;31m         \u001b[0;32mreturn\u001b[0m \u001b[0m_default_encoder\u001b[0m\u001b[0;34m.\u001b[0m\u001b[0mencode\u001b[0m\u001b[0;34m(\u001b[0m\u001b[0mobj\u001b[0m\u001b[0;34m)\u001b[0m\u001b[0;34m\u001b[0m\u001b[0;34m\u001b[0m\u001b[0m\n\u001b[0m\u001b[1;32m    232\u001b[0m     \u001b[0;32mif\u001b[0m \u001b[0mcls\u001b[0m \u001b[0;32mis\u001b[0m \u001b[0;32mNone\u001b[0m\u001b[0;34m:\u001b[0m\u001b[0;34m\u001b[0m\u001b[0;34m\u001b[0m\u001b[0m\n\u001b[1;32m    233\u001b[0m         \u001b[0mcls\u001b[0m \u001b[0;34m=\u001b[0m \u001b[0mJSONEncoder\u001b[0m\u001b[0;34m\u001b[0m\u001b[0;34m\u001b[0m\u001b[0m\n",
      "\u001b[0;32m/opt/conda/lib/python3.9/json/encoder.py\u001b[0m in \u001b[0;36mencode\u001b[0;34m(self, o)\u001b[0m\n\u001b[1;32m    197\u001b[0m         \u001b[0;31m# exceptions aren't as detailed.  The list call should be roughly\u001b[0m\u001b[0;34m\u001b[0m\u001b[0;34m\u001b[0m\u001b[0;34m\u001b[0m\u001b[0m\n\u001b[1;32m    198\u001b[0m         \u001b[0;31m# equivalent to the PySequence_Fast that ''.join() would do.\u001b[0m\u001b[0;34m\u001b[0m\u001b[0;34m\u001b[0m\u001b[0;34m\u001b[0m\u001b[0m\n\u001b[0;32m--> 199\u001b[0;31m         \u001b[0mchunks\u001b[0m \u001b[0;34m=\u001b[0m \u001b[0mself\u001b[0m\u001b[0;34m.\u001b[0m\u001b[0miterencode\u001b[0m\u001b[0;34m(\u001b[0m\u001b[0mo\u001b[0m\u001b[0;34m,\u001b[0m \u001b[0m_one_shot\u001b[0m\u001b[0;34m=\u001b[0m\u001b[0;32mTrue\u001b[0m\u001b[0;34m)\u001b[0m\u001b[0;34m\u001b[0m\u001b[0;34m\u001b[0m\u001b[0m\n\u001b[0m\u001b[1;32m    200\u001b[0m         \u001b[0;32mif\u001b[0m \u001b[0;32mnot\u001b[0m \u001b[0misinstance\u001b[0m\u001b[0;34m(\u001b[0m\u001b[0mchunks\u001b[0m\u001b[0;34m,\u001b[0m \u001b[0;34m(\u001b[0m\u001b[0mlist\u001b[0m\u001b[0;34m,\u001b[0m \u001b[0mtuple\u001b[0m\u001b[0;34m)\u001b[0m\u001b[0;34m)\u001b[0m\u001b[0;34m:\u001b[0m\u001b[0;34m\u001b[0m\u001b[0;34m\u001b[0m\u001b[0m\n\u001b[1;32m    201\u001b[0m             \u001b[0mchunks\u001b[0m \u001b[0;34m=\u001b[0m \u001b[0mlist\u001b[0m\u001b[0;34m(\u001b[0m\u001b[0mchunks\u001b[0m\u001b[0;34m)\u001b[0m\u001b[0;34m\u001b[0m\u001b[0;34m\u001b[0m\u001b[0m\n",
      "\u001b[0;32m/opt/conda/lib/python3.9/json/encoder.py\u001b[0m in \u001b[0;36miterencode\u001b[0;34m(self, o, _one_shot)\u001b[0m\n\u001b[1;32m    255\u001b[0m                 \u001b[0mself\u001b[0m\u001b[0;34m.\u001b[0m\u001b[0mkey_separator\u001b[0m\u001b[0;34m,\u001b[0m \u001b[0mself\u001b[0m\u001b[0;34m.\u001b[0m\u001b[0mitem_separator\u001b[0m\u001b[0;34m,\u001b[0m \u001b[0mself\u001b[0m\u001b[0;34m.\u001b[0m\u001b[0msort_keys\u001b[0m\u001b[0;34m,\u001b[0m\u001b[0;34m\u001b[0m\u001b[0;34m\u001b[0m\u001b[0m\n\u001b[1;32m    256\u001b[0m                 self.skipkeys, _one_shot)\n\u001b[0;32m--> 257\u001b[0;31m         \u001b[0;32mreturn\u001b[0m \u001b[0m_iterencode\u001b[0m\u001b[0;34m(\u001b[0m\u001b[0mo\u001b[0m\u001b[0;34m,\u001b[0m \u001b[0;36m0\u001b[0m\u001b[0;34m)\u001b[0m\u001b[0;34m\u001b[0m\u001b[0;34m\u001b[0m\u001b[0m\n\u001b[0m\u001b[1;32m    258\u001b[0m \u001b[0;34m\u001b[0m\u001b[0m\n\u001b[1;32m    259\u001b[0m def _make_iterencode(markers, _default, _encoder, _indent, _floatstr,\n",
      "\u001b[0;32m/opt/conda/lib/python3.9/json/encoder.py\u001b[0m in \u001b[0;36mdefault\u001b[0;34m(self, o)\u001b[0m\n\u001b[1;32m    177\u001b[0m \u001b[0;34m\u001b[0m\u001b[0m\n\u001b[1;32m    178\u001b[0m         \"\"\"\n\u001b[0;32m--> 179\u001b[0;31m         raise TypeError(f'Object of type {o.__class__.__name__} '\n\u001b[0m\u001b[1;32m    180\u001b[0m                         f'is not JSON serializable')\n\u001b[1;32m    181\u001b[0m \u001b[0;34m\u001b[0m\u001b[0m\n",
      "\u001b[0;31mTypeError\u001b[0m: Object of type Series is not JSON serializable"
     ]
    }
   ],
   "source": [
    "json.dumps(theft_1_df)"
   ]
  },
  {
   "cell_type": "code",
   "execution_count": 60,
   "id": "24236fed-25d3-48f0-b6c3-6bce3409c61e",
   "metadata": {},
   "outputs": [
    {
     "data": {
      "text/plain": [
       "{'latitude': '32.721920974474735',\n",
       " 'longitude': '-97.43228626354923',\n",
       " 'human_address': '{\"address\": \"\", \"city\": \"\", \"state\": \"\", \"zip\": \"\"}'}"
      ]
     },
     "execution_count": 60,
     "metadata": {},
     "output_type": "execute_result"
    }
   ],
   "source": [
    "list(theft_1_df)[0]"
   ]
  },
  {
   "cell_type": "code",
   "execution_count": 225,
   "id": "d60578f2-008f-4ccb-90b0-e0ca24fae14d",
   "metadata": {
    "tags": []
   },
   "outputs": [
    {
     "data": {
      "text/html": [
       "<div>\n",
       "<style scoped>\n",
       "    .dataframe tbody tr th:only-of-type {\n",
       "        vertical-align: middle;\n",
       "    }\n",
       "\n",
       "    .dataframe tbody tr th {\n",
       "        vertical-align: top;\n",
       "    }\n",
       "\n",
       "    .dataframe thead th {\n",
       "        text-align: right;\n",
       "    }\n",
       "</style>\n",
       "<table border=\"1\" class=\"dataframe\">\n",
       "  <thead>\n",
       "    <tr style=\"text-align: right;\">\n",
       "      <th></th>\n",
       "      <th>case_no_offense</th>\n",
       "      <th>case_no</th>\n",
       "      <th>reported_date</th>\n",
       "      <th>nature_of_call</th>\n",
       "      <th>from_date</th>\n",
       "      <th>offense</th>\n",
       "      <th>offense_desc</th>\n",
       "      <th>block_address</th>\n",
       "      <th>city</th>\n",
       "      <th>state</th>\n",
       "      <th>beat</th>\n",
       "      <th>division</th>\n",
       "      <th>councildistrict</th>\n",
       "      <th>attempt_complete</th>\n",
       "      <th>location_type</th>\n",
       "      <th>locationtypedescription</th>\n",
       "      <th>location_1</th>\n",
       "    </tr>\n",
       "  </thead>\n",
       "  <tbody>\n",
       "    <tr>\n",
       "      <th>0</th>\n",
       "      <td>190060995-26A</td>\n",
       "      <td>190060995</td>\n",
       "      <td>2019-07-16T10:02:00.000</td>\n",
       "      <td>THEFT</td>\n",
       "      <td>2019-03-16T12:00:00.000</td>\n",
       "      <td>26A</td>\n",
       "      <td>PC 31.04(E)(4)  2015 Theft of Service&gt;=$2500&lt;$...</td>\n",
       "      <td>6700 CAMP BOWIE BLVD</td>\n",
       "      <td>FORT WORTH</td>\n",
       "      <td>TX</td>\n",
       "      <td>L12</td>\n",
       "      <td>West</td>\n",
       "      <td>3.0</td>\n",
       "      <td>C</td>\n",
       "      <td>8.0</td>\n",
       "      <td>08 DEPARTMENT/DISCOUNT STORE</td>\n",
       "      <td>{'latitude': '32.721920974474735', 'longitude'...</td>\n",
       "    </tr>\n",
       "  </tbody>\n",
       "</table>\n",
       "</div>"
      ],
      "text/plain": [
       "  case_no_offense    case_no            reported_date nature_of_call  \\\n",
       "0   190060995-26A  190060995  2019-07-16T10:02:00.000          THEFT   \n",
       "\n",
       "                 from_date offense  \\\n",
       "0  2019-03-16T12:00:00.000     26A   \n",
       "\n",
       "                                        offense_desc         block_address  \\\n",
       "0  PC 31.04(E)(4)  2015 Theft of Service>=$2500<$...  6700 CAMP BOWIE BLVD   \n",
       "\n",
       "         city state beat division  councildistrict attempt_complete  \\\n",
       "0  FORT WORTH    TX  L12     West              3.0                C   \n",
       "\n",
       "   location_type       locationtypedescription  \\\n",
       "0            8.0  08 DEPARTMENT/DISCOUNT STORE   \n",
       "\n",
       "                                          location_1  \n",
       "0  {'latitude': '32.721920974474735', 'longitude'...  "
      ]
     },
     "execution_count": 225,
     "metadata": {},
     "output_type": "execute_result"
    }
   ],
   "source": [
    "theft_df.head(1)"
   ]
  },
  {
   "cell_type": "code",
   "execution_count": 234,
   "id": "7119306c-52c6-4ba3-bf72-fbb0fc3656d6",
   "metadata": {},
   "outputs": [
    {
     "data": {
      "text/html": [
       "<div>\n",
       "<style scoped>\n",
       "    .dataframe tbody tr th:only-of-type {\n",
       "        vertical-align: middle;\n",
       "    }\n",
       "\n",
       "    .dataframe tbody tr th {\n",
       "        vertical-align: top;\n",
       "    }\n",
       "\n",
       "    .dataframe thead th {\n",
       "        text-align: right;\n",
       "    }\n",
       "</style>\n",
       "<table border=\"1\" class=\"dataframe\">\n",
       "  <thead>\n",
       "    <tr style=\"text-align: right;\">\n",
       "      <th></th>\n",
       "      <th>case_no_offense</th>\n",
       "      <th>case_no</th>\n",
       "      <th>reported_date</th>\n",
       "      <th>nature_of_call</th>\n",
       "      <th>from_date</th>\n",
       "      <th>offense</th>\n",
       "      <th>offense_desc</th>\n",
       "      <th>block_address</th>\n",
       "      <th>city</th>\n",
       "      <th>state</th>\n",
       "      <th>beat</th>\n",
       "      <th>division</th>\n",
       "      <th>councildistrict</th>\n",
       "      <th>attempt_complete</th>\n",
       "      <th>location_type</th>\n",
       "      <th>locationtypedescription</th>\n",
       "      <th>location_1</th>\n",
       "    </tr>\n",
       "  </thead>\n",
       "  <tbody>\n",
       "    <tr>\n",
       "      <th>0</th>\n",
       "      <td>190060995-26A</td>\n",
       "      <td>190060995</td>\n",
       "      <td>2019-07-16T10:02:00.000</td>\n",
       "      <td>THEFT</td>\n",
       "      <td>2019-03-16T12:00:00.000</td>\n",
       "      <td>26A</td>\n",
       "      <td>PC 31.04(E)(4)  2015 Theft of Service&gt;=$2500&lt;$...</td>\n",
       "      <td>6700 CAMP BOWIE BLVD</td>\n",
       "      <td>FORT WORTH</td>\n",
       "      <td>TX</td>\n",
       "      <td>L12</td>\n",
       "      <td>West</td>\n",
       "      <td>3.0</td>\n",
       "      <td>C</td>\n",
       "      <td>8.0</td>\n",
       "      <td>08 DEPARTMENT/DISCOUNT STORE</td>\n",
       "      <td>{'latitude': '32.721920974474735', 'longitude'...</td>\n",
       "    </tr>\n",
       "  </tbody>\n",
       "</table>\n",
       "</div>"
      ],
      "text/plain": [
       "  case_no_offense    case_no            reported_date nature_of_call  \\\n",
       "0   190060995-26A  190060995  2019-07-16T10:02:00.000          THEFT   \n",
       "\n",
       "                 from_date offense  \\\n",
       "0  2019-03-16T12:00:00.000     26A   \n",
       "\n",
       "                                        offense_desc         block_address  \\\n",
       "0  PC 31.04(E)(4)  2015 Theft of Service>=$2500<$...  6700 CAMP BOWIE BLVD   \n",
       "\n",
       "         city state beat division  councildistrict attempt_complete  \\\n",
       "0  FORT WORTH    TX  L12     West              3.0                C   \n",
       "\n",
       "   location_type       locationtypedescription  \\\n",
       "0            8.0  08 DEPARTMENT/DISCOUNT STORE   \n",
       "\n",
       "                                          location_1  \n",
       "0  {'latitude': '32.721920974474735', 'longitude'...  "
      ]
     },
     "execution_count": 234,
     "metadata": {},
     "output_type": "execute_result"
    }
   ],
   "source": [
    "theft_df"
   ]
  },
  {
   "cell_type": "code",
   "execution_count": 244,
   "id": "2eeeae58-6c89-42eb-b2ac-5d2eb1b0a460",
   "metadata": {},
   "outputs": [],
   "source": [
    "loc_1 = theft_df.join(pd.json_normalize(theft_df['location_1']))"
   ]
  },
  {
   "cell_type": "code",
   "execution_count": 233,
   "id": "213c6c45-2bb6-4f49-ae40-0c5585bc9d0a",
   "metadata": {},
   "outputs": [
    {
     "ename": "TypeError",
     "evalue": "merge() missing 1 required positional argument: 'right'",
     "output_type": "error",
     "traceback": [
      "\u001b[0;31m---------------------------------------------------------------------------\u001b[0m",
      "\u001b[0;31mTypeError\u001b[0m                                 Traceback (most recent call last)",
      "\u001b[0;32m/tmp/ipykernel_72/1518577758.py\u001b[0m in \u001b[0;36m<module>\u001b[0;34m\u001b[0m\n\u001b[0;32m----> 1\u001b[0;31m \u001b[0mloc_1\u001b[0m \u001b[0;34m=\u001b[0m \u001b[0mpd\u001b[0m\u001b[0;34m.\u001b[0m\u001b[0mmerge\u001b[0m\u001b[0;34m(\u001b[0m\u001b[0;34m[\u001b[0m\u001b[0mtheft_df\u001b[0m\u001b[0;34m,\u001b[0m\u001b[0mpd\u001b[0m\u001b[0;34m.\u001b[0m\u001b[0mjson_normalize\u001b[0m\u001b[0;34m(\u001b[0m\u001b[0mtheft_df\u001b[0m\u001b[0;34m[\u001b[0m\u001b[0;34m'location_1'\u001b[0m\u001b[0;34m]\u001b[0m\u001b[0;34m)\u001b[0m\u001b[0;34m]\u001b[0m\u001b[0;34m)\u001b[0m\u001b[0;34m\u001b[0m\u001b[0;34m\u001b[0m\u001b[0m\n\u001b[0m",
      "\u001b[0;31mTypeError\u001b[0m: merge() missing 1 required positional argument: 'right'"
     ]
    }
   ],
   "source": [
    "loc_1 = pd.merge[theft_df,pd.json_normalize(theft_df['location_1'])])"
   ]
  },
  {
   "cell_type": "code",
   "execution_count": 232,
   "id": "9f280ae3-5399-4653-a1fd-b4ee6e3eaab1",
   "metadata": {
    "tags": []
   },
   "outputs": [
    {
     "data": {
      "text/html": [
       "<div>\n",
       "<style scoped>\n",
       "    .dataframe tbody tr th:only-of-type {\n",
       "        vertical-align: middle;\n",
       "    }\n",
       "\n",
       "    .dataframe tbody tr th {\n",
       "        vertical-align: top;\n",
       "    }\n",
       "\n",
       "    .dataframe thead th {\n",
       "        text-align: right;\n",
       "    }\n",
       "</style>\n",
       "<table border=\"1\" class=\"dataframe\">\n",
       "  <thead>\n",
       "    <tr style=\"text-align: right;\">\n",
       "      <th></th>\n",
       "      <th>case_no_offense</th>\n",
       "      <th>case_no</th>\n",
       "      <th>reported_date</th>\n",
       "      <th>nature_of_call</th>\n",
       "      <th>from_date</th>\n",
       "      <th>offense</th>\n",
       "      <th>offense_desc</th>\n",
       "      <th>block_address</th>\n",
       "      <th>city</th>\n",
       "      <th>state</th>\n",
       "      <th>beat</th>\n",
       "      <th>division</th>\n",
       "      <th>councildistrict</th>\n",
       "      <th>attempt_complete</th>\n",
       "      <th>location_type</th>\n",
       "      <th>locationtypedescription</th>\n",
       "      <th>location_1</th>\n",
       "      <th>latitude</th>\n",
       "      <th>longitude</th>\n",
       "      <th>human_address</th>\n",
       "    </tr>\n",
       "  </thead>\n",
       "  <tbody>\n",
       "    <tr>\n",
       "      <th>0</th>\n",
       "      <td>190060995-26A</td>\n",
       "      <td>190060995.0</td>\n",
       "      <td>2019-07-16T10:02:00.000</td>\n",
       "      <td>THEFT</td>\n",
       "      <td>2019-03-16T12:00:00.000</td>\n",
       "      <td>26A</td>\n",
       "      <td>PC 31.04(E)(4)  2015 Theft of Service&gt;=$2500&lt;$...</td>\n",
       "      <td>6700 CAMP BOWIE BLVD</td>\n",
       "      <td>FORT WORTH</td>\n",
       "      <td>TX</td>\n",
       "      <td>L12</td>\n",
       "      <td>West</td>\n",
       "      <td>3.0</td>\n",
       "      <td>C</td>\n",
       "      <td>8.0</td>\n",
       "      <td>08 DEPARTMENT/DISCOUNT STORE</td>\n",
       "      <td>{'latitude': '32.721920974474735', 'longitude'...</td>\n",
       "      <td>NaN</td>\n",
       "      <td>NaN</td>\n",
       "      <td>NaN</td>\n",
       "    </tr>\n",
       "    <tr>\n",
       "      <th>0</th>\n",
       "      <td>NaN</td>\n",
       "      <td>NaN</td>\n",
       "      <td>NaN</td>\n",
       "      <td>NaN</td>\n",
       "      <td>NaN</td>\n",
       "      <td>NaN</td>\n",
       "      <td>NaN</td>\n",
       "      <td>NaN</td>\n",
       "      <td>NaN</td>\n",
       "      <td>NaN</td>\n",
       "      <td>NaN</td>\n",
       "      <td>NaN</td>\n",
       "      <td>NaN</td>\n",
       "      <td>NaN</td>\n",
       "      <td>NaN</td>\n",
       "      <td>NaN</td>\n",
       "      <td>NaN</td>\n",
       "      <td>32.721920974474735</td>\n",
       "      <td>-97.43228626354923</td>\n",
       "      <td>{\"address\": \"\", \"city\": \"\", \"state\": \"\", \"zip\"...</td>\n",
       "    </tr>\n",
       "  </tbody>\n",
       "</table>\n",
       "</div>"
      ],
      "text/plain": [
       "  case_no_offense      case_no            reported_date nature_of_call  \\\n",
       "0   190060995-26A  190060995.0  2019-07-16T10:02:00.000          THEFT   \n",
       "0             NaN          NaN                      NaN            NaN   \n",
       "\n",
       "                 from_date offense  \\\n",
       "0  2019-03-16T12:00:00.000     26A   \n",
       "0                      NaN     NaN   \n",
       "\n",
       "                                        offense_desc         block_address  \\\n",
       "0  PC 31.04(E)(4)  2015 Theft of Service>=$2500<$...  6700 CAMP BOWIE BLVD   \n",
       "0                                                NaN                   NaN   \n",
       "\n",
       "         city state beat division  councildistrict attempt_complete  \\\n",
       "0  FORT WORTH    TX  L12     West              3.0                C   \n",
       "0         NaN   NaN  NaN      NaN              NaN              NaN   \n",
       "\n",
       "   location_type       locationtypedescription  \\\n",
       "0            8.0  08 DEPARTMENT/DISCOUNT STORE   \n",
       "0            NaN                           NaN   \n",
       "\n",
       "                                          location_1            latitude  \\\n",
       "0  {'latitude': '32.721920974474735', 'longitude'...                 NaN   \n",
       "0                                                NaN  32.721920974474735   \n",
       "\n",
       "            longitude                                      human_address  \n",
       "0                 NaN                                                NaN  \n",
       "0  -97.43228626354923  {\"address\": \"\", \"city\": \"\", \"state\": \"\", \"zip\"...  "
      ]
     },
     "execution_count": 232,
     "metadata": {},
     "output_type": "execute_result"
    }
   ],
   "source": [
    "loc_1"
   ]
  },
  {
   "cell_type": "code",
   "execution_count": 87,
   "id": "c5d4bbfc-320b-4671-ba07-a5a31e6f6b39",
   "metadata": {},
   "outputs": [
    {
     "data": {
      "text/plain": [
       "str"
      ]
     },
     "execution_count": 87,
     "metadata": {},
     "output_type": "execute_result"
    }
   ],
   "source": [
    "type(str(theft_df['location_1'][0]))"
   ]
  },
  {
   "cell_type": "code",
   "execution_count": 243,
   "id": "111c442a-c85f-497d-98b1-cf5a987376ce",
   "metadata": {},
   "outputs": [
    {
     "data": {
      "text/html": [
       "<div>\n",
       "<style scoped>\n",
       "    .dataframe tbody tr th:only-of-type {\n",
       "        vertical-align: middle;\n",
       "    }\n",
       "\n",
       "    .dataframe tbody tr th {\n",
       "        vertical-align: top;\n",
       "    }\n",
       "\n",
       "    .dataframe thead th {\n",
       "        text-align: right;\n",
       "    }\n",
       "</style>\n",
       "<table border=\"1\" class=\"dataframe\">\n",
       "  <thead>\n",
       "    <tr style=\"text-align: right;\">\n",
       "      <th></th>\n",
       "      <th>case_no_offense</th>\n",
       "      <th>case_no</th>\n",
       "      <th>reported_date</th>\n",
       "      <th>nature_of_call</th>\n",
       "      <th>from_date</th>\n",
       "      <th>offense</th>\n",
       "      <th>offense_desc</th>\n",
       "      <th>block_address</th>\n",
       "      <th>city</th>\n",
       "      <th>state</th>\n",
       "      <th>beat</th>\n",
       "      <th>division</th>\n",
       "      <th>councildistrict</th>\n",
       "      <th>attempt_complete</th>\n",
       "      <th>location_type</th>\n",
       "      <th>locationtypedescription</th>\n",
       "      <th>location_1</th>\n",
       "      <th>latitude</th>\n",
       "      <th>longitude</th>\n",
       "      <th>human_address</th>\n",
       "    </tr>\n",
       "  </thead>\n",
       "  <tbody>\n",
       "    <tr>\n",
       "      <th>0</th>\n",
       "      <td>190060995-26A</td>\n",
       "      <td>190060995.0</td>\n",
       "      <td>2019-07-16T10:02:00.000</td>\n",
       "      <td>THEFT</td>\n",
       "      <td>2019-03-16T12:00:00.000</td>\n",
       "      <td>26A</td>\n",
       "      <td>PC 31.04(E)(4)  2015 Theft of Service&gt;=$2500&lt;$...</td>\n",
       "      <td>6700 CAMP BOWIE BLVD</td>\n",
       "      <td>FORT WORTH</td>\n",
       "      <td>TX</td>\n",
       "      <td>L12</td>\n",
       "      <td>West</td>\n",
       "      <td>3.0</td>\n",
       "      <td>C</td>\n",
       "      <td>8.0</td>\n",
       "      <td>08 DEPARTMENT/DISCOUNT STORE</td>\n",
       "      <td>{'latitude': '32.721920974474735', 'longitude'...</td>\n",
       "      <td>NaN</td>\n",
       "      <td>NaN</td>\n",
       "      <td>NaN</td>\n",
       "    </tr>\n",
       "    <tr>\n",
       "      <th>0</th>\n",
       "      <td>NaN</td>\n",
       "      <td>NaN</td>\n",
       "      <td>NaN</td>\n",
       "      <td>NaN</td>\n",
       "      <td>NaN</td>\n",
       "      <td>NaN</td>\n",
       "      <td>NaN</td>\n",
       "      <td>NaN</td>\n",
       "      <td>NaN</td>\n",
       "      <td>NaN</td>\n",
       "      <td>NaN</td>\n",
       "      <td>NaN</td>\n",
       "      <td>NaN</td>\n",
       "      <td>NaN</td>\n",
       "      <td>NaN</td>\n",
       "      <td>NaN</td>\n",
       "      <td>NaN</td>\n",
       "      <td>32.721920974474735</td>\n",
       "      <td>-97.43228626354923</td>\n",
       "      <td>{\"address\": \"\", \"city\": \"\", \"state\": \"\", \"zip\"...</td>\n",
       "    </tr>\n",
       "  </tbody>\n",
       "</table>\n",
       "</div>"
      ],
      "text/plain": [
       "  case_no_offense      case_no            reported_date nature_of_call  \\\n",
       "0   190060995-26A  190060995.0  2019-07-16T10:02:00.000          THEFT   \n",
       "0             NaN          NaN                      NaN            NaN   \n",
       "\n",
       "                 from_date offense  \\\n",
       "0  2019-03-16T12:00:00.000     26A   \n",
       "0                      NaN     NaN   \n",
       "\n",
       "                                        offense_desc         block_address  \\\n",
       "0  PC 31.04(E)(4)  2015 Theft of Service>=$2500<$...  6700 CAMP BOWIE BLVD   \n",
       "0                                                NaN                   NaN   \n",
       "\n",
       "         city state beat division  councildistrict attempt_complete  \\\n",
       "0  FORT WORTH    TX  L12     West              3.0                C   \n",
       "0         NaN   NaN  NaN      NaN              NaN              NaN   \n",
       "\n",
       "   location_type       locationtypedescription  \\\n",
       "0            8.0  08 DEPARTMENT/DISCOUNT STORE   \n",
       "0            NaN                           NaN   \n",
       "\n",
       "                                          location_1            latitude  \\\n",
       "0  {'latitude': '32.721920974474735', 'longitude'...                 NaN   \n",
       "0                                                NaN  32.721920974474735   \n",
       "\n",
       "            longitude                                      human_address  \n",
       "0                 NaN                                                NaN  \n",
       "0  -97.43228626354923  {\"address\": \"\", \"city\": \"\", \"state\": \"\", \"zip\"...  "
      ]
     },
     "execution_count": 243,
     "metadata": {},
     "output_type": "execute_result"
    }
   ],
   "source": [
    "loc_1"
   ]
  },
  {
   "cell_type": "code",
   "execution_count": 94,
   "id": "8721f296-4470-4d90-94ec-2d977936a583",
   "metadata": {},
   "outputs": [
    {
     "name": "stdout",
     "output_type": "stream",
     "text": [
      "The data type before using apply function: <class 'str'>\n",
      "\n"
     ]
    }
   ],
   "source": [
    "sample_type = type(loc_1[\"human_address\"][0])\n",
    "print(f\"The data type before using apply function: {sample_type}\\n\")"
   ]
  },
  {
   "cell_type": "code",
   "execution_count": 95,
   "id": "c4d67de4-c7fa-4b4f-a5c5-7b8afdadd8bd",
   "metadata": {
    "tags": []
   },
   "outputs": [
    {
     "ename": "TypeError",
     "evalue": "the JSON object must be str, bytes or bytearray, not float",
     "output_type": "error",
     "traceback": [
      "\u001b[0;31m---------------------------------------------------------------------------\u001b[0m",
      "\u001b[0;31mTypeError\u001b[0m                                 Traceback (most recent call last)",
      "\u001b[0;32m/tmp/ipykernel_72/4039330636.py\u001b[0m in \u001b[0;36m<module>\u001b[0;34m\u001b[0m\n\u001b[1;32m      8\u001b[0m \u001b[0;31m# Apply the function column wise to each column of interest\u001b[0m\u001b[0;34m\u001b[0m\u001b[0;34m\u001b[0m\u001b[0;34m\u001b[0m\u001b[0m\n\u001b[1;32m      9\u001b[0m \u001b[0;32mfor\u001b[0m \u001b[0mx\u001b[0m \u001b[0;32min\u001b[0m \u001b[0mjson_cols\u001b[0m\u001b[0;34m:\u001b[0m\u001b[0;34m\u001b[0m\u001b[0;34m\u001b[0m\u001b[0m\n\u001b[0;32m---> 10\u001b[0;31m     \u001b[0mloc_1\u001b[0m\u001b[0;34m[\u001b[0m\u001b[0mx\u001b[0m\u001b[0;34m]\u001b[0m \u001b[0;34m=\u001b[0m \u001b[0mloc_1\u001b[0m\u001b[0;34m[\u001b[0m\u001b[0mx\u001b[0m\u001b[0;34m]\u001b[0m\u001b[0;34m.\u001b[0m\u001b[0mapply\u001b[0m\u001b[0;34m(\u001b[0m\u001b[0mclean_json\u001b[0m\u001b[0;34m)\u001b[0m\u001b[0;34m\u001b[0m\u001b[0;34m\u001b[0m\u001b[0m\n\u001b[0m\u001b[1;32m     11\u001b[0m \u001b[0;34m\u001b[0m\u001b[0m\n",
      "\u001b[0;32m/opt/conda/lib/python3.9/site-packages/pandas/core/series.py\u001b[0m in \u001b[0;36mapply\u001b[0;34m(self, func, convert_dtype, args, **kwargs)\u001b[0m\n\u001b[1;32m   4355\u001b[0m         \u001b[0mdtype\u001b[0m\u001b[0;34m:\u001b[0m \u001b[0mfloat64\u001b[0m\u001b[0;34m\u001b[0m\u001b[0;34m\u001b[0m\u001b[0m\n\u001b[1;32m   4356\u001b[0m         \"\"\"\n\u001b[0;32m-> 4357\u001b[0;31m         \u001b[0;32mreturn\u001b[0m \u001b[0mSeriesApply\u001b[0m\u001b[0;34m(\u001b[0m\u001b[0mself\u001b[0m\u001b[0;34m,\u001b[0m \u001b[0mfunc\u001b[0m\u001b[0;34m,\u001b[0m \u001b[0mconvert_dtype\u001b[0m\u001b[0;34m,\u001b[0m \u001b[0margs\u001b[0m\u001b[0;34m,\u001b[0m \u001b[0mkwargs\u001b[0m\u001b[0;34m)\u001b[0m\u001b[0;34m.\u001b[0m\u001b[0mapply\u001b[0m\u001b[0;34m(\u001b[0m\u001b[0;34m)\u001b[0m\u001b[0;34m\u001b[0m\u001b[0;34m\u001b[0m\u001b[0m\n\u001b[0m\u001b[1;32m   4358\u001b[0m \u001b[0;34m\u001b[0m\u001b[0m\n\u001b[1;32m   4359\u001b[0m     def _reduce(\n",
      "\u001b[0;32m/opt/conda/lib/python3.9/site-packages/pandas/core/apply.py\u001b[0m in \u001b[0;36mapply\u001b[0;34m(self)\u001b[0m\n\u001b[1;32m   1041\u001b[0m             \u001b[0;32mreturn\u001b[0m \u001b[0mself\u001b[0m\u001b[0;34m.\u001b[0m\u001b[0mapply_str\u001b[0m\u001b[0;34m(\u001b[0m\u001b[0;34m)\u001b[0m\u001b[0;34m\u001b[0m\u001b[0;34m\u001b[0m\u001b[0m\n\u001b[1;32m   1042\u001b[0m \u001b[0;34m\u001b[0m\u001b[0m\n\u001b[0;32m-> 1043\u001b[0;31m         \u001b[0;32mreturn\u001b[0m \u001b[0mself\u001b[0m\u001b[0;34m.\u001b[0m\u001b[0mapply_standard\u001b[0m\u001b[0;34m(\u001b[0m\u001b[0;34m)\u001b[0m\u001b[0;34m\u001b[0m\u001b[0;34m\u001b[0m\u001b[0m\n\u001b[0m\u001b[1;32m   1044\u001b[0m \u001b[0;34m\u001b[0m\u001b[0m\n\u001b[1;32m   1045\u001b[0m     \u001b[0;32mdef\u001b[0m \u001b[0magg\u001b[0m\u001b[0;34m(\u001b[0m\u001b[0mself\u001b[0m\u001b[0;34m)\u001b[0m\u001b[0;34m:\u001b[0m\u001b[0;34m\u001b[0m\u001b[0;34m\u001b[0m\u001b[0m\n",
      "\u001b[0;32m/opt/conda/lib/python3.9/site-packages/pandas/core/apply.py\u001b[0m in \u001b[0;36mapply_standard\u001b[0;34m(self)\u001b[0m\n\u001b[1;32m   1097\u001b[0m                 \u001b[0;31m# List[Union[Callable[..., Any], str]]]]]\"; expected\u001b[0m\u001b[0;34m\u001b[0m\u001b[0;34m\u001b[0m\u001b[0;34m\u001b[0m\u001b[0m\n\u001b[1;32m   1098\u001b[0m                 \u001b[0;31m# \"Callable[[Any], Any]\"\u001b[0m\u001b[0;34m\u001b[0m\u001b[0;34m\u001b[0m\u001b[0;34m\u001b[0m\u001b[0m\n\u001b[0;32m-> 1099\u001b[0;31m                 mapped = lib.map_infer(\n\u001b[0m\u001b[1;32m   1100\u001b[0m                     \u001b[0mvalues\u001b[0m\u001b[0;34m,\u001b[0m\u001b[0;34m\u001b[0m\u001b[0;34m\u001b[0m\u001b[0m\n\u001b[1;32m   1101\u001b[0m                     \u001b[0mf\u001b[0m\u001b[0;34m,\u001b[0m  \u001b[0;31m# type: ignore[arg-type]\u001b[0m\u001b[0;34m\u001b[0m\u001b[0;34m\u001b[0m\u001b[0m\n",
      "\u001b[0;32m/opt/conda/lib/python3.9/site-packages/pandas/_libs/lib.pyx\u001b[0m in \u001b[0;36mpandas._libs.lib.map_infer\u001b[0;34m()\u001b[0m\n",
      "\u001b[0;32m/tmp/ipykernel_72/4039330636.py\u001b[0m in \u001b[0;36mclean_json\u001b[0;34m(x)\u001b[0m\n\u001b[1;32m      4\u001b[0m \u001b[0;32mdef\u001b[0m \u001b[0mclean_json\u001b[0m\u001b[0;34m(\u001b[0m\u001b[0mx\u001b[0m\u001b[0;34m)\u001b[0m\u001b[0;34m:\u001b[0m\u001b[0;34m\u001b[0m\u001b[0;34m\u001b[0m\u001b[0m\n\u001b[1;32m      5\u001b[0m     \u001b[0;34m\"Create apply function for decoding JSON\"\u001b[0m\u001b[0;34m\u001b[0m\u001b[0;34m\u001b[0m\u001b[0m\n\u001b[0;32m----> 6\u001b[0;31m     \u001b[0;32mreturn\u001b[0m \u001b[0mjson\u001b[0m\u001b[0;34m.\u001b[0m\u001b[0mloads\u001b[0m\u001b[0;34m(\u001b[0m\u001b[0mx\u001b[0m\u001b[0;34m)\u001b[0m\u001b[0;34m\u001b[0m\u001b[0;34m\u001b[0m\u001b[0m\n\u001b[0m\u001b[1;32m      7\u001b[0m \u001b[0;34m\u001b[0m\u001b[0m\n\u001b[1;32m      8\u001b[0m \u001b[0;31m# Apply the function column wise to each column of interest\u001b[0m\u001b[0;34m\u001b[0m\u001b[0;34m\u001b[0m\u001b[0;34m\u001b[0m\u001b[0m\n",
      "\u001b[0;32m/opt/conda/lib/python3.9/json/__init__.py\u001b[0m in \u001b[0;36mloads\u001b[0;34m(s, cls, object_hook, parse_float, parse_int, parse_constant, object_pairs_hook, **kw)\u001b[0m\n\u001b[1;32m    337\u001b[0m     \u001b[0;32melse\u001b[0m\u001b[0;34m:\u001b[0m\u001b[0;34m\u001b[0m\u001b[0;34m\u001b[0m\u001b[0m\n\u001b[1;32m    338\u001b[0m         \u001b[0;32mif\u001b[0m \u001b[0;32mnot\u001b[0m \u001b[0misinstance\u001b[0m\u001b[0;34m(\u001b[0m\u001b[0ms\u001b[0m\u001b[0;34m,\u001b[0m \u001b[0;34m(\u001b[0m\u001b[0mbytes\u001b[0m\u001b[0;34m,\u001b[0m \u001b[0mbytearray\u001b[0m\u001b[0;34m)\u001b[0m\u001b[0;34m)\u001b[0m\u001b[0;34m:\u001b[0m\u001b[0;34m\u001b[0m\u001b[0;34m\u001b[0m\u001b[0m\n\u001b[0;32m--> 339\u001b[0;31m             raise TypeError(f'the JSON object must be str, bytes or bytearray, '\n\u001b[0m\u001b[1;32m    340\u001b[0m                             f'not {s.__class__.__name__}')\n\u001b[1;32m    341\u001b[0m         \u001b[0ms\u001b[0m \u001b[0;34m=\u001b[0m \u001b[0ms\u001b[0m\u001b[0;34m.\u001b[0m\u001b[0mdecode\u001b[0m\u001b[0;34m(\u001b[0m\u001b[0mdetect_encoding\u001b[0m\u001b[0;34m(\u001b[0m\u001b[0ms\u001b[0m\u001b[0;34m)\u001b[0m\u001b[0;34m,\u001b[0m \u001b[0;34m'surrogatepass'\u001b[0m\u001b[0;34m)\u001b[0m\u001b[0;34m\u001b[0m\u001b[0;34m\u001b[0m\u001b[0m\n",
      "\u001b[0;31mTypeError\u001b[0m: the JSON object must be str, bytes or bytearray, not float"
     ]
    }
   ],
   "source": [
    "# Column names that contain JSON\n",
    "json_cols = ['human_address']\n",
    "\n",
    "def clean_json(x):\n",
    "    \"Create apply function for decoding JSON\"\n",
    "    return json.loads(x)\n",
    "\n",
    "# Apply the function column wise to each column of interest\n",
    "for x in json_cols:\n",
    "    loc_1[x] = loc_1[x].apply(clean_json)\n",
    "\n"
   ]
  },
  {
   "cell_type": "code",
   "execution_count": 101,
   "id": "a5512671-e9c5-4030-acb6-5cb947611d0e",
   "metadata": {},
   "outputs": [
    {
     "data": {
      "text/plain": [
       "'{\"address\": \"\", \"city\": \"\", \"state\": \"\", \"zip\": \"\"}'"
      ]
     },
     "execution_count": 101,
     "metadata": {},
     "output_type": "execute_result"
    }
   ],
   "source": [
    "loc_1['human_address'][0]"
   ]
  },
  {
   "cell_type": "code",
   "execution_count": 91,
   "id": "81b941b2-3d9e-46cc-8e8d-7b413e0832f6",
   "metadata": {},
   "outputs": [
    {
     "data": {
      "text/plain": [
       "str"
      ]
     },
     "execution_count": 91,
     "metadata": {},
     "output_type": "execute_result"
    }
   ],
   "source": [
    "type(loc_1['human_address'][0])"
   ]
  },
  {
   "cell_type": "code",
   "execution_count": 252,
   "id": "6e8a8d15-29de-497b-a8b6-efbb66ae637f",
   "metadata": {},
   "outputs": [],
   "source": [
    "df_1 = loc_1.iloc[0:1]"
   ]
  },
  {
   "cell_type": "code",
   "execution_count": 253,
   "id": "a7706211-2cff-4a8f-b7ce-c1f3d6129c84",
   "metadata": {},
   "outputs": [
    {
     "data": {
      "text/html": [
       "<div>\n",
       "<style scoped>\n",
       "    .dataframe tbody tr th:only-of-type {\n",
       "        vertical-align: middle;\n",
       "    }\n",
       "\n",
       "    .dataframe tbody tr th {\n",
       "        vertical-align: top;\n",
       "    }\n",
       "\n",
       "    .dataframe thead th {\n",
       "        text-align: right;\n",
       "    }\n",
       "</style>\n",
       "<table border=\"1\" class=\"dataframe\">\n",
       "  <thead>\n",
       "    <tr style=\"text-align: right;\">\n",
       "      <th></th>\n",
       "      <th>case_no_offense</th>\n",
       "      <th>case_no</th>\n",
       "      <th>reported_date</th>\n",
       "      <th>nature_of_call</th>\n",
       "      <th>from_date</th>\n",
       "      <th>offense</th>\n",
       "      <th>offense_desc</th>\n",
       "      <th>block_address</th>\n",
       "      <th>city</th>\n",
       "      <th>state</th>\n",
       "      <th>beat</th>\n",
       "      <th>division</th>\n",
       "      <th>councildistrict</th>\n",
       "      <th>attempt_complete</th>\n",
       "      <th>location_type</th>\n",
       "      <th>locationtypedescription</th>\n",
       "      <th>location_1</th>\n",
       "      <th>latitude</th>\n",
       "      <th>longitude</th>\n",
       "      <th>human_address</th>\n",
       "    </tr>\n",
       "  </thead>\n",
       "  <tbody>\n",
       "    <tr>\n",
       "      <th>0</th>\n",
       "      <td>190060995-26A</td>\n",
       "      <td>190060995</td>\n",
       "      <td>2019-07-16T10:02:00.000</td>\n",
       "      <td>THEFT</td>\n",
       "      <td>2019-03-16T12:00:00.000</td>\n",
       "      <td>26A</td>\n",
       "      <td>PC 31.04(E)(4)  2015 Theft of Service&gt;=$2500&lt;$...</td>\n",
       "      <td>6700 CAMP BOWIE BLVD</td>\n",
       "      <td>FORT WORTH</td>\n",
       "      <td>TX</td>\n",
       "      <td>L12</td>\n",
       "      <td>West</td>\n",
       "      <td>3.0</td>\n",
       "      <td>C</td>\n",
       "      <td>8.0</td>\n",
       "      <td>08 DEPARTMENT/DISCOUNT STORE</td>\n",
       "      <td>{'latitude': '32.721920974474735', 'longitude'...</td>\n",
       "      <td>32.721920974474735</td>\n",
       "      <td>-97.43228626354923</td>\n",
       "      <td>{\"address\": \"\", \"city\": \"\", \"state\": \"\", \"zip\"...</td>\n",
       "    </tr>\n",
       "  </tbody>\n",
       "</table>\n",
       "</div>"
      ],
      "text/plain": [
       "  case_no_offense    case_no            reported_date nature_of_call  \\\n",
       "0   190060995-26A  190060995  2019-07-16T10:02:00.000          THEFT   \n",
       "\n",
       "                 from_date offense  \\\n",
       "0  2019-03-16T12:00:00.000     26A   \n",
       "\n",
       "                                        offense_desc         block_address  \\\n",
       "0  PC 31.04(E)(4)  2015 Theft of Service>=$2500<$...  6700 CAMP BOWIE BLVD   \n",
       "\n",
       "         city state beat division  councildistrict attempt_complete  \\\n",
       "0  FORT WORTH    TX  L12     West              3.0                C   \n",
       "\n",
       "   location_type       locationtypedescription  \\\n",
       "0            8.0  08 DEPARTMENT/DISCOUNT STORE   \n",
       "\n",
       "                                          location_1            latitude  \\\n",
       "0  {'latitude': '32.721920974474735', 'longitude'...  32.721920974474735   \n",
       "\n",
       "            longitude                                      human_address  \n",
       "0  -97.43228626354923  {\"address\": \"\", \"city\": \"\", \"state\": \"\", \"zip\"...  "
      ]
     },
     "execution_count": 253,
     "metadata": {},
     "output_type": "execute_result"
    }
   ],
   "source": [
    "df_1"
   ]
  },
  {
   "cell_type": "code",
   "execution_count": 254,
   "id": "febe49af-fcd9-4f65-a302-61a74f01e024",
   "metadata": {
    "tags": []
   },
   "outputs": [],
   "source": [
    "def explode_columns(json_string):\n",
    "    data = json.loads(json_string)\n",
    "    return [data[key] for key in data]\n",
    "\n",
    "# Apply the function to each row in the DataFrame\n",
    "df_1 = pd.concat([df_1, df_1['human_address'].apply(lambda x: pd.Series(explode_columns(x)))],axis=1)\n"
   ]
  },
  {
   "cell_type": "code",
   "execution_count": 255,
   "id": "3de4eef6-659b-4978-b904-9e20651d88ff",
   "metadata": {},
   "outputs": [
    {
     "data": {
      "text/html": [
       "<div>\n",
       "<style scoped>\n",
       "    .dataframe tbody tr th:only-of-type {\n",
       "        vertical-align: middle;\n",
       "    }\n",
       "\n",
       "    .dataframe tbody tr th {\n",
       "        vertical-align: top;\n",
       "    }\n",
       "\n",
       "    .dataframe thead th {\n",
       "        text-align: right;\n",
       "    }\n",
       "</style>\n",
       "<table border=\"1\" class=\"dataframe\">\n",
       "  <thead>\n",
       "    <tr style=\"text-align: right;\">\n",
       "      <th></th>\n",
       "      <th>case_no_offense</th>\n",
       "      <th>case_no</th>\n",
       "      <th>reported_date</th>\n",
       "      <th>nature_of_call</th>\n",
       "      <th>from_date</th>\n",
       "      <th>offense</th>\n",
       "      <th>offense_desc</th>\n",
       "      <th>block_address</th>\n",
       "      <th>city</th>\n",
       "      <th>state</th>\n",
       "      <th>...</th>\n",
       "      <th>location_type</th>\n",
       "      <th>locationtypedescription</th>\n",
       "      <th>location_1</th>\n",
       "      <th>latitude</th>\n",
       "      <th>longitude</th>\n",
       "      <th>human_address</th>\n",
       "      <th>0</th>\n",
       "      <th>1</th>\n",
       "      <th>2</th>\n",
       "      <th>3</th>\n",
       "    </tr>\n",
       "  </thead>\n",
       "  <tbody>\n",
       "    <tr>\n",
       "      <th>0</th>\n",
       "      <td>190060995-26A</td>\n",
       "      <td>190060995</td>\n",
       "      <td>2019-07-16T10:02:00.000</td>\n",
       "      <td>THEFT</td>\n",
       "      <td>2019-03-16T12:00:00.000</td>\n",
       "      <td>26A</td>\n",
       "      <td>PC 31.04(E)(4)  2015 Theft of Service&gt;=$2500&lt;$...</td>\n",
       "      <td>6700 CAMP BOWIE BLVD</td>\n",
       "      <td>FORT WORTH</td>\n",
       "      <td>TX</td>\n",
       "      <td>...</td>\n",
       "      <td>8.0</td>\n",
       "      <td>08 DEPARTMENT/DISCOUNT STORE</td>\n",
       "      <td>{'latitude': '32.721920974474735', 'longitude'...</td>\n",
       "      <td>32.721920974474735</td>\n",
       "      <td>-97.43228626354923</td>\n",
       "      <td>{\"address\": \"\", \"city\": \"\", \"state\": \"\", \"zip\"...</td>\n",
       "      <td></td>\n",
       "      <td></td>\n",
       "      <td></td>\n",
       "      <td></td>\n",
       "    </tr>\n",
       "  </tbody>\n",
       "</table>\n",
       "<p>1 rows × 24 columns</p>\n",
       "</div>"
      ],
      "text/plain": [
       "  case_no_offense    case_no            reported_date nature_of_call  \\\n",
       "0   190060995-26A  190060995  2019-07-16T10:02:00.000          THEFT   \n",
       "\n",
       "                 from_date offense  \\\n",
       "0  2019-03-16T12:00:00.000     26A   \n",
       "\n",
       "                                        offense_desc         block_address  \\\n",
       "0  PC 31.04(E)(4)  2015 Theft of Service>=$2500<$...  6700 CAMP BOWIE BLVD   \n",
       "\n",
       "         city state  ... location_type       locationtypedescription  \\\n",
       "0  FORT WORTH    TX  ...           8.0  08 DEPARTMENT/DISCOUNT STORE   \n",
       "\n",
       "                                          location_1            latitude  \\\n",
       "0  {'latitude': '32.721920974474735', 'longitude'...  32.721920974474735   \n",
       "\n",
       "            longitude                                      human_address 0 1  \\\n",
       "0  -97.43228626354923  {\"address\": \"\", \"city\": \"\", \"state\": \"\", \"zip\"...       \n",
       "\n",
       "  2 3  \n",
       "0      \n",
       "\n",
       "[1 rows x 24 columns]"
      ]
     },
     "execution_count": 255,
     "metadata": {},
     "output_type": "execute_result"
    }
   ],
   "source": [
    "df_1"
   ]
  },
  {
   "cell_type": "code",
   "execution_count": 263,
   "id": "968084e7-c1a1-462b-af24-d61ef3b89437",
   "metadata": {},
   "outputs": [],
   "source": [
    "column_mapping = {0:'address',1:'city','2':'state','3':'zip'}"
   ]
  },
  {
   "cell_type": "code",
   "execution_count": 264,
   "id": "9ad1c3cc-a143-4b91-bf2d-aa1df1dadffe",
   "metadata": {},
   "outputs": [],
   "source": [
    "df_1.rename(column_mapping,inplace=True)"
   ]
  },
  {
   "cell_type": "code",
   "execution_count": 265,
   "id": "0610adb2-7231-46c2-aaf8-9cba9d69958a",
   "metadata": {},
   "outputs": [
    {
     "data": {
      "text/plain": [
       "Index([        'case_no_offense',                 'case_no',\n",
       "                 'reported_date',          'nature_of_call',\n",
       "                     'from_date',                 'offense',\n",
       "                  'offense_desc',           'block_address',\n",
       "                          'city',                   'state',\n",
       "                          'beat',                'division',\n",
       "               'councildistrict',        'attempt_complete',\n",
       "                 'location_type', 'locationtypedescription',\n",
       "                    'location_1',                'latitude',\n",
       "                     'longitude',           'human_address',\n",
       "                               0,                         1,\n",
       "                               2,                         3],\n",
       "      dtype='object')"
      ]
     },
     "execution_count": 265,
     "metadata": {},
     "output_type": "execute_result"
    }
   ],
   "source": [
    "df_1.columns"
   ]
  },
  {
   "cell_type": "code",
   "execution_count": 267,
   "id": "634d755a-988b-47b0-8217-f7de272b145b",
   "metadata": {},
   "outputs": [
    {
     "data": {
      "text/html": [
       "<div>\n",
       "<style scoped>\n",
       "    .dataframe tbody tr th:only-of-type {\n",
       "        vertical-align: middle;\n",
       "    }\n",
       "\n",
       "    .dataframe tbody tr th {\n",
       "        vertical-align: top;\n",
       "    }\n",
       "\n",
       "    .dataframe thead th {\n",
       "        text-align: right;\n",
       "    }\n",
       "</style>\n",
       "<table border=\"1\" class=\"dataframe\">\n",
       "  <thead>\n",
       "    <tr style=\"text-align: right;\">\n",
       "      <th></th>\n",
       "      <th>case_no_offense</th>\n",
       "      <th>case_no</th>\n",
       "      <th>reported_date</th>\n",
       "      <th>nature_of_call</th>\n",
       "      <th>from_date</th>\n",
       "      <th>offense</th>\n",
       "      <th>offense_desc</th>\n",
       "      <th>block_address</th>\n",
       "      <th>city</th>\n",
       "      <th>state</th>\n",
       "      <th>...</th>\n",
       "      <th>location_type</th>\n",
       "      <th>locationtypedescription</th>\n",
       "      <th>location_1</th>\n",
       "      <th>latitude</th>\n",
       "      <th>longitude</th>\n",
       "      <th>human_address</th>\n",
       "      <th>0</th>\n",
       "      <th>1</th>\n",
       "      <th>2</th>\n",
       "      <th>3</th>\n",
       "    </tr>\n",
       "  </thead>\n",
       "  <tbody>\n",
       "    <tr>\n",
       "      <th>address</th>\n",
       "      <td>190060995-26A</td>\n",
       "      <td>190060995</td>\n",
       "      <td>2019-07-16T10:02:00.000</td>\n",
       "      <td>THEFT</td>\n",
       "      <td>2019-03-16T12:00:00.000</td>\n",
       "      <td>26A</td>\n",
       "      <td>PC 31.04(E)(4)  2015 Theft of Service&gt;=$2500&lt;$...</td>\n",
       "      <td>6700 CAMP BOWIE BLVD</td>\n",
       "      <td>FORT WORTH</td>\n",
       "      <td>TX</td>\n",
       "      <td>...</td>\n",
       "      <td>8.0</td>\n",
       "      <td>08 DEPARTMENT/DISCOUNT STORE</td>\n",
       "      <td>{'latitude': '32.721920974474735', 'longitude'...</td>\n",
       "      <td>32.721920974474735</td>\n",
       "      <td>-97.43228626354923</td>\n",
       "      <td>{\"address\": \"\", \"city\": \"\", \"state\": \"\", \"zip\"...</td>\n",
       "      <td></td>\n",
       "      <td></td>\n",
       "      <td></td>\n",
       "      <td></td>\n",
       "    </tr>\n",
       "  </tbody>\n",
       "</table>\n",
       "<p>1 rows × 24 columns</p>\n",
       "</div>"
      ],
      "text/plain": [
       "        case_no_offense    case_no            reported_date nature_of_call  \\\n",
       "address   190060995-26A  190060995  2019-07-16T10:02:00.000          THEFT   \n",
       "\n",
       "                       from_date offense  \\\n",
       "address  2019-03-16T12:00:00.000     26A   \n",
       "\n",
       "                                              offense_desc  \\\n",
       "address  PC 31.04(E)(4)  2015 Theft of Service>=$2500<$...   \n",
       "\n",
       "                block_address        city state  ... location_type  \\\n",
       "address  6700 CAMP BOWIE BLVD  FORT WORTH    TX  ...           8.0   \n",
       "\n",
       "              locationtypedescription  \\\n",
       "address  08 DEPARTMENT/DISCOUNT STORE   \n",
       "\n",
       "                                                location_1  \\\n",
       "address  {'latitude': '32.721920974474735', 'longitude'...   \n",
       "\n",
       "                   latitude           longitude  \\\n",
       "address  32.721920974474735  -97.43228626354923   \n",
       "\n",
       "                                             human_address 0 1 2 3  \n",
       "address  {\"address\": \"\", \"city\": \"\", \"state\": \"\", \"zip\"...          \n",
       "\n",
       "[1 rows x 24 columns]"
      ]
     },
     "execution_count": 267,
     "metadata": {},
     "output_type": "execute_result"
    }
   ],
   "source": [
    "df_1"
   ]
  },
  {
   "cell_type": "code",
   "execution_count": 206,
   "id": "2780b18d-536e-47a1-b4b9-6d6985405071",
   "metadata": {},
   "outputs": [
    {
     "ename": "ValueError",
     "evalue": "Length mismatch: Expected axis has 7 elements, new values have 4 elements",
     "output_type": "error",
     "traceback": [
      "\u001b[0;31m---------------------------------------------------------------------------\u001b[0m",
      "\u001b[0;31mValueError\u001b[0m                                Traceback (most recent call last)",
      "\u001b[0;32m/tmp/ipykernel_72/3138950974.py\u001b[0m in \u001b[0;36m<module>\u001b[0;34m\u001b[0m\n\u001b[0;32m----> 1\u001b[0;31m \u001b[0mdf_1\u001b[0m\u001b[0;34m.\u001b[0m\u001b[0mcolumns\u001b[0m \u001b[0;34m=\u001b[0m \u001b[0;34m[\u001b[0m\u001b[0;34m'address'\u001b[0m\u001b[0;34m,\u001b[0m \u001b[0;34m'city'\u001b[0m\u001b[0;34m,\u001b[0m \u001b[0;34m'state'\u001b[0m\u001b[0;34m,\u001b[0m \u001b[0;34m'zip'\u001b[0m\u001b[0;34m]\u001b[0m\u001b[0;34m\u001b[0m\u001b[0;34m\u001b[0m\u001b[0m\n\u001b[0m",
      "\u001b[0;32m/opt/conda/lib/python3.9/site-packages/pandas/core/generic.py\u001b[0m in \u001b[0;36m__setattr__\u001b[0;34m(self, name, value)\u001b[0m\n\u001b[1;32m   5498\u001b[0m         \u001b[0;32mtry\u001b[0m\u001b[0;34m:\u001b[0m\u001b[0;34m\u001b[0m\u001b[0;34m\u001b[0m\u001b[0m\n\u001b[1;32m   5499\u001b[0m             \u001b[0mobject\u001b[0m\u001b[0;34m.\u001b[0m\u001b[0m__getattribute__\u001b[0m\u001b[0;34m(\u001b[0m\u001b[0mself\u001b[0m\u001b[0;34m,\u001b[0m \u001b[0mname\u001b[0m\u001b[0;34m)\u001b[0m\u001b[0;34m\u001b[0m\u001b[0;34m\u001b[0m\u001b[0m\n\u001b[0;32m-> 5500\u001b[0;31m             \u001b[0;32mreturn\u001b[0m \u001b[0mobject\u001b[0m\u001b[0;34m.\u001b[0m\u001b[0m__setattr__\u001b[0m\u001b[0;34m(\u001b[0m\u001b[0mself\u001b[0m\u001b[0;34m,\u001b[0m \u001b[0mname\u001b[0m\u001b[0;34m,\u001b[0m \u001b[0mvalue\u001b[0m\u001b[0;34m)\u001b[0m\u001b[0;34m\u001b[0m\u001b[0;34m\u001b[0m\u001b[0m\n\u001b[0m\u001b[1;32m   5501\u001b[0m         \u001b[0;32mexcept\u001b[0m \u001b[0mAttributeError\u001b[0m\u001b[0;34m:\u001b[0m\u001b[0;34m\u001b[0m\u001b[0;34m\u001b[0m\u001b[0m\n\u001b[1;32m   5502\u001b[0m             \u001b[0;32mpass\u001b[0m\u001b[0;34m\u001b[0m\u001b[0;34m\u001b[0m\u001b[0m\n",
      "\u001b[0;32m/opt/conda/lib/python3.9/site-packages/pandas/_libs/properties.pyx\u001b[0m in \u001b[0;36mpandas._libs.properties.AxisProperty.__set__\u001b[0;34m()\u001b[0m\n",
      "\u001b[0;32m/opt/conda/lib/python3.9/site-packages/pandas/core/generic.py\u001b[0m in \u001b[0;36m_set_axis\u001b[0;34m(self, axis, labels)\u001b[0m\n\u001b[1;32m    764\u001b[0m     \u001b[0;32mdef\u001b[0m \u001b[0m_set_axis\u001b[0m\u001b[0;34m(\u001b[0m\u001b[0mself\u001b[0m\u001b[0;34m,\u001b[0m \u001b[0maxis\u001b[0m\u001b[0;34m:\u001b[0m \u001b[0mint\u001b[0m\u001b[0;34m,\u001b[0m \u001b[0mlabels\u001b[0m\u001b[0;34m:\u001b[0m \u001b[0mIndex\u001b[0m\u001b[0;34m)\u001b[0m \u001b[0;34m->\u001b[0m \u001b[0;32mNone\u001b[0m\u001b[0;34m:\u001b[0m\u001b[0;34m\u001b[0m\u001b[0;34m\u001b[0m\u001b[0m\n\u001b[1;32m    765\u001b[0m         \u001b[0mlabels\u001b[0m \u001b[0;34m=\u001b[0m \u001b[0mensure_index\u001b[0m\u001b[0;34m(\u001b[0m\u001b[0mlabels\u001b[0m\u001b[0;34m)\u001b[0m\u001b[0;34m\u001b[0m\u001b[0;34m\u001b[0m\u001b[0m\n\u001b[0;32m--> 766\u001b[0;31m         \u001b[0mself\u001b[0m\u001b[0;34m.\u001b[0m\u001b[0m_mgr\u001b[0m\u001b[0;34m.\u001b[0m\u001b[0mset_axis\u001b[0m\u001b[0;34m(\u001b[0m\u001b[0maxis\u001b[0m\u001b[0;34m,\u001b[0m \u001b[0mlabels\u001b[0m\u001b[0;34m)\u001b[0m\u001b[0;34m\u001b[0m\u001b[0;34m\u001b[0m\u001b[0m\n\u001b[0m\u001b[1;32m    767\u001b[0m         \u001b[0mself\u001b[0m\u001b[0;34m.\u001b[0m\u001b[0m_clear_item_cache\u001b[0m\u001b[0;34m(\u001b[0m\u001b[0;34m)\u001b[0m\u001b[0;34m\u001b[0m\u001b[0;34m\u001b[0m\u001b[0m\n\u001b[1;32m    768\u001b[0m \u001b[0;34m\u001b[0m\u001b[0m\n",
      "\u001b[0;32m/opt/conda/lib/python3.9/site-packages/pandas/core/internals/managers.py\u001b[0m in \u001b[0;36mset_axis\u001b[0;34m(self, axis, new_labels)\u001b[0m\n\u001b[1;32m    214\u001b[0m     \u001b[0;32mdef\u001b[0m \u001b[0mset_axis\u001b[0m\u001b[0;34m(\u001b[0m\u001b[0mself\u001b[0m\u001b[0;34m,\u001b[0m \u001b[0maxis\u001b[0m\u001b[0;34m:\u001b[0m \u001b[0mint\u001b[0m\u001b[0;34m,\u001b[0m \u001b[0mnew_labels\u001b[0m\u001b[0;34m:\u001b[0m \u001b[0mIndex\u001b[0m\u001b[0;34m)\u001b[0m \u001b[0;34m->\u001b[0m \u001b[0;32mNone\u001b[0m\u001b[0;34m:\u001b[0m\u001b[0;34m\u001b[0m\u001b[0;34m\u001b[0m\u001b[0m\n\u001b[1;32m    215\u001b[0m         \u001b[0;31m# Caller is responsible for ensuring we have an Index object.\u001b[0m\u001b[0;34m\u001b[0m\u001b[0;34m\u001b[0m\u001b[0;34m\u001b[0m\u001b[0m\n\u001b[0;32m--> 216\u001b[0;31m         \u001b[0mself\u001b[0m\u001b[0;34m.\u001b[0m\u001b[0m_validate_set_axis\u001b[0m\u001b[0;34m(\u001b[0m\u001b[0maxis\u001b[0m\u001b[0;34m,\u001b[0m \u001b[0mnew_labels\u001b[0m\u001b[0;34m)\u001b[0m\u001b[0;34m\u001b[0m\u001b[0;34m\u001b[0m\u001b[0m\n\u001b[0m\u001b[1;32m    217\u001b[0m         \u001b[0mself\u001b[0m\u001b[0;34m.\u001b[0m\u001b[0maxes\u001b[0m\u001b[0;34m[\u001b[0m\u001b[0maxis\u001b[0m\u001b[0;34m]\u001b[0m \u001b[0;34m=\u001b[0m \u001b[0mnew_labels\u001b[0m\u001b[0;34m\u001b[0m\u001b[0;34m\u001b[0m\u001b[0m\n\u001b[1;32m    218\u001b[0m \u001b[0;34m\u001b[0m\u001b[0m\n",
      "\u001b[0;32m/opt/conda/lib/python3.9/site-packages/pandas/core/internals/base.py\u001b[0m in \u001b[0;36m_validate_set_axis\u001b[0;34m(self, axis, new_labels)\u001b[0m\n\u001b[1;32m     55\u001b[0m \u001b[0;34m\u001b[0m\u001b[0m\n\u001b[1;32m     56\u001b[0m         \u001b[0;32melif\u001b[0m \u001b[0mnew_len\u001b[0m \u001b[0;34m!=\u001b[0m \u001b[0mold_len\u001b[0m\u001b[0;34m:\u001b[0m\u001b[0;34m\u001b[0m\u001b[0;34m\u001b[0m\u001b[0m\n\u001b[0;32m---> 57\u001b[0;31m             raise ValueError(\n\u001b[0m\u001b[1;32m     58\u001b[0m                 \u001b[0;34mf\"Length mismatch: Expected axis has {old_len} elements, new \"\u001b[0m\u001b[0;34m\u001b[0m\u001b[0;34m\u001b[0m\u001b[0m\n\u001b[1;32m     59\u001b[0m                 \u001b[0;34mf\"values have {new_len} elements\"\u001b[0m\u001b[0;34m\u001b[0m\u001b[0;34m\u001b[0m\u001b[0m\n",
      "\u001b[0;31mValueError\u001b[0m: Length mismatch: Expected axis has 7 elements, new values have 4 elements"
     ]
    }
   ],
   "source": [
    "df_1.columns = ['address', 'city', 'state', 'zip']\n"
   ]
  },
  {
   "cell_type": "code",
   "execution_count": 205,
   "id": "c94942cd-586b-4a0c-aa88-e2df3029bae6",
   "metadata": {},
   "outputs": [
    {
     "data": {
      "text/html": [
       "<div>\n",
       "<style scoped>\n",
       "    .dataframe tbody tr th:only-of-type {\n",
       "        vertical-align: middle;\n",
       "    }\n",
       "\n",
       "    .dataframe tbody tr th {\n",
       "        vertical-align: top;\n",
       "    }\n",
       "\n",
       "    .dataframe thead th {\n",
       "        text-align: right;\n",
       "    }\n",
       "</style>\n",
       "<table border=\"1\" class=\"dataframe\">\n",
       "  <thead>\n",
       "    <tr style=\"text-align: right;\">\n",
       "      <th></th>\n",
       "      <th>address</th>\n",
       "      <th>city</th>\n",
       "      <th>state</th>\n",
       "      <th>zip</th>\n",
       "    </tr>\n",
       "  </thead>\n",
       "  <tbody>\n",
       "    <tr>\n",
       "      <th>0</th>\n",
       "      <td>123 Main St</td>\n",
       "      <td>Anytown</td>\n",
       "      <td>CA</td>\n",
       "      <td>12345</td>\n",
       "    </tr>\n",
       "    <tr>\n",
       "      <th>1</th>\n",
       "      <td>456 Elm St</td>\n",
       "      <td>Othertown</td>\n",
       "      <td>NY</td>\n",
       "      <td>67890</td>\n",
       "    </tr>\n",
       "  </tbody>\n",
       "</table>\n",
       "</div>"
      ],
      "text/plain": [
       "       address       city state    zip\n",
       "0  123 Main St    Anytown    CA  12345\n",
       "1   456 Elm St  Othertown    NY  67890"
      ]
     },
     "execution_count": 205,
     "metadata": {},
     "output_type": "execute_result"
    }
   ],
   "source": [
    "df"
   ]
  },
  {
   "cell_type": "code",
   "execution_count": 193,
   "id": "ea86d801-9e0c-4282-bbe1-5a4a831709a5",
   "metadata": {},
   "outputs": [
    {
     "data": {
      "text/plain": [
       "address    [, , , ]\n",
       "Name: human_address, dtype: object"
      ]
     },
     "execution_count": 193,
     "metadata": {},
     "output_type": "execute_result"
    }
   ],
   "source": [
    "df_1['human_address'].apply(explode_columns)\n"
   ]
  },
  {
   "cell_type": "code",
   "execution_count": 158,
   "id": "c6af3554-6864-4570-b875-a938998e7936",
   "metadata": {},
   "outputs": [
    {
     "data": {
      "text/html": [
       "<div>\n",
       "<style scoped>\n",
       "    .dataframe tbody tr th:only-of-type {\n",
       "        vertical-align: middle;\n",
       "    }\n",
       "\n",
       "    .dataframe tbody tr th {\n",
       "        vertical-align: top;\n",
       "    }\n",
       "\n",
       "    .dataframe thead th {\n",
       "        text-align: right;\n",
       "    }\n",
       "</style>\n",
       "<table border=\"1\" class=\"dataframe\">\n",
       "  <thead>\n",
       "    <tr style=\"text-align: right;\">\n",
       "      <th></th>\n",
       "      <th>0</th>\n",
       "      <th>1</th>\n",
       "      <th>2</th>\n",
       "      <th>3</th>\n",
       "    </tr>\n",
       "  </thead>\n",
       "  <tbody>\n",
       "    <tr>\n",
       "      <th>0</th>\n",
       "      <td></td>\n",
       "      <td></td>\n",
       "      <td></td>\n",
       "      <td></td>\n",
       "    </tr>\n",
       "  </tbody>\n",
       "</table>\n",
       "</div>"
      ],
      "text/plain": [
       "  0 1 2 3\n",
       "0        "
      ]
     },
     "execution_count": 158,
     "metadata": {},
     "output_type": "execute_result"
    }
   ],
   "source": [
    "df_1['human_address'].apply(lambda x: pd.Series(explode_columns(x)))"
   ]
  },
  {
   "cell_type": "code",
   "execution_count": 150,
   "id": "63d40496-0249-468c-a683-f2ebbd75381f",
   "metadata": {},
   "outputs": [
    {
     "data": {
      "text/plain": [
       "{'address': '', 'city': '', 'state': '', 'zip': ''}"
      ]
     },
     "execution_count": 150,
     "metadata": {},
     "output_type": "execute_result"
    }
   ],
   "source": [
    "eval(loc_1.human_address[0])\n"
   ]
  },
  {
   "cell_type": "code",
   "execution_count": null,
   "id": "3a314ee8-9f99-46e4-9aff-ec16a49a03a4",
   "metadata": {},
   "outputs": [],
   "source": []
  },
  {
   "cell_type": "code",
   "execution_count": 65,
   "id": "6b9d5e6a-e38c-4f76-a925-7b67185dc0f2",
   "metadata": {},
   "outputs": [
    {
     "name": "stdout",
     "output_type": "stream",
     "text": [
      "The data type before using apply function: <class 'dict'>\n",
      "\n"
     ]
    }
   ],
   "source": [
    "sample_type = type(theft_df[\"location_1\"][0])\n",
    "print(f\"The data type before using apply function: {sample_type}\\n\")"
   ]
  },
  {
   "cell_type": "code",
   "execution_count": null,
   "id": "d3cba4ff-ec11-425d-900f-7cf78a30cc23",
   "metadata": {},
   "outputs": [],
   "source": [
    "sample_type = type(theft_df[\"location_1\"][0])\n",
    "print(f\"The data type before using apply function: {sample_type}\\n\")"
   ]
  }
 ],
 "metadata": {
  "kernelspec": {
   "display_name": "Python 3 (ipykernel)",
   "language": "python",
   "name": "python3"
  },
  "language_info": {
   "codemirror_mode": {
    "name": "ipython",
    "version": 3
   },
   "file_extension": ".py",
   "mimetype": "text/x-python",
   "name": "python",
   "nbconvert_exporter": "python",
   "pygments_lexer": "ipython3",
   "version": "3.9.6"
  }
 },
 "nbformat": 4,
 "nbformat_minor": 5
}
